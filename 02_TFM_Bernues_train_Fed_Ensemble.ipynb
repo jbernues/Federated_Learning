{
 "cells": [
  {
   "cell_type": "markdown",
   "id": "supported-montgomery",
   "metadata": {
    "tags": []
   },
   "source": []
  },
  {
   "cell_type": "markdown",
   "id": "quarterly-antibody",
   "metadata": {},
   "source": [
    "# 1. LIBRERÍAS"
   ]
  },
  {
   "cell_type": "markdown",
   "id": "proprietary-malaysia",
   "metadata": {},
   "source": [
    "Librerías más destacadas y su función en este notebook:"
   ]
  },
  {
   "cell_type": "markdown",
   "id": "acoustic-destiny",
   "metadata": {},
   "source": [
    "* `glob`: para trabajar con ficheros\n",
    "\n",
    "* `os` y `os.path`: para operaciones con ficheros\n",
    "\n",
    "* `pytorch`: para trabajar con tensores, estructuras de ML...\n",
    "\n",
    "\n",
    "* `numpy`: para trabajar con estructuras matemáticas\n",
    "\n",
    "* `matplotlib`:\n",
    "> * `pyplot`: para mostrar gráficas e imágenes \n",
    "> * `image`: para mostrar imágenes\n",
    "> * `colors`: para mapear colores de segmentación\n",
    "\n",
    "* `sklearn`: para calcular medidas estadísticas\n",
    "\n",
    "* `time`: para medir los tiempos de training\n"
   ]
  },
  {
   "cell_type": "code",
   "execution_count": 1,
   "id": "champion-bunch",
   "metadata": {},
   "outputs": [],
   "source": [
    "###############################\n",
    "##### importing libraries #####\n",
    "###############################\n",
    "#Global Libraries\n",
    "import matplotlib.pyplot as plt\n",
    "from pandas.core.common import flatten\n",
    "import copy\n",
    "import numpy as np\n",
    "import random\n",
    "import os, shutil\n",
    "import glob\n",
    "from tqdm import tqdm\n",
    "\n",
    "\n",
    "#Torch \n",
    "import torch\n",
    "from torch import nn\n",
    "from torch import optim\n",
    "import torch.nn.functional as F\n",
    "from torchvision import datasets, transforms, models\n",
    "from torch.utils.data import Dataset, DataLoader\n",
    "\n",
    "#Open CV\n",
    "import cv2"
   ]
  },
  {
   "cell_type": "code",
   "execution_count": 2,
   "id": "nominated-vacation",
   "metadata": {},
   "outputs": [
    {
     "name": "stdout",
     "output_type": "stream",
     "text": [
      "1.13.1+cu117\n"
     ]
    }
   ],
   "source": [
    "print(torch.__version__)"
   ]
  },
  {
   "cell_type": "code",
   "execution_count": 3,
   "id": "atlantic-mediterranean",
   "metadata": {},
   "outputs": [],
   "source": [
    "#pip install --upgrade torch torchvision"
   ]
  },
  {
   "cell_type": "code",
   "execution_count": 4,
   "id": "attractive-expression",
   "metadata": {},
   "outputs": [],
   "source": [
    "#sklearn\n",
    "from sklearn.model_selection import train_test_split\n",
    "from sklearn.preprocessing import LabelBinarizer\n",
    "from sklearn.model_selection import train_test_split\n",
    "from sklearn.utils import shuffle\n",
    "from sklearn.metrics import accuracy_score\n",
    "from sklearn.metrics import confusion_matrix\n",
    "from sklearn.metrics import classification_report\n",
    "from sklearn.metrics import precision_recall_fscore_support\n",
    "from sklearn.metrics import f1_score\n",
    "from sklearn.metrics import recall_score\n",
    "from sklearn.metrics import precision_score"
   ]
  },
  {
   "cell_type": "code",
   "execution_count": 5,
   "id": "violent-attraction",
   "metadata": {},
   "outputs": [],
   "source": [
    "#pip install torchsummary"
   ]
  },
  {
   "cell_type": "code",
   "execution_count": 6,
   "id": "developing-storage",
   "metadata": {},
   "outputs": [],
   "source": [
    "from torchsummary import summary\n"
   ]
  },
  {
   "cell_type": "markdown",
   "id": "stretch-attention",
   "metadata": {},
   "source": [
    "available_gpus = [torch.cuda.device(i) for i in range(torch.cuda.device_count())]## 1.2. Asignar GPU"
   ]
  },
  {
   "cell_type": "code",
   "execution_count": 7,
   "id": "european-fabric",
   "metadata": {},
   "outputs": [
    {
     "data": {
      "text/plain": [
       "[<torch.cuda.device at 0x7f10744404f0>,\n",
       " <torch.cuda.device at 0x7f10744405b0>,\n",
       " <torch.cuda.device at 0x7f10744401c0>,\n",
       " <torch.cuda.device at 0x7f1074440160>]"
      ]
     },
     "execution_count": 7,
     "metadata": {},
     "output_type": "execute_result"
    }
   ],
   "source": [
    "available_gpus = [torch.cuda.device(i) for i in range(torch.cuda.device_count())]\n",
    "available_gpus"
   ]
  },
  {
   "cell_type": "code",
   "execution_count": 8,
   "id": "indonesian-prophet",
   "metadata": {},
   "outputs": [],
   "source": [
    "#torch.cuda.memory_summary(device=\"cuda:2\", abbreviated=False)"
   ]
  },
  {
   "cell_type": "code",
   "execution_count": 9,
   "id": "equipped-skating",
   "metadata": {},
   "outputs": [
    {
     "name": "stdout",
     "output_type": "stream",
     "text": [
      "Tue Feb 21 19:46:22 2023       \n",
      "+-----------------------------------------------------------------------------+\n",
      "| NVIDIA-SMI 460.91.03    Driver Version: 460.91.03    CUDA Version: 11.2     |\n",
      "|-------------------------------+----------------------+----------------------+\n",
      "| GPU  Name        Persistence-M| Bus-Id        Disp.A | Volatile Uncorr. ECC |\n",
      "| Fan  Temp  Perf  Pwr:Usage/Cap|         Memory-Usage | GPU-Util  Compute M. |\n",
      "|                               |                      |               MIG M. |\n",
      "|===============================+======================+======================|\n",
      "|   0  Tesla V100-PCIE...  Off  | 00000000:3B:00.0 Off |                    0 |\n",
      "| N/A   35C    P0    37W / 250W |    309MiB / 16160MiB |      0%      Default |\n",
      "|                               |                      |                  N/A |\n",
      "+-------------------------------+----------------------+----------------------+\n",
      "|   1  Tesla V100S-PCI...  Off  | 00000000:5E:00.0 Off |                    0 |\n",
      "| N/A   63C    P0   151W / 250W |  17877MiB / 32510MiB |     96%      Default |\n",
      "|                               |                      |                  N/A |\n",
      "+-------------------------------+----------------------+----------------------+\n",
      "|   2  Tesla V100S-PCI...  Off  | 00000000:AF:00.0 Off |                    0 |\n",
      "| N/A   48C    P0    50W / 250W |  20362MiB / 32510MiB |      0%      Default |\n",
      "|                               |                      |                  N/A |\n",
      "+-------------------------------+----------------------+----------------------+\n",
      "|   3  Tesla V100-PCIE...  Off  | 00000000:D8:00.0 Off |                    0 |\n",
      "| N/A   47C    P0    45W / 250W |   7779MiB / 16160MiB |      0%      Default |\n",
      "|                               |                      |                  N/A |\n",
      "+-------------------------------+----------------------+----------------------+\n",
      "                                                                               \n",
      "+-----------------------------------------------------------------------------+\n",
      "| Processes:                                                                  |\n",
      "|  GPU   GI   CI        PID   Type   Process name                  GPU Memory |\n",
      "|        ID   ID                                                   Usage      |\n",
      "|=============================================================================|\n",
      "|    0   N/A  N/A   1742146      C   /usr/bin/python3                  305MiB |\n",
      "|    1   N/A  N/A   1459718      C   /usr/bin/python3                 7693MiB |\n",
      "|    1   N/A  N/A   3394584      C   /usr/bin/python3                 8093MiB |\n",
      "|    1   N/A  N/A   3776844      C   python                           2085MiB |\n",
      "|    2   N/A  N/A   1742146      C   /usr/bin/python3                 6809MiB |\n",
      "|    2   N/A  N/A   3389922      C   /usr/bin/python3                13549MiB |\n",
      "|    3   N/A  N/A   1462371      C   /usr/bin/python3                 7775MiB |\n",
      "+-----------------------------------------------------------------------------+\n"
     ]
    }
   ],
   "source": [
    "!nvidia-smi"
   ]
  },
  {
   "cell_type": "code",
   "execution_count": null,
   "id": "chubby-twist",
   "metadata": {},
   "outputs": [],
   "source": []
  },
  {
   "cell_type": "code",
   "execution_count": 10,
   "id": "romance-powell",
   "metadata": {},
   "outputs": [
    {
     "name": "stdout",
     "output_type": "stream",
     "text": [
      "cuda:2\n"
     ]
    }
   ],
   "source": [
    "# determine the device to be used for training and evaluation\n",
    "DEVICE = \"cuda:2\" if torch.cuda.is_available() else \"cpu\"\n",
    "print(DEVICE)\n",
    "# determine if we will be pinning memory during data loading\n",
    "PIN_MEMORY = True if DEVICE == \"cuda:2\" else False"
   ]
  },
  {
   "cell_type": "markdown",
   "id": "political-tennessee",
   "metadata": {},
   "source": [
    "# 2. Directories (COLAB vs. LOCAL) and Global Parameters\n"
   ]
  },
  {
   "cell_type": "code",
   "execution_count": 11,
   "id": "romantic-tract",
   "metadata": {},
   "outputs": [
    {
     "name": "stdout",
     "output_type": "stream",
     "text": [
      "Not running on CoLab\n"
     ]
    }
   ],
   "source": [
    "if 'google.colab' in str(get_ipython()):\n",
    "    # Load the Drive helper and mount\n",
    "    from google.colab import drive\n",
    "\n",
    "    # This will prompt for authorization.\n",
    "    drive.mount('/content/drive')\n",
    "    os.chdir('/content/personal_drive/My Drive/UNED/TFM')\n",
    "    base_dir = '/content/drive/MyDrive/Colab Notebooks/UNED-TFM'\n",
    "    DATASET_PATH = os.path.join(base_dir, \"Final Clinical Image\")\n",
    "    base_dir_clas = '/content/drive/MyDrive/Colab Notebooks/UNED-TFM/Federated Model'\n",
    "    print('Running on CoLab')\n",
    "else:\n",
    "    os.chdir('../')\n",
    "    base_dir = '.'\n",
    "    base_dir_clas = '.'\n",
    "    DATASET_PATH = os.path.join(base_dir, \"Final Clinical Image\")\n",
    "    print('Not running on CoLab')"
   ]
  },
  {
   "cell_type": "code",
   "execution_count": 12,
   "id": "frozen-concord",
   "metadata": {},
   "outputs": [
    {
     "name": "stdout",
     "output_type": "stream",
     "text": [
      "'02. Base de Datos Organizado.zip'  'Output FedAVG'\t      Scripts_zip.zip\n",
      " create_folder.ipynb\t\t    'Output FedAVG_zip.zip'   test_zip.zip\n",
      " create_zip.ipynb\t\t    'Output FedEN'\t      TFM\n",
      " Delete_Folder.ipynb\t\t    'Output Global'\t      unzip.ipynb\n",
      "'Final Clinical Image'\t\t     Output.zip\n",
      "'Final Clinical Image_aug'\t     Scripts\n"
     ]
    }
   ],
   "source": [
    "!ls"
   ]
  },
  {
   "cell_type": "code",
   "execution_count": 13,
   "id": "identified-writer",
   "metadata": {},
   "outputs": [
    {
     "data": {
      "text/plain": [
       "'./Final Clinical Image'"
      ]
     },
     "execution_count": 13,
     "metadata": {},
     "output_type": "execute_result"
    }
   ],
   "source": [
    "DATASET_PATH"
   ]
  },
  {
   "cell_type": "markdown",
   "id": "promotional-sword",
   "metadata": {},
   "source": [
    "### **Global Parameters**"
   ]
  },
  {
   "cell_type": "code",
   "execution_count": 14,
   "id": "limiting-library",
   "metadata": {},
   "outputs": [],
   "source": [
    "#######################################################\n",
    "###### Hyperparameters for federated learning #########\n",
    "#######################################################\n",
    "# Methods (\"AVG\"/ \"ENSEMBLE\")\n",
    "selected_method = \"ENSEMBLE\"\n",
    "run = 1\n",
    "\n",
    "\n",
    "#General Parameters\n",
    "num_rounds = 500\n",
    "epochs = 10\n",
    "batch_size = 64\n",
    "image_size = 128\n",
    "learning_rate=0.0005\n",
    "\n",
    "# Ensemble Method Parameters\n",
    "K_models=5\n",
    "Q_client_groups=2\n",
    "ages=int(num_rounds/K_models)\n",
    "\n"
   ]
  },
  {
   "cell_type": "markdown",
   "id": "pointed-portsmouth",
   "metadata": {},
   "source": [
    "### **Client Split according to the run**"
   ]
  },
  {
   "cell_type": "code",
   "execution_count": 15,
   "id": "digital-winner",
   "metadata": {},
   "outputs": [],
   "source": [
    "# In case of Run where random split select number clients and percentage split\n",
    "if run==2:\n",
    "    split_perc = [0.5, 0.5]\n",
    "elif run==3:\n",
    "    split_perc = [0.33, 0.33, 0.34]\n",
    "elif run==4:\n",
    "    split_perc = [0.7, 0.15, 0.15]\n",
    "elif run==5:\n",
    "    split_perc = [0.4, 0.4, 0.2]\n",
    "elif run==6:\n",
    "    split_perc = [0.25, 0.25, 0.25, 0.25]\n",
    "elif run==7:\n",
    "    split_perc = [0.55, 0.15, 0.15, 0.15]\n",
    "elif run==8:\n",
    "    split_perc = [0.35, 0.35, 0.15, 0.15]\n",
    "elif run==9:\n",
    "    split_perc = [0.2, 0.2, 0.2, 0.2,0.2]\n",
    "elif run==10:\n",
    "    split_perc = [0.4, 0.15, 0.15, 0.15, 0.15]\n",
    "\n",
    "#Number of clients\n",
    "split=\"manual\"\n",
    "if run == 1:\n",
    "    clients_list = [\"A\", \"B\"]\n",
    "    num_clients = len(clients_list)\n",
    "    split_perc = [0.87, 0.13]\n",
    "else:\n",
    "    clients_list = [\"all\"]\n",
    "    num_clients = len(split_perc)\n",
    "    split=\"random\""
   ]
  },
  {
   "cell_type": "code",
   "execution_count": 16,
   "id": "communist-rabbit",
   "metadata": {},
   "outputs": [],
   "source": [
    "#List of parameters\n",
    "Glob_Param = {\"run\": [run], \"selected_method\": [selected_method], \"num_clients\": [num_clients], \"split\": [split],\n",
    "              \"split_perc\": [split_perc], \"num_rounds\": [num_rounds], \"epochs\": [epochs], \n",
    "              \"batch_size\": [batch_size], \"image_size\": [image_size], \"learning_rate\": [learning_rate],\n",
    "              \"ages\": [ages], \"K_models\": [K_models], \"Q_client_groups\": [Q_client_groups]}"
   ]
  },
  {
   "cell_type": "markdown",
   "id": "convenient-hurricane",
   "metadata": {},
   "source": [
    "### **Get Image Directories**"
   ]
  },
  {
   "cell_type": "code",
   "execution_count": 17,
   "id": "hawaiian-packet",
   "metadata": {},
   "outputs": [],
   "source": [
    "def get_client_directories(list_clients, base_image_path):\n",
    "  # Create list of directories to fill afterwards\n",
    "  train_dir = {x: [] for x in list_clients} \n",
    "  validation_dir = {x: [] for x in list_clients} \n",
    "  test_dir = {x: [] for x in list_clients} \n",
    "\n",
    "  #Fill the list\n",
    "  for client in list_clients:\n",
    "    client_path = os.path.join(base_image_path, \"ds_\"+client)\n",
    "    client_path_image = os.path.join(client_path, \"images\")\n",
    "    train_dir[client].append(os.path.join(client_path_image, \"train\"))\n",
    "    validation_dir[client].append(os.path.join(client_path_image, \"valid\"))\n",
    "    test_dir[client].append(os.path.join(client_path_image, \"test\"))\n",
    "  return train_dir, validation_dir, test_dir"
   ]
  },
  {
   "cell_type": "code",
   "execution_count": 18,
   "id": "reflected-farmer",
   "metadata": {},
   "outputs": [],
   "source": [
    "train_dir, validation_dir, test_dir = get_client_directories(clients_list, DATASET_PATH)"
   ]
  },
  {
   "cell_type": "markdown",
   "id": "horizontal-indicator",
   "metadata": {},
   "source": [
    "Totals from ALL folder to get total figures"
   ]
  },
  {
   "cell_type": "code",
   "execution_count": 19,
   "id": "forward-convertible",
   "metadata": {},
   "outputs": [],
   "source": [
    "# In order to check total numbers we define ALL directories \n",
    "###############\n",
    "# Dataset All #\n",
    "###############\n",
    "DATASET_PATH_ALL = os.path.join(DATASET_PATH, \"ds_all\")\n",
    "DATASET_PATH_ALL_IMAGE = os.path.join(DATASET_PATH_ALL, \"images\")\n",
    "# Directories for our training,\n",
    "# validation and test splits\n",
    "ALL_train_dir = os.path.join(DATASET_PATH_ALL_IMAGE, 'train')\n",
    "ALL_validation_dir = os.path.join(DATASET_PATH_ALL_IMAGE, 'valid')\n",
    "ALL_test_dir = os.path.join(DATASET_PATH_ALL_IMAGE, 'test')\n",
    "\n",
    "#Check total numbers#\n",
    "# Directory with our training benign pictures\n",
    "ALL_train_ben_dir = os.path.join(ALL_train_dir, 'benign')\n",
    "#print(train_ben_dir)\n",
    "# Directory with our training malignant pictures\n",
    "ALL_train_mal_dir = os.path.join(ALL_train_dir, 'malignant')\n",
    "#print(train_mal_dir)\n",
    "# Directory with our training normal pictures\n",
    "ALL_train_nor_dir = os.path.join(ALL_train_dir, 'normal')\n",
    "#print(train_nor_dir)\n",
    "\n",
    "# Directory with our validation benign pictures\n",
    "ALL_val_ben_dir = os.path.join(ALL_validation_dir, 'benign')\n",
    "# Directory with our validation malignant pictures\n",
    "ALL_val_mal_dir = os.path.join(ALL_validation_dir, 'malignant')\n",
    "# Directory with our validation normal pictures\n",
    "ALL_val_nor_dir = os.path.join(ALL_validation_dir, 'normal')\n",
    "\n",
    "# Directory with our test benign pictures\n",
    "ALL_test_ben_dir = os.path.join(ALL_test_dir, 'benign')\n",
    "# Directory with our test malignant pictures\n",
    "ALL_test_mal_dir = os.path.join(ALL_test_dir, 'malignant')\n",
    "# Directory with our test normal pictures\n",
    "ALL_test_nor_dir = os.path.join(ALL_test_dir, 'normal')"
   ]
  },
  {
   "cell_type": "code",
   "execution_count": 20,
   "id": "qualified-boating",
   "metadata": {},
   "outputs": [
    {
     "name": "stdout",
     "output_type": "stream",
     "text": [
      "'02. Base de Datos Organizado.zip'  \u001b[0m\u001b[01;34m'Output FedAVG'\u001b[0m/          Scripts_zip.zip\n",
      " create_folder.ipynb                'Output FedAVG_zip.zip'   test_zip.zip\n",
      " create_zip.ipynb                   \u001b[01;34m'Output FedEN'\u001b[0m/           \u001b[01;34mTFM\u001b[0m/\n",
      " Delete_Folder.ipynb                \u001b[01;34m'Output Global'\u001b[0m/          unzip.ipynb\n",
      "\u001b[01;34m'Final Clinical Image'\u001b[0m/              Output.zip\n",
      "\u001b[01;34m'Final Clinical Image_aug'\u001b[0m/          \u001b[01;34mScripts\u001b[0m/\n"
     ]
    }
   ],
   "source": [
    "ls"
   ]
  },
  {
   "cell_type": "markdown",
   "id": "beautiful-booth",
   "metadata": {},
   "source": [
    "### **Output Folders**"
   ]
  },
  {
   "cell_type": "code",
   "execution_count": 21,
   "id": "choice-reception",
   "metadata": {},
   "outputs": [],
   "source": [
    "# define the path to the base output directory\n",
    "if selected_method == \"AVG\":\n",
    "    BASE_OUTPUT = os.path.join(base_dir_clas, \"Output FedAVG\")\n",
    "if selected_method == \"ENSEMBLE\":\n",
    "    BASE_OUTPUT = os.path.join(base_dir_clas, \"Output FedEN\")\n",
    "\n",
    "BASE_OUPUT_RUN=os.path.join(BASE_OUTPUT, \"Run \"+str(run))\n",
    "\n",
    "\n",
    "# define the path to the output serialized model, model training\n",
    "# plot, and testing image paths\n",
    "\n",
    "#MODEL_PATH = os.path.join(MODEL_PATH, \"vgg16.pth\")\n",
    "MODEL_PATH = os.path.join(BASE_OUPUT_RUN, \"Models\")\n",
    "MODEL_PATH_glob = os.path.join(MODEL_PATH, \"vgg16_global.pth\")\n",
    "MODEL_PATH_best = os.path.join(MODEL_PATH, \"vgg16_best.pth\")\n",
    "MODEL_PATH_param = os.path.join(MODEL_PATH, \"model_param.txt\")\n",
    "MODEL_PATH_trans = os.path.join(MODEL_PATH, \"model_augmen.txt\")\n",
    "\n",
    "#Plots\n",
    "PLOT_PATH = os.path.join(BASE_OUPUT_RUN, \"Plots\")\n",
    "PLOT_PATH_HIS = os.path.sep.join([PLOT_PATH, \"plot_hist.json\"])\n",
    "PLOT_PATH_ACC = os.path.sep.join([PLOT_PATH, \"plot_acc.png\"])\n",
    "PLOT_PATH_LOSS = os.path.sep.join([PLOT_PATH, \"plot_loss.png\"])\n",
    "\n",
    "#Test Files\n",
    "TEST_FILES_PATH = os.path.join(BASE_OUPUT_RUN, \"Test Files\")\n",
    "TEST_PATHS = os.path.sep.join([TEST_FILES_PATH, \"test_paths.txt\"])\n"
   ]
  },
  {
   "cell_type": "markdown",
   "id": "nasty-virtue",
   "metadata": {},
   "source": [
    "# 3. Get number of classes and Total Figures"
   ]
  },
  {
   "cell_type": "code",
   "execution_count": 22,
   "id": "mechanical-jonathan",
   "metadata": {},
   "outputs": [
    {
     "name": "stdout",
     "output_type": "stream",
     "text": [
      "train_image_path example:  ./Final Clinical Image/ds_all/images/train/malignant/000298.png\n",
      "class example:  malignant\n",
      "Train size: 755\n",
      "Valid size: 93\n",
      "Test size: 95\n"
     ]
    }
   ],
   "source": [
    "train_image_paths = [] #to store image paths in list\n",
    "classes = [] #to store class values\n",
    "\n",
    "#1.\n",
    "# get all the paths from train_data_path and append image paths and class to to respective lists\n",
    "# eg. train path-> 'images/train/26.Pont_du_Gard/4321ee6695c23c7b.jpg'\n",
    "# eg. class -> 26.Pont_du_Gard\n",
    "for data_path in glob.glob(ALL_train_dir + '/*'):\n",
    "    classes.append(data_path.split('/')[-1]) \n",
    "    train_image_paths.append(glob.glob(data_path + '/*'))\n",
    "    \n",
    "train_image_paths = list(flatten(train_image_paths))\n",
    "random.shuffle(train_image_paths)\n",
    "\n",
    "print('train_image_path example: ', train_image_paths[0])\n",
    "print('class example: ', classes[0])\n",
    "\n",
    "#2.\n",
    "# split train valid from train paths (80,20)\n",
    "#train_image_paths, valid_image_paths = train_image_paths[:int(0.8*len(train_image_paths))], train_image_paths[int(0.8*len(train_image_paths)):] \n",
    "valid_image_paths = []\n",
    "for data_path in glob.glob(ALL_validation_dir + '/*'):\n",
    "    valid_image_paths.append(glob.glob(data_path + '/*'))\n",
    "\n",
    "valid_image_paths = list(flatten(valid_image_paths))\n",
    "\n",
    "\n",
    "#3.\n",
    "# create the test_image_paths\n",
    "test_image_paths = []\n",
    "for data_path in glob.glob(ALL_test_dir + '/*'):\n",
    "    test_image_paths.append(glob.glob(data_path + '/*'))\n",
    "\n",
    "test_image_paths = list(flatten(test_image_paths))\n",
    "\n",
    "print(\"Train size: {}\\nValid size: {}\\nTest size: {}\".format(len(train_image_paths), len(valid_image_paths), len(test_image_paths)))"
   ]
  },
  {
   "cell_type": "code",
   "execution_count": 23,
   "id": "national-standard",
   "metadata": {},
   "outputs": [
    {
     "name": "stdout",
     "output_type": "stream",
     "text": [
      "[INFO] saving testing image paths...\n"
     ]
    }
   ],
   "source": [
    "print(\"[INFO] saving testing image paths...\")\n",
    "f = open(TEST_PATHS, \"w\")\n",
    "f.write(\"\\n\".join(test_image_paths))\n",
    "f.close()"
   ]
  },
  {
   "cell_type": "code",
   "execution_count": 24,
   "id": "danish-wells",
   "metadata": {},
   "outputs": [
    {
     "name": "stdout",
     "output_type": "stream",
     "text": [
      "total training benign images: 437\n",
      "total training malignant images: 211\n",
      "total training normal images: 107\n",
      "-----------------------------\n",
      "total validation benign images: 54\n",
      "total validation malignant images: 26\n",
      "total validation normal images: 13\n",
      "-----------------------------\n",
      "total test benign images: 55\n",
      "total test malignant images: 27\n",
      "total test normal images: 13\n"
     ]
    }
   ],
   "source": [
    "print('total training benign images:', len(os.listdir(ALL_train_ben_dir)))\n",
    "print('total training malignant images:', len(os.listdir(ALL_train_mal_dir)))\n",
    "print('total training normal images:', len(os.listdir(ALL_train_nor_dir)))\n",
    "print(\"-----------------------------\")\n",
    "print('total validation benign images:', len(os.listdir(ALL_val_ben_dir)))\n",
    "print('total validation malignant images:', len(os.listdir(ALL_val_mal_dir)))\n",
    "print('total validation normal images:', len(os.listdir(ALL_val_nor_dir)))\n",
    "print(\"-----------------------------\")\n",
    "print('total test benign images:', len(os.listdir(ALL_test_ben_dir)))\n",
    "print('total test malignant images:', len(os.listdir(ALL_test_mal_dir)))\n",
    "print('total test normal images:', len(os.listdir(ALL_test_nor_dir)))"
   ]
  },
  {
   "cell_type": "markdown",
   "id": "isolated-eleven",
   "metadata": {},
   "source": [
    "#######\n",
    "       **Create dictionary for class indexes**\n",
    "#######"
   ]
  },
  {
   "cell_type": "code",
   "execution_count": 25,
   "id": "original-bracelet",
   "metadata": {},
   "outputs": [
    {
     "name": "stdout",
     "output_type": "stream",
     "text": [
      "{0: 'benign', 1: 'malignant', 2: 'normal'}\n"
     ]
    }
   ],
   "source": [
    "num_classes=len(classes)\n",
    "classes.sort()\n",
    "idx_to_class = {i:j for i, j in enumerate(classes)}\n",
    "class_to_idx = {value:key for key,value in idx_to_class.items()}\n",
    "print(idx_to_class )"
   ]
  },
  {
   "cell_type": "markdown",
   "id": "czech-improvement",
   "metadata": {},
   "source": [
    "**B has one class less, so specific variable class if split is manual to get classes of B**"
   ]
  },
  {
   "cell_type": "code",
   "execution_count": 26,
   "id": "emerging-gilbert",
   "metadata": {},
   "outputs": [],
   "source": [
    "if split==\"manual\":\n",
    "  classes_B = [] #to store class values\n",
    "\n",
    "  #1.\n",
    "  # get all the paths from train_data_path and append image paths and class to to respective lists\n",
    "  # eg. train path-> 'images/train/26.Pont_du_Gard/4321ee6695c23c7b.jpg'\n",
    "  # eg. class -> 26.Pont_du_Gard\n",
    "  for data_path in glob.glob(train_dir[\"B\"][0] + '/*'):\n",
    "      classes_B.append(data_path.split('/')[-1]) \n",
    "      train_image_paths.append(glob.glob(data_path + '/*'))"
   ]
  },
  {
   "cell_type": "markdown",
   "id": "friendly-lingerie",
   "metadata": {},
   "source": [
    "# 4. Create Dataset Pytorch"
   ]
  },
  {
   "cell_type": "markdown",
   "id": "mineral-macedonia",
   "metadata": {},
   "source": [
    "### **Transfomrs**"
   ]
  },
  {
   "cell_type": "code",
   "execution_count": 27,
   "id": "organizational-brown",
   "metadata": {},
   "outputs": [],
   "source": [
    "#######################################################\n",
    "#               Define Transforms\n",
    "#######################################################\n",
    "\n",
    "#To define an augmentation pipeline, you need to create an instance of the Compose class.\n",
    "#As an argument to the Compose class, you need to pass a list of augmentations you want to apply. \n",
    "#A call to Compose will return a transform function that will perform image augmentation.\n",
    "#(https://albumentations.ai/docs/getting_started/image_augmentation/)\n",
    "\n",
    "train_transforms = transforms.Compose([\n",
    "        transforms.Grayscale(num_output_channels=1),\n",
    "        transforms.RandomRotation(20),\n",
    "        #transforms.RandomResizedCrop(image_size),\n",
    "        transforms.Resize((image_size,image_size)),\n",
    "        transforms.RandomHorizontalFlip(),\n",
    "        transforms.ToTensor()])\n",
    "\n",
    "test_transforms = transforms.Compose([\n",
    "        transforms.Grayscale(num_output_channels=1),\n",
    "        #transforms.RandomRotation(20),\n",
    "        transforms.Resize((image_size,image_size)),\n",
    "        #transforms.RandomHorizontalFlip(),\n",
    "        transforms.ToTensor()])"
   ]
  },
  {
   "cell_type": "markdown",
   "id": "freelance-aberdeen",
   "metadata": {},
   "source": [
    "### **Create Dataset from Folders**"
   ]
  },
  {
   "cell_type": "markdown",
   "id": "ready-stuart",
   "metadata": {
    "tags": []
   },
   "source": [
    "Function to merge datasets from different clients into one dataset"
   ]
  },
  {
   "cell_type": "code",
   "execution_count": 28,
   "id": "described-beauty",
   "metadata": {
    "tags": []
   },
   "outputs": [],
   "source": [
    "def merge_dataset(client_datasets):\n",
    "    i=0\n",
    "    for ds in client_datasets:\n",
    "        if i==0:\n",
    "            merge_ds=ds\n",
    "        else:\n",
    "            merge_ds+=ds\n",
    "        i+=1\n",
    "    return merge_ds"
   ]
  },
  {
   "cell_type": "code",
   "execution_count": 29,
   "id": "integrated-election",
   "metadata": {
    "tags": []
   },
   "outputs": [
    {
     "name": "stdout",
     "output_type": "stream",
     "text": [
      "['./Final Clinical Image/ds_A/images/train']\n",
      "['./Final Clinical Image/ds_B/images/train']\n"
     ]
    }
   ],
   "source": [
    "if split==\"manual\":\n",
    "    train_dataset_client=[]\n",
    "    test_dataset_client=[]\n",
    "    val_dataset_client=[]\n",
    "    i=0\n",
    "    for client in clients_list:\n",
    "        print(train_dir[client])\n",
    "        train_dataset_client.append(datasets.ImageFolder(train_dir[client][0], transform=train_transforms))\n",
    "        test_dataset_client.append(datasets.ImageFolder(test_dir[client][0], transform=test_transforms))\n",
    "        val_dataset_client.append(datasets.ImageFolder(validation_dir[client][0], transform=test_transforms))\n",
    "        #validation_dataset+=datasets.ImageFolder(validation_dir[client][0], transform=test_transforms)\n",
    "        #test_dataset+=datasets.ImageFolder(test_dir[client][0], transform=test_transforms)\n",
    "    test_dataset=merge_dataset(test_dataset_client)\n",
    "    validation_dataset=merge_dataset(val_dataset_client)\n",
    "#We take the entire dataset \"ALL\", so we only have one client in the list and we need to apply .random_split\n",
    "else:\n",
    "    for client in clients_list:\n",
    "        train_dataset_glob = datasets.ImageFolder(train_dir[client][0], transform=train_transforms)\n",
    "        train_dataset_client = torch.utils.data.random_split(train_dataset_glob, split_perc, generator=torch.Generator().manual_seed(42))\n",
    "        test_dataset_glob = datasets.ImageFolder(test_dir[client][0], transform=test_transforms)\n",
    "        test_dataset_client = torch.utils.data.random_split(test_dataset_glob, split_perc, generator=torch.Generator().manual_seed(42))\n",
    "        validation_dataset_glob = datasets.ImageFolder(validation_dir[client][0], transform=test_transforms)\n",
    "        val_dataset_client = torch.utils.data.random_split(validation_dataset_glob, split_perc, generator=torch.Generator().manual_seed(42))\n",
    "        #If random split then the glob dataset contains the full population\n",
    "        validation_dataset=validation_dataset_glob\n",
    "        test_dataset=test_dataset_glob"
   ]
  },
  {
   "cell_type": "code",
   "execution_count": 30,
   "id": "prescription-winning",
   "metadata": {},
   "outputs": [],
   "source": [
    "def remove_hide_file(folder):\n",
    "    shutil.rmtree(folder+'/images/test/.ipynb_checkpoints/')\n",
    "    shutil.rmtree(folder+'/images/train/.ipynb_checkpoints/')\n",
    "    shutil.rmtree(folder+'/images/valid/.ipynb_checkpoints/')\n",
    "    return\n",
    "\n",
    "\n",
    "\n"
   ]
  },
  {
   "cell_type": "markdown",
   "id": "challenging-measure",
   "metadata": {},
   "source": [
    "### **Load Dataset Pytorch**"
   ]
  },
  {
   "cell_type": "code",
   "execution_count": 31,
   "id": "preliminary-stockholm",
   "metadata": {},
   "outputs": [],
   "source": [
    "# Creating a pytorch loader for a Deep Learning model\n",
    "train_loader = [torch.utils.data.DataLoader(x, batch_size=batch_size, shuffle=True) for x in train_dataset_client]\n",
    "\n",
    "test_loader = torch.utils.data.DataLoader(test_dataset, batch_size=batch_size, shuffle=False)\n",
    "\n",
    "val_loader = torch.utils.data.DataLoader(validation_dataset, batch_size=batch_size, shuffle=False)\n",
    "val_loader_client = [torch.utils.data.DataLoader(x, batch_size=batch_size, shuffle=True) for x in val_dataset_client]\n"
   ]
  },
  {
   "cell_type": "markdown",
   "id": "administrative-label",
   "metadata": {},
   "source": [
    "# 5. Define Neural Network"
   ]
  },
  {
   "cell_type": "code",
   "execution_count": 32,
   "id": "expanded-studio",
   "metadata": {},
   "outputs": [],
   "source": [
    "################################\n",
    "##### Neural Network model #####\n",
    "################################\n",
    "\n",
    "cfg = {\n",
    "    'VGG16': [64, 64, 'M', 128, 128, 'M', 256, 256, 256, 'M', 512, 512, 512, 'M', 512, 512, 512, 'M']\n",
    "}\n",
    "\n",
    "class VGG(nn.Module):\n",
    "    def __init__(self, vgg_name):\n",
    "        super(VGG, self).__init__()\n",
    "        self.features = self._make_layers(cfg[vgg_name])\n",
    "        self.classifier = nn.Sequential(\n",
    "            nn.Flatten(),\n",
    "            nn.Linear(int(512*image_size/32*image_size/32), 512),\n",
    "            nn.ReLU(True),\n",
    "            nn.Linear(512, 512),\n",
    "            nn.ReLU(True),\n",
    "            nn.Linear(512, 512),\n",
    "            nn.ReLU(True),\n",
    "            nn.Linear(512, 3)\n",
    "        )\n",
    "\n",
    "    def forward(self, x):\n",
    "        out = self.features(x)\n",
    "        out = out.view(out.size(0), -1)\n",
    "        out = self.classifier(out)\n",
    "        output = F.log_softmax(out, dim=1)\n",
    "        return output\n",
    "\n",
    "    def _make_layers(self, cfg):\n",
    "        layers = []\n",
    "        in_channels = 1\n",
    "        for x in cfg:\n",
    "            if x == 'M':\n",
    "                layers += [nn.MaxPool2d(kernel_size=2, stride=2)]\n",
    "            else:\n",
    "                layers += [nn.Conv2d(in_channels, x, kernel_size=3, padding=1),\n",
    "                           nn.BatchNorm2d(x),\n",
    "                           nn.ReLU(inplace=True)]\n",
    "                in_channels = x\n",
    "        layers += [nn.AvgPool2d(kernel_size=1, stride=1)]\n",
    "        return nn.Sequential(*layers)"
   ]
  },
  {
   "cell_type": "markdown",
   "id": "detailed-garlic",
   "metadata": {},
   "source": [
    "### **Save the best model**"
   ]
  },
  {
   "cell_type": "code",
   "execution_count": 33,
   "id": "curious-headset",
   "metadata": {},
   "outputs": [],
   "source": [
    "class SaveBestModel():\n",
    "    \"\"\"\n",
    "    Class to save the best model while training. If the current epoch's \n",
    "    validation loss is less than the previous least less, then save the\n",
    "    model state.\n",
    "    \"\"\"\n",
    "    def __init__(\n",
    "        self, best_valid_loss=float('inf'), best_valid_acc=float('inf'), best_comunication_round=float('inf')\n",
    "    ):\n",
    "        self.best_valid_loss = best_valid_loss\n",
    "        self.best_valid_acc = best_valid_acc\n",
    "        self.best_comunication_round = best_comunication_round\n",
    "        \n",
    "    def __call__(\n",
    "        self, current_valid_loss,current_valid_acc, \n",
    "        comunication_round, model\n",
    "    ):\n",
    "        if current_valid_loss < self.best_valid_loss:\n",
    "            self.best_valid_loss = current_valid_loss\n",
    "            self.best_valid_acc = current_valid_acc\n",
    "            self.best_comunication_round = comunication_round\n",
    "            print(f\"\\nBest validation loss: {self.best_valid_loss}\")\n",
    "            print(f\"\\nSaving best model for comunication round: {comunication_round}\\n\")\n",
    "            torch.save(model, MODEL_PATH_best)"
   ]
  },
  {
   "cell_type": "markdown",
   "id": "polyphonic-consumer",
   "metadata": {},
   "source": [
    "# 6. Federated Functions"
   ]
  },
  {
   "cell_type": "markdown",
   "id": "friendly-uzbekistan",
   "metadata": {},
   "source": [
    "### **Client Train Local Model**"
   ]
  },
  {
   "cell_type": "code",
   "execution_count": 34,
   "id": "choice-degree",
   "metadata": {},
   "outputs": [],
   "source": [
    "def client_update(client_model, optimizer, train_loader, epoch=5):\n",
    "    \"\"\"\n",
    "    This function updates/trains client model on client data\n",
    "    \"\"\"\n",
    "    client_model.train()\n",
    "    for e in range(epoch):\n",
    "        for batch_idx, (data, target) in enumerate(train_loader):\n",
    "            data, target = data.to(DEVICE), target.to(DEVICE)\n",
    "            data = data.float()\n",
    "            optimizer.zero_grad()\n",
    "            output = client_model(data)\n",
    "            loss = F.nll_loss(output, target)\n",
    "            loss.backward()\n",
    "            optimizer.step()\n",
    "    return loss.item()"
   ]
  },
  {
   "cell_type": "markdown",
   "id": "sudden-trouble",
   "metadata": {},
   "source": [
    "### **Server Aggregate Models**"
   ]
  },
  {
   "cell_type": "code",
   "execution_count": 35,
   "id": "inclusive-aside",
   "metadata": {},
   "outputs": [],
   "source": [
    "def server_aggregate(global_model_agg, client_models,method,client_group=None):\n",
    "    \"\"\"\n",
    "    This function has aggregation method 'mean'\n",
    "    \"\"\"\n",
    "    ### This will take simple mean of the weights of models ###\n",
    "    if method == \"ENSEMBLE\":\n",
    "      global_dict = global_model_agg.state_dict()\n",
    "      for k in global_dict.keys():\n",
    "        global_dict[k] = torch.stack([client_models[i].state_dict()[k].float() for i in client_group], 0).mean(0)\n",
    "      global_model_agg.load_state_dict(global_dict)\n",
    "\n",
    "    if method == \"AVG\":\n",
    "      global_dict = global_model_agg.state_dict()\n",
    "      for k in global_dict.keys():\n",
    "        global_dict[k] = torch.stack([client_models[i].state_dict()[k].float() for i in range(len(client_models))], 0).mean(0)\n",
    "      global_model_agg.load_state_dict(global_dict)\n",
    "      for model in client_models:\n",
    "        model.load_state_dict(global_model_agg.state_dict())"
   ]
  },
  {
   "cell_type": "markdown",
   "id": "another-specialist",
   "metadata": {},
   "source": [
    "### **Test Server Model**"
   ]
  },
  {
   "cell_type": "code",
   "execution_count": 36,
   "id": "respiratory-extension",
   "metadata": {},
   "outputs": [],
   "source": [
    "def test(global_model_test, test_loader,method):\n",
    "    \"\"\"This function test the global model on test data and returns test loss and test accuracy \"\"\"\n",
    "    if method == \"ENSEMBLE\":\n",
    "      for model in global_model_test:\n",
    "          model.eval()\n",
    "    else:\n",
    "      global_model_test.eval()\n",
    "\n",
    "    pred_final=[]\n",
    "    target_final=[]\n",
    "    correct = 0\n",
    "    test_loss = 0\n",
    "    confusion_matrix_torch = torch.zeros(num_classes, num_classes)\n",
    "    with torch.no_grad():\n",
    "      for batch_idx, (data, target) in enumerate(test_loader):\n",
    "                  data, target = data.to(DEVICE), target.to(DEVICE)\n",
    "                  data = data.float()\n",
    "\n",
    "                  if method == \"ENSEMBLE\": \n",
    "                    global_output=[]\n",
    "                    for model in global_model_test:\n",
    "                      output_model = model(data)\n",
    "                      global_output.append(output_model)\n",
    "                    final_output=torch.mean(torch.stack([output.float() for output in global_output], 0),dim=0, keepdim=True)\n",
    "                    test_loss += F.nll_loss(final_output[0], target, reduction='sum').item()  # sum up batch loss\n",
    "                    pred = final_output[0].argmax(dim=1, keepdim=True)  # get the index of the max log-probability\n",
    "                    correct += pred.eq(target.view_as(pred)).sum().item()\n",
    "\n",
    "                  if method == \"AVG\":\n",
    "                    output = global_model_test(data)\n",
    "                    test_loss += F.nll_loss(output, target, reduction='sum').item()  # sum up batch loss\n",
    "                    pred = output.argmax(dim=1, keepdim=True)  # get the index of the max log-probability\n",
    "                    correct += pred.eq(target.view_as(pred)).sum().item()\n",
    "\n",
    "                  for t, p in zip(target.view(-1), pred.view(-1)):\n",
    "                    confusion_matrix_torch[t.long(), p.long()] += 1\n",
    "                  pred_final.extend(pred.to('cpu').numpy().tolist())\n",
    "                  target_final.extend(target.to('cpu').numpy().tolist())\n",
    "\n",
    "\n",
    " \n",
    "    test_loss /= len(test_loader.dataset)\n",
    "    acc = correct / len(test_loader.dataset)\n",
    "\n",
    "\n",
    "    return test_loss, acc, confusion_matrix_torch"
   ]
  },
  {
   "cell_type": "markdown",
   "id": "desirable-schedule",
   "metadata": {},
   "source": [
    "# 7. Initialize and Train"
   ]
  },
  {
   "cell_type": "markdown",
   "id": "saving-dream",
   "metadata": {},
   "source": [
    "### **Initializae**"
   ]
  },
  {
   "cell_type": "code",
   "execution_count": 37,
   "id": "egyptian-edition",
   "metadata": {},
   "outputs": [
    {
     "name": "stdout",
     "output_type": "stream",
     "text": [
      "[[0], [1]]\n"
     ]
    }
   ],
   "source": [
    "############################################\n",
    "#### Initializing models and optimizer  ####\n",
    "############################################\n",
    "\n",
    "\n",
    "if selected_method == \"AVG\":\n",
    "  #### K global model ##########\n",
    "  global_model = VGG('VGG16').to(DEVICE) \n",
    "\n",
    "  #summary(VGG('VGG16'), (1,image_size,image_size))\n",
    "  ############## client models ##############\n",
    "  client_models = [ VGG('VGG16').to(DEVICE)  for _ in range(num_clients)]\n",
    "  for model in client_models:\n",
    "      model.load_state_dict(global_model.state_dict()) ### initial synchronizing with global model \n",
    "\n",
    "  ############### optimizers ################\n",
    "  opt = [optim.SGD(model.parameters(), lr=learning_rate) for model in client_models]\n",
    "\n",
    "if selected_method == \"ENSEMBLE\":\n",
    "  #### K global model ##########\n",
    "  Model_list = list(range(K_models))\n",
    "  global_models_ensemble = [ VGG('VGG16').to(DEVICE) for _ in range(K_models)]\n",
    "  #summary(global_models_ensemble[0], (1,image_size,image_size))\n",
    "  ############## client models ##############\n",
    "  Client_groups = []\n",
    "  n =  list(range(num_clients))\n",
    "  for index in range(Q_client_groups):\n",
    "    group = n[index::Q_client_groups]\n",
    "    Client_groups.append(group)\n",
    "  client_models = [ VGG('VGG16').to(DEVICE) for _ in range(num_clients)]\n",
    "  print(Client_groups)\n",
    "  ############### optimizers ################\n",
    "  opt = [optim.SGD(model.parameters(), lr=learning_rate) for model in client_models]\n",
    "\n",
    "# initialize SaveBestModel class\n",
    "save_best_model = SaveBestModel()\n",
    "\n",
    "############### Results ###################\n",
    "H = {\"train_loss\": [], \"test_loss\": [], \"test_acc\": []}\n",
    "Best={\"Best Communication round\": [], \"Best Valid Loss\": [], \"Best Valid Acc\": []}"
   ]
  },
  {
   "cell_type": "markdown",
   "id": "adjacent-petersburg",
   "metadata": {},
   "source": [
    "### **Train**"
   ]
  },
  {
   "cell_type": "code",
   "execution_count": 38,
   "id": "electoral-chambers",
   "metadata": {},
   "outputs": [
    {
     "name": "stderr",
     "output_type": "stream",
     "text": [
      "  0%|          | 0/5 [00:00<?, ?it/s]"
     ]
    },
    {
     "name": "stdout",
     "output_type": "stream",
     "text": [
      "Ages:  0\n",
      "Model 2 for Group Clients 0 and Communication round 0\n",
      "Model 0 for Group Clients 1 and Communication round 0\n",
      "Updating model in the server...\n",
      "Updating model in the server...\n",
      "Testing in the server all the models...\n",
      "0-th round, in age 0-th\n",
      "average train loss 0.531 | test loss 1.07 | test acc: 0.579\n",
      "\n",
      "Best validation loss: 1.0731774179559006\n",
      "\n",
      "Saving best model for comunication round: 0\n",
      "\n"
     ]
    },
    {
     "name": "stderr",
     "output_type": "stream",
     "text": [
      " 20%|██        | 1/5 [01:37<06:31, 98.00s/it]"
     ]
    },
    {
     "name": "stdout",
     "output_type": "stream",
     "text": [
      "Model 1 for Group Clients 0 and Communication round 1\n",
      "Model 3 for Group Clients 1 and Communication round 1\n",
      "Updating model in the server...\n",
      "Updating model in the server...\n",
      "Testing in the server all the models...\n",
      "1-th round, in age 0-th\n",
      "average train loss 0.511 | test loss 1.05 | test acc: 0.579\n",
      "\n",
      "Best validation loss: 1.0471154463918586\n",
      "\n",
      "Saving best model for comunication round: 1\n",
      "\n"
     ]
    },
    {
     "name": "stderr",
     "output_type": "stream",
     "text": [
      " 40%|████      | 2/5 [03:09<04:41, 93.91s/it]"
     ]
    },
    {
     "name": "stdout",
     "output_type": "stream",
     "text": [
      "Model 0 for Group Clients 0 and Communication round 2\n",
      "Model 4 for Group Clients 1 and Communication round 2\n",
      "Updating model in the server...\n",
      "Updating model in the server...\n",
      "Testing in the server all the models...\n",
      "2-th round, in age 0-th\n",
      "average train loss 0.512 | test loss 1.03 | test acc: 0.579\n",
      "\n",
      "Best validation loss: 1.025775146484375\n",
      "\n",
      "Saving best model for comunication round: 2\n",
      "\n"
     ]
    },
    {
     "name": "stderr",
     "output_type": "stream",
     "text": [
      " 60%|██████    | 3/5 [04:39<03:04, 92.38s/it]"
     ]
    },
    {
     "name": "stdout",
     "output_type": "stream",
     "text": [
      "Model 3 for Group Clients 0 and Communication round 3\n",
      "Model 1 for Group Clients 1 and Communication round 3\n",
      "Updating model in the server...\n",
      "Updating model in the server...\n",
      "Testing in the server all the models...\n",
      "3-th round, in age 0-th\n",
      "average train loss 0.441 | test loss 0.997 | test acc: 0.579\n",
      "\n",
      "Best validation loss: 0.9966853091591283\n",
      "\n",
      "Saving best model for comunication round: 3\n",
      "\n"
     ]
    },
    {
     "name": "stderr",
     "output_type": "stream",
     "text": [
      " 80%|████████  | 4/5 [06:11<01:32, 92.33s/it]"
     ]
    },
    {
     "name": "stdout",
     "output_type": "stream",
     "text": [
      "Model 4 for Group Clients 0 and Communication round 4\n",
      "Model 2 for Group Clients 1 and Communication round 4\n",
      "Updating model in the server...\n",
      "Updating model in the server...\n",
      "Testing in the server all the models...\n",
      "4-th round, in age 0-th\n",
      "average train loss 0.463 | test loss 0.963 | test acc: 0.579\n",
      "Confusion Matrix:  tensor([[55.,  0.,  0.],\n",
      "        [27.,  0.,  0.],\n",
      "        [13.,  0.,  0.]])\n",
      "\n",
      "Best validation loss: 0.9630481117650083\n",
      "\n",
      "Saving best model for comunication round: 4\n",
      "\n"
     ]
    },
    {
     "name": "stderr",
     "output_type": "stream",
     "text": [
      "100%|██████████| 5/5 [07:43<00:00, 92.73s/it]\n",
      "  0%|          | 0/5 [00:00<?, ?it/s]"
     ]
    },
    {
     "name": "stdout",
     "output_type": "stream",
     "text": [
      "Ages:  1\n",
      "Model 1 for Group Clients 0 and Communication round 0\n",
      "Model 2 for Group Clients 1 and Communication round 0\n",
      "Updating model in the server...\n",
      "Updating model in the server...\n",
      "Testing in the server all the models...\n",
      "0-th round, in age 1-th\n",
      "average train loss 0.451 | test loss 0.954 | test acc: 0.579\n",
      "\n",
      "Best validation loss: 0.954272420782792\n",
      "\n",
      "Saving best model for comunication round: 5\n",
      "\n"
     ]
    },
    {
     "name": "stderr",
     "output_type": "stream",
     "text": [
      " 20%|██        | 1/5 [01:32<06:09, 92.47s/it]"
     ]
    },
    {
     "name": "stdout",
     "output_type": "stream",
     "text": [
      "Model 0 for Group Clients 0 and Communication round 1\n",
      "Model 3 for Group Clients 1 and Communication round 1\n",
      "Updating model in the server...\n",
      "Updating model in the server...\n",
      "Testing in the server all the models...\n",
      "1-th round, in age 1-th\n",
      "average train loss 0.476 | test loss 0.938 | test acc: 0.579\n",
      "\n",
      "Best validation loss: 0.9377359089098478\n",
      "\n",
      "Saving best model for comunication round: 6\n",
      "\n"
     ]
    },
    {
     "name": "stderr",
     "output_type": "stream",
     "text": [
      " 40%|████      | 2/5 [03:03<04:35, 91.89s/it]"
     ]
    },
    {
     "name": "stdout",
     "output_type": "stream",
     "text": [
      "Model 3 for Group Clients 0 and Communication round 2\n",
      "Model 4 for Group Clients 1 and Communication round 2\n",
      "Updating model in the server...\n",
      "Updating model in the server...\n",
      "Testing in the server all the models...\n",
      "2-th round, in age 1-th\n",
      "average train loss 0.409 | test loss 0.93 | test acc: 0.579\n",
      "\n",
      "Best validation loss: 0.9300624245091489\n",
      "\n",
      "Saving best model for comunication round: 7\n",
      "\n"
     ]
    },
    {
     "name": "stderr",
     "output_type": "stream",
     "text": [
      " 60%|██████    | 3/5 [04:35<03:03, 91.67s/it]"
     ]
    },
    {
     "name": "stdout",
     "output_type": "stream",
     "text": [
      "Model 2 for Group Clients 0 and Communication round 3\n",
      "Model 1 for Group Clients 1 and Communication round 3\n",
      "Updating model in the server...\n",
      "Updating model in the server...\n",
      "Testing in the server all the models...\n",
      "3-th round, in age 1-th\n",
      "average train loss 0.386 | test loss 0.924 | test acc: 0.579\n",
      "\n",
      "Best validation loss: 0.9239895870811061\n",
      "\n",
      "Saving best model for comunication round: 8\n",
      "\n"
     ]
    },
    {
     "name": "stderr",
     "output_type": "stream",
     "text": [
      " 80%|████████  | 4/5 [06:06<01:31, 91.39s/it]"
     ]
    },
    {
     "name": "stdout",
     "output_type": "stream",
     "text": [
      "Model 4 for Group Clients 0 and Communication round 4\n",
      "Model 0 for Group Clients 1 and Communication round 4\n",
      "Updating model in the server...\n",
      "Updating model in the server...\n",
      "Testing in the server all the models...\n",
      "4-th round, in age 1-th\n",
      "average train loss 0.408 | test loss 0.915 | test acc: 0.579\n",
      "Confusion Matrix:  tensor([[55.,  0.,  0.],\n",
      "        [27.,  0.,  0.],\n",
      "        [13.,  0.,  0.]])\n",
      "\n",
      "Best validation loss: 0.9146162334241366\n",
      "\n",
      "Saving best model for comunication round: 9\n",
      "\n"
     ]
    },
    {
     "name": "stderr",
     "output_type": "stream",
     "text": [
      "100%|██████████| 5/5 [07:47<00:00, 93.46s/it]\n",
      "  0%|          | 0/5 [00:00<?, ?it/s]"
     ]
    },
    {
     "name": "stdout",
     "output_type": "stream",
     "text": [
      "Ages:  2\n",
      "Model 3 for Group Clients 0 and Communication round 0\n",
      "Model 4 for Group Clients 1 and Communication round 0\n",
      "Updating model in the server...\n",
      "Updating model in the server...\n",
      "Testing in the server all the models...\n",
      "0-th round, in age 2-th\n",
      "average train loss 0.417 | test loss 0.911 | test acc: 0.579\n",
      "\n",
      "Best validation loss: 0.9110941435161389\n",
      "\n",
      "Saving best model for comunication round: 10\n",
      "\n"
     ]
    },
    {
     "name": "stderr",
     "output_type": "stream",
     "text": [
      " 20%|██        | 1/5 [01:32<06:11, 92.79s/it]"
     ]
    },
    {
     "name": "stdout",
     "output_type": "stream",
     "text": [
      "Model 1 for Group Clients 0 and Communication round 1\n",
      "Model 3 for Group Clients 1 and Communication round 1\n",
      "Updating model in the server...\n",
      "Updating model in the server...\n",
      "Testing in the server all the models...\n",
      "1-th round, in age 2-th\n",
      "average train loss 0.409 | test loss 0.908 | test acc: 0.579\n",
      "\n",
      "Best validation loss: 0.9081305252878289\n",
      "\n",
      "Saving best model for comunication round: 11\n",
      "\n"
     ]
    },
    {
     "name": "stderr",
     "output_type": "stream",
     "text": [
      " 40%|████      | 2/5 [03:05<04:38, 92.84s/it]"
     ]
    },
    {
     "name": "stdout",
     "output_type": "stream",
     "text": [
      "Model 4 for Group Clients 0 and Communication round 2\n",
      "Model 1 for Group Clients 1 and Communication round 2\n",
      "Updating model in the server...\n",
      "Updating model in the server...\n",
      "Testing in the server all the models...\n",
      "2-th round, in age 2-th\n",
      "average train loss 0.406 | test loss 0.905 | test acc: 0.579\n",
      "\n",
      "Best validation loss: 0.9046781841077303\n",
      "\n",
      "Saving best model for comunication round: 12\n",
      "\n"
     ]
    },
    {
     "name": "stderr",
     "output_type": "stream",
     "text": [
      " 60%|██████    | 3/5 [04:38<03:05, 92.83s/it]"
     ]
    },
    {
     "name": "stdout",
     "output_type": "stream",
     "text": [
      "Model 2 for Group Clients 0 and Communication round 3\n",
      "Model 0 for Group Clients 1 and Communication round 3\n",
      "Updating model in the server...\n",
      "Updating model in the server...\n",
      "Testing in the server all the models...\n",
      "3-th round, in age 2-th\n",
      "average train loss 0.418 | test loss 0.9 | test acc: 0.579\n",
      "\n",
      "Best validation loss: 0.8998757211785567\n",
      "\n",
      "Saving best model for comunication round: 13\n",
      "\n"
     ]
    },
    {
     "name": "stderr",
     "output_type": "stream",
     "text": [
      " 80%|████████  | 4/5 [06:20<01:36, 96.52s/it]"
     ]
    },
    {
     "name": "stdout",
     "output_type": "stream",
     "text": [
      "Model 0 for Group Clients 0 and Communication round 4\n",
      "Model 2 for Group Clients 1 and Communication round 4\n",
      "Updating model in the server...\n",
      "Updating model in the server...\n",
      "Testing in the server all the models...\n",
      "4-th round, in age 2-th\n",
      "average train loss 0.444 | test loss 0.897 | test acc: 0.579\n",
      "Confusion Matrix:  tensor([[55.,  0.,  0.],\n",
      "        [27.,  0.,  0.],\n",
      "        [13.,  0.,  0.]])\n",
      "\n",
      "Best validation loss: 0.8974600139417146\n",
      "\n",
      "Saving best model for comunication round: 14\n",
      "\n"
     ]
    },
    {
     "name": "stderr",
     "output_type": "stream",
     "text": [
      "100%|██████████| 5/5 [08:05<00:00, 97.09s/it]\n",
      "  0%|          | 0/5 [00:00<?, ?it/s]"
     ]
    },
    {
     "name": "stdout",
     "output_type": "stream",
     "text": [
      "Ages:  3\n",
      "Model 2 for Group Clients 0 and Communication round 0\n",
      "Model 4 for Group Clients 1 and Communication round 0\n",
      "Updating model in the server...\n",
      "Updating model in the server...\n",
      "Testing in the server all the models...\n",
      "0-th round, in age 3-th\n",
      "average train loss 0.394 | test loss 0.897 | test acc: 0.579\n",
      "\n",
      "Best validation loss: 0.8966446725945724\n",
      "\n",
      "Saving best model for comunication round: 15\n",
      "\n"
     ]
    },
    {
     "name": "stderr",
     "output_type": "stream",
     "text": [
      " 20%|██        | 1/5 [01:43<06:55, 103.81s/it]"
     ]
    },
    {
     "name": "stdout",
     "output_type": "stream",
     "text": [
      "Model 1 for Group Clients 0 and Communication round 1\n",
      "Model 3 for Group Clients 1 and Communication round 1\n",
      "Updating model in the server...\n",
      "Updating model in the server...\n",
      "Testing in the server all the models...\n",
      "1-th round, in age 3-th\n",
      "average train loss 0.436 | test loss 0.894 | test acc: 0.579\n",
      "\n",
      "Best validation loss: 0.8944584896689967\n",
      "\n",
      "Saving best model for comunication round: 16\n",
      "\n"
     ]
    },
    {
     "name": "stderr",
     "output_type": "stream",
     "text": [
      " 40%|████      | 2/5 [03:31<05:17, 105.93s/it]"
     ]
    },
    {
     "name": "stdout",
     "output_type": "stream",
     "text": [
      "Model 0 for Group Clients 0 and Communication round 2\n",
      "Model 1 for Group Clients 1 and Communication round 2\n",
      "Updating model in the server...\n",
      "Updating model in the server...\n",
      "Testing in the server all the models...\n",
      "2-th round, in age 3-th\n",
      "average train loss 0.403 | test loss 0.891 | test acc: 0.579\n",
      "\n",
      "Best validation loss: 0.8912979929070723\n",
      "\n",
      "Saving best model for comunication round: 17\n",
      "\n"
     ]
    },
    {
     "name": "stderr",
     "output_type": "stream",
     "text": [
      " 60%|██████    | 3/5 [05:12<03:27, 103.80s/it]"
     ]
    },
    {
     "name": "stdout",
     "output_type": "stream",
     "text": [
      "Model 3 for Group Clients 0 and Communication round 3\n",
      "Model 2 for Group Clients 1 and Communication round 3\n",
      "Updating model in the server...\n",
      "Updating model in the server...\n",
      "Testing in the server all the models...\n",
      "3-th round, in age 3-th\n",
      "average train loss 0.375 | test loss 0.889 | test acc: 0.579\n",
      "\n",
      "Best validation loss: 0.8887826618395354\n",
      "\n",
      "Saving best model for comunication round: 18\n",
      "\n"
     ]
    },
    {
     "name": "stderr",
     "output_type": "stream",
     "text": [
      " 80%|████████  | 4/5 [06:45<01:39, 99.36s/it] "
     ]
    },
    {
     "name": "stdout",
     "output_type": "stream",
     "text": [
      "Model 4 for Group Clients 0 and Communication round 4\n",
      "Model 0 for Group Clients 1 and Communication round 4\n",
      "Updating model in the server...\n",
      "Updating model in the server...\n",
      "Testing in the server all the models...\n",
      "4-th round, in age 3-th\n",
      "average train loss 0.386 | test loss 0.884 | test acc: 0.579\n",
      "Confusion Matrix:  tensor([[55.,  0.,  0.],\n",
      "        [27.,  0.,  0.],\n",
      "        [13.,  0.,  0.]])\n",
      "\n",
      "Best validation loss: 0.8838108263517681\n",
      "\n",
      "Saving best model for comunication round: 19\n",
      "\n"
     ]
    },
    {
     "name": "stderr",
     "output_type": "stream",
     "text": [
      "100%|██████████| 5/5 [08:20<00:00, 100.18s/it]\n",
      "  0%|          | 0/5 [00:00<?, ?it/s]"
     ]
    },
    {
     "name": "stdout",
     "output_type": "stream",
     "text": [
      "Ages:  4\n",
      "Model 0 for Group Clients 0 and Communication round 0\n",
      "Model 4 for Group Clients 1 and Communication round 0\n",
      "Updating model in the server...\n",
      "Updating model in the server...\n",
      "Testing in the server all the models...\n",
      "0-th round, in age 4-th\n",
      "average train loss 0.402 | test loss 0.884 | test acc: 0.579\n",
      "\n",
      "Best validation loss: 0.8835452029579565\n",
      "\n",
      "Saving best model for comunication round: 20\n",
      "\n"
     ]
    },
    {
     "name": "stderr",
     "output_type": "stream",
     "text": [
      " 20%|██        | 1/5 [01:32<06:10, 92.58s/it]"
     ]
    },
    {
     "name": "stdout",
     "output_type": "stream",
     "text": [
      "Model 2 for Group Clients 0 and Communication round 1\n",
      "Model 1 for Group Clients 1 and Communication round 1\n",
      "Updating model in the server...\n",
      "Updating model in the server...\n",
      "Testing in the server all the models...\n",
      "1-th round, in age 4-th\n",
      "average train loss 0.398 | test loss 0.883 | test acc: 0.579\n",
      "\n",
      "Best validation loss: 0.8825012608578331\n",
      "\n",
      "Saving best model for comunication round: 21\n",
      "\n"
     ]
    },
    {
     "name": "stderr",
     "output_type": "stream",
     "text": [
      " 40%|████      | 2/5 [03:05<04:38, 92.75s/it]"
     ]
    },
    {
     "name": "stdout",
     "output_type": "stream",
     "text": [
      "Model 4 for Group Clients 0 and Communication round 2\n",
      "Model 0 for Group Clients 1 and Communication round 2\n",
      "Updating model in the server...\n",
      "Updating model in the server...\n",
      "Testing in the server all the models...\n",
      "2-th round, in age 4-th\n",
      "average train loss 0.383 | test loss 0.878 | test acc: 0.579\n",
      "\n",
      "Best validation loss: 0.8777455380088405\n",
      "\n",
      "Saving best model for comunication round: 22\n",
      "\n"
     ]
    },
    {
     "name": "stderr",
     "output_type": "stream",
     "text": [
      " 60%|██████    | 3/5 [04:40<03:07, 93.60s/it]"
     ]
    },
    {
     "name": "stdout",
     "output_type": "stream",
     "text": [
      "Model 1 for Group Clients 0 and Communication round 3\n",
      "Model 2 for Group Clients 1 and Communication round 3\n",
      "Updating model in the server...\n",
      "Updating model in the server...\n",
      "Testing in the server all the models...\n",
      "3-th round, in age 4-th\n",
      "average train loss 0.397 | test loss 0.874 | test acc: 0.579\n",
      "\n",
      "Best validation loss: 0.8741973475406044\n",
      "\n",
      "Saving best model for comunication round: 23\n",
      "\n"
     ]
    },
    {
     "name": "stderr",
     "output_type": "stream",
     "text": [
      " 80%|████████  | 4/5 [06:12<01:33, 93.22s/it]"
     ]
    },
    {
     "name": "stdout",
     "output_type": "stream",
     "text": [
      "Model 3 for Group Clients 0 and Communication round 4\n",
      "Model 3 for Group Clients 1 and Communication round 4\n",
      "Updating model in the server...\n",
      "Updating model in the server...\n",
      "Testing in the server all the models...\n",
      "4-th round, in age 4-th\n",
      "average train loss 0.39 | test loss 0.874 | test acc: 0.579\n",
      "Confusion Matrix:  tensor([[55.,  0.,  0.],\n",
      "        [27.,  0.,  0.],\n",
      "        [13.,  0.,  0.]])\n",
      "\n",
      "Best validation loss: 0.8735810932360197\n",
      "\n",
      "Saving best model for comunication round: 24\n",
      "\n"
     ]
    },
    {
     "name": "stderr",
     "output_type": "stream",
     "text": [
      "100%|██████████| 5/5 [07:46<00:00, 93.38s/it]\n",
      "  0%|          | 0/5 [00:00<?, ?it/s]"
     ]
    },
    {
     "name": "stdout",
     "output_type": "stream",
     "text": [
      "Ages:  5\n",
      "Model 4 for Group Clients 0 and Communication round 0\n",
      "Model 2 for Group Clients 1 and Communication round 0\n",
      "Updating model in the server...\n",
      "Updating model in the server...\n",
      "Testing in the server all the models...\n",
      "0-th round, in age 5-th\n",
      "average train loss 0.402 | test loss 0.872 | test acc: 0.579\n",
      "\n",
      "Best validation loss: 0.8719053168045847\n",
      "\n",
      "Saving best model for comunication round: 25\n",
      "\n"
     ]
    },
    {
     "name": "stderr",
     "output_type": "stream",
     "text": [
      " 20%|██        | 1/5 [01:35<06:20, 95.21s/it]"
     ]
    },
    {
     "name": "stdout",
     "output_type": "stream",
     "text": [
      "Model 1 for Group Clients 0 and Communication round 1\n",
      "Model 1 for Group Clients 1 and Communication round 1\n",
      "Updating model in the server...\n",
      "Updating model in the server...\n",
      "Testing in the server all the models...\n"
     ]
    },
    {
     "name": "stderr",
     "output_type": "stream",
     "text": [
      " 40%|████      | 2/5 [03:06<04:38, 92.84s/it]"
     ]
    },
    {
     "name": "stdout",
     "output_type": "stream",
     "text": [
      "1-th round, in age 5-th\n",
      "average train loss 0.422 | test loss 0.873 | test acc: 0.579\n",
      "Model 3 for Group Clients 0 and Communication round 2\n",
      "Model 0 for Group Clients 1 and Communication round 2\n",
      "Updating model in the server...\n",
      "Updating model in the server...\n",
      "Testing in the server all the models...\n"
     ]
    },
    {
     "name": "stderr",
     "output_type": "stream",
     "text": [
      " 60%|██████    | 3/5 [04:38<03:04, 92.43s/it]"
     ]
    },
    {
     "name": "stdout",
     "output_type": "stream",
     "text": [
      "2-th round, in age 5-th\n",
      "average train loss 0.379 | test loss 0.872 | test acc: 0.579\n",
      "Model 2 for Group Clients 0 and Communication round 3\n",
      "Model 3 for Group Clients 1 and Communication round 3\n",
      "Updating model in the server...\n",
      "Updating model in the server...\n",
      "Testing in the server all the models...\n",
      "3-th round, in age 5-th\n",
      "average train loss 0.382 | test loss 0.87 | test acc: 0.579\n",
      "\n",
      "Best validation loss: 0.869951709948088\n",
      "\n",
      "Saving best model for comunication round: 28\n",
      "\n"
     ]
    },
    {
     "name": "stderr",
     "output_type": "stream",
     "text": [
      " 80%|████████  | 4/5 [06:13<01:33, 93.46s/it]"
     ]
    },
    {
     "name": "stdout",
     "output_type": "stream",
     "text": [
      "Model 0 for Group Clients 0 and Communication round 4\n",
      "Model 4 for Group Clients 1 and Communication round 4\n",
      "Updating model in the server...\n",
      "Updating model in the server...\n",
      "Testing in the server all the models...\n",
      "4-th round, in age 5-th\n",
      "average train loss 0.352 | test loss 0.869 | test acc: 0.579\n",
      "Confusion Matrix:  tensor([[55.,  0.,  0.],\n",
      "        [27.,  0.,  0.],\n",
      "        [13.,  0.,  0.]])\n",
      "\n",
      "Best validation loss: 0.8689592461836966\n",
      "\n",
      "Saving best model for comunication round: 29\n",
      "\n"
     ]
    },
    {
     "name": "stderr",
     "output_type": "stream",
     "text": [
      "100%|██████████| 5/5 [07:47<00:00, 93.58s/it]\n",
      "  0%|          | 0/5 [00:00<?, ?it/s]"
     ]
    },
    {
     "name": "stdout",
     "output_type": "stream",
     "text": [
      "Ages:  6\n",
      "Model 1 for Group Clients 0 and Communication round 0\n",
      "Model 1 for Group Clients 1 and Communication round 0\n",
      "Updating model in the server...\n",
      "Updating model in the server...\n",
      "Testing in the server all the models...\n",
      "0-th round, in age 6-th\n",
      "average train loss 0.375 | test loss 0.869 | test acc: 0.579\n",
      "\n",
      "Best validation loss: 0.8689327440763774\n",
      "\n",
      "Saving best model for comunication round: 30\n",
      "\n"
     ]
    },
    {
     "name": "stderr",
     "output_type": "stream",
     "text": [
      " 20%|██        | 1/5 [01:33<06:14, 93.64s/it]"
     ]
    },
    {
     "name": "stdout",
     "output_type": "stream",
     "text": [
      "Model 2 for Group Clients 0 and Communication round 1\n",
      "Model 3 for Group Clients 1 and Communication round 1\n",
      "Updating model in the server...\n",
      "Updating model in the server...\n",
      "Testing in the server all the models...\n",
      "1-th round, in age 6-th\n",
      "average train loss 0.394 | test loss 0.866 | test acc: 0.579\n",
      "\n",
      "Best validation loss: 0.8661616275185033\n",
      "\n",
      "Saving best model for comunication round: 31\n",
      "\n"
     ]
    },
    {
     "name": "stderr",
     "output_type": "stream",
     "text": [
      " 40%|████      | 2/5 [03:10<04:45, 95.31s/it]"
     ]
    },
    {
     "name": "stdout",
     "output_type": "stream",
     "text": [
      "Model 0 for Group Clients 0 and Communication round 2\n",
      "Model 4 for Group Clients 1 and Communication round 2\n",
      "Updating model in the server...\n",
      "Updating model in the server...\n",
      "Testing in the server all the models...\n",
      "2-th round, in age 6-th\n",
      "average train loss 0.388 | test loss 0.863 | test acc: 0.579\n",
      "\n",
      "Best validation loss: 0.8633608767860814\n",
      "\n",
      "Saving best model for comunication round: 32\n",
      "\n"
     ]
    },
    {
     "name": "stderr",
     "output_type": "stream",
     "text": [
      " 60%|██████    | 3/5 [04:43<03:09, 94.54s/it]"
     ]
    },
    {
     "name": "stdout",
     "output_type": "stream",
     "text": [
      "Model 3 for Group Clients 0 and Communication round 3\n",
      "Model 2 for Group Clients 1 and Communication round 3\n",
      "Updating model in the server...\n",
      "Updating model in the server...\n",
      "Testing in the server all the models...\n",
      "3-th round, in age 6-th\n",
      "average train loss 0.379 | test loss 0.861 | test acc: 0.579\n",
      "\n",
      "Best validation loss: 0.8608908402292352\n",
      "\n",
      "Saving best model for comunication round: 33\n",
      "\n"
     ]
    },
    {
     "name": "stderr",
     "output_type": "stream",
     "text": [
      " 80%|████████  | 4/5 [06:16<01:34, 94.01s/it]"
     ]
    },
    {
     "name": "stdout",
     "output_type": "stream",
     "text": [
      "Model 4 for Group Clients 0 and Communication round 4\n",
      "Model 0 for Group Clients 1 and Communication round 4\n",
      "Updating model in the server...\n",
      "Updating model in the server...\n",
      "Testing in the server all the models...\n",
      "4-th round, in age 6-th\n",
      "average train loss 0.396 | test loss 0.856 | test acc: 0.579\n",
      "Confusion Matrix:  tensor([[55.,  0.,  0.],\n",
      "        [27.,  0.,  0.],\n",
      "        [13.,  0.,  0.]])\n",
      "\n",
      "Best validation loss: 0.8562251040810033\n",
      "\n",
      "Saving best model for comunication round: 34\n",
      "\n"
     ]
    },
    {
     "name": "stderr",
     "output_type": "stream",
     "text": [
      "100%|██████████| 5/5 [07:54<00:00, 94.88s/it]\n",
      "  0%|          | 0/5 [00:00<?, ?it/s]"
     ]
    },
    {
     "name": "stdout",
     "output_type": "stream",
     "text": [
      "Ages:  7\n",
      "Model 1 for Group Clients 0 and Communication round 0\n",
      "Model 1 for Group Clients 1 and Communication round 0\n",
      "Updating model in the server...\n",
      "Updating model in the server...\n",
      "Testing in the server all the models...\n"
     ]
    },
    {
     "name": "stderr",
     "output_type": "stream",
     "text": [
      " 20%|██        | 1/5 [01:35<06:22, 95.52s/it]"
     ]
    },
    {
     "name": "stdout",
     "output_type": "stream",
     "text": [
      "0-th round, in age 7-th\n",
      "average train loss 0.354 | test loss 0.857 | test acc: 0.579\n",
      "Model 0 for Group Clients 0 and Communication round 1\n",
      "Model 4 for Group Clients 1 and Communication round 1\n",
      "Updating model in the server...\n",
      "Updating model in the server...\n",
      "Testing in the server all the models...\n"
     ]
    },
    {
     "name": "stderr",
     "output_type": "stream",
     "text": [
      " 40%|████      | 2/5 [03:07<04:40, 93.34s/it]"
     ]
    },
    {
     "name": "stdout",
     "output_type": "stream",
     "text": [
      "1-th round, in age 7-th\n",
      "average train loss 0.391 | test loss 0.856 | test acc: 0.579\n",
      "Model 3 for Group Clients 0 and Communication round 2\n",
      "Model 0 for Group Clients 1 and Communication round 2\n",
      "Updating model in the server...\n",
      "Updating model in the server...\n",
      "Testing in the server all the models...\n",
      "2-th round, in age 7-th\n",
      "average train loss 0.407 | test loss 0.854 | test acc: 0.579\n",
      "\n",
      "Best validation loss: 0.8539510626541941\n",
      "\n",
      "Saving best model for comunication round: 37\n",
      "\n"
     ]
    },
    {
     "name": "stderr",
     "output_type": "stream",
     "text": [
      " 60%|██████    | 3/5 [04:39<03:05, 92.72s/it]"
     ]
    },
    {
     "name": "stdout",
     "output_type": "stream",
     "text": [
      "Model 4 for Group Clients 0 and Communication round 3\n",
      "Model 2 for Group Clients 1 and Communication round 3\n",
      "Updating model in the server...\n",
      "Updating model in the server...\n",
      "Testing in the server all the models...\n",
      "3-th round, in age 7-th\n",
      "average train loss 0.383 | test loss 0.849 | test acc: 0.579\n",
      "\n",
      "Best validation loss: 0.8490232367264597\n",
      "\n",
      "Saving best model for comunication round: 38\n",
      "\n"
     ]
    },
    {
     "name": "stderr",
     "output_type": "stream",
     "text": [
      " 80%|████████  | 4/5 [06:13<01:33, 93.15s/it]"
     ]
    },
    {
     "name": "stdout",
     "output_type": "stream",
     "text": [
      "Model 2 for Group Clients 0 and Communication round 4\n",
      "Model 3 for Group Clients 1 and Communication round 4\n",
      "Updating model in the server...\n",
      "Updating model in the server...\n",
      "Testing in the server all the models...\n",
      "4-th round, in age 7-th\n",
      "average train loss 0.384 | test loss 0.845 | test acc: 0.579\n",
      "Confusion Matrix:  tensor([[55.,  0.,  0.],\n",
      "        [27.,  0.,  0.],\n",
      "        [12.,  1.,  0.]])\n",
      "\n",
      "Best validation loss: 0.8450409738641036\n",
      "\n",
      "Saving best model for comunication round: 39\n",
      "\n"
     ]
    },
    {
     "name": "stderr",
     "output_type": "stream",
     "text": [
      "100%|██████████| 5/5 [07:47<00:00, 93.45s/it]\n",
      "  0%|          | 0/5 [00:00<?, ?it/s]"
     ]
    },
    {
     "name": "stdout",
     "output_type": "stream",
     "text": [
      "Ages:  8\n",
      "Model 2 for Group Clients 0 and Communication round 0\n",
      "Model 3 for Group Clients 1 and Communication round 0\n",
      "Updating model in the server...\n",
      "Updating model in the server...\n",
      "Testing in the server all the models...\n",
      "0-th round, in age 8-th\n",
      "average train loss 0.402 | test loss 0.843 | test acc: 0.579\n",
      "\n",
      "Best validation loss: 0.8428010639391448\n",
      "\n",
      "Saving best model for comunication round: 40\n",
      "\n"
     ]
    },
    {
     "name": "stderr",
     "output_type": "stream",
     "text": [
      " 20%|██        | 1/5 [01:34<06:18, 94.68s/it]"
     ]
    },
    {
     "name": "stdout",
     "output_type": "stream",
     "text": [
      "Model 0 for Group Clients 0 and Communication round 1\n",
      "Model 4 for Group Clients 1 and Communication round 1\n",
      "Updating model in the server...\n",
      "Updating model in the server...\n",
      "Testing in the server all the models...\n"
     ]
    },
    {
     "name": "stderr",
     "output_type": "stream",
     "text": [
      " 40%|████      | 2/5 [03:05<04:37, 92.39s/it]"
     ]
    },
    {
     "name": "stdout",
     "output_type": "stream",
     "text": [
      "1-th round, in age 8-th\n",
      "average train loss 0.396 | test loss 0.843 | test acc: 0.568\n",
      "Model 3 for Group Clients 0 and Communication round 2\n",
      "Model 0 for Group Clients 1 and Communication round 2\n",
      "Updating model in the server...\n",
      "Updating model in the server...\n",
      "Testing in the server all the models...\n",
      "2-th round, in age 8-th\n",
      "average train loss 0.399 | test loss 0.842 | test acc: 0.579\n",
      "\n",
      "Best validation loss: 0.8416930349249588\n",
      "\n",
      "Saving best model for comunication round: 42\n",
      "\n"
     ]
    },
    {
     "name": "stderr",
     "output_type": "stream",
     "text": [
      " 60%|██████    | 3/5 [04:40<03:07, 93.66s/it]"
     ]
    },
    {
     "name": "stdout",
     "output_type": "stream",
     "text": [
      "Model 1 for Group Clients 0 and Communication round 3\n",
      "Model 2 for Group Clients 1 and Communication round 3\n",
      "Updating model in the server...\n",
      "Updating model in the server...\n",
      "Testing in the server all the models...\n",
      "3-th round, in age 8-th\n",
      "average train loss 0.38 | test loss 0.837 | test acc: 0.632\n",
      "\n",
      "Best validation loss: 0.836567487214741\n",
      "\n",
      "Saving best model for comunication round: 43\n",
      "\n"
     ]
    },
    {
     "name": "stderr",
     "output_type": "stream",
     "text": [
      " 80%|████████  | 4/5 [06:15<01:33, 93.94s/it]"
     ]
    },
    {
     "name": "stdout",
     "output_type": "stream",
     "text": [
      "Model 4 for Group Clients 0 and Communication round 4\n",
      "Model 1 for Group Clients 1 and Communication round 4\n",
      "Updating model in the server...\n",
      "Updating model in the server...\n",
      "Testing in the server all the models...\n",
      "4-th round, in age 8-th\n",
      "average train loss 0.374 | test loss 0.832 | test acc: 0.632\n",
      "Confusion Matrix:  tensor([[54.,  1.,  0.],\n",
      "        [21.,  6.,  0.],\n",
      "        [11.,  2.,  0.]])\n",
      "\n",
      "Best validation loss: 0.8323251021535774\n",
      "\n",
      "Saving best model for comunication round: 44\n",
      "\n"
     ]
    },
    {
     "name": "stderr",
     "output_type": "stream",
     "text": [
      "100%|██████████| 5/5 [07:50<00:00, 94.06s/it]\n",
      "  0%|          | 0/5 [00:00<?, ?it/s]"
     ]
    },
    {
     "name": "stdout",
     "output_type": "stream",
     "text": [
      "Ages:  9\n",
      "Model 1 for Group Clients 0 and Communication round 0\n",
      "Model 0 for Group Clients 1 and Communication round 0\n",
      "Updating model in the server...\n",
      "Updating model in the server...\n",
      "Testing in the server all the models...\n",
      "0-th round, in age 9-th\n",
      "average train loss 0.359 | test loss 0.829 | test acc: 0.653\n",
      "\n",
      "Best validation loss: 0.8290314925344366\n",
      "\n",
      "Saving best model for comunication round: 45\n",
      "\n"
     ]
    },
    {
     "name": "stderr",
     "output_type": "stream",
     "text": [
      " 20%|██        | 1/5 [01:34<06:16, 94.22s/it]"
     ]
    },
    {
     "name": "stdout",
     "output_type": "stream",
     "text": [
      "Model 2 for Group Clients 0 and Communication round 1\n",
      "Model 3 for Group Clients 1 and Communication round 1\n",
      "Updating model in the server...\n",
      "Updating model in the server...\n",
      "Testing in the server all the models...\n",
      "1-th round, in age 9-th\n",
      "average train loss 0.399 | test loss 0.828 | test acc: 0.653\n",
      "\n",
      "Best validation loss: 0.8276714124177632\n",
      "\n",
      "Saving best model for comunication round: 46\n",
      "\n"
     ]
    },
    {
     "name": "stderr",
     "output_type": "stream",
     "text": [
      " 40%|████      | 2/5 [03:08<04:43, 94.45s/it]"
     ]
    },
    {
     "name": "stdout",
     "output_type": "stream",
     "text": [
      "Model 0 for Group Clients 0 and Communication round 2\n",
      "Model 1 for Group Clients 1 and Communication round 2\n",
      "Updating model in the server...\n",
      "Updating model in the server...\n",
      "Testing in the server all the models...\n",
      "2-th round, in age 9-th\n",
      "average train loss 0.369 | test loss 0.825 | test acc: 0.653\n",
      "\n",
      "Best validation loss: 0.8246060421592311\n",
      "\n",
      "Saving best model for comunication round: 47\n",
      "\n"
     ]
    },
    {
     "name": "stderr",
     "output_type": "stream",
     "text": [
      " 60%|██████    | 3/5 [04:45<03:10, 95.37s/it]"
     ]
    },
    {
     "name": "stdout",
     "output_type": "stream",
     "text": [
      "Model 4 for Group Clients 0 and Communication round 3\n",
      "Model 4 for Group Clients 1 and Communication round 3\n",
      "Updating model in the server...\n",
      "Updating model in the server...\n",
      "Testing in the server all the models...\n"
     ]
    },
    {
     "name": "stderr",
     "output_type": "stream",
     "text": [
      " 80%|████████  | 4/5 [06:17<01:33, 93.98s/it]"
     ]
    },
    {
     "name": "stdout",
     "output_type": "stream",
     "text": [
      "3-th round, in age 9-th\n",
      "average train loss 0.401 | test loss 0.828 | test acc: 0.653\n",
      "Model 3 for Group Clients 0 and Communication round 4\n",
      "Model 2 for Group Clients 1 and Communication round 4\n",
      "Updating model in the server...\n",
      "Updating model in the server...\n",
      "Testing in the server all the models...\n"
     ]
    },
    {
     "name": "stderr",
     "output_type": "stream",
     "text": [
      "100%|██████████| 5/5 [07:49<00:00, 93.80s/it]\n",
      "  0%|          | 0/5 [00:00<?, ?it/s]"
     ]
    },
    {
     "name": "stdout",
     "output_type": "stream",
     "text": [
      "4-th round, in age 9-th\n",
      "average train loss 0.44 | test loss 0.825 | test acc: 0.653\n",
      "Confusion Matrix:  tensor([[54.,  1.,  0.],\n",
      "        [19.,  8.,  0.],\n",
      "        [11.,  2.,  0.]])\n",
      "Ages:  10\n",
      "Model 4 for Group Clients 0 and Communication round 0\n",
      "Model 4 for Group Clients 1 and Communication round 0\n",
      "Updating model in the server...\n",
      "Updating model in the server...\n",
      "Testing in the server all the models...\n"
     ]
    },
    {
     "name": "stderr",
     "output_type": "stream",
     "text": [
      " 20%|██        | 1/5 [01:33<06:12, 93.22s/it]"
     ]
    },
    {
     "name": "stdout",
     "output_type": "stream",
     "text": [
      "0-th round, in age 10-th\n",
      "average train loss 0.391 | test loss 0.826 | test acc: 0.653\n",
      "Model 0 for Group Clients 0 and Communication round 1\n",
      "Model 2 for Group Clients 1 and Communication round 1\n",
      "Updating model in the server...\n",
      "Updating model in the server...\n",
      "Testing in the server all the models...\n"
     ]
    },
    {
     "name": "stderr",
     "output_type": "stream",
     "text": [
      " 40%|████      | 2/5 [03:06<04:40, 93.52s/it]"
     ]
    },
    {
     "name": "stdout",
     "output_type": "stream",
     "text": [
      "1-th round, in age 10-th\n",
      "average train loss 0.399 | test loss 0.826 | test acc: 0.653\n",
      "Model 1 for Group Clients 0 and Communication round 2\n",
      "Model 0 for Group Clients 1 and Communication round 2\n",
      "Updating model in the server...\n",
      "Updating model in the server...\n",
      "Testing in the server all the models...\n",
      "2-th round, in age 10-th\n",
      "average train loss 0.394 | test loss 0.824 | test acc: 0.663\n",
      "\n",
      "Best validation loss: 0.8244624890779194\n",
      "\n",
      "Saving best model for comunication round: 52\n",
      "\n"
     ]
    },
    {
     "name": "stderr",
     "output_type": "stream",
     "text": [
      " 60%|██████    | 3/5 [04:48<03:14, 97.05s/it]"
     ]
    },
    {
     "name": "stdout",
     "output_type": "stream",
     "text": [
      "Model 2 for Group Clients 0 and Communication round 3\n",
      "Model 3 for Group Clients 1 and Communication round 3\n",
      "Updating model in the server...\n",
      "Updating model in the server...\n",
      "Testing in the server all the models...\n",
      "3-th round, in age 10-th\n",
      "average train loss 0.381 | test loss 0.82 | test acc: 0.642\n",
      "\n",
      "Best validation loss: 0.8200790405273437\n",
      "\n",
      "Saving best model for comunication round: 53\n",
      "\n"
     ]
    },
    {
     "name": "stderr",
     "output_type": "stream",
     "text": [
      " 80%|████████  | 4/5 [06:28<01:38, 98.24s/it]"
     ]
    },
    {
     "name": "stdout",
     "output_type": "stream",
     "text": [
      "Model 3 for Group Clients 0 and Communication round 4\n",
      "Model 1 for Group Clients 1 and Communication round 4\n",
      "Updating model in the server...\n",
      "Updating model in the server...\n",
      "Testing in the server all the models...\n",
      "4-th round, in age 10-th\n",
      "average train loss 0.397 | test loss 0.82 | test acc: 0.642\n",
      "Confusion Matrix:  tensor([[52.,  3.,  0.],\n",
      "        [18.,  9.,  0.],\n",
      "        [10.,  3.,  0.]])\n",
      "\n",
      "Best validation loss: 0.8196183054070724\n",
      "\n",
      "Saving best model for comunication round: 54\n",
      "\n"
     ]
    },
    {
     "name": "stderr",
     "output_type": "stream",
     "text": [
      "100%|██████████| 5/5 [08:03<00:00, 96.73s/it]\n",
      "  0%|          | 0/5 [00:00<?, ?it/s]"
     ]
    },
    {
     "name": "stdout",
     "output_type": "stream",
     "text": [
      "Ages:  11\n",
      "Model 0 for Group Clients 0 and Communication round 0\n",
      "Model 0 for Group Clients 1 and Communication round 0\n",
      "Updating model in the server...\n",
      "Updating model in the server...\n",
      "Testing in the server all the models...\n"
     ]
    },
    {
     "name": "stderr",
     "output_type": "stream",
     "text": [
      " 20%|██        | 1/5 [02:33<10:13, 153.47s/it]"
     ]
    },
    {
     "name": "stdout",
     "output_type": "stream",
     "text": [
      "0-th round, in age 11-th\n",
      "average train loss 0.339 | test loss 0.821 | test acc: 0.642\n",
      "Model 3 for Group Clients 0 and Communication round 1\n",
      "Model 1 for Group Clients 1 and Communication round 1\n",
      "Updating model in the server...\n",
      "Updating model in the server...\n",
      "Testing in the server all the models...\n",
      "1-th round, in age 11-th\n",
      "average train loss 0.372 | test loss 0.818 | test acc: 0.642\n",
      "\n",
      "Best validation loss: 0.8183534722579153\n",
      "\n",
      "Saving best model for comunication round: 56\n",
      "\n"
     ]
    },
    {
     "name": "stderr",
     "output_type": "stream",
     "text": [
      " 40%|████      | 2/5 [06:01<09:16, 185.62s/it]"
     ]
    },
    {
     "name": "stdout",
     "output_type": "stream",
     "text": [
      "Model 4 for Group Clients 0 and Communication round 2\n",
      "Model 3 for Group Clients 1 and Communication round 2\n",
      "Updating model in the server...\n",
      "Updating model in the server...\n",
      "Testing in the server all the models...\n",
      "2-th round, in age 11-th\n",
      "average train loss 0.402 | test loss 0.809 | test acc: 0.642\n",
      "\n",
      "Best validation loss: 0.8093992534436678\n",
      "\n",
      "Saving best model for comunication round: 57\n",
      "\n"
     ]
    },
    {
     "name": "stderr",
     "output_type": "stream",
     "text": [
      " 60%|██████    | 3/5 [09:30<06:32, 196.41s/it]"
     ]
    },
    {
     "name": "stdout",
     "output_type": "stream",
     "text": [
      "Model 2 for Group Clients 0 and Communication round 3\n",
      "Model 4 for Group Clients 1 and Communication round 3\n",
      "Updating model in the server...\n",
      "Updating model in the server...\n",
      "Testing in the server all the models...\n"
     ]
    },
    {
     "name": "stderr",
     "output_type": "stream",
     "text": [
      " 80%|████████  | 4/5 [12:49<03:17, 197.46s/it]"
     ]
    },
    {
     "name": "stdout",
     "output_type": "stream",
     "text": [
      "3-th round, in age 11-th\n",
      "average train loss 0.354 | test loss 0.813 | test acc: 0.642\n",
      "Model 1 for Group Clients 0 and Communication round 4\n",
      "Model 2 for Group Clients 1 and Communication round 4\n",
      "Updating model in the server...\n",
      "Updating model in the server...\n",
      "Testing in the server all the models...\n",
      "4-th round, in age 11-th\n",
      "average train loss 0.344 | test loss 0.809 | test acc: 0.653\n",
      "Confusion Matrix:  tensor([[48.,  7.,  0.],\n",
      "        [13., 14.,  0.],\n",
      "        [ 8.,  5.,  0.]])\n",
      "\n",
      "Best validation loss: 0.8088475277549342\n",
      "\n",
      "Saving best model for comunication round: 59\n",
      "\n"
     ]
    },
    {
     "name": "stderr",
     "output_type": "stream",
     "text": [
      "100%|██████████| 5/5 [14:24<00:00, 172.93s/it]\n",
      "  0%|          | 0/5 [00:00<?, ?it/s]"
     ]
    },
    {
     "name": "stdout",
     "output_type": "stream",
     "text": [
      "Ages:  12\n",
      "Model 1 for Group Clients 0 and Communication round 0\n",
      "Model 3 for Group Clients 1 and Communication round 0\n",
      "Updating model in the server...\n",
      "Updating model in the server...\n",
      "Testing in the server all the models...\n",
      "0-th round, in age 12-th\n",
      "average train loss 0.36 | test loss 0.807 | test acc: 0.642\n",
      "\n",
      "Best validation loss: 0.8069515830592106\n",
      "\n",
      "Saving best model for comunication round: 60\n",
      "\n"
     ]
    },
    {
     "name": "stderr",
     "output_type": "stream",
     "text": [
      " 20%|██        | 1/5 [01:35<06:22, 95.51s/it]"
     ]
    },
    {
     "name": "stdout",
     "output_type": "stream",
     "text": [
      "Model 3 for Group Clients 0 and Communication round 1\n",
      "Model 0 for Group Clients 1 and Communication round 1\n",
      "Updating model in the server...\n",
      "Updating model in the server...\n",
      "Testing in the server all the models...\n",
      "1-th round, in age 12-th\n",
      "average train loss 0.338 | test loss 0.804 | test acc: 0.674\n",
      "\n",
      "Best validation loss: 0.8040794372558594\n",
      "\n",
      "Saving best model for comunication round: 61\n",
      "\n"
     ]
    },
    {
     "name": "stderr",
     "output_type": "stream",
     "text": [
      " 40%|████      | 2/5 [03:09<04:43, 94.37s/it]"
     ]
    },
    {
     "name": "stdout",
     "output_type": "stream",
     "text": [
      "Model 0 for Group Clients 0 and Communication round 2\n",
      "Model 2 for Group Clients 1 and Communication round 2\n",
      "Updating model in the server...\n",
      "Updating model in the server...\n",
      "Testing in the server all the models...\n",
      "2-th round, in age 12-th\n",
      "average train loss 0.367 | test loss 0.796 | test acc: 0.663\n",
      "\n",
      "Best validation loss: 0.7960567675138774\n",
      "\n",
      "Saving best model for comunication round: 62\n",
      "\n"
     ]
    },
    {
     "name": "stderr",
     "output_type": "stream",
     "text": [
      " 60%|██████    | 3/5 [04:44<03:09, 94.64s/it]"
     ]
    },
    {
     "name": "stdout",
     "output_type": "stream",
     "text": [
      "Model 2 for Group Clients 0 and Communication round 3\n",
      "Model 1 for Group Clients 1 and Communication round 3\n",
      "Updating model in the server...\n",
      "Updating model in the server...\n",
      "Testing in the server all the models...\n",
      "3-th round, in age 12-th\n",
      "average train loss 0.388 | test loss 0.79 | test acc: 0.663\n",
      "\n",
      "Best validation loss: 0.7898195367110403\n",
      "\n",
      "Saving best model for comunication round: 63\n",
      "\n"
     ]
    },
    {
     "name": "stderr",
     "output_type": "stream",
     "text": [
      " 80%|████████  | 4/5 [06:18<01:34, 94.63s/it]"
     ]
    },
    {
     "name": "stdout",
     "output_type": "stream",
     "text": [
      "Model 4 for Group Clients 0 and Communication round 4\n",
      "Model 4 for Group Clients 1 and Communication round 4\n",
      "Updating model in the server...\n",
      "Updating model in the server...\n",
      "Testing in the server all the models...\n"
     ]
    },
    {
     "name": "stderr",
     "output_type": "stream",
     "text": [
      "100%|██████████| 5/5 [07:51<00:00, 94.22s/it]\n",
      "  0%|          | 0/5 [00:00<?, ?it/s]"
     ]
    },
    {
     "name": "stdout",
     "output_type": "stream",
     "text": [
      "4-th round, in age 12-th\n",
      "average train loss 0.349 | test loss 0.791 | test acc: 0.674\n",
      "Confusion Matrix:  tensor([[49.,  6.,  0.],\n",
      "        [12., 15.,  0.],\n",
      "        [ 9.,  4.,  0.]])\n",
      "Ages:  13\n",
      "Model 0 for Group Clients 0 and Communication round 0\n",
      "Model 3 for Group Clients 1 and Communication round 0\n",
      "Updating model in the server...\n",
      "Updating model in the server...\n",
      "Testing in the server all the models...\n"
     ]
    },
    {
     "name": "stderr",
     "output_type": "stream",
     "text": [
      " 20%|██        | 1/5 [01:32<06:10, 92.72s/it]"
     ]
    },
    {
     "name": "stdout",
     "output_type": "stream",
     "text": [
      "0-th round, in age 13-th\n",
      "average train loss 0.349 | test loss 0.791 | test acc: 0.674\n",
      "Model 4 for Group Clients 0 and Communication round 1\n",
      "Model 4 for Group Clients 1 and Communication round 1\n",
      "Updating model in the server...\n",
      "Updating model in the server...\n",
      "Testing in the server all the models...\n"
     ]
    },
    {
     "name": "stderr",
     "output_type": "stream",
     "text": [
      " 40%|████      | 2/5 [03:04<04:36, 92.07s/it]"
     ]
    },
    {
     "name": "stdout",
     "output_type": "stream",
     "text": [
      "1-th round, in age 13-th\n",
      "average train loss 0.362 | test loss 0.793 | test acc: 0.674\n",
      "Model 3 for Group Clients 0 and Communication round 2\n",
      "Model 1 for Group Clients 1 and Communication round 2\n",
      "Updating model in the server...\n",
      "Updating model in the server...\n",
      "Testing in the server all the models...\n",
      "2-th round, in age 13-th\n",
      "average train loss 0.359 | test loss 0.789 | test acc: 0.674\n",
      "\n",
      "Best validation loss: 0.7890869542172081\n",
      "\n",
      "Saving best model for comunication round: 67\n",
      "\n"
     ]
    },
    {
     "name": "stderr",
     "output_type": "stream",
     "text": [
      " 60%|██████    | 3/5 [04:39<03:07, 93.70s/it]"
     ]
    },
    {
     "name": "stdout",
     "output_type": "stream",
     "text": [
      "Model 2 for Group Clients 0 and Communication round 3\n",
      "Model 2 for Group Clients 1 and Communication round 3\n",
      "Updating model in the server...\n",
      "Updating model in the server...\n",
      "Testing in the server all the models...\n"
     ]
    },
    {
     "name": "stderr",
     "output_type": "stream",
     "text": [
      " 80%|████████  | 4/5 [06:12<01:33, 93.07s/it]"
     ]
    },
    {
     "name": "stdout",
     "output_type": "stream",
     "text": [
      "3-th round, in age 13-th\n",
      "average train loss 0.365 | test loss 0.793 | test acc: 0.674\n",
      "Model 1 for Group Clients 0 and Communication round 4\n",
      "Model 0 for Group Clients 1 and Communication round 4\n",
      "Updating model in the server...\n",
      "Updating model in the server...\n",
      "Testing in the server all the models...\n"
     ]
    },
    {
     "name": "stderr",
     "output_type": "stream",
     "text": [
      "100%|██████████| 5/5 [07:43<00:00, 92.75s/it]\n",
      "  0%|          | 0/5 [00:00<?, ?it/s]"
     ]
    },
    {
     "name": "stdout",
     "output_type": "stream",
     "text": [
      "4-th round, in age 13-th\n",
      "average train loss 0.303 | test loss 0.793 | test acc: 0.663\n",
      "Confusion Matrix:  tensor([[48.,  7.,  0.],\n",
      "        [12., 15.,  0.],\n",
      "        [ 8.,  5.,  0.]])\n",
      "Ages:  14\n",
      "Model 3 for Group Clients 0 and Communication round 0\n",
      "Model 2 for Group Clients 1 and Communication round 0\n",
      "Updating model in the server...\n",
      "Updating model in the server...\n",
      "Testing in the server all the models...\n"
     ]
    },
    {
     "name": "stderr",
     "output_type": "stream",
     "text": [
      " 20%|██        | 1/5 [01:32<06:11, 92.75s/it]"
     ]
    },
    {
     "name": "stdout",
     "output_type": "stream",
     "text": [
      "0-th round, in age 14-th\n",
      "average train loss 0.333 | test loss 0.793 | test acc: 0.674\n",
      "Model 1 for Group Clients 0 and Communication round 1\n",
      "Model 1 for Group Clients 1 and Communication round 1\n",
      "Updating model in the server...\n",
      "Updating model in the server...\n",
      "Testing in the server all the models...\n"
     ]
    },
    {
     "name": "stderr",
     "output_type": "stream",
     "text": [
      " 40%|████      | 2/5 [03:08<04:43, 94.39s/it]"
     ]
    },
    {
     "name": "stdout",
     "output_type": "stream",
     "text": [
      "1-th round, in age 14-th\n",
      "average train loss 0.403 | test loss 0.797 | test acc: 0.674\n",
      "Model 4 for Group Clients 0 and Communication round 2\n",
      "Model 0 for Group Clients 1 and Communication round 2\n",
      "Updating model in the server...\n",
      "Updating model in the server...\n",
      "Testing in the server all the models...\n",
      "2-th round, in age 14-th\n",
      "average train loss 0.296 | test loss 0.785 | test acc: 0.674\n",
      "\n",
      "Best validation loss: 0.7853053042763158\n",
      "\n",
      "Saving best model for comunication round: 72\n",
      "\n"
     ]
    },
    {
     "name": "stderr",
     "output_type": "stream",
     "text": [
      " 60%|██████    | 3/5 [04:47<03:13, 96.54s/it]"
     ]
    },
    {
     "name": "stdout",
     "output_type": "stream",
     "text": [
      "Model 0 for Group Clients 0 and Communication round 3\n",
      "Model 4 for Group Clients 1 and Communication round 3\n",
      "Updating model in the server...\n",
      "Updating model in the server...\n",
      "Testing in the server all the models...\n",
      "3-th round, in age 14-th\n",
      "average train loss 0.332 | test loss 0.781 | test acc: 0.663\n",
      "\n",
      "Best validation loss: 0.7813463712993421\n",
      "\n",
      "Saving best model for comunication round: 73\n",
      "\n"
     ]
    },
    {
     "name": "stderr",
     "output_type": "stream",
     "text": [
      " 80%|████████  | 4/5 [06:22<01:35, 95.83s/it]"
     ]
    },
    {
     "name": "stdout",
     "output_type": "stream",
     "text": [
      "Model 2 for Group Clients 0 and Communication round 4\n",
      "Model 3 for Group Clients 1 and Communication round 4\n",
      "Updating model in the server...\n",
      "Updating model in the server...\n",
      "Testing in the server all the models...\n",
      "4-th round, in age 14-th\n",
      "average train loss 0.374 | test loss 0.773 | test acc: 0.663\n",
      "Confusion Matrix:  tensor([[47.,  8.,  0.],\n",
      "        [11., 16.,  0.],\n",
      "        [ 6.,  7.,  0.]])\n",
      "\n",
      "Best validation loss: 0.7730182848478618\n",
      "\n",
      "Saving best model for comunication round: 74\n",
      "\n"
     ]
    },
    {
     "name": "stderr",
     "output_type": "stream",
     "text": [
      "100%|██████████| 5/5 [07:58<00:00, 95.75s/it]\n",
      "  0%|          | 0/5 [00:00<?, ?it/s]"
     ]
    },
    {
     "name": "stdout",
     "output_type": "stream",
     "text": [
      "Ages:  15\n",
      "Model 2 for Group Clients 0 and Communication round 0\n",
      "Model 4 for Group Clients 1 and Communication round 0\n",
      "Updating model in the server...\n",
      "Updating model in the server...\n",
      "Testing in the server all the models...\n",
      "0-th round, in age 15-th\n",
      "average train loss 0.301 | test loss 0.773 | test acc: 0.674\n",
      "\n",
      "Best validation loss: 0.7726040890342311\n",
      "\n",
      "Saving best model for comunication round: 75\n",
      "\n"
     ]
    },
    {
     "name": "stderr",
     "output_type": "stream",
     "text": [
      " 20%|██        | 1/5 [01:34<06:16, 94.07s/it]"
     ]
    },
    {
     "name": "stdout",
     "output_type": "stream",
     "text": [
      "Model 0 for Group Clients 0 and Communication round 1\n",
      "Model 2 for Group Clients 1 and Communication round 1\n",
      "Updating model in the server...\n",
      "Updating model in the server...\n",
      "Testing in the server all the models...\n"
     ]
    },
    {
     "name": "stderr",
     "output_type": "stream",
     "text": [
      " 40%|████      | 2/5 [03:05<04:36, 92.29s/it]"
     ]
    },
    {
     "name": "stdout",
     "output_type": "stream",
     "text": [
      "1-th round, in age 15-th\n",
      "average train loss 0.341 | test loss 0.78 | test acc: 0.674\n",
      "Model 1 for Group Clients 0 and Communication round 2\n",
      "Model 3 for Group Clients 1 and Communication round 2\n",
      "Updating model in the server...\n",
      "Updating model in the server...\n",
      "Testing in the server all the models...\n"
     ]
    },
    {
     "name": "stderr",
     "output_type": "stream",
     "text": [
      " 60%|██████    | 3/5 [04:37<03:04, 92.11s/it]"
     ]
    },
    {
     "name": "stdout",
     "output_type": "stream",
     "text": [
      "2-th round, in age 15-th\n",
      "average train loss 0.322 | test loss 0.775 | test acc: 0.674\n",
      "Model 3 for Group Clients 0 and Communication round 3\n",
      "Model 0 for Group Clients 1 and Communication round 3\n",
      "Updating model in the server...\n",
      "Updating model in the server...\n",
      "Testing in the server all the models...\n"
     ]
    },
    {
     "name": "stderr",
     "output_type": "stream",
     "text": [
      " 80%|████████  | 4/5 [06:16<01:35, 95.01s/it]"
     ]
    },
    {
     "name": "stdout",
     "output_type": "stream",
     "text": [
      "3-th round, in age 15-th\n",
      "average train loss 0.275 | test loss 0.777 | test acc: 0.663\n",
      "Model 4 for Group Clients 0 and Communication round 4\n",
      "Model 1 for Group Clients 1 and Communication round 4\n",
      "Updating model in the server...\n",
      "Updating model in the server...\n",
      "Testing in the server all the models...\n",
      "4-th round, in age 15-th\n",
      "average train loss 0.36 | test loss 0.766 | test acc: 0.663\n",
      "Confusion Matrix:  tensor([[46.,  9.,  0.],\n",
      "        [10., 17.,  0.],\n",
      "        [ 6.,  7.,  0.]])\n",
      "\n",
      "Best validation loss: 0.7656208239103618\n",
      "\n",
      "Saving best model for comunication round: 79\n",
      "\n"
     ]
    },
    {
     "name": "stderr",
     "output_type": "stream",
     "text": [
      "100%|██████████| 5/5 [07:52<00:00, 94.44s/it]\n",
      "  0%|          | 0/5 [00:00<?, ?it/s]"
     ]
    },
    {
     "name": "stdout",
     "output_type": "stream",
     "text": [
      "Ages:  16\n",
      "Model 3 for Group Clients 0 and Communication round 0\n",
      "Model 2 for Group Clients 1 and Communication round 0\n",
      "Updating model in the server...\n",
      "Updating model in the server...\n",
      "Testing in the server all the models...\n"
     ]
    },
    {
     "name": "stderr",
     "output_type": "stream",
     "text": [
      " 20%|██        | 1/5 [01:30<06:02, 90.58s/it]"
     ]
    },
    {
     "name": "stdout",
     "output_type": "stream",
     "text": [
      "0-th round, in age 16-th\n",
      "average train loss 0.319 | test loss 0.769 | test acc: 0.674\n",
      "Model 1 for Group Clients 0 and Communication round 1\n",
      "Model 4 for Group Clients 1 and Communication round 1\n",
      "Updating model in the server...\n",
      "Updating model in the server...\n",
      "Testing in the server all the models...\n"
     ]
    },
    {
     "name": "stderr",
     "output_type": "stream",
     "text": [
      " 40%|████      | 2/5 [03:03<04:35, 91.99s/it]"
     ]
    },
    {
     "name": "stdout",
     "output_type": "stream",
     "text": [
      "1-th round, in age 16-th\n",
      "average train loss 0.291 | test loss 0.773 | test acc: 0.684\n",
      "Model 4 for Group Clients 0 and Communication round 2\n",
      "Model 0 for Group Clients 1 and Communication round 2\n",
      "Updating model in the server...\n",
      "Updating model in the server...\n",
      "Testing in the server all the models...\n",
      "2-th round, in age 16-th\n",
      "average train loss 0.284 | test loss 0.76 | test acc: 0.674\n",
      "\n",
      "Best validation loss: 0.7597243459601152\n",
      "\n",
      "Saving best model for comunication round: 82\n",
      "\n"
     ]
    },
    {
     "name": "stderr",
     "output_type": "stream",
     "text": [
      " 60%|██████    | 3/5 [04:38<03:06, 93.49s/it]"
     ]
    },
    {
     "name": "stdout",
     "output_type": "stream",
     "text": [
      "Model 2 for Group Clients 0 and Communication round 3\n",
      "Model 3 for Group Clients 1 and Communication round 3\n",
      "Updating model in the server...\n",
      "Updating model in the server...\n",
      "Testing in the server all the models...\n",
      "3-th round, in age 16-th\n",
      "average train loss 0.326 | test loss 0.751 | test acc: 0.674\n",
      "\n",
      "Best validation loss: 0.7508148193359375\n",
      "\n",
      "Saving best model for comunication round: 83\n",
      "\n"
     ]
    },
    {
     "name": "stderr",
     "output_type": "stream",
     "text": [
      " 80%|████████  | 4/5 [06:13<01:33, 93.84s/it]"
     ]
    },
    {
     "name": "stdout",
     "output_type": "stream",
     "text": [
      "Model 0 for Group Clients 0 and Communication round 4\n",
      "Model 1 for Group Clients 1 and Communication round 4\n",
      "Updating model in the server...\n",
      "Updating model in the server...\n",
      "Testing in the server all the models...\n",
      "4-th round, in age 16-th\n",
      "average train loss 0.34 | test loss 0.74 | test acc: 0.674\n",
      "Confusion Matrix:  tensor([[46.,  9.,  0.],\n",
      "        [ 9., 18.,  0.],\n",
      "        [ 5.,  8.,  0.]])\n",
      "\n",
      "Best validation loss: 0.7400084244577508\n",
      "\n",
      "Saving best model for comunication round: 84\n",
      "\n"
     ]
    },
    {
     "name": "stderr",
     "output_type": "stream",
     "text": [
      "100%|██████████| 5/5 [07:47<00:00, 93.41s/it]\n",
      "  0%|          | 0/5 [00:00<?, ?it/s]"
     ]
    },
    {
     "name": "stdout",
     "output_type": "stream",
     "text": [
      "Ages:  17\n",
      "Model 3 for Group Clients 0 and Communication round 0\n",
      "Model 1 for Group Clients 1 and Communication round 0\n",
      "Updating model in the server...\n",
      "Updating model in the server...\n",
      "Testing in the server all the models...\n",
      "0-th round, in age 17-th\n",
      "average train loss 0.33 | test loss 0.728 | test acc: 0.674\n",
      "\n",
      "Best validation loss: 0.7275244060315584\n",
      "\n",
      "Saving best model for comunication round: 85\n",
      "\n"
     ]
    },
    {
     "name": "stderr",
     "output_type": "stream",
     "text": [
      " 20%|██        | 1/5 [01:33<06:13, 93.35s/it]"
     ]
    },
    {
     "name": "stdout",
     "output_type": "stream",
     "text": [
      "Model 1 for Group Clients 0 and Communication round 1\n",
      "Model 3 for Group Clients 1 and Communication round 1\n",
      "Updating model in the server...\n",
      "Updating model in the server...\n",
      "Testing in the server all the models...\n"
     ]
    },
    {
     "name": "stderr",
     "output_type": "stream",
     "text": [
      " 40%|████      | 2/5 [03:06<04:39, 93.10s/it]"
     ]
    },
    {
     "name": "stdout",
     "output_type": "stream",
     "text": [
      "1-th round, in age 17-th\n",
      "average train loss 0.294 | test loss 0.729 | test acc: 0.674\n",
      "Model 2 for Group Clients 0 and Communication round 2\n",
      "Model 4 for Group Clients 1 and Communication round 2\n",
      "Updating model in the server...\n",
      "Updating model in the server...\n",
      "Testing in the server all the models...\n"
     ]
    },
    {
     "name": "stderr",
     "output_type": "stream",
     "text": [
      " 60%|██████    | 3/5 [06:34<04:51, 145.62s/it]"
     ]
    },
    {
     "name": "stdout",
     "output_type": "stream",
     "text": [
      "2-th round, in age 17-th\n",
      "average train loss 0.275 | test loss 0.743 | test acc: 0.684\n",
      "Model 4 for Group Clients 0 and Communication round 3\n",
      "Model 0 for Group Clients 1 and Communication round 3\n",
      "Updating model in the server...\n",
      "Updating model in the server...\n",
      "Testing in the server all the models...\n"
     ]
    },
    {
     "name": "stderr",
     "output_type": "stream",
     "text": [
      " 80%|████████  | 4/5 [09:49<02:45, 165.14s/it]"
     ]
    },
    {
     "name": "stdout",
     "output_type": "stream",
     "text": [
      "3-th round, in age 17-th\n",
      "average train loss 0.295 | test loss 0.74 | test acc: 0.684\n",
      "Model 0 for Group Clients 0 and Communication round 4\n",
      "Model 2 for Group Clients 1 and Communication round 4\n",
      "Updating model in the server...\n",
      "Updating model in the server...\n",
      "Testing in the server all the models...\n"
     ]
    },
    {
     "name": "stderr",
     "output_type": "stream",
     "text": [
      "100%|██████████| 5/5 [13:12<00:00, 158.47s/it]\n",
      "  0%|          | 0/5 [00:00<?, ?it/s]"
     ]
    },
    {
     "name": "stdout",
     "output_type": "stream",
     "text": [
      "4-th round, in age 17-th\n",
      "average train loss 0.315 | test loss 0.743 | test acc: 0.695\n",
      "Confusion Matrix:  tensor([[46.,  9.,  0.],\n",
      "        [ 7., 20.,  0.],\n",
      "        [ 5.,  8.,  0.]])\n",
      "Ages:  18\n",
      "Model 0 for Group Clients 0 and Communication round 0\n",
      "Model 4 for Group Clients 1 and Communication round 0\n",
      "Updating model in the server...\n",
      "Updating model in the server...\n",
      "Testing in the server all the models...\n"
     ]
    },
    {
     "name": "stderr",
     "output_type": "stream",
     "text": [
      " 20%|██        | 1/5 [03:33<14:14, 213.52s/it]"
     ]
    },
    {
     "name": "stdout",
     "output_type": "stream",
     "text": [
      "0-th round, in age 18-th\n",
      "average train loss 0.308 | test loss 0.761 | test acc: 0.684\n",
      "Model 3 for Group Clients 0 and Communication round 1\n",
      "Model 3 for Group Clients 1 and Communication round 1\n",
      "Updating model in the server...\n",
      "Updating model in the server...\n",
      "Testing in the server all the models...\n"
     ]
    },
    {
     "name": "stderr",
     "output_type": "stream",
     "text": [
      " 40%|████      | 2/5 [05:03<07:01, 140.66s/it]"
     ]
    },
    {
     "name": "stdout",
     "output_type": "stream",
     "text": [
      "1-th round, in age 18-th\n",
      "average train loss 0.247 | test loss 0.762 | test acc: 0.695\n",
      "Model 4 for Group Clients 0 and Communication round 2\n",
      "Model 1 for Group Clients 1 and Communication round 2\n",
      "Updating model in the server...\n",
      "Updating model in the server...\n",
      "Testing in the server all the models...\n"
     ]
    },
    {
     "name": "stderr",
     "output_type": "stream",
     "text": [
      " 60%|██████    | 3/5 [06:32<03:54, 117.22s/it]"
     ]
    },
    {
     "name": "stdout",
     "output_type": "stream",
     "text": [
      "2-th round, in age 18-th\n",
      "average train loss 0.307 | test loss 0.751 | test acc: 0.695\n",
      "Model 2 for Group Clients 0 and Communication round 3\n",
      "Model 0 for Group Clients 1 and Communication round 3\n",
      "Updating model in the server...\n",
      "Updating model in the server...\n",
      "Testing in the server all the models...\n"
     ]
    },
    {
     "name": "stderr",
     "output_type": "stream",
     "text": [
      " 80%|████████  | 4/5 [08:05<01:47, 107.59s/it]"
     ]
    },
    {
     "name": "stdout",
     "output_type": "stream",
     "text": [
      "3-th round, in age 18-th\n",
      "average train loss 0.273 | test loss 0.746 | test acc: 0.695\n",
      "Model 1 for Group Clients 0 and Communication round 4\n",
      "Model 2 for Group Clients 1 and Communication round 4\n",
      "Updating model in the server...\n",
      "Updating model in the server...\n",
      "Testing in the server all the models...\n"
     ]
    },
    {
     "name": "stderr",
     "output_type": "stream",
     "text": [
      "100%|██████████| 5/5 [09:35<00:00, 115.15s/it]\n",
      "  0%|          | 0/5 [00:00<?, ?it/s]"
     ]
    },
    {
     "name": "stdout",
     "output_type": "stream",
     "text": [
      "4-th round, in age 18-th\n",
      "average train loss 0.299 | test loss 0.756 | test acc: 0.663\n",
      "Confusion Matrix:  tensor([[43., 12.,  0.],\n",
      "        [ 7., 20.,  0.],\n",
      "        [ 4.,  9.,  0.]])\n",
      "Ages:  19\n",
      "Model 4 for Group Clients 0 and Communication round 0\n",
      "Model 2 for Group Clients 1 and Communication round 0\n",
      "Updating model in the server...\n",
      "Updating model in the server...\n",
      "Testing in the server all the models...\n"
     ]
    },
    {
     "name": "stderr",
     "output_type": "stream",
     "text": [
      " 20%|██        | 1/5 [01:30<06:03, 90.92s/it]"
     ]
    },
    {
     "name": "stdout",
     "output_type": "stream",
     "text": [
      "0-th round, in age 19-th\n",
      "average train loss 0.24 | test loss 0.757 | test acc: 0.684\n",
      "Model 2 for Group Clients 0 and Communication round 1\n",
      "Model 4 for Group Clients 1 and Communication round 1\n",
      "Updating model in the server...\n",
      "Updating model in the server...\n",
      "Testing in the server all the models...\n"
     ]
    },
    {
     "name": "stderr",
     "output_type": "stream",
     "text": [
      " 40%|████      | 2/5 [03:10<04:47, 95.78s/it]"
     ]
    },
    {
     "name": "stdout",
     "output_type": "stream",
     "text": [
      "1-th round, in age 19-th\n",
      "average train loss 0.338 | test loss 0.752 | test acc: 0.684\n",
      "Model 3 for Group Clients 0 and Communication round 2\n",
      "Model 0 for Group Clients 1 and Communication round 2\n",
      "Updating model in the server...\n",
      "Updating model in the server...\n",
      "Testing in the server all the models...\n"
     ]
    },
    {
     "name": "stderr",
     "output_type": "stream",
     "text": [
      " 60%|██████    | 3/5 [04:47<03:13, 96.70s/it]"
     ]
    },
    {
     "name": "stdout",
     "output_type": "stream",
     "text": [
      "2-th round, in age 19-th\n",
      "average train loss 0.226 | test loss 0.738 | test acc: 0.695\n",
      "Model 1 for Group Clients 0 and Communication round 3\n",
      "Model 1 for Group Clients 1 and Communication round 3\n",
      "Updating model in the server...\n",
      "Updating model in the server...\n",
      "Testing in the server all the models...\n"
     ]
    },
    {
     "name": "stderr",
     "output_type": "stream",
     "text": [
      " 80%|████████  | 4/5 [06:18<01:34, 94.26s/it]"
     ]
    },
    {
     "name": "stdout",
     "output_type": "stream",
     "text": [
      "3-th round, in age 19-th\n",
      "average train loss 0.292 | test loss 0.749 | test acc: 0.695\n",
      "Model 0 for Group Clients 0 and Communication round 4\n",
      "Model 3 for Group Clients 1 and Communication round 4\n",
      "Updating model in the server...\n",
      "Updating model in the server...\n",
      "Testing in the server all the models...\n"
     ]
    },
    {
     "name": "stderr",
     "output_type": "stream",
     "text": [
      "100%|██████████| 5/5 [07:51<00:00, 94.26s/it]\n",
      "  0%|          | 0/5 [00:00<?, ?it/s]"
     ]
    },
    {
     "name": "stdout",
     "output_type": "stream",
     "text": [
      "4-th round, in age 19-th\n",
      "average train loss 0.279 | test loss 0.745 | test acc: 0.695\n",
      "Confusion Matrix:  tensor([[45., 10.,  0.],\n",
      "        [ 6., 21.,  0.],\n",
      "        [ 4.,  9.,  0.]])\n",
      "Ages:  20\n",
      "Model 0 for Group Clients 0 and Communication round 0\n",
      "Model 0 for Group Clients 1 and Communication round 0\n",
      "Updating model in the server...\n",
      "Updating model in the server...\n",
      "Testing in the server all the models...\n"
     ]
    },
    {
     "name": "stderr",
     "output_type": "stream",
     "text": [
      " 20%|██        | 1/5 [01:40<06:41, 100.49s/it]"
     ]
    },
    {
     "name": "stdout",
     "output_type": "stream",
     "text": [
      "0-th round, in age 20-th\n",
      "average train loss 0.267 | test loss 0.767 | test acc: 0.653\n",
      "Model 2 for Group Clients 0 and Communication round 1\n",
      "Model 4 for Group Clients 1 and Communication round 1\n",
      "Updating model in the server...\n",
      "Updating model in the server...\n",
      "Testing in the server all the models...\n"
     ]
    },
    {
     "name": "stderr",
     "output_type": "stream",
     "text": [
      " 40%|████      | 2/5 [03:08<04:39, 93.16s/it] "
     ]
    },
    {
     "name": "stdout",
     "output_type": "stream",
     "text": [
      "1-th round, in age 20-th\n",
      "average train loss 0.277 | test loss 0.758 | test acc: 0.663\n",
      "Model 4 for Group Clients 0 and Communication round 2\n",
      "Model 1 for Group Clients 1 and Communication round 2\n",
      "Updating model in the server...\n",
      "Updating model in the server...\n",
      "Testing in the server all the models...\n"
     ]
    },
    {
     "name": "stderr",
     "output_type": "stream",
     "text": [
      " 60%|██████    | 3/5 [04:38<03:02, 91.48s/it]"
     ]
    },
    {
     "name": "stdout",
     "output_type": "stream",
     "text": [
      "2-th round, in age 20-th\n",
      "average train loss 0.269 | test loss 0.74 | test acc: 0.674\n",
      "Model 1 for Group Clients 0 and Communication round 3\n",
      "Model 3 for Group Clients 1 and Communication round 3\n",
      "Updating model in the server...\n",
      "Updating model in the server...\n",
      "Testing in the server all the models...\n",
      "3-th round, in age 20-th\n",
      "average train loss 0.275 | test loss 0.725 | test acc: 0.695\n",
      "\n",
      "Best validation loss: 0.7250100386770149\n",
      "\n",
      "Saving best model for comunication round: 103\n",
      "\n"
     ]
    },
    {
     "name": "stderr",
     "output_type": "stream",
     "text": [
      " 80%|████████  | 4/5 [06:10<01:31, 91.80s/it]"
     ]
    },
    {
     "name": "stdout",
     "output_type": "stream",
     "text": [
      "Model 3 for Group Clients 0 and Communication round 4\n",
      "Model 2 for Group Clients 1 and Communication round 4\n",
      "Updating model in the server...\n",
      "Updating model in the server...\n",
      "Testing in the server all the models...\n"
     ]
    },
    {
     "name": "stderr",
     "output_type": "stream",
     "text": [
      "100%|██████████| 5/5 [07:39<00:00, 91.90s/it]\n",
      "  0%|          | 0/5 [00:00<?, ?it/s]"
     ]
    },
    {
     "name": "stdout",
     "output_type": "stream",
     "text": [
      "4-th round, in age 20-th\n",
      "average train loss 0.277 | test loss 0.738 | test acc: 0.684\n",
      "Confusion Matrix:  tensor([[45., 10.,  0.],\n",
      "        [ 7., 20.,  0.],\n",
      "        [ 4.,  9.,  0.]])\n",
      "Ages:  21\n",
      "Model 3 for Group Clients 0 and Communication round 0\n",
      "Model 4 for Group Clients 1 and Communication round 0\n",
      "Updating model in the server...\n",
      "Updating model in the server...\n",
      "Testing in the server all the models...\n"
     ]
    },
    {
     "name": "stderr",
     "output_type": "stream",
     "text": [
      " 20%|██        | 1/5 [01:28<05:54, 88.58s/it]"
     ]
    },
    {
     "name": "stdout",
     "output_type": "stream",
     "text": [
      "0-th round, in age 21-th\n",
      "average train loss 0.257 | test loss 0.762 | test acc: 0.653\n",
      "Model 0 for Group Clients 0 and Communication round 1\n",
      "Model 3 for Group Clients 1 and Communication round 1\n",
      "Updating model in the server...\n",
      "Updating model in the server...\n",
      "Testing in the server all the models...\n"
     ]
    },
    {
     "name": "stderr",
     "output_type": "stream",
     "text": [
      " 40%|████      | 2/5 [02:58<04:28, 89.44s/it]"
     ]
    },
    {
     "name": "stdout",
     "output_type": "stream",
     "text": [
      "1-th round, in age 21-th\n",
      "average train loss 0.256 | test loss 0.759 | test acc: 0.674\n",
      "Model 1 for Group Clients 0 and Communication round 2\n",
      "Model 1 for Group Clients 1 and Communication round 2\n",
      "Updating model in the server...\n",
      "Updating model in the server...\n",
      "Testing in the server all the models...\n"
     ]
    },
    {
     "name": "stderr",
     "output_type": "stream",
     "text": [
      " 60%|██████    | 3/5 [04:28<02:59, 89.82s/it]"
     ]
    },
    {
     "name": "stdout",
     "output_type": "stream",
     "text": [
      "2-th round, in age 21-th\n",
      "average train loss 0.303 | test loss 0.776 | test acc: 0.674\n",
      "Model 4 for Group Clients 0 and Communication round 3\n",
      "Model 2 for Group Clients 1 and Communication round 3\n",
      "Updating model in the server...\n",
      "Updating model in the server...\n",
      "Testing in the server all the models...\n"
     ]
    },
    {
     "name": "stderr",
     "output_type": "stream",
     "text": [
      " 80%|████████  | 4/5 [05:57<01:29, 89.52s/it]"
     ]
    },
    {
     "name": "stdout",
     "output_type": "stream",
     "text": [
      "3-th round, in age 21-th\n",
      "average train loss 0.244 | test loss 0.748 | test acc: 0.653\n",
      "Model 2 for Group Clients 0 and Communication round 4\n",
      "Model 0 for Group Clients 1 and Communication round 4\n",
      "Updating model in the server...\n",
      "Updating model in the server...\n",
      "Testing in the server all the models...\n"
     ]
    },
    {
     "name": "stderr",
     "output_type": "stream",
     "text": [
      "100%|██████████| 5/5 [07:27<00:00, 89.48s/it]\n",
      "  0%|          | 0/5 [00:00<?, ?it/s]"
     ]
    },
    {
     "name": "stdout",
     "output_type": "stream",
     "text": [
      "4-th round, in age 21-th\n",
      "average train loss 0.248 | test loss 0.733 | test acc: 0.674\n",
      "Confusion Matrix:  tensor([[44., 11.,  0.],\n",
      "        [ 7., 20.,  0.],\n",
      "        [ 4.,  9.,  0.]])\n",
      "Ages:  22\n",
      "Model 1 for Group Clients 0 and Communication round 0\n",
      "Model 4 for Group Clients 1 and Communication round 0\n",
      "Updating model in the server...\n",
      "Updating model in the server...\n",
      "Testing in the server all the models...\n"
     ]
    },
    {
     "name": "stderr",
     "output_type": "stream",
     "text": [
      " 20%|██        | 1/5 [01:30<06:01, 90.33s/it]"
     ]
    },
    {
     "name": "stdout",
     "output_type": "stream",
     "text": [
      "0-th round, in age 22-th\n",
      "average train loss 0.232 | test loss 0.749 | test acc: 0.653\n",
      "Model 3 for Group Clients 0 and Communication round 1\n",
      "Model 0 for Group Clients 1 and Communication round 1\n",
      "Updating model in the server...\n",
      "Updating model in the server...\n",
      "Testing in the server all the models...\n"
     ]
    },
    {
     "name": "stderr",
     "output_type": "stream",
     "text": [
      " 40%|████      | 2/5 [03:00<04:30, 90.23s/it]"
     ]
    },
    {
     "name": "stdout",
     "output_type": "stream",
     "text": [
      "1-th round, in age 22-th\n",
      "average train loss 0.245 | test loss 0.727 | test acc: 0.705\n",
      "Model 4 for Group Clients 0 and Communication round 2\n",
      "Model 2 for Group Clients 1 and Communication round 2\n",
      "Updating model in the server...\n",
      "Updating model in the server...\n",
      "Testing in the server all the models...\n"
     ]
    },
    {
     "name": "stderr",
     "output_type": "stream",
     "text": [
      " 60%|██████    | 3/5 [04:29<02:59, 89.78s/it]"
     ]
    },
    {
     "name": "stdout",
     "output_type": "stream",
     "text": [
      "2-th round, in age 22-th\n",
      "average train loss 0.219 | test loss 0.737 | test acc: 0.684\n",
      "Model 0 for Group Clients 0 and Communication round 3\n",
      "Model 1 for Group Clients 1 and Communication round 3\n",
      "Updating model in the server...\n",
      "Updating model in the server...\n",
      "Testing in the server all the models...\n",
      "3-th round, in age 22-th\n",
      "average train loss 0.292 | test loss 0.721 | test acc: 0.716\n",
      "\n",
      "Best validation loss: 0.720555315519634\n",
      "\n",
      "Saving best model for comunication round: 113\n",
      "\n"
     ]
    },
    {
     "name": "stderr",
     "output_type": "stream",
     "text": [
      " 80%|████████  | 4/5 [06:07<01:32, 92.99s/it]"
     ]
    },
    {
     "name": "stdout",
     "output_type": "stream",
     "text": [
      "Model 2 for Group Clients 0 and Communication round 4\n",
      "Model 3 for Group Clients 1 and Communication round 4\n",
      "Updating model in the server...\n",
      "Updating model in the server...\n",
      "Testing in the server all the models...\n",
      "4-th round, in age 22-th\n",
      "average train loss 0.218 | test loss 0.71 | test acc: 0.695\n",
      "Confusion Matrix:  tensor([[44., 11.,  0.],\n",
      "        [ 5., 22.,  0.],\n",
      "        [ 4.,  9.,  0.]])\n",
      "\n",
      "Best validation loss: 0.7095025313527961\n",
      "\n",
      "Saving best model for comunication round: 114\n",
      "\n"
     ]
    },
    {
     "name": "stderr",
     "output_type": "stream",
     "text": [
      "100%|██████████| 5/5 [07:51<00:00, 94.24s/it]\n",
      "  0%|          | 0/5 [00:00<?, ?it/s]"
     ]
    },
    {
     "name": "stdout",
     "output_type": "stream",
     "text": [
      "Ages:  23\n",
      "Model 1 for Group Clients 0 and Communication round 0\n",
      "Model 0 for Group Clients 1 and Communication round 0\n",
      "Updating model in the server...\n",
      "Updating model in the server...\n",
      "Testing in the server all the models...\n"
     ]
    },
    {
     "name": "stderr",
     "output_type": "stream",
     "text": [
      " 20%|██        | 1/5 [01:39<06:36, 99.10s/it]"
     ]
    },
    {
     "name": "stdout",
     "output_type": "stream",
     "text": [
      "0-th round, in age 23-th\n",
      "average train loss 0.194 | test loss 0.722 | test acc: 0.684\n",
      "Model 2 for Group Clients 0 and Communication round 1\n",
      "Model 1 for Group Clients 1 and Communication round 1\n",
      "Updating model in the server...\n",
      "Updating model in the server...\n",
      "Testing in the server all the models...\n"
     ]
    },
    {
     "name": "stderr",
     "output_type": "stream",
     "text": [
      " 40%|████      | 2/5 [03:16<04:54, 98.32s/it]"
     ]
    },
    {
     "name": "stdout",
     "output_type": "stream",
     "text": [
      "1-th round, in age 23-th\n",
      "average train loss 0.249 | test loss 0.746 | test acc: 0.674\n",
      "Model 4 for Group Clients 0 and Communication round 2\n",
      "Model 4 for Group Clients 1 and Communication round 2\n",
      "Updating model in the server...\n",
      "Updating model in the server...\n",
      "Testing in the server all the models...\n"
     ]
    },
    {
     "name": "stderr",
     "output_type": "stream",
     "text": [
      " 60%|██████    | 3/5 [05:07<03:27, 103.84s/it]"
     ]
    },
    {
     "name": "stdout",
     "output_type": "stream",
     "text": [
      "2-th round, in age 23-th\n",
      "average train loss 0.222 | test loss 0.776 | test acc: 0.653\n",
      "Model 3 for Group Clients 0 and Communication round 3\n",
      "Model 3 for Group Clients 1 and Communication round 3\n",
      "Updating model in the server...\n",
      "Updating model in the server...\n",
      "Testing in the server all the models...\n"
     ]
    },
    {
     "name": "stderr",
     "output_type": "stream",
     "text": [
      " 80%|████████  | 4/5 [06:43<01:40, 100.96s/it]"
     ]
    },
    {
     "name": "stdout",
     "output_type": "stream",
     "text": [
      "3-th round, in age 23-th\n",
      "average train loss 0.222 | test loss 0.777 | test acc: 0.653\n",
      "Model 0 for Group Clients 0 and Communication round 4\n",
      "Model 2 for Group Clients 1 and Communication round 4\n",
      "Updating model in the server...\n",
      "Updating model in the server...\n",
      "Testing in the server all the models...\n"
     ]
    },
    {
     "name": "stderr",
     "output_type": "stream",
     "text": [
      "100%|██████████| 5/5 [08:31<00:00, 102.23s/it]\n",
      "  0%|          | 0/5 [00:00<?, ?it/s]"
     ]
    },
    {
     "name": "stdout",
     "output_type": "stream",
     "text": [
      "4-th round, in age 23-th\n",
      "average train loss 0.196 | test loss 0.781 | test acc: 0.663\n",
      "Confusion Matrix:  tensor([[41., 14.,  0.],\n",
      "        [ 5., 22.,  0.],\n",
      "        [ 4.,  9.,  0.]])\n",
      "Ages:  24\n",
      "Model 1 for Group Clients 0 and Communication round 0\n",
      "Model 3 for Group Clients 1 and Communication round 0\n",
      "Updating model in the server...\n",
      "Updating model in the server...\n",
      "Testing in the server all the models...\n"
     ]
    },
    {
     "name": "stderr",
     "output_type": "stream",
     "text": [
      " 20%|██        | 1/5 [01:33<06:13, 93.33s/it]"
     ]
    },
    {
     "name": "stdout",
     "output_type": "stream",
     "text": [
      "0-th round, in age 24-th\n",
      "average train loss 0.147 | test loss 0.767 | test acc: 0.684\n",
      "Model 0 for Group Clients 0 and Communication round 1\n",
      "Model 2 for Group Clients 1 and Communication round 1\n",
      "Updating model in the server...\n",
      "Updating model in the server...\n",
      "Testing in the server all the models...\n"
     ]
    },
    {
     "name": "stderr",
     "output_type": "stream",
     "text": [
      " 40%|████      | 2/5 [03:05<04:37, 92.66s/it]"
     ]
    },
    {
     "name": "stdout",
     "output_type": "stream",
     "text": [
      "1-th round, in age 24-th\n",
      "average train loss 0.166 | test loss 0.771 | test acc: 0.695\n",
      "Model 4 for Group Clients 0 and Communication round 2\n",
      "Model 0 for Group Clients 1 and Communication round 2\n",
      "Updating model in the server...\n",
      "Updating model in the server...\n",
      "Testing in the server all the models...\n"
     ]
    },
    {
     "name": "stderr",
     "output_type": "stream",
     "text": [
      " 60%|██████    | 3/5 [04:36<03:03, 92.00s/it]"
     ]
    },
    {
     "name": "stdout",
     "output_type": "stream",
     "text": [
      "2-th round, in age 24-th\n",
      "average train loss 0.184 | test loss 0.771 | test acc: 0.684\n",
      "Model 3 for Group Clients 0 and Communication round 3\n",
      "Model 4 for Group Clients 1 and Communication round 3\n",
      "Updating model in the server...\n",
      "Updating model in the server...\n",
      "Testing in the server all the models...\n"
     ]
    },
    {
     "name": "stderr",
     "output_type": "stream",
     "text": [
      " 80%|████████  | 4/5 [06:06<01:31, 91.08s/it]"
     ]
    },
    {
     "name": "stdout",
     "output_type": "stream",
     "text": [
      "3-th round, in age 24-th\n",
      "average train loss 0.219 | test loss 0.775 | test acc: 0.674\n",
      "Model 2 for Group Clients 0 and Communication round 4\n",
      "Model 1 for Group Clients 1 and Communication round 4\n",
      "Updating model in the server...\n",
      "Updating model in the server...\n",
      "Testing in the server all the models...\n"
     ]
    },
    {
     "name": "stderr",
     "output_type": "stream",
     "text": [
      "100%|██████████| 5/5 [07:36<00:00, 91.25s/it]\n",
      "  0%|          | 0/5 [00:00<?, ?it/s]"
     ]
    },
    {
     "name": "stdout",
     "output_type": "stream",
     "text": [
      "4-th round, in age 24-th\n",
      "average train loss 0.247 | test loss 0.735 | test acc: 0.674\n",
      "Confusion Matrix:  tensor([[42., 13.,  0.],\n",
      "        [ 5., 22.,  0.],\n",
      "        [ 3., 10.,  0.]])\n",
      "Ages:  25\n",
      "Model 4 for Group Clients 0 and Communication round 0\n",
      "Model 4 for Group Clients 1 and Communication round 0\n",
      "Updating model in the server...\n",
      "Updating model in the server...\n",
      "Testing in the server all the models...\n"
     ]
    },
    {
     "name": "stderr",
     "output_type": "stream",
     "text": [
      " 20%|██        | 1/5 [01:29<05:57, 89.35s/it]"
     ]
    },
    {
     "name": "stdout",
     "output_type": "stream",
     "text": [
      "0-th round, in age 25-th\n",
      "average train loss 0.175 | test loss 0.734 | test acc: 0.684\n",
      "Model 3 for Group Clients 0 and Communication round 1\n",
      "Model 3 for Group Clients 1 and Communication round 1\n",
      "Updating model in the server...\n",
      "Updating model in the server...\n",
      "Testing in the server all the models...\n"
     ]
    },
    {
     "name": "stderr",
     "output_type": "stream",
     "text": [
      " 40%|████      | 2/5 [02:59<04:29, 89.74s/it]"
     ]
    },
    {
     "name": "stdout",
     "output_type": "stream",
     "text": [
      "1-th round, in age 25-th\n",
      "average train loss 0.193 | test loss 0.765 | test acc: 0.663\n",
      "Model 2 for Group Clients 0 and Communication round 2\n",
      "Model 2 for Group Clients 1 and Communication round 2\n",
      "Updating model in the server...\n",
      "Updating model in the server...\n",
      "Testing in the server all the models...\n"
     ]
    },
    {
     "name": "stderr",
     "output_type": "stream",
     "text": [
      " 60%|██████    | 3/5 [04:29<02:59, 89.82s/it]"
     ]
    },
    {
     "name": "stdout",
     "output_type": "stream",
     "text": [
      "2-th round, in age 25-th\n",
      "average train loss 0.192 | test loss 0.827 | test acc: 0.642\n",
      "Model 0 for Group Clients 0 and Communication round 3\n",
      "Model 1 for Group Clients 1 and Communication round 3\n",
      "Updating model in the server...\n",
      "Updating model in the server...\n",
      "Testing in the server all the models...\n"
     ]
    },
    {
     "name": "stderr",
     "output_type": "stream",
     "text": [
      " 80%|████████  | 4/5 [05:57<01:29, 89.23s/it]"
     ]
    },
    {
     "name": "stdout",
     "output_type": "stream",
     "text": [
      "3-th round, in age 25-th\n",
      "average train loss 0.223 | test loss 0.789 | test acc: 0.663\n",
      "Model 1 for Group Clients 0 and Communication round 4\n",
      "Model 0 for Group Clients 1 and Communication round 4\n",
      "Updating model in the server...\n",
      "Updating model in the server...\n",
      "Testing in the server all the models...\n"
     ]
    },
    {
     "name": "stderr",
     "output_type": "stream",
     "text": [
      "100%|██████████| 5/5 [07:28<00:00, 89.68s/it]\n",
      "  0%|          | 0/5 [00:00<?, ?it/s]"
     ]
    },
    {
     "name": "stdout",
     "output_type": "stream",
     "text": [
      "4-th round, in age 25-th\n",
      "average train loss 0.183 | test loss 0.798 | test acc: 0.663\n",
      "Confusion Matrix:  tensor([[41., 14.,  0.],\n",
      "        [ 5., 22.,  0.],\n",
      "        [ 4.,  9.,  0.]])\n",
      "Ages:  26\n",
      "Model 3 for Group Clients 0 and Communication round 0\n",
      "Model 3 for Group Clients 1 and Communication round 0\n",
      "Updating model in the server...\n",
      "Updating model in the server...\n",
      "Testing in the server all the models...\n"
     ]
    },
    {
     "name": "stderr",
     "output_type": "stream",
     "text": [
      " 20%|██        | 1/5 [01:28<05:54, 88.52s/it]"
     ]
    },
    {
     "name": "stdout",
     "output_type": "stream",
     "text": [
      "0-th round, in age 26-th\n",
      "average train loss 0.159 | test loss 0.8 | test acc: 0.663\n",
      "Model 4 for Group Clients 0 and Communication round 1\n",
      "Model 4 for Group Clients 1 and Communication round 1\n",
      "Updating model in the server...\n",
      "Updating model in the server...\n",
      "Testing in the server all the models...\n"
     ]
    },
    {
     "name": "stderr",
     "output_type": "stream",
     "text": [
      " 40%|████      | 2/5 [03:00<04:30, 90.32s/it]"
     ]
    },
    {
     "name": "stdout",
     "output_type": "stream",
     "text": [
      "1-th round, in age 26-th\n",
      "average train loss 0.143 | test loss 0.807 | test acc: 0.663\n",
      "Model 1 for Group Clients 0 and Communication round 2\n",
      "Model 0 for Group Clients 1 and Communication round 2\n",
      "Updating model in the server...\n",
      "Updating model in the server...\n",
      "Testing in the server all the models...\n"
     ]
    },
    {
     "name": "stderr",
     "output_type": "stream",
     "text": [
      " 60%|██████    | 3/5 [04:28<02:59, 89.62s/it]"
     ]
    },
    {
     "name": "stdout",
     "output_type": "stream",
     "text": [
      "2-th round, in age 26-th\n",
      "average train loss 0.148 | test loss 0.815 | test acc: 0.653\n",
      "Model 0 for Group Clients 0 and Communication round 3\n",
      "Model 2 for Group Clients 1 and Communication round 3\n",
      "Updating model in the server...\n",
      "Updating model in the server...\n",
      "Testing in the server all the models...\n"
     ]
    },
    {
     "name": "stderr",
     "output_type": "stream",
     "text": [
      " 80%|████████  | 4/5 [05:58<01:29, 89.57s/it]"
     ]
    },
    {
     "name": "stdout",
     "output_type": "stream",
     "text": [
      "3-th round, in age 26-th\n",
      "average train loss 0.132 | test loss 0.767 | test acc: 0.716\n",
      "Model 2 for Group Clients 0 and Communication round 4\n",
      "Model 1 for Group Clients 1 and Communication round 4\n",
      "Updating model in the server...\n",
      "Updating model in the server...\n",
      "Testing in the server all the models...\n"
     ]
    },
    {
     "name": "stderr",
     "output_type": "stream",
     "text": [
      "100%|██████████| 5/5 [07:29<00:00, 89.89s/it]\n",
      "  0%|          | 0/5 [00:00<?, ?it/s]"
     ]
    },
    {
     "name": "stdout",
     "output_type": "stream",
     "text": [
      "4-th round, in age 26-th\n",
      "average train loss 0.233 | test loss 0.743 | test acc: 0.726\n",
      "Confusion Matrix:  tensor([[47.,  8.,  0.],\n",
      "        [ 5., 22.,  0.],\n",
      "        [ 5.,  8.,  0.]])\n",
      "Ages:  27\n",
      "Model 0 for Group Clients 0 and Communication round 0\n",
      "Model 1 for Group Clients 1 and Communication round 0\n",
      "Updating model in the server...\n",
      "Updating model in the server...\n",
      "Testing in the server all the models...\n"
     ]
    },
    {
     "name": "stderr",
     "output_type": "stream",
     "text": [
      " 20%|██        | 1/5 [01:30<06:01, 90.34s/it]"
     ]
    },
    {
     "name": "stdout",
     "output_type": "stream",
     "text": [
      "0-th round, in age 27-th\n",
      "average train loss 0.209 | test loss 0.743 | test acc: 0.726\n",
      "Model 3 for Group Clients 0 and Communication round 1\n",
      "Model 2 for Group Clients 1 and Communication round 1\n",
      "Updating model in the server...\n",
      "Updating model in the server...\n",
      "Testing in the server all the models...\n"
     ]
    },
    {
     "name": "stderr",
     "output_type": "stream",
     "text": [
      " 40%|████      | 2/5 [03:00<04:29, 89.98s/it]"
     ]
    },
    {
     "name": "stdout",
     "output_type": "stream",
     "text": [
      "1-th round, in age 27-th\n",
      "average train loss 0.15 | test loss 0.747 | test acc: 0.705\n",
      "Model 4 for Group Clients 0 and Communication round 2\n",
      "Model 0 for Group Clients 1 and Communication round 2\n",
      "Updating model in the server...\n",
      "Updating model in the server...\n",
      "Testing in the server all the models...\n"
     ]
    },
    {
     "name": "stderr",
     "output_type": "stream",
     "text": [
      " 60%|██████    | 3/5 [04:29<02:59, 89.60s/it]"
     ]
    },
    {
     "name": "stdout",
     "output_type": "stream",
     "text": [
      "2-th round, in age 27-th\n",
      "average train loss 0.163 | test loss 0.751 | test acc: 0.674\n",
      "Model 2 for Group Clients 0 and Communication round 3\n",
      "Model 4 for Group Clients 1 and Communication round 3\n",
      "Updating model in the server...\n",
      "Updating model in the server...\n",
      "Testing in the server all the models...\n"
     ]
    },
    {
     "name": "stderr",
     "output_type": "stream",
     "text": [
      " 80%|████████  | 4/5 [05:58<01:29, 89.55s/it]"
     ]
    },
    {
     "name": "stdout",
     "output_type": "stream",
     "text": [
      "3-th round, in age 27-th\n",
      "average train loss 0.166 | test loss 0.746 | test acc: 0.674\n",
      "Model 1 for Group Clients 0 and Communication round 4\n",
      "Model 3 for Group Clients 1 and Communication round 4\n",
      "Updating model in the server...\n",
      "Updating model in the server...\n",
      "Testing in the server all the models...\n"
     ]
    },
    {
     "name": "stderr",
     "output_type": "stream",
     "text": [
      "100%|██████████| 5/5 [07:29<00:00, 89.92s/it]\n",
      "  0%|          | 0/5 [00:00<?, ?it/s]"
     ]
    },
    {
     "name": "stdout",
     "output_type": "stream",
     "text": [
      "4-th round, in age 27-th\n",
      "average train loss 0.214 | test loss 0.746 | test acc: 0.674\n",
      "Confusion Matrix:  tensor([[42., 13.,  0.],\n",
      "        [ 5., 22.,  0.],\n",
      "        [ 4.,  9.,  0.]])\n",
      "Ages:  28\n",
      "Model 0 for Group Clients 0 and Communication round 0\n",
      "Model 2 for Group Clients 1 and Communication round 0\n",
      "Updating model in the server...\n",
      "Updating model in the server...\n",
      "Testing in the server all the models...\n"
     ]
    },
    {
     "name": "stderr",
     "output_type": "stream",
     "text": [
      " 20%|██        | 1/5 [01:31<06:04, 91.18s/it]"
     ]
    },
    {
     "name": "stdout",
     "output_type": "stream",
     "text": [
      "0-th round, in age 28-th\n",
      "average train loss 0.134 | test loss 0.787 | test acc: 0.674\n",
      "Model 1 for Group Clients 0 and Communication round 1\n",
      "Model 3 for Group Clients 1 and Communication round 1\n",
      "Updating model in the server...\n",
      "Updating model in the server...\n",
      "Testing in the server all the models...\n"
     ]
    },
    {
     "name": "stderr",
     "output_type": "stream",
     "text": [
      " 40%|████      | 2/5 [03:02<04:33, 91.29s/it]"
     ]
    },
    {
     "name": "stdout",
     "output_type": "stream",
     "text": [
      "1-th round, in age 28-th\n",
      "average train loss 0.163 | test loss 0.792 | test acc: 0.674\n",
      "Model 2 for Group Clients 0 and Communication round 2\n",
      "Model 0 for Group Clients 1 and Communication round 2\n",
      "Updating model in the server...\n",
      "Updating model in the server...\n",
      "Testing in the server all the models...\n"
     ]
    },
    {
     "name": "stderr",
     "output_type": "stream",
     "text": [
      " 60%|██████    | 3/5 [04:39<03:07, 93.71s/it]"
     ]
    },
    {
     "name": "stdout",
     "output_type": "stream",
     "text": [
      "2-th round, in age 28-th\n",
      "average train loss 0.144 | test loss 0.734 | test acc: 0.684\n",
      "Model 3 for Group Clients 0 and Communication round 3\n",
      "Model 1 for Group Clients 1 and Communication round 3\n",
      "Updating model in the server...\n",
      "Updating model in the server...\n",
      "Testing in the server all the models...\n"
     ]
    },
    {
     "name": "stderr",
     "output_type": "stream",
     "text": [
      " 80%|████████  | 4/5 [06:19<01:36, 96.37s/it]"
     ]
    },
    {
     "name": "stdout",
     "output_type": "stream",
     "text": [
      "3-th round, in age 28-th\n",
      "average train loss 0.189 | test loss 0.732 | test acc: 0.695\n",
      "Model 4 for Group Clients 0 and Communication round 4\n",
      "Model 4 for Group Clients 1 and Communication round 4\n",
      "Updating model in the server...\n",
      "Updating model in the server...\n",
      "Testing in the server all the models...\n"
     ]
    },
    {
     "name": "stderr",
     "output_type": "stream",
     "text": [
      "100%|██████████| 5/5 [07:53<00:00, 94.64s/it]\n",
      "  0%|          | 0/5 [00:00<?, ?it/s]"
     ]
    },
    {
     "name": "stdout",
     "output_type": "stream",
     "text": [
      "4-th round, in age 28-th\n",
      "average train loss 0.148 | test loss 0.737 | test acc: 0.705\n",
      "Confusion Matrix:  tensor([[45., 10.,  0.],\n",
      "        [ 5., 22.,  0.],\n",
      "        [ 4.,  9.,  0.]])\n",
      "Ages:  29\n",
      "Model 3 for Group Clients 0 and Communication round 0\n",
      "Model 2 for Group Clients 1 and Communication round 0\n",
      "Updating model in the server...\n",
      "Updating model in the server...\n",
      "Testing in the server all the models...\n"
     ]
    },
    {
     "name": "stderr",
     "output_type": "stream",
     "text": [
      " 20%|██        | 1/5 [01:29<05:58, 89.63s/it]"
     ]
    },
    {
     "name": "stdout",
     "output_type": "stream",
     "text": [
      "0-th round, in age 29-th\n",
      "average train loss 0.122 | test loss 0.789 | test acc: 0.663\n",
      "Model 2 for Group Clients 0 and Communication round 1\n",
      "Model 4 for Group Clients 1 and Communication round 1\n",
      "Updating model in the server...\n",
      "Updating model in the server...\n",
      "Testing in the server all the models...\n"
     ]
    },
    {
     "name": "stderr",
     "output_type": "stream",
     "text": [
      " 40%|████      | 2/5 [02:59<04:29, 89.90s/it]"
     ]
    },
    {
     "name": "stdout",
     "output_type": "stream",
     "text": [
      "1-th round, in age 29-th\n",
      "average train loss 0.118 | test loss 0.726 | test acc: 0.716\n",
      "Model 4 for Group Clients 0 and Communication round 2\n",
      "Model 0 for Group Clients 1 and Communication round 2\n",
      "Updating model in the server...\n",
      "Updating model in the server...\n",
      "Testing in the server all the models...\n",
      "2-th round, in age 29-th\n",
      "average train loss 0.131 | test loss 0.704 | test acc: 0.716\n",
      "\n",
      "Best validation loss: 0.7042538693076685\n",
      "\n",
      "Saving best model for comunication round: 147\n",
      "\n"
     ]
    },
    {
     "name": "stderr",
     "output_type": "stream",
     "text": [
      " 60%|██████    | 3/5 [04:31<03:01, 90.96s/it]"
     ]
    },
    {
     "name": "stdout",
     "output_type": "stream",
     "text": [
      "Model 1 for Group Clients 0 and Communication round 3\n",
      "Model 1 for Group Clients 1 and Communication round 3\n",
      "Updating model in the server...\n",
      "Updating model in the server...\n",
      "Testing in the server all the models...\n"
     ]
    },
    {
     "name": "stderr",
     "output_type": "stream",
     "text": [
      " 80%|████████  | 4/5 [06:02<01:30, 90.72s/it]"
     ]
    },
    {
     "name": "stdout",
     "output_type": "stream",
     "text": [
      "3-th round, in age 29-th\n",
      "average train loss 0.167 | test loss 0.706 | test acc: 0.716\n",
      "Model 0 for Group Clients 0 and Communication round 4\n",
      "Model 3 for Group Clients 1 and Communication round 4\n",
      "Updating model in the server...\n",
      "Updating model in the server...\n",
      "Testing in the server all the models...\n",
      "4-th round, in age 29-th\n",
      "average train loss 0.142 | test loss 0.697 | test acc: 0.716\n",
      "Confusion Matrix:  tensor([[45., 10.,  0.],\n",
      "        [ 4., 23.,  0.],\n",
      "        [ 4.,  9.,  0.]])\n",
      "\n",
      "Best validation loss: 0.6967862179404811\n",
      "\n",
      "Saving best model for comunication round: 149\n",
      "\n"
     ]
    },
    {
     "name": "stderr",
     "output_type": "stream",
     "text": [
      "100%|██████████| 5/5 [07:34<00:00, 90.83s/it]\n",
      "  0%|          | 0/5 [00:00<?, ?it/s]"
     ]
    },
    {
     "name": "stdout",
     "output_type": "stream",
     "text": [
      "Ages:  30\n",
      "Model 1 for Group Clients 0 and Communication round 0\n",
      "Model 4 for Group Clients 1 and Communication round 0\n",
      "Updating model in the server...\n",
      "Updating model in the server...\n",
      "Testing in the server all the models...\n",
      "0-th round, in age 30-th\n",
      "average train loss 0.133 | test loss 0.695 | test acc: 0.716\n",
      "\n",
      "Best validation loss: 0.6949833317806846\n",
      "\n",
      "Saving best model for comunication round: 150\n",
      "\n"
     ]
    },
    {
     "name": "stderr",
     "output_type": "stream",
     "text": [
      " 20%|██        | 1/5 [01:31<06:07, 91.81s/it]"
     ]
    },
    {
     "name": "stdout",
     "output_type": "stream",
     "text": [
      "Model 0 for Group Clients 0 and Communication round 1\n",
      "Model 2 for Group Clients 1 and Communication round 1\n",
      "Updating model in the server...\n",
      "Updating model in the server...\n",
      "Testing in the server all the models...\n"
     ]
    },
    {
     "name": "stderr",
     "output_type": "stream",
     "text": [
      " 40%|████      | 2/5 [03:01<04:32, 90.80s/it]"
     ]
    },
    {
     "name": "stdout",
     "output_type": "stream",
     "text": [
      "1-th round, in age 30-th\n",
      "average train loss 0.104 | test loss 0.772 | test acc: 0.674\n",
      "Model 3 for Group Clients 0 and Communication round 2\n",
      "Model 0 for Group Clients 1 and Communication round 2\n",
      "Updating model in the server...\n",
      "Updating model in the server...\n",
      "Testing in the server all the models...\n"
     ]
    },
    {
     "name": "stderr",
     "output_type": "stream",
     "text": [
      " 60%|██████    | 3/5 [04:32<03:01, 90.63s/it]"
     ]
    },
    {
     "name": "stdout",
     "output_type": "stream",
     "text": [
      "2-th round, in age 30-th\n",
      "average train loss 0.107 | test loss 0.784 | test acc: 0.684\n",
      "Model 4 for Group Clients 0 and Communication round 3\n",
      "Model 3 for Group Clients 1 and Communication round 3\n",
      "Updating model in the server...\n",
      "Updating model in the server...\n",
      "Testing in the server all the models...\n"
     ]
    },
    {
     "name": "stderr",
     "output_type": "stream",
     "text": [
      " 80%|████████  | 4/5 [06:03<01:30, 90.74s/it]"
     ]
    },
    {
     "name": "stdout",
     "output_type": "stream",
     "text": [
      "3-th round, in age 30-th\n",
      "average train loss 0.135 | test loss 0.783 | test acc: 0.674\n",
      "Model 2 for Group Clients 0 and Communication round 4\n",
      "Model 1 for Group Clients 1 and Communication round 4\n",
      "Updating model in the server...\n",
      "Updating model in the server...\n",
      "Testing in the server all the models...\n"
     ]
    },
    {
     "name": "stderr",
     "output_type": "stream",
     "text": [
      "100%|██████████| 5/5 [07:33<00:00, 90.62s/it]\n",
      "  0%|          | 0/5 [00:00<?, ?it/s]"
     ]
    },
    {
     "name": "stdout",
     "output_type": "stream",
     "text": [
      "4-th round, in age 30-th\n",
      "average train loss 0.171 | test loss 0.742 | test acc: 0.695\n",
      "Confusion Matrix:  tensor([[45., 10.,  0.],\n",
      "        [ 6., 21.,  0.],\n",
      "        [ 4.,  9.,  0.]])\n",
      "Ages:  31\n",
      "Model 1 for Group Clients 0 and Communication round 0\n",
      "Model 2 for Group Clients 1 and Communication round 0\n",
      "Updating model in the server...\n",
      "Updating model in the server...\n",
      "Testing in the server all the models...\n"
     ]
    },
    {
     "name": "stderr",
     "output_type": "stream",
     "text": [
      " 20%|██        | 1/5 [01:29<05:58, 89.60s/it]"
     ]
    },
    {
     "name": "stdout",
     "output_type": "stream",
     "text": [
      "0-th round, in age 31-th\n",
      "average train loss 0.0977 | test loss 0.752 | test acc: 0.684\n",
      "Model 2 for Group Clients 0 and Communication round 1\n",
      "Model 3 for Group Clients 1 and Communication round 1\n",
      "Updating model in the server...\n",
      "Updating model in the server...\n",
      "Testing in the server all the models...\n",
      "1-th round, in age 31-th\n",
      "average train loss 0.108 | test loss 0.691 | test acc: 0.716\n",
      "\n",
      "Best validation loss: 0.6909623798571135\n",
      "\n",
      "Saving best model for comunication round: 156\n",
      "\n"
     ]
    },
    {
     "name": "stderr",
     "output_type": "stream",
     "text": [
      " 40%|████      | 2/5 [03:03<04:35, 91.87s/it]"
     ]
    },
    {
     "name": "stdout",
     "output_type": "stream",
     "text": [
      "Model 0 for Group Clients 0 and Communication round 2\n",
      "Model 4 for Group Clients 1 and Communication round 2\n",
      "Updating model in the server...\n",
      "Updating model in the server...\n",
      "Testing in the server all the models...\n",
      "2-th round, in age 31-th\n",
      "average train loss 0.135 | test loss 0.662 | test acc: 0.737\n",
      "\n",
      "Best validation loss: 0.6620033264160157\n",
      "\n",
      "Saving best model for comunication round: 157\n",
      "\n"
     ]
    },
    {
     "name": "stderr",
     "output_type": "stream",
     "text": [
      " 60%|██████    | 3/5 [04:38<03:07, 93.73s/it]"
     ]
    },
    {
     "name": "stdout",
     "output_type": "stream",
     "text": [
      "Model 3 for Group Clients 0 and Communication round 3\n",
      "Model 0 for Group Clients 1 and Communication round 3\n",
      "Updating model in the server...\n",
      "Updating model in the server...\n",
      "Testing in the server all the models...\n"
     ]
    },
    {
     "name": "stderr",
     "output_type": "stream",
     "text": [
      " 80%|████████  | 4/5 [06:18<01:35, 95.87s/it]"
     ]
    },
    {
     "name": "stdout",
     "output_type": "stream",
     "text": [
      "3-th round, in age 31-th\n",
      "average train loss 0.108 | test loss 0.669 | test acc: 0.726\n",
      "Model 4 for Group Clients 0 and Communication round 4\n",
      "Model 1 for Group Clients 1 and Communication round 4\n",
      "Updating model in the server...\n",
      "Updating model in the server...\n",
      "Testing in the server all the models...\n"
     ]
    },
    {
     "name": "stderr",
     "output_type": "stream",
     "text": [
      "100%|██████████| 5/5 [07:52<00:00, 94.49s/it]\n",
      "  0%|          | 0/5 [00:00<?, ?it/s]"
     ]
    },
    {
     "name": "stdout",
     "output_type": "stream",
     "text": [
      "4-th round, in age 31-th\n",
      "average train loss 0.163 | test loss 0.69 | test acc: 0.705\n",
      "Confusion Matrix:  tensor([[47.,  8.,  0.],\n",
      "        [ 7., 20.,  0.],\n",
      "        [ 6.,  7.,  0.]])\n",
      "Ages:  32\n",
      "Model 0 for Group Clients 0 and Communication round 0\n",
      "Model 1 for Group Clients 1 and Communication round 0\n",
      "Updating model in the server...\n",
      "Updating model in the server...\n",
      "Testing in the server all the models...\n",
      "0-th round, in age 32-th\n",
      "average train loss 0.159 | test loss 0.63 | test acc: 0.747\n",
      "\n",
      "Best validation loss: 0.6298253511127673\n",
      "\n",
      "Saving best model for comunication round: 160\n",
      "\n"
     ]
    },
    {
     "name": "stderr",
     "output_type": "stream",
     "text": [
      " 20%|██        | 1/5 [01:33<06:14, 93.55s/it]"
     ]
    },
    {
     "name": "stdout",
     "output_type": "stream",
     "text": [
      "Model 2 for Group Clients 0 and Communication round 1\n",
      "Model 3 for Group Clients 1 and Communication round 1\n",
      "Updating model in the server...\n",
      "Updating model in the server...\n",
      "Testing in the server all the models...\n"
     ]
    },
    {
     "name": "stderr",
     "output_type": "stream",
     "text": [
      " 40%|████      | 2/5 [03:03<04:35, 91.67s/it]"
     ]
    },
    {
     "name": "stdout",
     "output_type": "stream",
     "text": [
      "1-th round, in age 32-th\n",
      "average train loss 0.118 | test loss 0.694 | test acc: 0.737\n",
      "Model 3 for Group Clients 0 and Communication round 2\n",
      "Model 4 for Group Clients 1 and Communication round 2\n",
      "Updating model in the server...\n",
      "Updating model in the server...\n",
      "Testing in the server all the models...\n"
     ]
    },
    {
     "name": "stderr",
     "output_type": "stream",
     "text": [
      " 60%|██████    | 3/5 [04:40<03:07, 93.91s/it]"
     ]
    },
    {
     "name": "stdout",
     "output_type": "stream",
     "text": [
      "2-th round, in age 32-th\n",
      "average train loss 0.121 | test loss 0.695 | test acc: 0.737\n",
      "Model 1 for Group Clients 0 and Communication round 3\n",
      "Model 0 for Group Clients 1 and Communication round 3\n",
      "Updating model in the server...\n",
      "Updating model in the server...\n",
      "Testing in the server all the models...\n"
     ]
    },
    {
     "name": "stderr",
     "output_type": "stream",
     "text": [
      " 80%|████████  | 4/5 [06:12<01:33, 93.07s/it]"
     ]
    },
    {
     "name": "stdout",
     "output_type": "stream",
     "text": [
      "3-th round, in age 32-th\n",
      "average train loss 0.0793 | test loss 0.717 | test acc: 0.737\n",
      "Model 4 for Group Clients 0 and Communication round 4\n",
      "Model 2 for Group Clients 1 and Communication round 4\n",
      "Updating model in the server...\n",
      "Updating model in the server...\n",
      "Testing in the server all the models...\n"
     ]
    },
    {
     "name": "stderr",
     "output_type": "stream",
     "text": [
      "100%|██████████| 5/5 [08:00<00:00, 96.08s/it]\n",
      "  0%|          | 0/5 [00:00<?, ?it/s]"
     ]
    },
    {
     "name": "stdout",
     "output_type": "stream",
     "text": [
      "4-th round, in age 32-th\n",
      "average train loss 0.0809 | test loss 0.733 | test acc: 0.684\n",
      "Confusion Matrix:  tensor([[44., 11.,  0.],\n",
      "        [ 7., 20.,  0.],\n",
      "        [ 5.,  7.,  1.]])\n",
      "Ages:  33\n",
      "Model 0 for Group Clients 0 and Communication round 0\n",
      "Model 3 for Group Clients 1 and Communication round 0\n",
      "Updating model in the server...\n",
      "Updating model in the server...\n",
      "Testing in the server all the models...\n"
     ]
    },
    {
     "name": "stderr",
     "output_type": "stream",
     "text": [
      " 20%|██        | 1/5 [01:37<06:30, 97.54s/it]"
     ]
    },
    {
     "name": "stdout",
     "output_type": "stream",
     "text": [
      "0-th round, in age 33-th\n",
      "average train loss 0.114 | test loss 0.673 | test acc: 0.747\n",
      "Model 1 for Group Clients 0 and Communication round 1\n",
      "Model 4 for Group Clients 1 and Communication round 1\n",
      "Updating model in the server...\n",
      "Updating model in the server...\n",
      "Testing in the server all the models...\n"
     ]
    },
    {
     "name": "stderr",
     "output_type": "stream",
     "text": [
      " 40%|████      | 2/5 [03:09<04:42, 94.14s/it]"
     ]
    },
    {
     "name": "stdout",
     "output_type": "stream",
     "text": [
      "1-th round, in age 33-th\n",
      "average train loss 0.1 | test loss 0.703 | test acc: 0.716\n",
      "Model 3 for Group Clients 0 and Communication round 2\n",
      "Model 2 for Group Clients 1 and Communication round 2\n",
      "Updating model in the server...\n",
      "Updating model in the server...\n",
      "Testing in the server all the models...\n"
     ]
    },
    {
     "name": "stderr",
     "output_type": "stream",
     "text": [
      " 60%|██████    | 3/5 [04:39<03:04, 92.28s/it]"
     ]
    },
    {
     "name": "stdout",
     "output_type": "stream",
     "text": [
      "2-th round, in age 33-th\n",
      "average train loss 0.0553 | test loss 0.719 | test acc: 0.779\n",
      "Model 4 for Group Clients 0 and Communication round 3\n",
      "Model 0 for Group Clients 1 and Communication round 3\n",
      "Updating model in the server...\n",
      "Updating model in the server...\n",
      "Testing in the server all the models...\n"
     ]
    },
    {
     "name": "stderr",
     "output_type": "stream",
     "text": [
      " 80%|████████  | 4/5 [06:08<01:30, 90.86s/it]"
     ]
    },
    {
     "name": "stdout",
     "output_type": "stream",
     "text": [
      "3-th round, in age 33-th\n",
      "average train loss 0.0635 | test loss 0.718 | test acc: 0.737\n",
      "Model 2 for Group Clients 0 and Communication round 4\n",
      "Model 1 for Group Clients 1 and Communication round 4\n",
      "Updating model in the server...\n",
      "Updating model in the server...\n",
      "Testing in the server all the models...\n"
     ]
    },
    {
     "name": "stderr",
     "output_type": "stream",
     "text": [
      "100%|██████████| 5/5 [07:38<00:00, 91.73s/it]\n",
      "  0%|          | 0/5 [00:00<?, ?it/s]"
     ]
    },
    {
     "name": "stdout",
     "output_type": "stream",
     "text": [
      "4-th round, in age 33-th\n",
      "average train loss 0.134 | test loss 0.693 | test acc: 0.758\n",
      "Confusion Matrix:  tensor([[49.,  5.,  1.],\n",
      "        [ 7., 20.,  0.],\n",
      "        [ 4.,  6.,  3.]])\n",
      "Ages:  34\n",
      "Model 2 for Group Clients 0 and Communication round 0\n",
      "Model 2 for Group Clients 1 and Communication round 0\n",
      "Updating model in the server...\n",
      "Updating model in the server...\n",
      "Testing in the server all the models...\n"
     ]
    },
    {
     "name": "stderr",
     "output_type": "stream",
     "text": [
      " 20%|██        | 1/5 [01:29<05:59, 89.90s/it]"
     ]
    },
    {
     "name": "stdout",
     "output_type": "stream",
     "text": [
      "0-th round, in age 34-th\n",
      "average train loss 0.0561 | test loss 0.727 | test acc: 0.726\n",
      "Model 1 for Group Clients 0 and Communication round 1\n",
      "Model 0 for Group Clients 1 and Communication round 1\n",
      "Updating model in the server...\n",
      "Updating model in the server...\n",
      "Testing in the server all the models...\n"
     ]
    },
    {
     "name": "stderr",
     "output_type": "stream",
     "text": [
      " 40%|████      | 2/5 [02:58<04:27, 89.03s/it]"
     ]
    },
    {
     "name": "stdout",
     "output_type": "stream",
     "text": [
      "1-th round, in age 34-th\n",
      "average train loss 0.0413 | test loss 0.696 | test acc: 0.768\n",
      "Model 3 for Group Clients 0 and Communication round 2\n",
      "Model 1 for Group Clients 1 and Communication round 2\n",
      "Updating model in the server...\n",
      "Updating model in the server...\n",
      "Testing in the server all the models...\n"
     ]
    },
    {
     "name": "stderr",
     "output_type": "stream",
     "text": [
      " 60%|██████    | 3/5 [04:27<02:58, 89.19s/it]"
     ]
    },
    {
     "name": "stdout",
     "output_type": "stream",
     "text": [
      "2-th round, in age 34-th\n",
      "average train loss 0.132 | test loss 0.723 | test acc: 0.726\n",
      "Model 0 for Group Clients 0 and Communication round 3\n",
      "Model 4 for Group Clients 1 and Communication round 3\n",
      "Updating model in the server...\n",
      "Updating model in the server...\n",
      "Testing in the server all the models...\n"
     ]
    },
    {
     "name": "stderr",
     "output_type": "stream",
     "text": [
      " 80%|████████  | 4/5 [05:57<01:29, 89.36s/it]"
     ]
    },
    {
     "name": "stdout",
     "output_type": "stream",
     "text": [
      "3-th round, in age 34-th\n",
      "average train loss 0.113 | test loss 0.7 | test acc: 0.747\n",
      "Model 4 for Group Clients 0 and Communication round 4\n",
      "Model 3 for Group Clients 1 and Communication round 4\n",
      "Updating model in the server...\n",
      "Updating model in the server...\n",
      "Testing in the server all the models...\n"
     ]
    },
    {
     "name": "stderr",
     "output_type": "stream",
     "text": [
      "100%|██████████| 5/5 [07:28<00:00, 89.75s/it]\n",
      "  0%|          | 0/5 [00:00<?, ?it/s]"
     ]
    },
    {
     "name": "stdout",
     "output_type": "stream",
     "text": [
      "4-th round, in age 34-th\n",
      "average train loss 0.0943 | test loss 0.707 | test acc: 0.726\n",
      "Confusion Matrix:  tensor([[46.,  9.,  0.],\n",
      "        [ 5., 22.,  0.],\n",
      "        [ 5.,  7.,  1.]])\n",
      "Ages:  35\n",
      "Model 0 for Group Clients 0 and Communication round 0\n",
      "Model 1 for Group Clients 1 and Communication round 0\n",
      "Updating model in the server...\n",
      "Updating model in the server...\n",
      "Testing in the server all the models...\n"
     ]
    },
    {
     "name": "stderr",
     "output_type": "stream",
     "text": [
      " 20%|██        | 1/5 [01:28<05:55, 88.92s/it]"
     ]
    },
    {
     "name": "stdout",
     "output_type": "stream",
     "text": [
      "0-th round, in age 35-th\n",
      "average train loss 0.108 | test loss 0.781 | test acc: 0.684\n",
      "Model 3 for Group Clients 0 and Communication round 1\n",
      "Model 4 for Group Clients 1 and Communication round 1\n",
      "Updating model in the server...\n",
      "Updating model in the server...\n",
      "Testing in the server all the models...\n"
     ]
    },
    {
     "name": "stderr",
     "output_type": "stream",
     "text": [
      " 40%|████      | 2/5 [02:59<04:29, 89.95s/it]"
     ]
    },
    {
     "name": "stdout",
     "output_type": "stream",
     "text": [
      "1-th round, in age 35-th\n",
      "average train loss 0.071 | test loss 0.78 | test acc: 0.684\n",
      "Model 1 for Group Clients 0 and Communication round 2\n",
      "Model 3 for Group Clients 1 and Communication round 2\n",
      "Updating model in the server...\n",
      "Updating model in the server...\n",
      "Testing in the server all the models...\n"
     ]
    },
    {
     "name": "stderr",
     "output_type": "stream",
     "text": [
      " 60%|██████    | 3/5 [04:31<03:01, 90.62s/it]"
     ]
    },
    {
     "name": "stdout",
     "output_type": "stream",
     "text": [
      "2-th round, in age 35-th\n",
      "average train loss 0.0897 | test loss 0.719 | test acc: 0.705\n",
      "Model 2 for Group Clients 0 and Communication round 3\n",
      "Model 0 for Group Clients 1 and Communication round 3\n",
      "Updating model in the server...\n",
      "Updating model in the server...\n",
      "Testing in the server all the models...\n"
     ]
    },
    {
     "name": "stderr",
     "output_type": "stream",
     "text": [
      " 80%|████████  | 4/5 [06:00<01:30, 90.29s/it]"
     ]
    },
    {
     "name": "stdout",
     "output_type": "stream",
     "text": [
      "3-th round, in age 35-th\n",
      "average train loss 0.0643 | test loss 0.718 | test acc: 0.758\n",
      "Model 4 for Group Clients 0 and Communication round 4\n",
      "Model 2 for Group Clients 1 and Communication round 4\n",
      "Updating model in the server...\n",
      "Updating model in the server...\n",
      "Testing in the server all the models...\n"
     ]
    },
    {
     "name": "stderr",
     "output_type": "stream",
     "text": [
      "100%|██████████| 5/5 [07:29<00:00, 89.97s/it]\n",
      "  0%|          | 0/5 [00:00<?, ?it/s]"
     ]
    },
    {
     "name": "stdout",
     "output_type": "stream",
     "text": [
      "4-th round, in age 35-th\n",
      "average train loss 0.0539 | test loss 0.794 | test acc: 0.695\n",
      "Confusion Matrix:  tensor([[45.,  9.,  1.],\n",
      "        [ 8., 19.,  0.],\n",
      "        [ 4.,  7.,  2.]])\n",
      "Ages:  36\n",
      "Model 1 for Group Clients 0 and Communication round 0\n",
      "Model 2 for Group Clients 1 and Communication round 0\n",
      "Updating model in the server...\n",
      "Updating model in the server...\n",
      "Testing in the server all the models...\n"
     ]
    },
    {
     "name": "stderr",
     "output_type": "stream",
     "text": [
      " 20%|██        | 1/5 [01:28<05:54, 88.67s/it]"
     ]
    },
    {
     "name": "stdout",
     "output_type": "stream",
     "text": [
      "0-th round, in age 36-th\n",
      "average train loss 0.0402 | test loss 0.793 | test acc: 0.726\n",
      "Model 2 for Group Clients 0 and Communication round 1\n",
      "Model 1 for Group Clients 1 and Communication round 1\n",
      "Updating model in the server...\n",
      "Updating model in the server...\n",
      "Testing in the server all the models...\n"
     ]
    },
    {
     "name": "stderr",
     "output_type": "stream",
     "text": [
      " 40%|████      | 2/5 [03:03<04:37, 92.59s/it]"
     ]
    },
    {
     "name": "stdout",
     "output_type": "stream",
     "text": [
      "1-th round, in age 36-th\n",
      "average train loss 0.0918 | test loss 0.747 | test acc: 0.747\n",
      "Model 3 for Group Clients 0 and Communication round 2\n",
      "Model 0 for Group Clients 1 and Communication round 2\n",
      "Updating model in the server...\n",
      "Updating model in the server...\n",
      "Testing in the server all the models...\n"
     ]
    },
    {
     "name": "stderr",
     "output_type": "stream",
     "text": [
      " 60%|██████    | 3/5 [04:34<03:03, 91.67s/it]"
     ]
    },
    {
     "name": "stdout",
     "output_type": "stream",
     "text": [
      "2-th round, in age 36-th\n",
      "average train loss 0.0375 | test loss 0.76 | test acc: 0.747\n",
      "Model 0 for Group Clients 0 and Communication round 3\n",
      "Model 4 for Group Clients 1 and Communication round 3\n",
      "Updating model in the server...\n",
      "Updating model in the server...\n",
      "Testing in the server all the models...\n"
     ]
    },
    {
     "name": "stderr",
     "output_type": "stream",
     "text": [
      " 80%|████████  | 4/5 [06:05<01:31, 91.37s/it]"
     ]
    },
    {
     "name": "stdout",
     "output_type": "stream",
     "text": [
      "3-th round, in age 36-th\n",
      "average train loss 0.0648 | test loss 0.676 | test acc: 0.821\n",
      "Model 4 for Group Clients 0 and Communication round 4\n",
      "Model 3 for Group Clients 1 and Communication round 4\n",
      "Updating model in the server...\n",
      "Updating model in the server...\n",
      "Testing in the server all the models...\n"
     ]
    },
    {
     "name": "stderr",
     "output_type": "stream",
     "text": [
      "100%|██████████| 5/5 [07:40<00:00, 92.07s/it]\n",
      "  0%|          | 0/5 [00:00<?, ?it/s]"
     ]
    },
    {
     "name": "stdout",
     "output_type": "stream",
     "text": [
      "4-th round, in age 36-th\n",
      "average train loss 0.0661 | test loss 0.677 | test acc: 0.811\n",
      "Confusion Matrix:  tensor([[51.,  3.,  1.],\n",
      "        [ 6., 20.,  1.],\n",
      "        [ 4.,  3.,  6.]])\n",
      "Ages:  37\n",
      "Model 2 for Group Clients 0 and Communication round 0\n",
      "Model 0 for Group Clients 1 and Communication round 0\n",
      "Updating model in the server...\n",
      "Updating model in the server...\n",
      "Testing in the server all the models...\n"
     ]
    },
    {
     "name": "stderr",
     "output_type": "stream",
     "text": [
      " 20%|██        | 1/5 [01:28<05:54, 88.60s/it]"
     ]
    },
    {
     "name": "stdout",
     "output_type": "stream",
     "text": [
      "0-th round, in age 37-th\n",
      "average train loss 0.0445 | test loss 0.756 | test acc: 0.800\n",
      "Model 4 for Group Clients 0 and Communication round 1\n",
      "Model 3 for Group Clients 1 and Communication round 1\n",
      "Updating model in the server...\n",
      "Updating model in the server...\n",
      "Testing in the server all the models...\n"
     ]
    },
    {
     "name": "stderr",
     "output_type": "stream",
     "text": [
      " 40%|████      | 2/5 [03:03<04:37, 92.51s/it]"
     ]
    },
    {
     "name": "stdout",
     "output_type": "stream",
     "text": [
      "1-th round, in age 37-th\n",
      "average train loss 0.0672 | test loss 0.744 | test acc: 0.800\n",
      "Model 1 for Group Clients 0 and Communication round 2\n",
      "Model 1 for Group Clients 1 and Communication round 2\n",
      "Updating model in the server...\n",
      "Updating model in the server...\n",
      "Testing in the server all the models...\n"
     ]
    },
    {
     "name": "stderr",
     "output_type": "stream",
     "text": [
      " 60%|██████    | 3/5 [04:34<03:03, 91.83s/it]"
     ]
    },
    {
     "name": "stdout",
     "output_type": "stream",
     "text": [
      "2-th round, in age 37-th\n",
      "average train loss 0.0704 | test loss 0.759 | test acc: 0.779\n",
      "Model 0 for Group Clients 0 and Communication round 3\n",
      "Model 2 for Group Clients 1 and Communication round 3\n",
      "Updating model in the server...\n",
      "Updating model in the server...\n",
      "Testing in the server all the models...\n"
     ]
    },
    {
     "name": "stderr",
     "output_type": "stream",
     "text": [
      " 80%|████████  | 4/5 [06:11<01:33, 93.90s/it]"
     ]
    },
    {
     "name": "stdout",
     "output_type": "stream",
     "text": [
      "3-th round, in age 37-th\n",
      "average train loss 0.0459 | test loss 0.705 | test acc: 0.800\n",
      "Model 3 for Group Clients 0 and Communication round 4\n",
      "Model 4 for Group Clients 1 and Communication round 4\n",
      "Updating model in the server...\n",
      "Updating model in the server...\n",
      "Testing in the server all the models...\n"
     ]
    },
    {
     "name": "stderr",
     "output_type": "stream",
     "text": [
      "100%|██████████| 5/5 [07:41<00:00, 92.23s/it]\n",
      "  0%|          | 0/5 [00:00<?, ?it/s]"
     ]
    },
    {
     "name": "stdout",
     "output_type": "stream",
     "text": [
      "4-th round, in age 37-th\n",
      "average train loss 0.0649 | test loss 0.694 | test acc: 0.832\n",
      "Confusion Matrix:  tensor([[52.,  3.,  0.],\n",
      "        [ 6., 21.,  0.],\n",
      "        [ 5.,  2.,  6.]])\n",
      "Ages:  38\n",
      "Model 0 for Group Clients 0 and Communication round 0\n",
      "Model 0 for Group Clients 1 and Communication round 0\n",
      "Updating model in the server...\n",
      "Updating model in the server...\n",
      "Testing in the server all the models...\n"
     ]
    },
    {
     "name": "stderr",
     "output_type": "stream",
     "text": [
      " 20%|██        | 1/5 [01:29<05:57, 89.26s/it]"
     ]
    },
    {
     "name": "stdout",
     "output_type": "stream",
     "text": [
      "0-th round, in age 38-th\n",
      "average train loss 0.0338 | test loss 0.769 | test acc: 0.758\n",
      "Model 4 for Group Clients 0 and Communication round 1\n",
      "Model 1 for Group Clients 1 and Communication round 1\n",
      "Updating model in the server...\n",
      "Updating model in the server...\n",
      "Testing in the server all the models...\n"
     ]
    },
    {
     "name": "stderr",
     "output_type": "stream",
     "text": [
      " 40%|████      | 2/5 [02:59<04:28, 89.57s/it]"
     ]
    },
    {
     "name": "stdout",
     "output_type": "stream",
     "text": [
      "1-th round, in age 38-th\n",
      "average train loss 0.0444 | test loss 0.715 | test acc: 0.779\n",
      "Model 3 for Group Clients 0 and Communication round 2\n",
      "Model 2 for Group Clients 1 and Communication round 2\n",
      "Updating model in the server...\n",
      "Updating model in the server...\n",
      "Testing in the server all the models...\n"
     ]
    },
    {
     "name": "stderr",
     "output_type": "stream",
     "text": [
      " 60%|██████    | 3/5 [04:28<02:59, 89.71s/it]"
     ]
    },
    {
     "name": "stdout",
     "output_type": "stream",
     "text": [
      "2-th round, in age 38-th\n",
      "average train loss 0.027 | test loss 0.83 | test acc: 0.684\n",
      "Model 2 for Group Clients 0 and Communication round 3\n",
      "Model 3 for Group Clients 1 and Communication round 3\n",
      "Updating model in the server...\n",
      "Updating model in the server...\n",
      "Testing in the server all the models...\n"
     ]
    },
    {
     "name": "stderr",
     "output_type": "stream",
     "text": [
      " 80%|████████  | 4/5 [05:58<01:29, 89.76s/it]"
     ]
    },
    {
     "name": "stdout",
     "output_type": "stream",
     "text": [
      "3-th round, in age 38-th\n",
      "average train loss 0.0756 | test loss 0.737 | test acc: 0.779\n",
      "Model 1 for Group Clients 0 and Communication round 4\n",
      "Model 4 for Group Clients 1 and Communication round 4\n",
      "Updating model in the server...\n",
      "Updating model in the server...\n",
      "Testing in the server all the models...\n"
     ]
    },
    {
     "name": "stderr",
     "output_type": "stream",
     "text": [
      "100%|██████████| 5/5 [07:30<00:00, 90.01s/it]\n",
      "  0%|          | 0/5 [00:00<?, ?it/s]"
     ]
    },
    {
     "name": "stdout",
     "output_type": "stream",
     "text": [
      "4-th round, in age 38-th\n",
      "average train loss 0.0663 | test loss 0.747 | test acc: 0.758\n",
      "Confusion Matrix:  tensor([[44.,  9.,  2.],\n",
      "        [ 6., 21.,  0.],\n",
      "        [ 3.,  3.,  7.]])\n",
      "Ages:  39\n",
      "Model 4 for Group Clients 0 and Communication round 0\n",
      "Model 4 for Group Clients 1 and Communication round 0\n",
      "Updating model in the server...\n",
      "Updating model in the server...\n",
      "Testing in the server all the models...\n"
     ]
    },
    {
     "name": "stderr",
     "output_type": "stream",
     "text": [
      " 20%|██        | 1/5 [01:29<05:56, 89.06s/it]"
     ]
    },
    {
     "name": "stdout",
     "output_type": "stream",
     "text": [
      "0-th round, in age 39-th\n",
      "average train loss 0.0504 | test loss 0.78 | test acc: 0.737\n",
      "Model 3 for Group Clients 0 and Communication round 1\n",
      "Model 0 for Group Clients 1 and Communication round 1\n",
      "Updating model in the server...\n",
      "Updating model in the server...\n",
      "Testing in the server all the models...\n"
     ]
    },
    {
     "name": "stderr",
     "output_type": "stream",
     "text": [
      " 40%|████      | 2/5 [03:00<04:31, 90.41s/it]"
     ]
    },
    {
     "name": "stdout",
     "output_type": "stream",
     "text": [
      "1-th round, in age 39-th\n",
      "average train loss 0.0251 | test loss 0.735 | test acc: 0.800\n",
      "Model 2 for Group Clients 0 and Communication round 2\n",
      "Model 1 for Group Clients 1 and Communication round 2\n",
      "Updating model in the server...\n",
      "Updating model in the server...\n",
      "Testing in the server all the models...\n"
     ]
    },
    {
     "name": "stderr",
     "output_type": "stream",
     "text": [
      " 60%|██████    | 3/5 [04:30<03:00, 90.39s/it]"
     ]
    },
    {
     "name": "stdout",
     "output_type": "stream",
     "text": [
      "2-th round, in age 39-th\n",
      "average train loss 0.0799 | test loss 0.862 | test acc: 0.789\n",
      "Model 0 for Group Clients 0 and Communication round 3\n",
      "Model 3 for Group Clients 1 and Communication round 3\n",
      "Updating model in the server...\n",
      "Updating model in the server...\n",
      "Testing in the server all the models...\n"
     ]
    },
    {
     "name": "stderr",
     "output_type": "stream",
     "text": [
      " 80%|████████  | 4/5 [06:01<01:30, 90.34s/it]"
     ]
    },
    {
     "name": "stdout",
     "output_type": "stream",
     "text": [
      "3-th round, in age 39-th\n",
      "average train loss 0.0443 | test loss 0.816 | test acc: 0.832\n",
      "Model 1 for Group Clients 0 and Communication round 4\n",
      "Model 2 for Group Clients 1 and Communication round 4\n",
      "Updating model in the server...\n",
      "Updating model in the server...\n",
      "Testing in the server all the models...\n"
     ]
    },
    {
     "name": "stderr",
     "output_type": "stream",
     "text": [
      "100%|██████████| 5/5 [07:30<00:00, 90.07s/it]\n",
      "  0%|          | 0/5 [00:00<?, ?it/s]"
     ]
    },
    {
     "name": "stdout",
     "output_type": "stream",
     "text": [
      "4-th round, in age 39-th\n",
      "average train loss 0.0409 | test loss 0.756 | test acc: 0.800\n",
      "Confusion Matrix:  tensor([[48.,  7.,  0.],\n",
      "        [ 7., 20.,  0.],\n",
      "        [ 3.,  2.,  8.]])\n",
      "Ages:  40\n",
      "Model 2 for Group Clients 0 and Communication round 0\n",
      "Model 0 for Group Clients 1 and Communication round 0\n",
      "Updating model in the server...\n",
      "Updating model in the server...\n",
      "Testing in the server all the models...\n"
     ]
    },
    {
     "name": "stderr",
     "output_type": "stream",
     "text": [
      " 20%|██        | 1/5 [01:30<06:03, 90.93s/it]"
     ]
    },
    {
     "name": "stdout",
     "output_type": "stream",
     "text": [
      "0-th round, in age 40-th\n",
      "average train loss 0.0281 | test loss 0.768 | test acc: 0.789\n",
      "Model 3 for Group Clients 0 and Communication round 1\n",
      "Model 4 for Group Clients 1 and Communication round 1\n",
      "Updating model in the server...\n",
      "Updating model in the server...\n",
      "Testing in the server all the models...\n"
     ]
    },
    {
     "name": "stderr",
     "output_type": "stream",
     "text": [
      " 40%|████      | 2/5 [02:59<04:28, 89.56s/it]"
     ]
    },
    {
     "name": "stdout",
     "output_type": "stream",
     "text": [
      "1-th round, in age 40-th\n",
      "average train loss 0.028 | test loss 0.71 | test acc: 0.811\n",
      "Model 0 for Group Clients 0 and Communication round 2\n",
      "Model 2 for Group Clients 1 and Communication round 2\n",
      "Updating model in the server...\n",
      "Updating model in the server...\n",
      "Testing in the server all the models...\n"
     ]
    },
    {
     "name": "stderr",
     "output_type": "stream",
     "text": [
      " 60%|██████    | 3/5 [04:28<02:58, 89.06s/it]"
     ]
    },
    {
     "name": "stdout",
     "output_type": "stream",
     "text": [
      "2-th round, in age 40-th\n",
      "average train loss 0.026 | test loss 0.69 | test acc: 0.821\n",
      "Model 1 for Group Clients 0 and Communication round 3\n",
      "Model 3 for Group Clients 1 and Communication round 3\n",
      "Updating model in the server...\n",
      "Updating model in the server...\n",
      "Testing in the server all the models...\n"
     ]
    },
    {
     "name": "stderr",
     "output_type": "stream",
     "text": [
      " 80%|████████  | 4/5 [05:58<01:29, 89.53s/it]"
     ]
    },
    {
     "name": "stdout",
     "output_type": "stream",
     "text": [
      "3-th round, in age 40-th\n",
      "average train loss 0.0597 | test loss 0.704 | test acc: 0.832\n",
      "Model 4 for Group Clients 0 and Communication round 4\n",
      "Model 1 for Group Clients 1 and Communication round 4\n",
      "Updating model in the server...\n",
      "Updating model in the server...\n",
      "Testing in the server all the models...\n"
     ]
    },
    {
     "name": "stderr",
     "output_type": "stream",
     "text": [
      "100%|██████████| 5/5 [07:27<00:00, 89.59s/it]\n",
      "  0%|          | 0/5 [00:00<?, ?it/s]"
     ]
    },
    {
     "name": "stdout",
     "output_type": "stream",
     "text": [
      "4-th round, in age 40-th\n",
      "average train loss 0.0581 | test loss 0.736 | test acc: 0.832\n",
      "Confusion Matrix:  tensor([[50.,  5.,  0.],\n",
      "        [ 5., 21.,  1.],\n",
      "        [ 3.,  2.,  8.]])\n",
      "Ages:  41\n",
      "Model 0 for Group Clients 0 and Communication round 0\n",
      "Model 1 for Group Clients 1 and Communication round 0\n",
      "Updating model in the server...\n",
      "Updating model in the server...\n",
      "Testing in the server all the models...\n"
     ]
    },
    {
     "name": "stderr",
     "output_type": "stream",
     "text": [
      " 20%|██        | 1/5 [01:32<06:10, 92.55s/it]"
     ]
    },
    {
     "name": "stdout",
     "output_type": "stream",
     "text": [
      "0-th round, in age 41-th\n",
      "average train loss 0.0448 | test loss 0.748 | test acc: 0.842\n",
      "Model 3 for Group Clients 0 and Communication round 1\n",
      "Model 0 for Group Clients 1 and Communication round 1\n",
      "Updating model in the server...\n",
      "Updating model in the server...\n",
      "Testing in the server all the models...\n"
     ]
    },
    {
     "name": "stderr",
     "output_type": "stream",
     "text": [
      " 40%|████      | 2/5 [03:03<04:35, 91.69s/it]"
     ]
    },
    {
     "name": "stdout",
     "output_type": "stream",
     "text": [
      "1-th round, in age 41-th\n",
      "average train loss 0.0268 | test loss 0.787 | test acc: 0.811\n",
      "Model 2 for Group Clients 0 and Communication round 2\n",
      "Model 2 for Group Clients 1 and Communication round 2\n",
      "Updating model in the server...\n",
      "Updating model in the server...\n",
      "Testing in the server all the models...\n"
     ]
    },
    {
     "name": "stderr",
     "output_type": "stream",
     "text": [
      " 60%|██████    | 3/5 [04:35<03:03, 91.77s/it]"
     ]
    },
    {
     "name": "stdout",
     "output_type": "stream",
     "text": [
      "2-th round, in age 41-th\n",
      "average train loss 0.0275 | test loss 0.817 | test acc: 0.789\n",
      "Model 4 for Group Clients 0 and Communication round 3\n",
      "Model 4 for Group Clients 1 and Communication round 3\n",
      "Updating model in the server...\n",
      "Updating model in the server...\n",
      "Testing in the server all the models...\n"
     ]
    },
    {
     "name": "stderr",
     "output_type": "stream",
     "text": [
      " 80%|████████  | 4/5 [06:18<01:36, 96.33s/it]"
     ]
    },
    {
     "name": "stdout",
     "output_type": "stream",
     "text": [
      "3-th round, in age 41-th\n",
      "average train loss 0.0537 | test loss 0.899 | test acc: 0.705\n",
      "Model 1 for Group Clients 0 and Communication round 4\n",
      "Model 3 for Group Clients 1 and Communication round 4\n",
      "Updating model in the server...\n",
      "Updating model in the server...\n",
      "Testing in the server all the models...\n"
     ]
    },
    {
     "name": "stderr",
     "output_type": "stream",
     "text": [
      "100%|██████████| 5/5 [07:58<00:00, 95.64s/it]\n",
      "  0%|          | 0/5 [00:00<?, ?it/s]"
     ]
    },
    {
     "name": "stdout",
     "output_type": "stream",
     "text": [
      "4-th round, in age 41-th\n",
      "average train loss 0.0397 | test loss 0.859 | test acc: 0.768\n",
      "Confusion Matrix:  tensor([[47.,  7.,  1.],\n",
      "        [ 7., 20.,  0.],\n",
      "        [ 4.,  3.,  6.]])\n",
      "Ages:  42\n",
      "Model 4 for Group Clients 0 and Communication round 0\n",
      "Model 3 for Group Clients 1 and Communication round 0\n",
      "Updating model in the server...\n",
      "Updating model in the server...\n",
      "Testing in the server all the models...\n"
     ]
    },
    {
     "name": "stderr",
     "output_type": "stream",
     "text": [
      " 20%|██        | 1/5 [01:32<06:09, 92.27s/it]"
     ]
    },
    {
     "name": "stdout",
     "output_type": "stream",
     "text": [
      "0-th round, in age 42-th\n",
      "average train loss 0.017 | test loss 0.802 | test acc: 0.832\n",
      "Model 0 for Group Clients 0 and Communication round 1\n",
      "Model 4 for Group Clients 1 and Communication round 1\n",
      "Updating model in the server...\n",
      "Updating model in the server...\n",
      "Testing in the server all the models...\n"
     ]
    },
    {
     "name": "stderr",
     "output_type": "stream",
     "text": [
      " 40%|████      | 2/5 [03:06<04:39, 93.25s/it]"
     ]
    },
    {
     "name": "stdout",
     "output_type": "stream",
     "text": [
      "1-th round, in age 42-th\n",
      "average train loss 0.0347 | test loss 0.748 | test acc: 0.832\n",
      "Model 3 for Group Clients 0 and Communication round 2\n",
      "Model 2 for Group Clients 1 and Communication round 2\n",
      "Updating model in the server...\n",
      "Updating model in the server...\n",
      "Testing in the server all the models...\n"
     ]
    },
    {
     "name": "stderr",
     "output_type": "stream",
     "text": [
      " 60%|██████    | 3/5 [04:35<03:02, 91.45s/it]"
     ]
    },
    {
     "name": "stdout",
     "output_type": "stream",
     "text": [
      "2-th round, in age 42-th\n",
      "average train loss 0.0125 | test loss 0.699 | test acc: 0.821\n",
      "Model 2 for Group Clients 0 and Communication round 3\n",
      "Model 1 for Group Clients 1 and Communication round 3\n",
      "Updating model in the server...\n",
      "Updating model in the server...\n",
      "Testing in the server all the models...\n"
     ]
    },
    {
     "name": "stderr",
     "output_type": "stream",
     "text": [
      " 80%|████████  | 4/5 [06:05<01:30, 90.94s/it]"
     ]
    },
    {
     "name": "stdout",
     "output_type": "stream",
     "text": [
      "3-th round, in age 42-th\n",
      "average train loss 0.044 | test loss 0.654 | test acc: 0.832\n",
      "Model 1 for Group Clients 0 and Communication round 4\n",
      "Model 0 for Group Clients 1 and Communication round 4\n",
      "Updating model in the server...\n",
      "Updating model in the server...\n",
      "Testing in the server all the models...\n"
     ]
    },
    {
     "name": "stderr",
     "output_type": "stream",
     "text": [
      "100%|██████████| 5/5 [07:34<00:00, 90.96s/it]\n",
      "  0%|          | 0/5 [00:00<?, ?it/s]"
     ]
    },
    {
     "name": "stdout",
     "output_type": "stream",
     "text": [
      "4-th round, in age 42-th\n",
      "average train loss 0.0197 | test loss 0.663 | test acc: 0.811\n",
      "Confusion Matrix:  tensor([[51.,  1.,  3.],\n",
      "        [ 8., 18.,  1.],\n",
      "        [ 3.,  2.,  8.]])\n",
      "Ages:  43\n",
      "Model 2 for Group Clients 0 and Communication round 0\n",
      "Model 3 for Group Clients 1 and Communication round 0\n",
      "Updating model in the server...\n",
      "Updating model in the server...\n",
      "Testing in the server all the models...\n"
     ]
    },
    {
     "name": "stderr",
     "output_type": "stream",
     "text": [
      " 20%|██        | 1/5 [01:30<06:00, 90.24s/it]"
     ]
    },
    {
     "name": "stdout",
     "output_type": "stream",
     "text": [
      "0-th round, in age 43-th\n",
      "average train loss 0.0266 | test loss 0.717 | test acc: 0.821\n",
      "Model 0 for Group Clients 0 and Communication round 1\n",
      "Model 1 for Group Clients 1 and Communication round 1\n",
      "Updating model in the server...\n",
      "Updating model in the server...\n",
      "Testing in the server all the models...\n"
     ]
    },
    {
     "name": "stderr",
     "output_type": "stream",
     "text": [
      " 40%|████      | 2/5 [03:00<04:30, 90.04s/it]"
     ]
    },
    {
     "name": "stdout",
     "output_type": "stream",
     "text": [
      "1-th round, in age 43-th\n",
      "average train loss 0.0461 | test loss 0.708 | test acc: 0.821\n",
      "Model 4 for Group Clients 0 and Communication round 2\n",
      "Model 0 for Group Clients 1 and Communication round 2\n",
      "Updating model in the server...\n",
      "Updating model in the server...\n",
      "Testing in the server all the models...\n"
     ]
    },
    {
     "name": "stderr",
     "output_type": "stream",
     "text": [
      " 60%|██████    | 3/5 [04:29<02:59, 89.64s/it]"
     ]
    },
    {
     "name": "stdout",
     "output_type": "stream",
     "text": [
      "2-th round, in age 43-th\n",
      "average train loss 0.0181 | test loss 0.755 | test acc: 0.800\n",
      "Model 3 for Group Clients 0 and Communication round 3\n",
      "Model 4 for Group Clients 1 and Communication round 3\n",
      "Updating model in the server...\n",
      "Updating model in the server...\n",
      "Testing in the server all the models...\n"
     ]
    },
    {
     "name": "stderr",
     "output_type": "stream",
     "text": [
      " 80%|████████  | 4/5 [05:58<01:29, 89.60s/it]"
     ]
    },
    {
     "name": "stdout",
     "output_type": "stream",
     "text": [
      "3-th round, in age 43-th\n",
      "average train loss 0.0371 | test loss 0.767 | test acc: 0.789\n",
      "Model 1 for Group Clients 0 and Communication round 4\n",
      "Model 2 for Group Clients 1 and Communication round 4\n",
      "Updating model in the server...\n",
      "Updating model in the server...\n",
      "Testing in the server all the models...\n"
     ]
    },
    {
     "name": "stderr",
     "output_type": "stream",
     "text": [
      "100%|██████████| 5/5 [07:28<00:00, 89.63s/it]\n",
      "  0%|          | 0/5 [00:00<?, ?it/s]"
     ]
    },
    {
     "name": "stdout",
     "output_type": "stream",
     "text": [
      "4-th round, in age 43-th\n",
      "average train loss 0.0212 | test loss 0.784 | test acc: 0.789\n",
      "Confusion Matrix:  tensor([[54.,  1.,  0.],\n",
      "        [10., 16.,  1.],\n",
      "        [ 6.,  2.,  5.]])\n",
      "Ages:  44\n",
      "Model 0 for Group Clients 0 and Communication round 0\n",
      "Model 0 for Group Clients 1 and Communication round 0\n",
      "Updating model in the server...\n",
      "Updating model in the server...\n",
      "Testing in the server all the models...\n"
     ]
    },
    {
     "name": "stderr",
     "output_type": "stream",
     "text": [
      " 20%|██        | 1/5 [01:31<06:04, 91.04s/it]"
     ]
    },
    {
     "name": "stdout",
     "output_type": "stream",
     "text": [
      "0-th round, in age 44-th\n",
      "average train loss 0.0103 | test loss 0.838 | test acc: 0.789\n",
      "Model 3 for Group Clients 0 and Communication round 1\n",
      "Model 4 for Group Clients 1 and Communication round 1\n",
      "Updating model in the server...\n",
      "Updating model in the server...\n",
      "Testing in the server all the models...\n"
     ]
    },
    {
     "name": "stderr",
     "output_type": "stream",
     "text": [
      " 40%|████      | 2/5 [03:01<04:31, 90.46s/it]"
     ]
    },
    {
     "name": "stdout",
     "output_type": "stream",
     "text": [
      "1-th round, in age 44-th\n",
      "average train loss 0.0268 | test loss 0.818 | test acc: 0.779\n",
      "Model 1 for Group Clients 0 and Communication round 2\n",
      "Model 3 for Group Clients 1 and Communication round 2\n",
      "Updating model in the server...\n",
      "Updating model in the server...\n",
      "Testing in the server all the models...\n"
     ]
    },
    {
     "name": "stderr",
     "output_type": "stream",
     "text": [
      " 60%|██████    | 3/5 [04:30<03:00, 90.17s/it]"
     ]
    },
    {
     "name": "stdout",
     "output_type": "stream",
     "text": [
      "2-th round, in age 44-th\n",
      "average train loss 0.0194 | test loss 0.856 | test acc: 0.758\n",
      "Model 2 for Group Clients 0 and Communication round 3\n",
      "Model 1 for Group Clients 1 and Communication round 3\n",
      "Updating model in the server...\n",
      "Updating model in the server...\n",
      "Testing in the server all the models...\n"
     ]
    },
    {
     "name": "stderr",
     "output_type": "stream",
     "text": [
      " 80%|████████  | 4/5 [06:00<01:29, 89.82s/it]"
     ]
    },
    {
     "name": "stdout",
     "output_type": "stream",
     "text": [
      "3-th round, in age 44-th\n",
      "average train loss 0.0406 | test loss 0.893 | test acc: 0.779\n",
      "Model 4 for Group Clients 0 and Communication round 4\n",
      "Model 2 for Group Clients 1 and Communication round 4\n",
      "Updating model in the server...\n",
      "Updating model in the server...\n",
      "Testing in the server all the models...\n"
     ]
    },
    {
     "name": "stderr",
     "output_type": "stream",
     "text": [
      "100%|██████████| 5/5 [07:31<00:00, 90.25s/it]\n",
      "  0%|          | 0/5 [00:00<?, ?it/s]"
     ]
    },
    {
     "name": "stdout",
     "output_type": "stream",
     "text": [
      "4-th round, in age 44-th\n",
      "average train loss 0.017 | test loss 0.873 | test acc: 0.789\n",
      "Confusion Matrix:  tensor([[47.,  6.,  2.],\n",
      "        [ 7., 20.,  0.],\n",
      "        [ 3.,  2.,  8.]])\n",
      "Ages:  45\n",
      "Model 3 for Group Clients 0 and Communication round 0\n",
      "Model 4 for Group Clients 1 and Communication round 0\n",
      "Updating model in the server...\n",
      "Updating model in the server...\n",
      "Testing in the server all the models...\n"
     ]
    },
    {
     "name": "stderr",
     "output_type": "stream",
     "text": [
      " 20%|██        | 1/5 [01:29<05:58, 89.61s/it]"
     ]
    },
    {
     "name": "stdout",
     "output_type": "stream",
     "text": [
      "0-th round, in age 45-th\n",
      "average train loss 0.0273 | test loss 0.862 | test acc: 0.758\n",
      "Model 0 for Group Clients 0 and Communication round 1\n",
      "Model 2 for Group Clients 1 and Communication round 1\n",
      "Updating model in the server...\n",
      "Updating model in the server...\n",
      "Testing in the server all the models...\n"
     ]
    },
    {
     "name": "stderr",
     "output_type": "stream",
     "text": [
      " 40%|████      | 2/5 [02:59<04:28, 89.66s/it]"
     ]
    },
    {
     "name": "stdout",
     "output_type": "stream",
     "text": [
      "1-th round, in age 45-th\n",
      "average train loss 0.0153 | test loss 0.746 | test acc: 0.800\n",
      "Model 1 for Group Clients 0 and Communication round 2\n",
      "Model 1 for Group Clients 1 and Communication round 2\n",
      "Updating model in the server...\n",
      "Updating model in the server...\n",
      "Testing in the server all the models...\n"
     ]
    },
    {
     "name": "stderr",
     "output_type": "stream",
     "text": [
      " 60%|██████    | 3/5 [04:29<02:59, 89.90s/it]"
     ]
    },
    {
     "name": "stdout",
     "output_type": "stream",
     "text": [
      "2-th round, in age 45-th\n",
      "average train loss 0.018 | test loss 0.771 | test acc: 0.779\n",
      "Model 2 for Group Clients 0 and Communication round 3\n",
      "Model 0 for Group Clients 1 and Communication round 3\n",
      "Updating model in the server...\n",
      "Updating model in the server...\n",
      "Testing in the server all the models...\n"
     ]
    },
    {
     "name": "stderr",
     "output_type": "stream",
     "text": [
      " 80%|████████  | 4/5 [06:00<01:30, 90.20s/it]"
     ]
    },
    {
     "name": "stdout",
     "output_type": "stream",
     "text": [
      "3-th round, in age 45-th\n",
      "average train loss 0.023 | test loss 0.765 | test acc: 0.789\n",
      "Model 4 for Group Clients 0 and Communication round 4\n",
      "Model 3 for Group Clients 1 and Communication round 4\n",
      "Updating model in the server...\n",
      "Updating model in the server...\n",
      "Testing in the server all the models...\n"
     ]
    },
    {
     "name": "stderr",
     "output_type": "stream",
     "text": [
      "100%|██████████| 5/5 [07:29<00:00, 89.99s/it]\n",
      "  0%|          | 0/5 [00:00<?, ?it/s]"
     ]
    },
    {
     "name": "stdout",
     "output_type": "stream",
     "text": [
      "4-th round, in age 45-th\n",
      "average train loss 0.0153 | test loss 0.78 | test acc: 0.779\n",
      "Confusion Matrix:  tensor([[50.,  1.,  4.],\n",
      "        [ 9., 16.,  2.],\n",
      "        [ 3.,  2.,  8.]])\n",
      "Ages:  46\n",
      "Model 0 for Group Clients 0 and Communication round 0\n",
      "Model 0 for Group Clients 1 and Communication round 0\n",
      "Updating model in the server...\n",
      "Updating model in the server...\n",
      "Testing in the server all the models...\n"
     ]
    },
    {
     "name": "stderr",
     "output_type": "stream",
     "text": [
      " 20%|██        | 1/5 [01:29<05:59, 89.88s/it]"
     ]
    },
    {
     "name": "stdout",
     "output_type": "stream",
     "text": [
      "0-th round, in age 46-th\n",
      "average train loss 0.0113 | test loss 0.828 | test acc: 0.779\n",
      "Model 1 for Group Clients 0 and Communication round 1\n",
      "Model 3 for Group Clients 1 and Communication round 1\n",
      "Updating model in the server...\n",
      "Updating model in the server...\n",
      "Testing in the server all the models...\n"
     ]
    },
    {
     "name": "stderr",
     "output_type": "stream",
     "text": [
      " 40%|████      | 2/5 [02:59<04:29, 89.86s/it]"
     ]
    },
    {
     "name": "stdout",
     "output_type": "stream",
     "text": [
      "1-th round, in age 46-th\n",
      "average train loss 0.0121 | test loss 0.749 | test acc: 0.811\n",
      "Model 3 for Group Clients 0 and Communication round 2\n",
      "Model 4 for Group Clients 1 and Communication round 2\n",
      "Updating model in the server...\n",
      "Updating model in the server...\n",
      "Testing in the server all the models...\n"
     ]
    },
    {
     "name": "stderr",
     "output_type": "stream",
     "text": [
      " 60%|██████    | 3/5 [04:29<02:59, 89.79s/it]"
     ]
    },
    {
     "name": "stdout",
     "output_type": "stream",
     "text": [
      "2-th round, in age 46-th\n",
      "average train loss 0.0164 | test loss 0.706 | test acc: 0.821\n",
      "Model 2 for Group Clients 0 and Communication round 3\n",
      "Model 1 for Group Clients 1 and Communication round 3\n",
      "Updating model in the server...\n",
      "Updating model in the server...\n",
      "Testing in the server all the models...\n"
     ]
    },
    {
     "name": "stderr",
     "output_type": "stream",
     "text": [
      " 80%|████████  | 4/5 [05:59<01:29, 89.84s/it]"
     ]
    },
    {
     "name": "stdout",
     "output_type": "stream",
     "text": [
      "3-th round, in age 46-th\n",
      "average train loss 0.0255 | test loss 0.794 | test acc: 0.789\n",
      "Model 4 for Group Clients 0 and Communication round 4\n",
      "Model 2 for Group Clients 1 and Communication round 4\n",
      "Updating model in the server...\n",
      "Updating model in the server...\n",
      "Testing in the server all the models...\n"
     ]
    },
    {
     "name": "stderr",
     "output_type": "stream",
     "text": [
      "100%|██████████| 5/5 [07:29<00:00, 89.81s/it]\n",
      "  0%|          | 0/5 [00:00<?, ?it/s]"
     ]
    },
    {
     "name": "stdout",
     "output_type": "stream",
     "text": [
      "4-th round, in age 46-th\n",
      "average train loss 0.0119 | test loss 0.785 | test acc: 0.800\n",
      "Confusion Matrix:  tensor([[48.,  6.,  1.],\n",
      "        [ 6., 21.,  0.],\n",
      "        [ 3.,  3.,  7.]])\n",
      "Ages:  47\n",
      "Model 1 for Group Clients 0 and Communication round 0\n",
      "Model 4 for Group Clients 1 and Communication round 0\n",
      "Updating model in the server...\n",
      "Updating model in the server...\n",
      "Testing in the server all the models...\n"
     ]
    },
    {
     "name": "stderr",
     "output_type": "stream",
     "text": [
      " 20%|██        | 1/5 [01:29<05:58, 89.66s/it]"
     ]
    },
    {
     "name": "stdout",
     "output_type": "stream",
     "text": [
      "0-th round, in age 47-th\n",
      "average train loss 0.0208 | test loss 0.768 | test acc: 0.811\n",
      "Model 4 for Group Clients 0 and Communication round 1\n",
      "Model 3 for Group Clients 1 and Communication round 1\n",
      "Updating model in the server...\n",
      "Updating model in the server...\n",
      "Testing in the server all the models...\n"
     ]
    },
    {
     "name": "stderr",
     "output_type": "stream",
     "text": [
      " 40%|████      | 2/5 [02:59<04:29, 89.73s/it]"
     ]
    },
    {
     "name": "stdout",
     "output_type": "stream",
     "text": [
      "1-th round, in age 47-th\n",
      "average train loss 0.00992 | test loss 0.8 | test acc: 0.811\n",
      "Model 2 for Group Clients 0 and Communication round 2\n",
      "Model 1 for Group Clients 1 and Communication round 2\n",
      "Updating model in the server...\n",
      "Updating model in the server...\n",
      "Testing in the server all the models...\n"
     ]
    },
    {
     "name": "stderr",
     "output_type": "stream",
     "text": [
      " 60%|██████    | 3/5 [04:30<03:00, 90.31s/it]"
     ]
    },
    {
     "name": "stdout",
     "output_type": "stream",
     "text": [
      "2-th round, in age 47-th\n",
      "average train loss 0.0192 | test loss 0.848 | test acc: 0.789\n",
      "Model 0 for Group Clients 0 and Communication round 3\n",
      "Model 2 for Group Clients 1 and Communication round 3\n",
      "Updating model in the server...\n",
      "Updating model in the server...\n",
      "Testing in the server all the models...\n"
     ]
    },
    {
     "name": "stderr",
     "output_type": "stream",
     "text": [
      " 80%|████████  | 4/5 [05:59<01:29, 89.71s/it]"
     ]
    },
    {
     "name": "stdout",
     "output_type": "stream",
     "text": [
      "3-th round, in age 47-th\n",
      "average train loss 0.0171 | test loss 0.785 | test acc: 0.832\n",
      "Model 3 for Group Clients 0 and Communication round 4\n",
      "Model 0 for Group Clients 1 and Communication round 4\n",
      "Updating model in the server...\n",
      "Updating model in the server...\n",
      "Testing in the server all the models...\n"
     ]
    },
    {
     "name": "stderr",
     "output_type": "stream",
     "text": [
      "100%|██████████| 5/5 [07:29<00:00, 89.98s/it]\n",
      "  0%|          | 0/5 [00:00<?, ?it/s]"
     ]
    },
    {
     "name": "stdout",
     "output_type": "stream",
     "text": [
      "4-th round, in age 47-th\n",
      "average train loss 0.0194 | test loss 0.76 | test acc: 0.811\n",
      "Confusion Matrix:  tensor([[48.,  3.,  4.],\n",
      "        [ 5., 21.,  1.],\n",
      "        [ 3.,  2.,  8.]])\n",
      "Ages:  48\n",
      "Model 2 for Group Clients 0 and Communication round 0\n",
      "Model 3 for Group Clients 1 and Communication round 0\n",
      "Updating model in the server...\n",
      "Updating model in the server...\n",
      "Testing in the server all the models...\n"
     ]
    },
    {
     "name": "stderr",
     "output_type": "stream",
     "text": [
      " 20%|██        | 1/5 [01:29<05:59, 89.99s/it]"
     ]
    },
    {
     "name": "stdout",
     "output_type": "stream",
     "text": [
      "0-th round, in age 48-th\n",
      "average train loss 0.0131 | test loss 0.766 | test acc: 0.811\n",
      "Model 4 for Group Clients 0 and Communication round 1\n",
      "Model 1 for Group Clients 1 and Communication round 1\n",
      "Updating model in the server...\n",
      "Updating model in the server...\n",
      "Testing in the server all the models...\n"
     ]
    },
    {
     "name": "stderr",
     "output_type": "stream",
     "text": [
      " 40%|████      | 2/5 [03:01<04:32, 90.69s/it]"
     ]
    },
    {
     "name": "stdout",
     "output_type": "stream",
     "text": [
      "1-th round, in age 48-th\n",
      "average train loss 0.0319 | test loss 0.846 | test acc: 0.800\n",
      "Model 0 for Group Clients 0 and Communication round 2\n",
      "Model 4 for Group Clients 1 and Communication round 2\n",
      "Updating model in the server...\n",
      "Updating model in the server...\n",
      "Testing in the server all the models...\n"
     ]
    },
    {
     "name": "stderr",
     "output_type": "stream",
     "text": [
      " 60%|██████    | 3/5 [04:31<03:00, 90.34s/it]"
     ]
    },
    {
     "name": "stdout",
     "output_type": "stream",
     "text": [
      "2-th round, in age 48-th\n",
      "average train loss 0.0166 | test loss 0.815 | test acc: 0.800\n",
      "Model 3 for Group Clients 0 and Communication round 3\n",
      "Model 2 for Group Clients 1 and Communication round 3\n",
      "Updating model in the server...\n",
      "Updating model in the server...\n",
      "Testing in the server all the models...\n"
     ]
    },
    {
     "name": "stderr",
     "output_type": "stream",
     "text": [
      " 80%|████████  | 4/5 [06:01<01:30, 90.21s/it]"
     ]
    },
    {
     "name": "stdout",
     "output_type": "stream",
     "text": [
      "3-th round, in age 48-th\n",
      "average train loss 0.0111 | test loss 0.817 | test acc: 0.789\n",
      "Model 1 for Group Clients 0 and Communication round 4\n",
      "Model 0 for Group Clients 1 and Communication round 4\n",
      "Updating model in the server...\n",
      "Updating model in the server...\n",
      "Testing in the server all the models...\n"
     ]
    },
    {
     "name": "stderr",
     "output_type": "stream",
     "text": [
      "100%|██████████| 5/5 [07:31<00:00, 90.24s/it]\n",
      "  0%|          | 0/5 [00:00<?, ?it/s]"
     ]
    },
    {
     "name": "stdout",
     "output_type": "stream",
     "text": [
      "4-th round, in age 48-th\n",
      "average train loss 0.0134 | test loss 0.765 | test acc: 0.821\n",
      "Confusion Matrix:  tensor([[51.,  2.,  2.],\n",
      "        [ 7., 19.,  1.],\n",
      "        [ 3.,  2.,  8.]])\n",
      "Ages:  49\n",
      "Model 2 for Group Clients 0 and Communication round 0\n",
      "Model 2 for Group Clients 1 and Communication round 0\n",
      "Updating model in the server...\n",
      "Updating model in the server...\n",
      "Testing in the server all the models...\n"
     ]
    },
    {
     "name": "stderr",
     "output_type": "stream",
     "text": [
      " 20%|██        | 1/5 [01:29<05:57, 89.46s/it]"
     ]
    },
    {
     "name": "stdout",
     "output_type": "stream",
     "text": [
      "0-th round, in age 49-th\n",
      "average train loss 0.00645 | test loss 0.789 | test acc: 0.821\n",
      "Model 0 for Group Clients 0 and Communication round 1\n",
      "Model 1 for Group Clients 1 and Communication round 1\n",
      "Updating model in the server...\n",
      "Updating model in the server...\n",
      "Testing in the server all the models...\n"
     ]
    },
    {
     "name": "stderr",
     "output_type": "stream",
     "text": [
      " 40%|████      | 2/5 [02:59<04:29, 89.98s/it]"
     ]
    },
    {
     "name": "stdout",
     "output_type": "stream",
     "text": [
      "1-th round, in age 49-th\n",
      "average train loss 0.0239 | test loss 0.784 | test acc: 0.789\n",
      "Model 3 for Group Clients 0 and Communication round 2\n",
      "Model 0 for Group Clients 1 and Communication round 2\n",
      "Updating model in the server...\n",
      "Updating model in the server...\n",
      "Testing in the server all the models...\n"
     ]
    },
    {
     "name": "stderr",
     "output_type": "stream",
     "text": [
      " 60%|██████    | 3/5 [04:30<03:00, 90.18s/it]"
     ]
    },
    {
     "name": "stdout",
     "output_type": "stream",
     "text": [
      "2-th round, in age 49-th\n",
      "average train loss 0.00882 | test loss 0.893 | test acc: 0.758\n",
      "Model 4 for Group Clients 0 and Communication round 3\n",
      "Model 3 for Group Clients 1 and Communication round 3\n",
      "Updating model in the server...\n",
      "Updating model in the server...\n",
      "Testing in the server all the models...\n"
     ]
    },
    {
     "name": "stderr",
     "output_type": "stream",
     "text": [
      " 80%|████████  | 4/5 [06:00<01:30, 90.18s/it]"
     ]
    },
    {
     "name": "stdout",
     "output_type": "stream",
     "text": [
      "3-th round, in age 49-th\n",
      "average train loss 0.0178 | test loss 0.878 | test acc: 0.779\n",
      "Model 1 for Group Clients 0 and Communication round 4\n",
      "Model 4 for Group Clients 1 and Communication round 4\n",
      "Updating model in the server...\n",
      "Updating model in the server...\n",
      "Testing in the server all the models...\n"
     ]
    },
    {
     "name": "stderr",
     "output_type": "stream",
     "text": [
      "100%|██████████| 5/5 [07:30<00:00, 90.08s/it]\n",
      "  0%|          | 0/5 [00:00<?, ?it/s]"
     ]
    },
    {
     "name": "stdout",
     "output_type": "stream",
     "text": [
      "4-th round, in age 49-th\n",
      "average train loss 0.0234 | test loss 0.839 | test acc: 0.768\n",
      "Confusion Matrix:  tensor([[47.,  4.,  4.],\n",
      "        [ 8., 18.,  1.],\n",
      "        [ 3.,  2.,  8.]])\n",
      "Ages:  50\n",
      "Model 4 for Group Clients 0 and Communication round 0\n",
      "Model 0 for Group Clients 1 and Communication round 0\n",
      "Updating model in the server...\n",
      "Updating model in the server...\n",
      "Testing in the server all the models...\n"
     ]
    },
    {
     "name": "stderr",
     "output_type": "stream",
     "text": [
      " 20%|██        | 1/5 [01:30<06:02, 90.59s/it]"
     ]
    },
    {
     "name": "stdout",
     "output_type": "stream",
     "text": [
      "0-th round, in age 50-th\n",
      "average train loss 0.00683 | test loss 0.823 | test acc: 0.811\n",
      "Model 2 for Group Clients 0 and Communication round 1\n",
      "Model 4 for Group Clients 1 and Communication round 1\n",
      "Updating model in the server...\n",
      "Updating model in the server...\n",
      "Testing in the server all the models...\n"
     ]
    },
    {
     "name": "stderr",
     "output_type": "stream",
     "text": [
      " 40%|████      | 2/5 [03:01<04:31, 90.54s/it]"
     ]
    },
    {
     "name": "stdout",
     "output_type": "stream",
     "text": [
      "1-th round, in age 50-th\n",
      "average train loss 0.00915 | test loss 0.782 | test acc: 0.821\n",
      "Model 0 for Group Clients 0 and Communication round 2\n",
      "Model 3 for Group Clients 1 and Communication round 2\n",
      "Updating model in the server...\n",
      "Updating model in the server...\n",
      "Testing in the server all the models...\n"
     ]
    },
    {
     "name": "stderr",
     "output_type": "stream",
     "text": [
      " 60%|██████    | 3/5 [04:29<02:59, 89.74s/it]"
     ]
    },
    {
     "name": "stdout",
     "output_type": "stream",
     "text": [
      "2-th round, in age 50-th\n",
      "average train loss 0.0124 | test loss 0.7 | test acc: 0.874\n",
      "Model 1 for Group Clients 0 and Communication round 3\n",
      "Model 2 for Group Clients 1 and Communication round 3\n",
      "Updating model in the server...\n",
      "Updating model in the server...\n",
      "Testing in the server all the models...\n"
     ]
    },
    {
     "name": "stderr",
     "output_type": "stream",
     "text": [
      " 80%|████████  | 4/5 [05:59<01:29, 89.85s/it]"
     ]
    },
    {
     "name": "stdout",
     "output_type": "stream",
     "text": [
      "3-th round, in age 50-th\n",
      "average train loss 0.00669 | test loss 0.779 | test acc: 0.842\n",
      "Model 3 for Group Clients 0 and Communication round 4\n",
      "Model 1 for Group Clients 1 and Communication round 4\n",
      "Updating model in the server...\n",
      "Updating model in the server...\n",
      "Testing in the server all the models...\n"
     ]
    },
    {
     "name": "stderr",
     "output_type": "stream",
     "text": [
      "100%|██████████| 5/5 [07:31<00:00, 90.29s/it]\n",
      "  0%|          | 0/5 [00:00<?, ?it/s]"
     ]
    },
    {
     "name": "stdout",
     "output_type": "stream",
     "text": [
      "4-th round, in age 50-th\n",
      "average train loss 0.0138 | test loss 0.716 | test acc: 0.832\n",
      "Confusion Matrix:  tensor([[51.,  1.,  3.],\n",
      "        [ 6., 19.,  2.],\n",
      "        [ 3.,  1.,  9.]])\n",
      "Ages:  51\n",
      "Model 4 for Group Clients 0 and Communication round 0\n",
      "Model 2 for Group Clients 1 and Communication round 0\n",
      "Updating model in the server...\n",
      "Updating model in the server...\n",
      "Testing in the server all the models...\n"
     ]
    },
    {
     "name": "stderr",
     "output_type": "stream",
     "text": [
      " 20%|██        | 1/5 [01:29<05:59, 89.94s/it]"
     ]
    },
    {
     "name": "stdout",
     "output_type": "stream",
     "text": [
      "0-th round, in age 51-th\n",
      "average train loss 0.00638 | test loss 0.695 | test acc: 0.853\n",
      "Model 0 for Group Clients 0 and Communication round 1\n",
      "Model 4 for Group Clients 1 and Communication round 1\n",
      "Updating model in the server...\n",
      "Updating model in the server...\n",
      "Testing in the server all the models...\n"
     ]
    },
    {
     "name": "stderr",
     "output_type": "stream",
     "text": [
      " 40%|████      | 2/5 [03:00<04:30, 90.12s/it]"
     ]
    },
    {
     "name": "stdout",
     "output_type": "stream",
     "text": [
      "1-th round, in age 51-th\n",
      "average train loss 0.0135 | test loss 0.762 | test acc: 0.832\n",
      "Model 1 for Group Clients 0 and Communication round 2\n",
      "Model 0 for Group Clients 1 and Communication round 2\n",
      "Updating model in the server...\n",
      "Updating model in the server...\n",
      "Testing in the server all the models...\n"
     ]
    },
    {
     "name": "stderr",
     "output_type": "stream",
     "text": [
      " 60%|██████    | 3/5 [04:30<03:00, 90.27s/it]"
     ]
    },
    {
     "name": "stdout",
     "output_type": "stream",
     "text": [
      "2-th round, in age 51-th\n",
      "average train loss 0.0117 | test loss 0.801 | test acc: 0.821\n",
      "Model 2 for Group Clients 0 and Communication round 3\n",
      "Model 1 for Group Clients 1 and Communication round 3\n",
      "Updating model in the server...\n",
      "Updating model in the server...\n",
      "Testing in the server all the models...\n"
     ]
    },
    {
     "name": "stderr",
     "output_type": "stream",
     "text": [
      " 80%|████████  | 4/5 [06:00<01:29, 89.93s/it]"
     ]
    },
    {
     "name": "stdout",
     "output_type": "stream",
     "text": [
      "3-th round, in age 51-th\n",
      "average train loss 0.0216 | test loss 0.843 | test acc: 0.800\n",
      "Model 3 for Group Clients 0 and Communication round 4\n",
      "Model 3 for Group Clients 1 and Communication round 4\n",
      "Updating model in the server...\n",
      "Updating model in the server...\n",
      "Testing in the server all the models...\n"
     ]
    },
    {
     "name": "stderr",
     "output_type": "stream",
     "text": [
      "100%|██████████| 5/5 [07:28<00:00, 89.68s/it]\n",
      "  0%|          | 0/5 [00:00<?, ?it/s]"
     ]
    },
    {
     "name": "stdout",
     "output_type": "stream",
     "text": [
      "4-th round, in age 51-th\n",
      "average train loss 0.0103 | test loss 0.928 | test acc: 0.758\n",
      "Confusion Matrix:  tensor([[46.,  2.,  7.],\n",
      "        [ 8., 18.,  1.],\n",
      "        [ 3.,  2.,  8.]])\n",
      "Ages:  52\n",
      "Model 3 for Group Clients 0 and Communication round 0\n",
      "Model 3 for Group Clients 1 and Communication round 0\n",
      "Updating model in the server...\n",
      "Updating model in the server...\n",
      "Testing in the server all the models...\n"
     ]
    },
    {
     "name": "stderr",
     "output_type": "stream",
     "text": [
      " 20%|██        | 1/5 [01:29<05:58, 89.59s/it]"
     ]
    },
    {
     "name": "stdout",
     "output_type": "stream",
     "text": [
      "0-th round, in age 52-th\n",
      "average train loss 0.0103 | test loss 0.944 | test acc: 0.768\n",
      "Model 4 for Group Clients 0 and Communication round 1\n",
      "Model 2 for Group Clients 1 and Communication round 1\n",
      "Updating model in the server...\n",
      "Updating model in the server...\n",
      "Testing in the server all the models...\n"
     ]
    },
    {
     "name": "stderr",
     "output_type": "stream",
     "text": [
      " 40%|████      | 2/5 [02:59<04:29, 89.87s/it]"
     ]
    },
    {
     "name": "stdout",
     "output_type": "stream",
     "text": [
      "1-th round, in age 52-th\n",
      "average train loss 0.00581 | test loss 0.905 | test acc: 0.779\n",
      "Model 2 for Group Clients 0 and Communication round 2\n",
      "Model 4 for Group Clients 1 and Communication round 2\n",
      "Updating model in the server...\n",
      "Updating model in the server...\n",
      "Testing in the server all the models...\n"
     ]
    },
    {
     "name": "stderr",
     "output_type": "stream",
     "text": [
      " 60%|██████    | 3/5 [04:30<03:00, 90.13s/it]"
     ]
    },
    {
     "name": "stdout",
     "output_type": "stream",
     "text": [
      "2-th round, in age 52-th\n",
      "average train loss 0.00903 | test loss 0.899 | test acc: 0.737\n",
      "Model 0 for Group Clients 0 and Communication round 3\n",
      "Model 1 for Group Clients 1 and Communication round 3\n",
      "Updating model in the server...\n",
      "Updating model in the server...\n",
      "Testing in the server all the models...\n"
     ]
    },
    {
     "name": "stderr",
     "output_type": "stream",
     "text": [
      " 80%|████████  | 4/5 [05:58<01:29, 89.59s/it]"
     ]
    },
    {
     "name": "stdout",
     "output_type": "stream",
     "text": [
      "3-th round, in age 52-th\n",
      "average train loss 0.0153 | test loss 0.795 | test acc: 0.779\n",
      "Model 1 for Group Clients 0 and Communication round 4\n",
      "Model 0 for Group Clients 1 and Communication round 4\n",
      "Updating model in the server...\n",
      "Updating model in the server...\n",
      "Testing in the server all the models...\n"
     ]
    },
    {
     "name": "stderr",
     "output_type": "stream",
     "text": [
      "100%|██████████| 5/5 [07:29<00:00, 89.92s/it]\n",
      "  0%|          | 0/5 [00:00<?, ?it/s]"
     ]
    },
    {
     "name": "stdout",
     "output_type": "stream",
     "text": [
      "4-th round, in age 52-th\n",
      "average train loss 0.00531 | test loss 0.789 | test acc: 0.811\n",
      "Confusion Matrix:  tensor([[46.,  5.,  4.],\n",
      "        [ 5., 21.,  1.],\n",
      "        [ 2.,  1., 10.]])\n",
      "Ages:  53\n",
      "Model 1 for Group Clients 0 and Communication round 0\n",
      "Model 0 for Group Clients 1 and Communication round 0\n",
      "Updating model in the server...\n",
      "Updating model in the server...\n",
      "Testing in the server all the models...\n"
     ]
    },
    {
     "name": "stderr",
     "output_type": "stream",
     "text": [
      " 20%|██        | 1/5 [01:30<06:00, 90.17s/it]"
     ]
    },
    {
     "name": "stdout",
     "output_type": "stream",
     "text": [
      "0-th round, in age 53-th\n",
      "average train loss 0.00606 | test loss 0.848 | test acc: 0.800\n",
      "Model 2 for Group Clients 0 and Communication round 1\n",
      "Model 2 for Group Clients 1 and Communication round 1\n",
      "Updating model in the server...\n",
      "Updating model in the server...\n",
      "Testing in the server all the models...\n"
     ]
    },
    {
     "name": "stderr",
     "output_type": "stream",
     "text": [
      " 40%|████      | 2/5 [02:59<04:28, 89.54s/it]"
     ]
    },
    {
     "name": "stdout",
     "output_type": "stream",
     "text": [
      "1-th round, in age 53-th\n",
      "average train loss 0.0075 | test loss 0.91 | test acc: 0.789\n",
      "Model 0 for Group Clients 0 and Communication round 2\n",
      "Model 1 for Group Clients 1 and Communication round 2\n",
      "Updating model in the server...\n",
      "Updating model in the server...\n",
      "Testing in the server all the models...\n"
     ]
    },
    {
     "name": "stderr",
     "output_type": "stream",
     "text": [
      " 60%|██████    | 3/5 [04:29<02:59, 89.93s/it]"
     ]
    },
    {
     "name": "stdout",
     "output_type": "stream",
     "text": [
      "2-th round, in age 53-th\n",
      "average train loss 0.0125 | test loss 0.845 | test acc: 0.779\n",
      "Model 3 for Group Clients 0 and Communication round 3\n",
      "Model 3 for Group Clients 1 and Communication round 3\n",
      "Updating model in the server...\n",
      "Updating model in the server...\n",
      "Testing in the server all the models...\n"
     ]
    },
    {
     "name": "stderr",
     "output_type": "stream",
     "text": [
      " 80%|████████  | 4/5 [05:58<01:29, 89.51s/it]"
     ]
    },
    {
     "name": "stdout",
     "output_type": "stream",
     "text": [
      "3-th round, in age 53-th\n",
      "average train loss 0.0068 | test loss 0.858 | test acc: 0.779\n",
      "Model 4 for Group Clients 0 and Communication round 4\n",
      "Model 4 for Group Clients 1 and Communication round 4\n",
      "Updating model in the server...\n",
      "Updating model in the server...\n",
      "Testing in the server all the models...\n"
     ]
    },
    {
     "name": "stderr",
     "output_type": "stream",
     "text": [
      "100%|██████████| 5/5 [07:29<00:00, 90.00s/it]\n",
      "  0%|          | 0/5 [00:00<?, ?it/s]"
     ]
    },
    {
     "name": "stdout",
     "output_type": "stream",
     "text": [
      "4-th round, in age 53-th\n",
      "average train loss 0.00972 | test loss 0.905 | test acc: 0.747\n",
      "Confusion Matrix:  tensor([[48.,  2.,  5.],\n",
      "        [10., 16.,  1.],\n",
      "        [ 4.,  2.,  7.]])\n",
      "Ages:  54\n",
      "Model 0 for Group Clients 0 and Communication round 0\n",
      "Model 3 for Group Clients 1 and Communication round 0\n",
      "Updating model in the server...\n",
      "Updating model in the server...\n",
      "Testing in the server all the models...\n"
     ]
    },
    {
     "name": "stderr",
     "output_type": "stream",
     "text": [
      " 20%|██        | 1/5 [01:29<05:57, 89.36s/it]"
     ]
    },
    {
     "name": "stdout",
     "output_type": "stream",
     "text": [
      "0-th round, in age 54-th\n",
      "average train loss 0.0108 | test loss 0.937 | test acc: 0.737\n",
      "Model 4 for Group Clients 0 and Communication round 1\n",
      "Model 2 for Group Clients 1 and Communication round 1\n",
      "Updating model in the server...\n",
      "Updating model in the server...\n",
      "Testing in the server all the models...\n"
     ]
    },
    {
     "name": "stderr",
     "output_type": "stream",
     "text": [
      " 40%|████      | 2/5 [02:59<04:28, 89.60s/it]"
     ]
    },
    {
     "name": "stdout",
     "output_type": "stream",
     "text": [
      "1-th round, in age 54-th\n",
      "average train loss 0.00633 | test loss 0.861 | test acc: 0.800\n",
      "Model 1 for Group Clients 0 and Communication round 2\n",
      "Model 4 for Group Clients 1 and Communication round 2\n",
      "Updating model in the server...\n",
      "Updating model in the server...\n",
      "Testing in the server all the models...\n"
     ]
    },
    {
     "name": "stderr",
     "output_type": "stream",
     "text": [
      " 60%|██████    | 3/5 [04:29<03:00, 90.01s/it]"
     ]
    },
    {
     "name": "stdout",
     "output_type": "stream",
     "text": [
      "2-th round, in age 54-th\n",
      "average train loss 0.00827 | test loss 0.869 | test acc: 0.811\n",
      "Model 2 for Group Clients 0 and Communication round 3\n",
      "Model 0 for Group Clients 1 and Communication round 3\n",
      "Updating model in the server...\n",
      "Updating model in the server...\n",
      "Testing in the server all the models...\n"
     ]
    },
    {
     "name": "stderr",
     "output_type": "stream",
     "text": [
      " 80%|████████  | 4/5 [05:58<01:29, 89.69s/it]"
     ]
    },
    {
     "name": "stdout",
     "output_type": "stream",
     "text": [
      "3-th round, in age 54-th\n",
      "average train loss 0.00567 | test loss 0.853 | test acc: 0.811\n",
      "Model 3 for Group Clients 0 and Communication round 4\n",
      "Model 1 for Group Clients 1 and Communication round 4\n",
      "Updating model in the server...\n",
      "Updating model in the server...\n",
      "Testing in the server all the models...\n"
     ]
    },
    {
     "name": "stderr",
     "output_type": "stream",
     "text": [
      "100%|██████████| 5/5 [07:29<00:00, 89.91s/it]\n",
      "  0%|          | 0/5 [00:00<?, ?it/s]"
     ]
    },
    {
     "name": "stdout",
     "output_type": "stream",
     "text": [
      "4-th round, in age 54-th\n",
      "average train loss 0.0114 | test loss 0.773 | test acc: 0.811\n",
      "Confusion Matrix:  tensor([[47.,  5.,  3.],\n",
      "        [ 7., 19.,  1.],\n",
      "        [ 2.,  0., 11.]])\n",
      "Ages:  55\n",
      "Model 4 for Group Clients 0 and Communication round 0\n",
      "Model 2 for Group Clients 1 and Communication round 0\n",
      "Updating model in the server...\n",
      "Updating model in the server...\n",
      "Testing in the server all the models...\n"
     ]
    },
    {
     "name": "stderr",
     "output_type": "stream",
     "text": [
      " 20%|██        | 1/5 [01:29<05:57, 89.39s/it]"
     ]
    },
    {
     "name": "stdout",
     "output_type": "stream",
     "text": [
      "0-th round, in age 55-th\n",
      "average train loss 0.00694 | test loss 0.803 | test acc: 0.800\n",
      "Model 3 for Group Clients 0 and Communication round 1\n",
      "Model 3 for Group Clients 1 and Communication round 1\n",
      "Updating model in the server...\n",
      "Updating model in the server...\n",
      "Testing in the server all the models...\n"
     ]
    },
    {
     "name": "stderr",
     "output_type": "stream",
     "text": [
      " 40%|████      | 2/5 [02:59<04:29, 89.94s/it]"
     ]
    },
    {
     "name": "stdout",
     "output_type": "stream",
     "text": [
      "1-th round, in age 55-th\n",
      "average train loss 0.0111 | test loss 0.876 | test acc: 0.779\n",
      "Model 0 for Group Clients 0 and Communication round 2\n",
      "Model 4 for Group Clients 1 and Communication round 2\n",
      "Updating model in the server...\n",
      "Updating model in the server...\n",
      "Testing in the server all the models...\n"
     ]
    },
    {
     "name": "stderr",
     "output_type": "stream",
     "text": [
      " 60%|██████    | 3/5 [04:28<02:59, 89.51s/it]"
     ]
    },
    {
     "name": "stdout",
     "output_type": "stream",
     "text": [
      "2-th round, in age 55-th\n",
      "average train loss 0.00575 | test loss 0.824 | test acc: 0.779\n",
      "Model 1 for Group Clients 0 and Communication round 3\n",
      "Model 1 for Group Clients 1 and Communication round 3\n",
      "Updating model in the server...\n",
      "Updating model in the server...\n",
      "Testing in the server all the models...\n"
     ]
    },
    {
     "name": "stderr",
     "output_type": "stream",
     "text": [
      " 80%|████████  | 4/5 [05:58<01:29, 89.64s/it]"
     ]
    },
    {
     "name": "stdout",
     "output_type": "stream",
     "text": [
      "3-th round, in age 55-th\n",
      "average train loss 0.009 | test loss 0.846 | test acc: 0.768\n",
      "Model 2 for Group Clients 0 and Communication round 4\n",
      "Model 0 for Group Clients 1 and Communication round 4\n",
      "Updating model in the server...\n",
      "Updating model in the server...\n",
      "Testing in the server all the models...\n"
     ]
    },
    {
     "name": "stderr",
     "output_type": "stream",
     "text": [
      "100%|██████████| 5/5 [07:29<00:00, 89.90s/it]\n",
      "  0%|          | 0/5 [00:00<?, ?it/s]"
     ]
    },
    {
     "name": "stdout",
     "output_type": "stream",
     "text": [
      "4-th round, in age 55-th\n",
      "average train loss 0.00676 | test loss 0.85 | test acc: 0.737\n",
      "Confusion Matrix:  tensor([[45.,  5.,  5.],\n",
      "        [ 9., 17.,  1.],\n",
      "        [ 3.,  2.,  8.]])\n",
      "Ages:  56\n",
      "Model 4 for Group Clients 0 and Communication round 0\n",
      "Model 2 for Group Clients 1 and Communication round 0\n",
      "Updating model in the server...\n",
      "Updating model in the server...\n",
      "Testing in the server all the models...\n"
     ]
    },
    {
     "name": "stderr",
     "output_type": "stream",
     "text": [
      " 20%|██        | 1/5 [01:31<06:05, 91.30s/it]"
     ]
    },
    {
     "name": "stdout",
     "output_type": "stream",
     "text": [
      "0-th round, in age 56-th\n",
      "average train loss 0.00655 | test loss 0.862 | test acc: 0.768\n",
      "Model 0 for Group Clients 0 and Communication round 1\n",
      "Model 0 for Group Clients 1 and Communication round 1\n",
      "Updating model in the server...\n",
      "Updating model in the server...\n",
      "Testing in the server all the models...\n"
     ]
    },
    {
     "name": "stderr",
     "output_type": "stream",
     "text": [
      " 40%|████      | 2/5 [02:59<04:28, 89.66s/it]"
     ]
    },
    {
     "name": "stdout",
     "output_type": "stream",
     "text": [
      "1-th round, in age 56-th\n",
      "average train loss 0.00272 | test loss 0.917 | test acc: 0.758\n",
      "Model 2 for Group Clients 0 and Communication round 2\n",
      "Model 1 for Group Clients 1 and Communication round 2\n",
      "Updating model in the server...\n",
      "Updating model in the server...\n",
      "Testing in the server all the models...\n"
     ]
    },
    {
     "name": "stderr",
     "output_type": "stream",
     "text": [
      " 60%|██████    | 3/5 [04:30<03:00, 90.16s/it]"
     ]
    },
    {
     "name": "stdout",
     "output_type": "stream",
     "text": [
      "2-th round, in age 56-th\n",
      "average train loss 0.0169 | test loss 0.883 | test acc: 0.811\n",
      "Model 3 for Group Clients 0 and Communication round 3\n",
      "Model 4 for Group Clients 1 and Communication round 3\n",
      "Updating model in the server...\n",
      "Updating model in the server...\n",
      "Testing in the server all the models...\n"
     ]
    },
    {
     "name": "stderr",
     "output_type": "stream",
     "text": [
      " 80%|████████  | 4/5 [06:00<01:29, 89.97s/it]"
     ]
    },
    {
     "name": "stdout",
     "output_type": "stream",
     "text": [
      "3-th round, in age 56-th\n",
      "average train loss 0.00847 | test loss 0.898 | test acc: 0.789\n",
      "Model 1 for Group Clients 0 and Communication round 4\n",
      "Model 3 for Group Clients 1 and Communication round 4\n",
      "Updating model in the server...\n",
      "Updating model in the server...\n",
      "Testing in the server all the models...\n"
     ]
    },
    {
     "name": "stderr",
     "output_type": "stream",
     "text": [
      "100%|██████████| 5/5 [07:30<00:00, 90.05s/it]\n",
      "  0%|          | 0/5 [00:00<?, ?it/s]"
     ]
    },
    {
     "name": "stdout",
     "output_type": "stream",
     "text": [
      "4-th round, in age 56-th\n",
      "average train loss 0.00807 | test loss 0.88 | test acc: 0.821\n",
      "Confusion Matrix:  tensor([[51.,  1.,  3.],\n",
      "        [ 9., 17.,  1.],\n",
      "        [ 3.,  0., 10.]])\n",
      "Ages:  57\n",
      "Model 2 for Group Clients 0 and Communication round 0\n",
      "Model 1 for Group Clients 1 and Communication round 0\n",
      "Updating model in the server...\n",
      "Updating model in the server...\n",
      "Testing in the server all the models...\n"
     ]
    },
    {
     "name": "stderr",
     "output_type": "stream",
     "text": [
      " 20%|██        | 1/5 [01:29<05:59, 89.77s/it]"
     ]
    },
    {
     "name": "stdout",
     "output_type": "stream",
     "text": [
      "0-th round, in age 57-th\n",
      "average train loss 0.00871 | test loss 0.941 | test acc: 0.779\n",
      "Model 4 for Group Clients 0 and Communication round 1\n",
      "Model 2 for Group Clients 1 and Communication round 1\n",
      "Updating model in the server...\n",
      "Updating model in the server...\n",
      "Testing in the server all the models...\n"
     ]
    },
    {
     "name": "stderr",
     "output_type": "stream",
     "text": [
      " 40%|████      | 2/5 [02:59<04:29, 89.87s/it]"
     ]
    },
    {
     "name": "stdout",
     "output_type": "stream",
     "text": [
      "1-th round, in age 57-th\n",
      "average train loss 0.00379 | test loss 0.931 | test acc: 0.768\n",
      "Model 0 for Group Clients 0 and Communication round 2\n",
      "Model 0 for Group Clients 1 and Communication round 2\n",
      "Updating model in the server...\n",
      "Updating model in the server...\n",
      "Testing in the server all the models...\n"
     ]
    },
    {
     "name": "stderr",
     "output_type": "stream",
     "text": [
      " 60%|██████    | 3/5 [04:29<02:59, 90.00s/it]"
     ]
    },
    {
     "name": "stdout",
     "output_type": "stream",
     "text": [
      "2-th round, in age 57-th\n",
      "average train loss 0.00284 | test loss 0.941 | test acc: 0.768\n",
      "Model 3 for Group Clients 0 and Communication round 3\n",
      "Model 4 for Group Clients 1 and Communication round 3\n",
      "Updating model in the server...\n",
      "Updating model in the server...\n",
      "Testing in the server all the models...\n"
     ]
    },
    {
     "name": "stderr",
     "output_type": "stream",
     "text": [
      " 80%|████████  | 4/5 [06:00<01:30, 90.27s/it]"
     ]
    },
    {
     "name": "stdout",
     "output_type": "stream",
     "text": [
      "3-th round, in age 57-th\n",
      "average train loss 0.00648 | test loss 0.969 | test acc: 0.779\n",
      "Model 1 for Group Clients 0 and Communication round 4\n",
      "Model 3 for Group Clients 1 and Communication round 4\n",
      "Updating model in the server...\n",
      "Updating model in the server...\n",
      "Testing in the server all the models...\n"
     ]
    },
    {
     "name": "stderr",
     "output_type": "stream",
     "text": [
      "100%|██████████| 5/5 [07:30<00:00, 90.18s/it]\n",
      "  0%|          | 0/5 [00:00<?, ?it/s]"
     ]
    },
    {
     "name": "stdout",
     "output_type": "stream",
     "text": [
      "4-th round, in age 57-th\n",
      "average train loss 0.0156 | test loss 0.958 | test acc: 0.768\n",
      "Confusion Matrix:  tensor([[49.,  3.,  3.],\n",
      "        [10., 17.,  0.],\n",
      "        [ 3.,  3.,  7.]])\n",
      "Ages:  58\n",
      "Model 0 for Group Clients 0 and Communication round 0\n",
      "Model 1 for Group Clients 1 and Communication round 0\n",
      "Updating model in the server...\n",
      "Updating model in the server...\n",
      "Testing in the server all the models...\n"
     ]
    },
    {
     "name": "stderr",
     "output_type": "stream",
     "text": [
      " 20%|██        | 1/5 [01:28<05:55, 88.94s/it]"
     ]
    },
    {
     "name": "stdout",
     "output_type": "stream",
     "text": [
      "0-th round, in age 58-th\n",
      "average train loss 0.00653 | test loss 0.867 | test acc: 0.779\n",
      "Model 3 for Group Clients 0 and Communication round 1\n",
      "Model 0 for Group Clients 1 and Communication round 1\n",
      "Updating model in the server...\n",
      "Updating model in the server...\n",
      "Testing in the server all the models...\n"
     ]
    },
    {
     "name": "stderr",
     "output_type": "stream",
     "text": [
      " 40%|████      | 2/5 [02:59<04:28, 89.61s/it]"
     ]
    },
    {
     "name": "stdout",
     "output_type": "stream",
     "text": [
      "1-th round, in age 58-th\n",
      "average train loss 0.00668 | test loss 0.848 | test acc: 0.800\n",
      "Model 2 for Group Clients 0 and Communication round 2\n",
      "Model 4 for Group Clients 1 and Communication round 2\n",
      "Updating model in the server...\n",
      "Updating model in the server...\n",
      "Testing in the server all the models...\n"
     ]
    },
    {
     "name": "stderr",
     "output_type": "stream",
     "text": [
      " 60%|██████    | 3/5 [04:28<02:58, 89.38s/it]"
     ]
    },
    {
     "name": "stdout",
     "output_type": "stream",
     "text": [
      "2-th round, in age 58-th\n",
      "average train loss 0.00477 | test loss 0.811 | test acc: 0.800\n",
      "Model 4 for Group Clients 0 and Communication round 3\n",
      "Model 2 for Group Clients 1 and Communication round 3\n",
      "Updating model in the server...\n",
      "Updating model in the server...\n",
      "Testing in the server all the models...\n"
     ]
    },
    {
     "name": "stderr",
     "output_type": "stream",
     "text": [
      " 80%|████████  | 4/5 [05:58<01:29, 89.62s/it]"
     ]
    },
    {
     "name": "stdout",
     "output_type": "stream",
     "text": [
      "3-th round, in age 58-th\n",
      "average train loss 0.0039 | test loss 0.761 | test acc: 0.853\n",
      "Model 1 for Group Clients 0 and Communication round 4\n",
      "Model 3 for Group Clients 1 and Communication round 4\n",
      "Updating model in the server...\n",
      "Updating model in the server...\n",
      "Testing in the server all the models...\n"
     ]
    },
    {
     "name": "stderr",
     "output_type": "stream",
     "text": [
      "100%|██████████| 5/5 [07:27<00:00, 89.45s/it]\n",
      "  0%|          | 0/5 [00:00<?, ?it/s]"
     ]
    },
    {
     "name": "stdout",
     "output_type": "stream",
     "text": [
      "4-th round, in age 58-th\n",
      "average train loss 0.00452 | test loss 0.786 | test acc: 0.863\n",
      "Confusion Matrix:  tensor([[50.,  4.,  1.],\n",
      "        [ 5., 22.,  0.],\n",
      "        [ 3.,  0., 10.]])\n",
      "Ages:  59\n",
      "Model 1 for Group Clients 0 and Communication round 0\n",
      "Model 3 for Group Clients 1 and Communication round 0\n",
      "Updating model in the server...\n",
      "Updating model in the server...\n",
      "Testing in the server all the models...\n"
     ]
    },
    {
     "name": "stderr",
     "output_type": "stream",
     "text": [
      " 20%|██        | 1/5 [01:29<05:58, 89.55s/it]"
     ]
    },
    {
     "name": "stdout",
     "output_type": "stream",
     "text": [
      "0-th round, in age 59-th\n",
      "average train loss 0.00328 | test loss 0.814 | test acc: 0.863\n",
      "Model 3 for Group Clients 0 and Communication round 1\n",
      "Model 1 for Group Clients 1 and Communication round 1\n",
      "Updating model in the server...\n",
      "Updating model in the server...\n",
      "Testing in the server all the models...\n"
     ]
    },
    {
     "name": "stderr",
     "output_type": "stream",
     "text": [
      " 40%|████      | 2/5 [02:59<04:28, 89.50s/it]"
     ]
    },
    {
     "name": "stdout",
     "output_type": "stream",
     "text": [
      "1-th round, in age 59-th\n",
      "average train loss 0.00594 | test loss 0.79 | test acc: 0.853\n",
      "Model 4 for Group Clients 0 and Communication round 2\n",
      "Model 4 for Group Clients 1 and Communication round 2\n",
      "Updating model in the server...\n",
      "Updating model in the server...\n",
      "Testing in the server all the models...\n"
     ]
    },
    {
     "name": "stderr",
     "output_type": "stream",
     "text": [
      " 60%|██████    | 3/5 [04:28<02:58, 89.41s/it]"
     ]
    },
    {
     "name": "stdout",
     "output_type": "stream",
     "text": [
      "2-th round, in age 59-th\n",
      "average train loss 0.00647 | test loss 0.873 | test acc: 0.811\n",
      "Model 0 for Group Clients 0 and Communication round 3\n",
      "Model 0 for Group Clients 1 and Communication round 3\n",
      "Updating model in the server...\n",
      "Updating model in the server...\n",
      "Testing in the server all the models...\n"
     ]
    },
    {
     "name": "stderr",
     "output_type": "stream",
     "text": [
      " 80%|████████  | 4/5 [05:57<01:29, 89.43s/it]"
     ]
    },
    {
     "name": "stdout",
     "output_type": "stream",
     "text": [
      "3-th round, in age 59-th\n",
      "average train loss 0.00644 | test loss 0.932 | test acc: 0.811\n",
      "Model 2 for Group Clients 0 and Communication round 4\n",
      "Model 2 for Group Clients 1 and Communication round 4\n",
      "Updating model in the server...\n",
      "Updating model in the server...\n",
      "Testing in the server all the models...\n"
     ]
    },
    {
     "name": "stderr",
     "output_type": "stream",
     "text": [
      "100%|██████████| 5/5 [07:26<00:00, 89.37s/it]\n",
      "  0%|          | 0/5 [00:00<?, ?it/s]"
     ]
    },
    {
     "name": "stdout",
     "output_type": "stream",
     "text": [
      "4-th round, in age 59-th\n",
      "average train loss 0.00319 | test loss 0.982 | test acc: 0.789\n",
      "Confusion Matrix:  tensor([[50.,  2.,  3.],\n",
      "        [ 9., 17.,  1.],\n",
      "        [ 3.,  2.,  8.]])\n",
      "Ages:  60\n",
      "Model 0 for Group Clients 0 and Communication round 0\n",
      "Model 2 for Group Clients 1 and Communication round 0\n",
      "Updating model in the server...\n",
      "Updating model in the server...\n",
      "Testing in the server all the models...\n"
     ]
    },
    {
     "name": "stderr",
     "output_type": "stream",
     "text": [
      " 20%|██        | 1/5 [01:28<05:53, 88.48s/it]"
     ]
    },
    {
     "name": "stdout",
     "output_type": "stream",
     "text": [
      "0-th round, in age 60-th\n",
      "average train loss 0.00416 | test loss 0.815 | test acc: 0.832\n",
      "Model 2 for Group Clients 0 and Communication round 1\n",
      "Model 0 for Group Clients 1 and Communication round 1\n",
      "Updating model in the server...\n",
      "Updating model in the server...\n",
      "Testing in the server all the models...\n"
     ]
    },
    {
     "name": "stderr",
     "output_type": "stream",
     "text": [
      " 40%|████      | 2/5 [02:58<04:28, 89.54s/it]"
     ]
    },
    {
     "name": "stdout",
     "output_type": "stream",
     "text": [
      "1-th round, in age 60-th\n",
      "average train loss 0.00421 | test loss 0.809 | test acc: 0.832\n",
      "Model 3 for Group Clients 0 and Communication round 2\n",
      "Model 4 for Group Clients 1 and Communication round 2\n",
      "Updating model in the server...\n",
      "Updating model in the server...\n",
      "Testing in the server all the models...\n"
     ]
    },
    {
     "name": "stderr",
     "output_type": "stream",
     "text": [
      " 60%|██████    | 3/5 [04:27<02:58, 89.35s/it]"
     ]
    },
    {
     "name": "stdout",
     "output_type": "stream",
     "text": [
      "2-th round, in age 60-th\n",
      "average train loss 0.00444 | test loss 0.879 | test acc: 0.811\n",
      "Model 4 for Group Clients 0 and Communication round 3\n",
      "Model 3 for Group Clients 1 and Communication round 3\n",
      "Updating model in the server...\n",
      "Updating model in the server...\n",
      "Testing in the server all the models...\n"
     ]
    },
    {
     "name": "stderr",
     "output_type": "stream",
     "text": [
      " 80%|████████  | 4/5 [05:57<01:29, 89.62s/it]"
     ]
    },
    {
     "name": "stdout",
     "output_type": "stream",
     "text": [
      "3-th round, in age 60-th\n",
      "average train loss 0.00495 | test loss 0.876 | test acc: 0.821\n",
      "Model 1 for Group Clients 0 and Communication round 4\n",
      "Model 1 for Group Clients 1 and Communication round 4\n",
      "Updating model in the server...\n",
      "Updating model in the server...\n",
      "Testing in the server all the models...\n"
     ]
    },
    {
     "name": "stderr",
     "output_type": "stream",
     "text": [
      "100%|██████████| 5/5 [07:27<00:00, 89.43s/it]\n",
      "  0%|          | 0/5 [00:00<?, ?it/s]"
     ]
    },
    {
     "name": "stdout",
     "output_type": "stream",
     "text": [
      "4-th round, in age 60-th\n",
      "average train loss 0.00363 | test loss 0.899 | test acc: 0.811\n",
      "Confusion Matrix:  tensor([[49.,  1.,  5.],\n",
      "        [ 7., 18.,  2.],\n",
      "        [ 3.,  0., 10.]])\n",
      "Ages:  61\n",
      "Model 1 for Group Clients 0 and Communication round 0\n",
      "Model 1 for Group Clients 1 and Communication round 0\n",
      "Updating model in the server...\n",
      "Updating model in the server...\n",
      "Testing in the server all the models...\n"
     ]
    },
    {
     "name": "stderr",
     "output_type": "stream",
     "text": [
      " 20%|██        | 1/5 [01:29<05:59, 89.77s/it]"
     ]
    },
    {
     "name": "stdout",
     "output_type": "stream",
     "text": [
      "0-th round, in age 61-th\n",
      "average train loss 0.00814 | test loss 0.894 | test acc: 0.800\n",
      "Model 2 for Group Clients 0 and Communication round 1\n",
      "Model 4 for Group Clients 1 and Communication round 1\n",
      "Updating model in the server...\n",
      "Updating model in the server...\n",
      "Testing in the server all the models...\n"
     ]
    },
    {
     "name": "stderr",
     "output_type": "stream",
     "text": [
      " 40%|████      | 2/5 [03:02<04:34, 91.59s/it]"
     ]
    },
    {
     "name": "stdout",
     "output_type": "stream",
     "text": [
      "1-th round, in age 61-th\n",
      "average train loss 0.00592 | test loss 0.897 | test acc: 0.768\n",
      "Model 4 for Group Clients 0 and Communication round 2\n",
      "Model 2 for Group Clients 1 and Communication round 2\n",
      "Updating model in the server...\n",
      "Updating model in the server...\n",
      "Testing in the server all the models...\n"
     ]
    },
    {
     "name": "stderr",
     "output_type": "stream",
     "text": [
      " 60%|██████    | 3/5 [04:32<03:01, 90.98s/it]"
     ]
    },
    {
     "name": "stdout",
     "output_type": "stream",
     "text": [
      "2-th round, in age 61-th\n",
      "average train loss 0.00602 | test loss 0.919 | test acc: 0.789\n",
      "Model 0 for Group Clients 0 and Communication round 3\n",
      "Model 3 for Group Clients 1 and Communication round 3\n",
      "Updating model in the server...\n",
      "Updating model in the server...\n",
      "Testing in the server all the models...\n"
     ]
    },
    {
     "name": "stderr",
     "output_type": "stream",
     "text": [
      " 80%|████████  | 4/5 [06:02<01:30, 90.62s/it]"
     ]
    },
    {
     "name": "stdout",
     "output_type": "stream",
     "text": [
      "3-th round, in age 61-th\n",
      "average train loss 0.0037 | test loss 0.836 | test acc: 0.842\n",
      "Model 3 for Group Clients 0 and Communication round 4\n",
      "Model 0 for Group Clients 1 and Communication round 4\n",
      "Updating model in the server...\n",
      "Updating model in the server...\n",
      "Testing in the server all the models...\n"
     ]
    },
    {
     "name": "stderr",
     "output_type": "stream",
     "text": [
      "100%|██████████| 5/5 [07:32<00:00, 90.49s/it]\n",
      "  0%|          | 0/5 [00:00<?, ?it/s]"
     ]
    },
    {
     "name": "stdout",
     "output_type": "stream",
     "text": [
      "4-th round, in age 61-th\n",
      "average train loss 0.00459 | test loss 0.839 | test acc: 0.821\n",
      "Confusion Matrix:  tensor([[48.,  4.,  3.],\n",
      "        [ 6., 20.,  1.],\n",
      "        [ 3.,  0., 10.]])\n",
      "Ages:  62\n",
      "Model 3 for Group Clients 0 and Communication round 0\n",
      "Model 0 for Group Clients 1 and Communication round 0\n",
      "Updating model in the server...\n",
      "Updating model in the server...\n",
      "Testing in the server all the models...\n"
     ]
    },
    {
     "name": "stderr",
     "output_type": "stream",
     "text": [
      " 20%|██        | 1/5 [01:30<06:02, 90.75s/it]"
     ]
    },
    {
     "name": "stdout",
     "output_type": "stream",
     "text": [
      "0-th round, in age 62-th\n",
      "average train loss 0.00378 | test loss 0.881 | test acc: 0.832\n",
      "Model 1 for Group Clients 0 and Communication round 1\n",
      "Model 2 for Group Clients 1 and Communication round 1\n",
      "Updating model in the server...\n",
      "Updating model in the server...\n",
      "Testing in the server all the models...\n"
     ]
    },
    {
     "name": "stderr",
     "output_type": "stream",
     "text": [
      " 40%|████      | 2/5 [03:00<04:30, 90.13s/it]"
     ]
    },
    {
     "name": "stdout",
     "output_type": "stream",
     "text": [
      "1-th round, in age 62-th\n",
      "average train loss 0.00244 | test loss 0.809 | test acc: 0.853\n",
      "Model 4 for Group Clients 0 and Communication round 2\n",
      "Model 3 for Group Clients 1 and Communication round 2\n",
      "Updating model in the server...\n",
      "Updating model in the server...\n",
      "Testing in the server all the models...\n"
     ]
    },
    {
     "name": "stderr",
     "output_type": "stream",
     "text": [
      " 60%|██████    | 3/5 [04:31<03:00, 90.47s/it]"
     ]
    },
    {
     "name": "stdout",
     "output_type": "stream",
     "text": [
      "2-th round, in age 62-th\n",
      "average train loss 0.00422 | test loss 0.879 | test acc: 0.842\n",
      "Model 0 for Group Clients 0 and Communication round 3\n",
      "Model 4 for Group Clients 1 and Communication round 3\n",
      "Updating model in the server...\n",
      "Updating model in the server...\n",
      "Testing in the server all the models...\n"
     ]
    },
    {
     "name": "stderr",
     "output_type": "stream",
     "text": [
      " 80%|████████  | 4/5 [06:02<01:30, 90.66s/it]"
     ]
    },
    {
     "name": "stdout",
     "output_type": "stream",
     "text": [
      "3-th round, in age 62-th\n",
      "average train loss 0.00496 | test loss 0.778 | test acc: 0.832\n",
      "Model 2 for Group Clients 0 and Communication round 4\n",
      "Model 1 for Group Clients 1 and Communication round 4\n",
      "Updating model in the server...\n",
      "Updating model in the server...\n",
      "Testing in the server all the models...\n"
     ]
    },
    {
     "name": "stderr",
     "output_type": "stream",
     "text": [
      "100%|██████████| 5/5 [07:32<00:00, 90.42s/it]\n",
      "  0%|          | 0/5 [00:00<?, ?it/s]"
     ]
    },
    {
     "name": "stdout",
     "output_type": "stream",
     "text": [
      "4-th round, in age 62-th\n",
      "average train loss 0.00359 | test loss 0.767 | test acc: 0.832\n",
      "Confusion Matrix:  tensor([[50.,  1.,  4.],\n",
      "        [ 7., 18.,  2.],\n",
      "        [ 2.,  0., 11.]])\n",
      "Ages:  63\n",
      "Model 0 for Group Clients 0 and Communication round 0\n",
      "Model 4 for Group Clients 1 and Communication round 0\n",
      "Updating model in the server...\n",
      "Updating model in the server...\n",
      "Testing in the server all the models...\n"
     ]
    },
    {
     "name": "stderr",
     "output_type": "stream",
     "text": [
      " 20%|██        | 1/5 [01:29<05:56, 89.06s/it]"
     ]
    },
    {
     "name": "stdout",
     "output_type": "stream",
     "text": [
      "0-th round, in age 63-th\n",
      "average train loss 0.005 | test loss 0.821 | test acc: 0.821\n",
      "Model 2 for Group Clients 0 and Communication round 1\n",
      "Model 2 for Group Clients 1 and Communication round 1\n",
      "Updating model in the server...\n",
      "Updating model in the server...\n",
      "Testing in the server all the models...\n"
     ]
    },
    {
     "name": "stderr",
     "output_type": "stream",
     "text": [
      " 40%|████      | 2/5 [02:56<04:25, 88.39s/it]"
     ]
    },
    {
     "name": "stdout",
     "output_type": "stream",
     "text": [
      "1-th round, in age 63-th\n",
      "average train loss 0.00383 | test loss 0.887 | test acc: 0.779\n",
      "Model 3 for Group Clients 0 and Communication round 2\n",
      "Model 0 for Group Clients 1 and Communication round 2\n",
      "Updating model in the server...\n",
      "Updating model in the server...\n",
      "Testing in the server all the models...\n"
     ]
    },
    {
     "name": "stderr",
     "output_type": "stream",
     "text": [
      " 60%|██████    | 3/5 [04:26<02:57, 88.76s/it]"
     ]
    },
    {
     "name": "stdout",
     "output_type": "stream",
     "text": [
      "2-th round, in age 63-th\n",
      "average train loss 0.00307 | test loss 0.963 | test acc: 0.789\n",
      "Model 4 for Group Clients 0 and Communication round 3\n",
      "Model 3 for Group Clients 1 and Communication round 3\n",
      "Updating model in the server...\n",
      "Updating model in the server...\n",
      "Testing in the server all the models...\n"
     ]
    },
    {
     "name": "stderr",
     "output_type": "stream",
     "text": [
      " 80%|████████  | 4/5 [05:56<01:29, 89.51s/it]"
     ]
    },
    {
     "name": "stdout",
     "output_type": "stream",
     "text": [
      "3-th round, in age 63-th\n",
      "average train loss 0.00222 | test loss 0.896 | test acc: 0.789\n",
      "Model 1 for Group Clients 0 and Communication round 4\n",
      "Model 1 for Group Clients 1 and Communication round 4\n",
      "Updating model in the server...\n",
      "Updating model in the server...\n",
      "Testing in the server all the models...\n"
     ]
    },
    {
     "name": "stderr",
     "output_type": "stream",
     "text": [
      "100%|██████████| 5/5 [07:28<00:00, 89.64s/it]\n",
      "  0%|          | 0/5 [00:00<?, ?it/s]"
     ]
    },
    {
     "name": "stdout",
     "output_type": "stream",
     "text": [
      "4-th round, in age 63-th\n",
      "average train loss 0.00564 | test loss 0.921 | test acc: 0.800\n",
      "Confusion Matrix:  tensor([[48.,  3.,  4.],\n",
      "        [ 7., 19.,  1.],\n",
      "        [ 3.,  1.,  9.]])\n",
      "Ages:  64\n",
      "Model 4 for Group Clients 0 and Communication round 0\n",
      "Model 3 for Group Clients 1 and Communication round 0\n",
      "Updating model in the server...\n",
      "Updating model in the server...\n",
      "Testing in the server all the models...\n"
     ]
    },
    {
     "name": "stderr",
     "output_type": "stream",
     "text": [
      " 20%|██        | 1/5 [01:30<06:02, 90.62s/it]"
     ]
    },
    {
     "name": "stdout",
     "output_type": "stream",
     "text": [
      "0-th round, in age 64-th\n",
      "average train loss 0.00898 | test loss 0.939 | test acc: 0.768\n",
      "Model 2 for Group Clients 0 and Communication round 1\n",
      "Model 2 for Group Clients 1 and Communication round 1\n",
      "Updating model in the server...\n",
      "Updating model in the server...\n",
      "Testing in the server all the models...\n"
     ]
    },
    {
     "name": "stderr",
     "output_type": "stream",
     "text": [
      " 40%|████      | 2/5 [02:59<04:29, 89.87s/it]"
     ]
    },
    {
     "name": "stdout",
     "output_type": "stream",
     "text": [
      "1-th round, in age 64-th\n",
      "average train loss 0.00268 | test loss 0.978 | test acc: 0.768\n",
      "Model 0 for Group Clients 0 and Communication round 2\n",
      "Model 0 for Group Clients 1 and Communication round 2\n",
      "Updating model in the server...\n",
      "Updating model in the server...\n",
      "Testing in the server all the models...\n"
     ]
    },
    {
     "name": "stderr",
     "output_type": "stream",
     "text": [
      " 60%|██████    | 3/5 [04:32<03:02, 91.23s/it]"
     ]
    },
    {
     "name": "stdout",
     "output_type": "stream",
     "text": [
      "2-th round, in age 64-th\n",
      "average train loss 0.00226 | test loss 1.03 | test acc: 0.758\n",
      "Model 1 for Group Clients 0 and Communication round 3\n",
      "Model 4 for Group Clients 1 and Communication round 3\n",
      "Updating model in the server...\n",
      "Updating model in the server...\n",
      "Testing in the server all the models...\n"
     ]
    },
    {
     "name": "stderr",
     "output_type": "stream",
     "text": [
      " 80%|████████  | 4/5 [06:05<01:31, 91.69s/it]"
     ]
    },
    {
     "name": "stdout",
     "output_type": "stream",
     "text": [
      "3-th round, in age 64-th\n",
      "average train loss 0.00352 | test loss 0.979 | test acc: 0.768\n",
      "Model 3 for Group Clients 0 and Communication round 4\n",
      "Model 1 for Group Clients 1 and Communication round 4\n",
      "Updating model in the server...\n",
      "Updating model in the server...\n",
      "Testing in the server all the models...\n"
     ]
    },
    {
     "name": "stderr",
     "output_type": "stream",
     "text": [
      "100%|██████████| 5/5 [07:40<00:00, 92.01s/it]\n",
      "  0%|          | 0/5 [00:00<?, ?it/s]"
     ]
    },
    {
     "name": "stdout",
     "output_type": "stream",
     "text": [
      "4-th round, in age 64-th\n",
      "average train loss 0.00311 | test loss 1.01 | test acc: 0.779\n",
      "Confusion Matrix:  tensor([[49.,  2.,  4.],\n",
      "        [10., 16.,  1.],\n",
      "        [ 3.,  1.,  9.]])\n",
      "Ages:  65\n",
      "Model 4 for Group Clients 0 and Communication round 0\n",
      "Model 2 for Group Clients 1 and Communication round 0\n",
      "Updating model in the server...\n",
      "Updating model in the server...\n",
      "Testing in the server all the models...\n"
     ]
    },
    {
     "name": "stderr",
     "output_type": "stream",
     "text": [
      " 20%|██        | 1/5 [01:37<06:30, 97.60s/it]"
     ]
    },
    {
     "name": "stdout",
     "output_type": "stream",
     "text": [
      "0-th round, in age 65-th\n",
      "average train loss 0.0023 | test loss 0.95 | test acc: 0.821\n",
      "Model 0 for Group Clients 0 and Communication round 1\n",
      "Model 4 for Group Clients 1 and Communication round 1\n",
      "Updating model in the server...\n",
      "Updating model in the server...\n",
      "Testing in the server all the models...\n"
     ]
    },
    {
     "name": "stderr",
     "output_type": "stream",
     "text": [
      " 40%|████      | 2/5 [03:15<04:52, 97.57s/it]"
     ]
    },
    {
     "name": "stdout",
     "output_type": "stream",
     "text": [
      "1-th round, in age 65-th\n",
      "average train loss 0.00493 | test loss 0.851 | test acc: 0.832\n",
      "Model 3 for Group Clients 0 and Communication round 2\n",
      "Model 1 for Group Clients 1 and Communication round 2\n",
      "Updating model in the server...\n",
      "Updating model in the server...\n",
      "Testing in the server all the models...\n"
     ]
    },
    {
     "name": "stderr",
     "output_type": "stream",
     "text": [
      " 60%|██████    | 3/5 [04:45<03:08, 94.12s/it]"
     ]
    },
    {
     "name": "stdout",
     "output_type": "stream",
     "text": [
      "2-th round, in age 65-th\n",
      "average train loss 0.00462 | test loss 0.867 | test acc: 0.842\n",
      "Model 2 for Group Clients 0 and Communication round 3\n",
      "Model 0 for Group Clients 1 and Communication round 3\n",
      "Updating model in the server...\n",
      "Updating model in the server...\n",
      "Testing in the server all the models...\n"
     ]
    },
    {
     "name": "stderr",
     "output_type": "stream",
     "text": [
      " 80%|████████  | 4/5 [06:14<01:32, 92.10s/it]"
     ]
    },
    {
     "name": "stdout",
     "output_type": "stream",
     "text": [
      "3-th round, in age 65-th\n",
      "average train loss 0.00449 | test loss 0.901 | test acc: 0.811\n",
      "Model 1 for Group Clients 0 and Communication round 4\n",
      "Model 3 for Group Clients 1 and Communication round 4\n",
      "Updating model in the server...\n",
      "Updating model in the server...\n",
      "Testing in the server all the models...\n"
     ]
    },
    {
     "name": "stderr",
     "output_type": "stream",
     "text": [
      "100%|██████████| 5/5 [07:43<00:00, 92.74s/it]\n",
      "  0%|          | 0/5 [00:00<?, ?it/s]"
     ]
    },
    {
     "name": "stdout",
     "output_type": "stream",
     "text": [
      "4-th round, in age 65-th\n",
      "average train loss 0.00446 | test loss 0.835 | test acc: 0.842\n",
      "Confusion Matrix:  tensor([[51.,  2.,  2.],\n",
      "        [ 8., 18.,  1.],\n",
      "        [ 2.,  0., 11.]])\n",
      "Ages:  66\n",
      "Model 3 for Group Clients 0 and Communication round 0\n",
      "Model 4 for Group Clients 1 and Communication round 0\n",
      "Updating model in the server...\n",
      "Updating model in the server...\n",
      "Testing in the server all the models...\n"
     ]
    },
    {
     "name": "stderr",
     "output_type": "stream",
     "text": [
      " 20%|██        | 1/5 [01:29<05:58, 89.63s/it]"
     ]
    },
    {
     "name": "stdout",
     "output_type": "stream",
     "text": [
      "0-th round, in age 66-th\n",
      "average train loss 0.00226 | test loss 0.779 | test acc: 0.842\n",
      "Model 1 for Group Clients 0 and Communication round 1\n",
      "Model 0 for Group Clients 1 and Communication round 1\n",
      "Updating model in the server...\n",
      "Updating model in the server...\n",
      "Testing in the server all the models...\n"
     ]
    },
    {
     "name": "stderr",
     "output_type": "stream",
     "text": [
      " 40%|████      | 2/5 [02:59<04:29, 89.88s/it]"
     ]
    },
    {
     "name": "stdout",
     "output_type": "stream",
     "text": [
      "1-th round, in age 66-th\n",
      "average train loss 0.00246 | test loss 0.814 | test acc: 0.842\n",
      "Model 2 for Group Clients 0 and Communication round 2\n",
      "Model 2 for Group Clients 1 and Communication round 2\n",
      "Updating model in the server...\n",
      "Updating model in the server...\n",
      "Testing in the server all the models...\n"
     ]
    },
    {
     "name": "stderr",
     "output_type": "stream",
     "text": [
      " 60%|██████    | 3/5 [04:29<02:59, 89.99s/it]"
     ]
    },
    {
     "name": "stdout",
     "output_type": "stream",
     "text": [
      "2-th round, in age 66-th\n",
      "average train loss 0.00496 | test loss 0.86 | test acc: 0.832\n",
      "Model 0 for Group Clients 0 and Communication round 3\n",
      "Model 1 for Group Clients 1 and Communication round 3\n",
      "Updating model in the server...\n",
      "Updating model in the server...\n",
      "Testing in the server all the models...\n"
     ]
    },
    {
     "name": "stderr",
     "output_type": "stream",
     "text": [
      " 80%|████████  | 4/5 [05:59<01:29, 89.83s/it]"
     ]
    },
    {
     "name": "stdout",
     "output_type": "stream",
     "text": [
      "3-th round, in age 66-th\n",
      "average train loss 0.00383 | test loss 0.79 | test acc: 0.832\n",
      "Model 4 for Group Clients 0 and Communication round 4\n",
      "Model 3 for Group Clients 1 and Communication round 4\n",
      "Updating model in the server...\n",
      "Updating model in the server...\n",
      "Testing in the server all the models...\n"
     ]
    },
    {
     "name": "stderr",
     "output_type": "stream",
     "text": [
      "100%|██████████| 5/5 [07:29<00:00, 89.91s/it]\n",
      "  0%|          | 0/5 [00:00<?, ?it/s]"
     ]
    },
    {
     "name": "stdout",
     "output_type": "stream",
     "text": [
      "4-th round, in age 66-th\n",
      "average train loss 0.00225 | test loss 0.785 | test acc: 0.853\n",
      "Confusion Matrix:  tensor([[49.,  3.,  3.],\n",
      "        [ 5., 21.,  1.],\n",
      "        [ 2.,  0., 11.]])\n",
      "Ages:  67\n",
      "Model 0 for Group Clients 0 and Communication round 0\n",
      "Model 1 for Group Clients 1 and Communication round 0\n",
      "Updating model in the server...\n",
      "Updating model in the server...\n",
      "Testing in the server all the models...\n"
     ]
    },
    {
     "name": "stderr",
     "output_type": "stream",
     "text": [
      " 20%|██        | 1/5 [01:29<05:56, 89.12s/it]"
     ]
    },
    {
     "name": "stdout",
     "output_type": "stream",
     "text": [
      "0-th round, in age 67-th\n",
      "average train loss 0.0126 | test loss 0.804 | test acc: 0.842\n",
      "Model 4 for Group Clients 0 and Communication round 1\n",
      "Model 0 for Group Clients 1 and Communication round 1\n",
      "Updating model in the server...\n",
      "Updating model in the server...\n",
      "Testing in the server all the models...\n"
     ]
    },
    {
     "name": "stderr",
     "output_type": "stream",
     "text": [
      " 40%|████      | 2/5 [03:00<04:30, 90.22s/it]"
     ]
    },
    {
     "name": "stdout",
     "output_type": "stream",
     "text": [
      "1-th round, in age 67-th\n",
      "average train loss 0.00282 | test loss 0.934 | test acc: 0.789\n",
      "Model 3 for Group Clients 0 and Communication round 2\n",
      "Model 4 for Group Clients 1 and Communication round 2\n",
      "Updating model in the server...\n",
      "Updating model in the server...\n",
      "Testing in the server all the models...\n"
     ]
    },
    {
     "name": "stderr",
     "output_type": "stream",
     "text": [
      " 60%|██████    | 3/5 [04:30<03:00, 90.41s/it]"
     ]
    },
    {
     "name": "stdout",
     "output_type": "stream",
     "text": [
      "2-th round, in age 67-th\n",
      "average train loss 0.00284 | test loss 0.912 | test acc: 0.811\n",
      "Model 1 for Group Clients 0 and Communication round 3\n",
      "Model 3 for Group Clients 1 and Communication round 3\n",
      "Updating model in the server...\n",
      "Updating model in the server...\n",
      "Testing in the server all the models...\n"
     ]
    },
    {
     "name": "stderr",
     "output_type": "stream",
     "text": [
      " 80%|████████  | 4/5 [06:00<01:30, 90.13s/it]"
     ]
    },
    {
     "name": "stdout",
     "output_type": "stream",
     "text": [
      "3-th round, in age 67-th\n",
      "average train loss 0.00343 | test loss 0.887 | test acc: 0.800\n",
      "Model 2 for Group Clients 0 and Communication round 4\n",
      "Model 2 for Group Clients 1 and Communication round 4\n",
      "Updating model in the server...\n",
      "Updating model in the server...\n",
      "Testing in the server all the models...\n"
     ]
    },
    {
     "name": "stderr",
     "output_type": "stream",
     "text": [
      "100%|██████████| 5/5 [07:29<00:00, 89.89s/it]\n",
      "  0%|          | 0/5 [00:00<?, ?it/s]"
     ]
    },
    {
     "name": "stdout",
     "output_type": "stream",
     "text": [
      "4-th round, in age 67-th\n",
      "average train loss 0.0022 | test loss 0.934 | test acc: 0.789\n",
      "Confusion Matrix:  tensor([[48.,  2.,  5.],\n",
      "        [ 9., 17.,  1.],\n",
      "        [ 3.,  0., 10.]])\n",
      "Ages:  68\n",
      "Model 2 for Group Clients 0 and Communication round 0\n",
      "Model 3 for Group Clients 1 and Communication round 0\n",
      "Updating model in the server...\n",
      "Updating model in the server...\n",
      "Testing in the server all the models...\n"
     ]
    },
    {
     "name": "stderr",
     "output_type": "stream",
     "text": [
      " 20%|██        | 1/5 [01:30<06:03, 90.87s/it]"
     ]
    },
    {
     "name": "stdout",
     "output_type": "stream",
     "text": [
      "0-th round, in age 68-th\n",
      "average train loss 0.00397 | test loss 0.854 | test acc: 0.842\n",
      "Model 4 for Group Clients 0 and Communication round 1\n",
      "Model 4 for Group Clients 1 and Communication round 1\n",
      "Updating model in the server...\n",
      "Updating model in the server...\n",
      "Testing in the server all the models...\n"
     ]
    },
    {
     "name": "stderr",
     "output_type": "stream",
     "text": [
      " 40%|████      | 2/5 [03:00<04:30, 90.18s/it]"
     ]
    },
    {
     "name": "stdout",
     "output_type": "stream",
     "text": [
      "1-th round, in age 68-th\n",
      "average train loss 0.00257 | test loss 0.88 | test acc: 0.842\n",
      "Model 0 for Group Clients 0 and Communication round 2\n",
      "Model 0 for Group Clients 1 and Communication round 2\n",
      "Updating model in the server...\n",
      "Updating model in the server...\n",
      "Testing in the server all the models...\n"
     ]
    },
    {
     "name": "stderr",
     "output_type": "stream",
     "text": [
      " 60%|██████    | 3/5 [04:29<02:59, 89.82s/it]"
     ]
    },
    {
     "name": "stdout",
     "output_type": "stream",
     "text": [
      "2-th round, in age 68-th\n",
      "average train loss 0.00245 | test loss 0.929 | test acc: 0.821\n",
      "Model 3 for Group Clients 0 and Communication round 3\n",
      "Model 1 for Group Clients 1 and Communication round 3\n",
      "Updating model in the server...\n",
      "Updating model in the server...\n",
      "Testing in the server all the models...\n"
     ]
    },
    {
     "name": "stderr",
     "output_type": "stream",
     "text": [
      " 80%|████████  | 4/5 [06:00<01:30, 90.03s/it]"
     ]
    },
    {
     "name": "stdout",
     "output_type": "stream",
     "text": [
      "3-th round, in age 68-th\n",
      "average train loss 0.00331 | test loss 0.916 | test acc: 0.821\n",
      "Model 1 for Group Clients 0 and Communication round 4\n",
      "Model 2 for Group Clients 1 and Communication round 4\n",
      "Updating model in the server...\n",
      "Updating model in the server...\n",
      "Testing in the server all the models...\n"
     ]
    },
    {
     "name": "stderr",
     "output_type": "stream",
     "text": [
      "100%|██████████| 5/5 [07:28<00:00, 89.79s/it]\n",
      "  0%|          | 0/5 [00:00<?, ?it/s]"
     ]
    },
    {
     "name": "stdout",
     "output_type": "stream",
     "text": [
      "4-th round, in age 68-th\n",
      "average train loss 0.00372 | test loss 0.923 | test acc: 0.832\n",
      "Confusion Matrix:  tensor([[51.,  2.,  2.],\n",
      "        [ 8., 18.,  1.],\n",
      "        [ 3.,  0., 10.]])\n",
      "Ages:  69\n",
      "Model 3 for Group Clients 0 and Communication round 0\n",
      "Model 3 for Group Clients 1 and Communication round 0\n",
      "Updating model in the server...\n",
      "Updating model in the server...\n",
      "Testing in the server all the models...\n"
     ]
    },
    {
     "name": "stderr",
     "output_type": "stream",
     "text": [
      " 20%|██        | 1/5 [01:32<06:09, 92.31s/it]"
     ]
    },
    {
     "name": "stdout",
     "output_type": "stream",
     "text": [
      "0-th round, in age 69-th\n",
      "average train loss 0.00191 | test loss 1 | test acc: 0.800\n",
      "Model 0 for Group Clients 0 and Communication round 1\n",
      "Model 0 for Group Clients 1 and Communication round 1\n",
      "Updating model in the server...\n",
      "Updating model in the server...\n",
      "Testing in the server all the models...\n"
     ]
    },
    {
     "name": "stderr",
     "output_type": "stream",
     "text": [
      " 40%|████      | 2/5 [03:02<04:33, 91.11s/it]"
     ]
    },
    {
     "name": "stdout",
     "output_type": "stream",
     "text": [
      "1-th round, in age 69-th\n",
      "average train loss 0.00171 | test loss 1.01 | test acc: 0.800\n",
      "Model 2 for Group Clients 0 and Communication round 2\n",
      "Model 2 for Group Clients 1 and Communication round 2\n",
      "Updating model in the server...\n",
      "Updating model in the server...\n",
      "Testing in the server all the models...\n"
     ]
    },
    {
     "name": "stderr",
     "output_type": "stream",
     "text": [
      " 60%|██████    | 3/5 [04:31<03:00, 90.25s/it]"
     ]
    },
    {
     "name": "stdout",
     "output_type": "stream",
     "text": [
      "2-th round, in age 69-th\n",
      "average train loss 0.0017 | test loss 1.04 | test acc: 0.779\n",
      "Model 4 for Group Clients 0 and Communication round 3\n",
      "Model 1 for Group Clients 1 and Communication round 3\n",
      "Updating model in the server...\n",
      "Updating model in the server...\n",
      "Testing in the server all the models...\n"
     ]
    },
    {
     "name": "stderr",
     "output_type": "stream",
     "text": [
      " 80%|████████  | 4/5 [06:01<01:29, 89.97s/it]"
     ]
    },
    {
     "name": "stdout",
     "output_type": "stream",
     "text": [
      "3-th round, in age 69-th\n",
      "average train loss 0.00239 | test loss 1.09 | test acc: 0.779\n",
      "Model 1 for Group Clients 0 and Communication round 4\n",
      "Model 4 for Group Clients 1 and Communication round 4\n",
      "Updating model in the server...\n",
      "Updating model in the server...\n",
      "Testing in the server all the models...\n"
     ]
    },
    {
     "name": "stderr",
     "output_type": "stream",
     "text": [
      "100%|██████████| 5/5 [07:31<00:00, 90.24s/it]\n",
      "  0%|          | 0/5 [00:00<?, ?it/s]"
     ]
    },
    {
     "name": "stdout",
     "output_type": "stream",
     "text": [
      "4-th round, in age 69-th\n",
      "average train loss 0.00346 | test loss 0.928 | test acc: 0.811\n",
      "Confusion Matrix:  tensor([[50.,  2.,  3.],\n",
      "        [ 9., 17.,  1.],\n",
      "        [ 3.,  0., 10.]])\n",
      "Ages:  70\n",
      "Model 3 for Group Clients 0 and Communication round 0\n",
      "Model 2 for Group Clients 1 and Communication round 0\n",
      "Updating model in the server...\n",
      "Updating model in the server...\n",
      "Testing in the server all the models...\n"
     ]
    },
    {
     "name": "stderr",
     "output_type": "stream",
     "text": [
      " 20%|██        | 1/5 [01:29<05:59, 89.93s/it]"
     ]
    },
    {
     "name": "stdout",
     "output_type": "stream",
     "text": [
      "0-th round, in age 70-th\n",
      "average train loss 0.00242 | test loss 0.864 | test acc: 0.832\n",
      "Model 0 for Group Clients 0 and Communication round 1\n",
      "Model 3 for Group Clients 1 and Communication round 1\n",
      "Updating model in the server...\n",
      "Updating model in the server...\n",
      "Testing in the server all the models...\n"
     ]
    },
    {
     "name": "stderr",
     "output_type": "stream",
     "text": [
      " 40%|████      | 2/5 [03:00<04:31, 90.59s/it]"
     ]
    },
    {
     "name": "stdout",
     "output_type": "stream",
     "text": [
      "1-th round, in age 70-th\n",
      "average train loss 0.00277 | test loss 0.77 | test acc: 0.853\n",
      "Model 2 for Group Clients 0 and Communication round 2\n",
      "Model 4 for Group Clients 1 and Communication round 2\n",
      "Updating model in the server...\n",
      "Updating model in the server...\n",
      "Testing in the server all the models...\n"
     ]
    },
    {
     "name": "stderr",
     "output_type": "stream",
     "text": [
      " 60%|██████    | 3/5 [04:30<03:00, 90.05s/it]"
     ]
    },
    {
     "name": "stdout",
     "output_type": "stream",
     "text": [
      "2-th round, in age 70-th\n",
      "average train loss 0.00409 | test loss 0.695 | test acc: 0.863\n",
      "Model 4 for Group Clients 0 and Communication round 3\n",
      "Model 1 for Group Clients 1 and Communication round 3\n",
      "Updating model in the server...\n",
      "Updating model in the server...\n",
      "Testing in the server all the models...\n"
     ]
    },
    {
     "name": "stderr",
     "output_type": "stream",
     "text": [
      " 80%|████████  | 4/5 [06:01<01:30, 90.57s/it]"
     ]
    },
    {
     "name": "stdout",
     "output_type": "stream",
     "text": [
      "3-th round, in age 70-th\n",
      "average train loss 0.00339 | test loss 0.739 | test acc: 0.853\n",
      "Model 1 for Group Clients 0 and Communication round 4\n",
      "Model 0 for Group Clients 1 and Communication round 4\n",
      "Updating model in the server...\n",
      "Updating model in the server...\n",
      "Testing in the server all the models...\n"
     ]
    },
    {
     "name": "stderr",
     "output_type": "stream",
     "text": [
      "100%|██████████| 5/5 [07:31<00:00, 90.22s/it]\n",
      "  0%|          | 0/5 [00:00<?, ?it/s]"
     ]
    },
    {
     "name": "stdout",
     "output_type": "stream",
     "text": [
      "4-th round, in age 70-th\n",
      "average train loss 0.00284 | test loss 0.737 | test acc: 0.863\n",
      "Confusion Matrix:  tensor([[48.,  4.,  3.],\n",
      "        [ 4., 23.,  0.],\n",
      "        [ 2.,  0., 11.]])\n",
      "Ages:  71\n",
      "Model 4 for Group Clients 0 and Communication round 0\n",
      "Model 0 for Group Clients 1 and Communication round 0\n",
      "Updating model in the server...\n",
      "Updating model in the server...\n",
      "Testing in the server all the models...\n"
     ]
    },
    {
     "name": "stderr",
     "output_type": "stream",
     "text": [
      " 20%|██        | 1/5 [01:29<05:56, 89.00s/it]"
     ]
    },
    {
     "name": "stdout",
     "output_type": "stream",
     "text": [
      "0-th round, in age 71-th\n",
      "average train loss 0.00256 | test loss 0.796 | test acc: 0.874\n",
      "Model 1 for Group Clients 0 and Communication round 1\n",
      "Model 1 for Group Clients 1 and Communication round 1\n",
      "Updating model in the server...\n",
      "Updating model in the server...\n",
      "Testing in the server all the models...\n"
     ]
    },
    {
     "name": "stderr",
     "output_type": "stream",
     "text": [
      " 40%|████      | 2/5 [02:59<04:30, 90.00s/it]"
     ]
    },
    {
     "name": "stdout",
     "output_type": "stream",
     "text": [
      "1-th round, in age 71-th\n",
      "average train loss 0.00224 | test loss 0.905 | test acc: 0.832\n",
      "Model 2 for Group Clients 0 and Communication round 2\n",
      "Model 2 for Group Clients 1 and Communication round 2\n",
      "Updating model in the server...\n",
      "Updating model in the server...\n",
      "Testing in the server all the models...\n"
     ]
    },
    {
     "name": "stderr",
     "output_type": "stream",
     "text": [
      " 60%|██████    | 3/5 [05:33<03:58, 119.08s/it]"
     ]
    },
    {
     "name": "stdout",
     "output_type": "stream",
     "text": [
      "2-th round, in age 71-th\n",
      "average train loss 0.00268 | test loss 0.959 | test acc: 0.789\n",
      "Model 3 for Group Clients 0 and Communication round 3\n",
      "Model 3 for Group Clients 1 and Communication round 3\n",
      "Updating model in the server...\n",
      "Updating model in the server...\n",
      "Testing in the server all the models...\n"
     ]
    },
    {
     "name": "stderr",
     "output_type": "stream",
     "text": [
      " 80%|████████  | 4/5 [08:50<02:29, 149.94s/it]"
     ]
    },
    {
     "name": "stdout",
     "output_type": "stream",
     "text": [
      "3-th round, in age 71-th\n",
      "average train loss 0.00135 | test loss 0.987 | test acc: 0.779\n",
      "Model 0 for Group Clients 0 and Communication round 4\n",
      "Model 4 for Group Clients 1 and Communication round 4\n",
      "Updating model in the server...\n",
      "Updating model in the server...\n",
      "Testing in the server all the models...\n"
     ]
    },
    {
     "name": "stderr",
     "output_type": "stream",
     "text": [
      "100%|██████████| 5/5 [12:13<00:00, 146.65s/it]\n",
      "  0%|          | 0/5 [00:00<?, ?it/s]"
     ]
    },
    {
     "name": "stdout",
     "output_type": "stream",
     "text": [
      "4-th round, in age 71-th\n",
      "average train loss 0.00182 | test loss 0.892 | test acc: 0.800\n",
      "Confusion Matrix:  tensor([[49.,  2.,  4.],\n",
      "        [ 9., 16.,  2.],\n",
      "        [ 2.,  0., 11.]])\n",
      "Ages:  72\n",
      "Model 2 for Group Clients 0 and Communication round 0\n",
      "Model 3 for Group Clients 1 and Communication round 0\n",
      "Updating model in the server...\n",
      "Updating model in the server...\n",
      "Testing in the server all the models...\n"
     ]
    },
    {
     "name": "stderr",
     "output_type": "stream",
     "text": [
      " 20%|██        | 1/5 [03:28<13:53, 208.39s/it]"
     ]
    },
    {
     "name": "stdout",
     "output_type": "stream",
     "text": [
      "0-th round, in age 72-th\n",
      "average train loss 0.00221 | test loss 0.835 | test acc: 0.842\n",
      "Model 0 for Group Clients 0 and Communication round 1\n",
      "Model 4 for Group Clients 1 and Communication round 1\n",
      "Updating model in the server...\n",
      "Updating model in the server...\n",
      "Testing in the server all the models...\n"
     ]
    },
    {
     "name": "stderr",
     "output_type": "stream",
     "text": [
      " 40%|████      | 2/5 [04:59<06:57, 139.15s/it]"
     ]
    },
    {
     "name": "stdout",
     "output_type": "stream",
     "text": [
      "1-th round, in age 72-th\n",
      "average train loss 0.00137 | test loss 0.878 | test acc: 0.811\n",
      "Model 1 for Group Clients 0 and Communication round 2\n",
      "Model 2 for Group Clients 1 and Communication round 2\n",
      "Updating model in the server...\n",
      "Updating model in the server...\n",
      "Testing in the server all the models...\n"
     ]
    },
    {
     "name": "stderr",
     "output_type": "stream",
     "text": [
      " 60%|██████    | 3/5 [06:28<03:53, 116.67s/it]"
     ]
    },
    {
     "name": "stdout",
     "output_type": "stream",
     "text": [
      "2-th round, in age 72-th\n",
      "average train loss 0.00258 | test loss 0.825 | test acc: 0.821\n",
      "Model 4 for Group Clients 0 and Communication round 3\n",
      "Model 0 for Group Clients 1 and Communication round 3\n",
      "Updating model in the server...\n",
      "Updating model in the server...\n",
      "Testing in the server all the models...\n"
     ]
    },
    {
     "name": "stderr",
     "output_type": "stream",
     "text": [
      " 80%|████████  | 4/5 [07:58<01:45, 105.87s/it]"
     ]
    },
    {
     "name": "stdout",
     "output_type": "stream",
     "text": [
      "3-th round, in age 72-th\n",
      "average train loss 0.00197 | test loss 0.815 | test acc: 0.842\n",
      "Model 3 for Group Clients 0 and Communication round 4\n",
      "Model 1 for Group Clients 1 and Communication round 4\n",
      "Updating model in the server...\n",
      "Updating model in the server...\n",
      "Testing in the server all the models...\n"
     ]
    },
    {
     "name": "stderr",
     "output_type": "stream",
     "text": [
      "100%|██████████| 5/5 [09:28<00:00, 113.75s/it]\n",
      "  0%|          | 0/5 [00:00<?, ?it/s]"
     ]
    },
    {
     "name": "stdout",
     "output_type": "stream",
     "text": [
      "4-th round, in age 72-th\n",
      "average train loss 0.00377 | test loss 0.807 | test acc: 0.842\n",
      "Confusion Matrix:  tensor([[51.,  2.,  2.],\n",
      "        [ 6., 19.,  2.],\n",
      "        [ 3.,  0., 10.]])\n",
      "Ages:  73\n",
      "Model 3 for Group Clients 0 and Communication round 0\n",
      "Model 2 for Group Clients 1 and Communication round 0\n",
      "Updating model in the server...\n",
      "Updating model in the server...\n",
      "Testing in the server all the models...\n"
     ]
    },
    {
     "name": "stderr",
     "output_type": "stream",
     "text": [
      " 20%|██        | 1/5 [01:30<06:01, 90.47s/it]"
     ]
    },
    {
     "name": "stdout",
     "output_type": "stream",
     "text": [
      "0-th round, in age 73-th\n",
      "average train loss 0.00294 | test loss 0.883 | test acc: 0.842\n",
      "Model 0 for Group Clients 0 and Communication round 1\n",
      "Model 3 for Group Clients 1 and Communication round 1\n",
      "Updating model in the server...\n",
      "Updating model in the server...\n",
      "Testing in the server all the models...\n"
     ]
    },
    {
     "name": "stderr",
     "output_type": "stream",
     "text": [
      " 40%|████      | 2/5 [02:59<04:29, 89.73s/it]"
     ]
    },
    {
     "name": "stdout",
     "output_type": "stream",
     "text": [
      "1-th round, in age 73-th\n",
      "average train loss 0.00352 | test loss 0.855 | test acc: 0.832\n",
      "Model 2 for Group Clients 0 and Communication round 2\n",
      "Model 1 for Group Clients 1 and Communication round 2\n",
      "Updating model in the server...\n",
      "Updating model in the server...\n",
      "Testing in the server all the models...\n"
     ]
    },
    {
     "name": "stderr",
     "output_type": "stream",
     "text": [
      " 60%|██████    | 3/5 [04:29<02:59, 89.78s/it]"
     ]
    },
    {
     "name": "stdout",
     "output_type": "stream",
     "text": [
      "2-th round, in age 73-th\n",
      "average train loss 0.00224 | test loss 0.795 | test acc: 0.832\n",
      "Model 4 for Group Clients 0 and Communication round 3\n",
      "Model 4 for Group Clients 1 and Communication round 3\n",
      "Updating model in the server...\n",
      "Updating model in the server...\n",
      "Testing in the server all the models...\n"
     ]
    },
    {
     "name": "stderr",
     "output_type": "stream",
     "text": [
      " 80%|████████  | 4/5 [05:59<01:29, 89.80s/it]"
     ]
    },
    {
     "name": "stdout",
     "output_type": "stream",
     "text": [
      "3-th round, in age 73-th\n",
      "average train loss 0.00176 | test loss 0.884 | test acc: 0.811\n",
      "Model 1 for Group Clients 0 and Communication round 4\n",
      "Model 0 for Group Clients 1 and Communication round 4\n",
      "Updating model in the server...\n",
      "Updating model in the server...\n",
      "Testing in the server all the models...\n"
     ]
    },
    {
     "name": "stderr",
     "output_type": "stream",
     "text": [
      "100%|██████████| 5/5 [07:29<00:00, 89.83s/it]\n",
      "  0%|          | 0/5 [00:00<?, ?it/s]"
     ]
    },
    {
     "name": "stdout",
     "output_type": "stream",
     "text": [
      "4-th round, in age 73-th\n",
      "average train loss 0.00225 | test loss 0.846 | test acc: 0.821\n",
      "Confusion Matrix:  tensor([[50.,  2.,  3.],\n",
      "        [ 8., 17.,  2.],\n",
      "        [ 2.,  0., 11.]])\n",
      "Ages:  74\n",
      "Model 2 for Group Clients 0 and Communication round 0\n",
      "Model 1 for Group Clients 1 and Communication round 0\n",
      "Updating model in the server...\n",
      "Updating model in the server...\n",
      "Testing in the server all the models...\n"
     ]
    },
    {
     "name": "stderr",
     "output_type": "stream",
     "text": [
      " 20%|██        | 1/5 [01:29<05:57, 89.48s/it]"
     ]
    },
    {
     "name": "stdout",
     "output_type": "stream",
     "text": [
      "0-th round, in age 74-th\n",
      "average train loss 0.00189 | test loss 0.963 | test acc: 0.789\n",
      "Model 0 for Group Clients 0 and Communication round 1\n",
      "Model 4 for Group Clients 1 and Communication round 1\n",
      "Updating model in the server...\n",
      "Updating model in the server...\n",
      "Testing in the server all the models...\n"
     ]
    },
    {
     "name": "stderr",
     "output_type": "stream",
     "text": [
      " 40%|████      | 2/5 [03:00<04:31, 90.40s/it]"
     ]
    },
    {
     "name": "stdout",
     "output_type": "stream",
     "text": [
      "1-th round, in age 74-th\n",
      "average train loss 0.00275 | test loss 0.886 | test acc: 0.832\n",
      "Model 4 for Group Clients 0 and Communication round 2\n",
      "Model 2 for Group Clients 1 and Communication round 2\n",
      "Updating model in the server...\n",
      "Updating model in the server...\n",
      "Testing in the server all the models...\n"
     ]
    },
    {
     "name": "stderr",
     "output_type": "stream",
     "text": [
      " 60%|██████    | 3/5 [04:30<03:00, 90.20s/it]"
     ]
    },
    {
     "name": "stdout",
     "output_type": "stream",
     "text": [
      "2-th round, in age 74-th\n",
      "average train loss 0.00194 | test loss 0.781 | test acc: 0.821\n",
      "Model 3 for Group Clients 0 and Communication round 3\n",
      "Model 3 for Group Clients 1 and Communication round 3\n",
      "Updating model in the server...\n",
      "Updating model in the server...\n",
      "Testing in the server all the models...\n"
     ]
    },
    {
     "name": "stderr",
     "output_type": "stream",
     "text": [
      " 80%|████████  | 4/5 [06:00<01:30, 90.18s/it]"
     ]
    },
    {
     "name": "stdout",
     "output_type": "stream",
     "text": [
      "3-th round, in age 74-th\n",
      "average train loss 0.002 | test loss 0.802 | test acc: 0.821\n",
      "Model 1 for Group Clients 0 and Communication round 4\n",
      "Model 0 for Group Clients 1 and Communication round 4\n",
      "Updating model in the server...\n",
      "Updating model in the server...\n",
      "Testing in the server all the models...\n"
     ]
    },
    {
     "name": "stderr",
     "output_type": "stream",
     "text": [
      "100%|██████████| 5/5 [07:30<00:00, 90.03s/it]\n",
      "  0%|          | 0/5 [00:00<?, ?it/s]"
     ]
    },
    {
     "name": "stdout",
     "output_type": "stream",
     "text": [
      "4-th round, in age 74-th\n",
      "average train loss 0.00267 | test loss 0.802 | test acc: 0.842\n",
      "Confusion Matrix:  tensor([[49.,  3.,  3.],\n",
      "        [ 5., 21.,  1.],\n",
      "        [ 3.,  0., 10.]])\n",
      "Ages:  75\n",
      "Model 4 for Group Clients 0 and Communication round 0\n",
      "Model 4 for Group Clients 1 and Communication round 0\n",
      "Updating model in the server...\n",
      "Updating model in the server...\n",
      "Testing in the server all the models...\n"
     ]
    },
    {
     "name": "stderr",
     "output_type": "stream",
     "text": [
      " 20%|██        | 1/5 [01:29<05:57, 89.42s/it]"
     ]
    },
    {
     "name": "stdout",
     "output_type": "stream",
     "text": [
      "0-th round, in age 75-th\n",
      "average train loss 0.00214 | test loss 0.87 | test acc: 0.811\n",
      "Model 0 for Group Clients 0 and Communication round 1\n",
      "Model 0 for Group Clients 1 and Communication round 1\n",
      "Updating model in the server...\n",
      "Updating model in the server...\n",
      "Testing in the server all the models...\n"
     ]
    },
    {
     "name": "stderr",
     "output_type": "stream",
     "text": [
      " 40%|████      | 2/5 [02:59<04:29, 89.99s/it]"
     ]
    },
    {
     "name": "stdout",
     "output_type": "stream",
     "text": [
      "1-th round, in age 75-th\n",
      "average train loss 0.00244 | test loss 0.915 | test acc: 0.800\n",
      "Model 3 for Group Clients 0 and Communication round 2\n",
      "Model 2 for Group Clients 1 and Communication round 2\n",
      "Updating model in the server...\n",
      "Updating model in the server...\n",
      "Testing in the server all the models...\n"
     ]
    },
    {
     "name": "stderr",
     "output_type": "stream",
     "text": [
      " 60%|██████    | 3/5 [04:28<02:59, 89.56s/it]"
     ]
    },
    {
     "name": "stdout",
     "output_type": "stream",
     "text": [
      "2-th round, in age 75-th\n",
      "average train loss 0.00165 | test loss 0.879 | test acc: 0.821\n",
      "Model 2 for Group Clients 0 and Communication round 3\n",
      "Model 3 for Group Clients 1 and Communication round 3\n",
      "Updating model in the server...\n",
      "Updating model in the server...\n",
      "Testing in the server all the models...\n"
     ]
    },
    {
     "name": "stderr",
     "output_type": "stream",
     "text": [
      " 80%|████████  | 4/5 [06:00<01:30, 90.22s/it]"
     ]
    },
    {
     "name": "stdout",
     "output_type": "stream",
     "text": [
      "3-th round, in age 75-th\n",
      "average train loss 0.00365 | test loss 0.868 | test acc: 0.832\n",
      "Model 1 for Group Clients 0 and Communication round 4\n",
      "Model 1 for Group Clients 1 and Communication round 4\n",
      "Updating model in the server...\n",
      "Updating model in the server...\n",
      "Testing in the server all the models...\n"
     ]
    },
    {
     "name": "stderr",
     "output_type": "stream",
     "text": [
      "100%|██████████| 5/5 [07:30<00:00, 90.18s/it]\n",
      "  0%|          | 0/5 [00:00<?, ?it/s]"
     ]
    },
    {
     "name": "stdout",
     "output_type": "stream",
     "text": [
      "4-th round, in age 75-th\n",
      "average train loss 0.00342 | test loss 0.959 | test acc: 0.779\n",
      "Confusion Matrix:  tensor([[47.,  4.,  4.],\n",
      "        [ 9., 16.,  2.],\n",
      "        [ 2.,  0., 11.]])\n",
      "Ages:  76\n",
      "Model 0 for Group Clients 0 and Communication round 0\n",
      "Model 1 for Group Clients 1 and Communication round 0\n",
      "Updating model in the server...\n",
      "Updating model in the server...\n",
      "Testing in the server all the models...\n"
     ]
    },
    {
     "name": "stderr",
     "output_type": "stream",
     "text": [
      " 20%|██        | 1/5 [01:30<06:00, 90.12s/it]"
     ]
    },
    {
     "name": "stdout",
     "output_type": "stream",
     "text": [
      "0-th round, in age 76-th\n",
      "average train loss 0.00355 | test loss 0.834 | test acc: 0.821\n",
      "Model 1 for Group Clients 0 and Communication round 1\n",
      "Model 0 for Group Clients 1 and Communication round 1\n",
      "Updating model in the server...\n",
      "Updating model in the server...\n",
      "Testing in the server all the models...\n"
     ]
    },
    {
     "name": "stderr",
     "output_type": "stream",
     "text": [
      " 40%|████      | 2/5 [02:59<04:29, 89.83s/it]"
     ]
    },
    {
     "name": "stdout",
     "output_type": "stream",
     "text": [
      "1-th round, in age 76-th\n",
      "average train loss 0.00234 | test loss 0.819 | test acc: 0.842\n",
      "Model 4 for Group Clients 0 and Communication round 2\n",
      "Model 2 for Group Clients 1 and Communication round 2\n",
      "Updating model in the server...\n",
      "Updating model in the server...\n",
      "Testing in the server all the models...\n"
     ]
    },
    {
     "name": "stderr",
     "output_type": "stream",
     "text": [
      " 60%|██████    | 3/5 [04:28<02:58, 89.31s/it]"
     ]
    },
    {
     "name": "stdout",
     "output_type": "stream",
     "text": [
      "2-th round, in age 76-th\n",
      "average train loss 0.0024 | test loss 0.814 | test acc: 0.832\n",
      "Model 3 for Group Clients 0 and Communication round 3\n",
      "Model 4 for Group Clients 1 and Communication round 3\n",
      "Updating model in the server...\n",
      "Updating model in the server...\n",
      "Testing in the server all the models...\n"
     ]
    },
    {
     "name": "stderr",
     "output_type": "stream",
     "text": [
      " 80%|████████  | 4/5 [05:59<01:29, 89.90s/it]"
     ]
    },
    {
     "name": "stdout",
     "output_type": "stream",
     "text": [
      "3-th round, in age 76-th\n",
      "average train loss 0.00224 | test loss 0.781 | test acc: 0.853\n",
      "Model 2 for Group Clients 0 and Communication round 4\n",
      "Model 3 for Group Clients 1 and Communication round 4\n",
      "Updating model in the server...\n",
      "Updating model in the server...\n",
      "Testing in the server all the models...\n"
     ]
    },
    {
     "name": "stderr",
     "output_type": "stream",
     "text": [
      "100%|██████████| 5/5 [07:29<00:00, 89.83s/it]\n",
      "  0%|          | 0/5 [00:00<?, ?it/s]"
     ]
    },
    {
     "name": "stdout",
     "output_type": "stream",
     "text": [
      "4-th round, in age 76-th\n",
      "average train loss 0.0023 | test loss 0.824 | test acc: 0.842\n",
      "Confusion Matrix:  tensor([[50.,  2.,  3.],\n",
      "        [ 6., 19.,  2.],\n",
      "        [ 2.,  0., 11.]])\n",
      "Ages:  77\n",
      "Model 2 for Group Clients 0 and Communication round 0\n",
      "Model 3 for Group Clients 1 and Communication round 0\n",
      "Updating model in the server...\n",
      "Updating model in the server...\n",
      "Testing in the server all the models...\n"
     ]
    },
    {
     "name": "stderr",
     "output_type": "stream",
     "text": [
      " 20%|██        | 1/5 [01:32<06:11, 92.91s/it]"
     ]
    },
    {
     "name": "stdout",
     "output_type": "stream",
     "text": [
      "0-th round, in age 77-th\n",
      "average train loss 0.00147 | test loss 0.84 | test acc: 0.842\n",
      "Model 0 for Group Clients 0 and Communication round 1\n",
      "Model 1 for Group Clients 1 and Communication round 1\n",
      "Updating model in the server...\n",
      "Updating model in the server...\n",
      "Testing in the server all the models...\n"
     ]
    },
    {
     "name": "stderr",
     "output_type": "stream",
     "text": [
      " 40%|████      | 2/5 [03:02<04:33, 91.04s/it]"
     ]
    },
    {
     "name": "stdout",
     "output_type": "stream",
     "text": [
      "1-th round, in age 77-th\n",
      "average train loss 0.00328 | test loss 0.855 | test acc: 0.832\n",
      "Model 1 for Group Clients 0 and Communication round 2\n",
      "Model 2 for Group Clients 1 and Communication round 2\n",
      "Updating model in the server...\n",
      "Updating model in the server...\n",
      "Testing in the server all the models...\n"
     ]
    },
    {
     "name": "stderr",
     "output_type": "stream",
     "text": [
      " 60%|██████    | 3/5 [04:33<03:02, 91.15s/it]"
     ]
    },
    {
     "name": "stdout",
     "output_type": "stream",
     "text": [
      "2-th round, in age 77-th\n",
      "average train loss 0.00218 | test loss 0.823 | test acc: 0.842\n",
      "Model 3 for Group Clients 0 and Communication round 3\n",
      "Model 0 for Group Clients 1 and Communication round 3\n",
      "Updating model in the server...\n",
      "Updating model in the server...\n",
      "Testing in the server all the models...\n"
     ]
    },
    {
     "name": "stderr",
     "output_type": "stream",
     "text": [
      " 80%|████████  | 4/5 [06:03<01:30, 90.60s/it]"
     ]
    },
    {
     "name": "stdout",
     "output_type": "stream",
     "text": [
      "3-th round, in age 77-th\n",
      "average train loss 0.00171 | test loss 0.816 | test acc: 0.842\n",
      "Model 4 for Group Clients 0 and Communication round 4\n",
      "Model 4 for Group Clients 1 and Communication round 4\n",
      "Updating model in the server...\n",
      "Updating model in the server...\n",
      "Testing in the server all the models...\n"
     ]
    },
    {
     "name": "stderr",
     "output_type": "stream",
     "text": [
      "100%|██████████| 5/5 [07:33<00:00, 90.70s/it]\n",
      "  0%|          | 0/5 [00:00<?, ?it/s]"
     ]
    },
    {
     "name": "stdout",
     "output_type": "stream",
     "text": [
      "4-th round, in age 77-th\n",
      "average train loss 0.00213 | test loss 0.86 | test acc: 0.853\n",
      "Confusion Matrix:  tensor([[52.,  1.,  2.],\n",
      "        [ 7., 19.,  1.],\n",
      "        [ 3.,  0., 10.]])\n",
      "Ages:  78\n",
      "Model 3 for Group Clients 0 and Communication round 0\n",
      "Model 4 for Group Clients 1 and Communication round 0\n",
      "Updating model in the server...\n",
      "Updating model in the server...\n",
      "Testing in the server all the models...\n"
     ]
    },
    {
     "name": "stderr",
     "output_type": "stream",
     "text": [
      " 20%|██        | 1/5 [01:29<05:57, 89.46s/it]"
     ]
    },
    {
     "name": "stdout",
     "output_type": "stream",
     "text": [
      "0-th round, in age 78-th\n",
      "average train loss 0.00145 | test loss 0.853 | test acc: 0.842\n",
      "Model 0 for Group Clients 0 and Communication round 1\n",
      "Model 0 for Group Clients 1 and Communication round 1\n",
      "Updating model in the server...\n",
      "Updating model in the server...\n",
      "Testing in the server all the models...\n"
     ]
    },
    {
     "name": "stderr",
     "output_type": "stream",
     "text": [
      " 40%|████      | 2/5 [02:57<04:26, 88.73s/it]"
     ]
    },
    {
     "name": "stdout",
     "output_type": "stream",
     "text": [
      "1-th round, in age 78-th\n",
      "average train loss 0.00114 | test loss 0.898 | test acc: 0.842\n",
      "Model 2 for Group Clients 0 and Communication round 2\n",
      "Model 1 for Group Clients 1 and Communication round 2\n",
      "Updating model in the server...\n",
      "Updating model in the server...\n",
      "Testing in the server all the models...\n"
     ]
    },
    {
     "name": "stderr",
     "output_type": "stream",
     "text": [
      " 60%|██████    | 3/5 [04:28<02:59, 89.64s/it]"
     ]
    },
    {
     "name": "stdout",
     "output_type": "stream",
     "text": [
      "2-th round, in age 78-th\n",
      "average train loss 0.00355 | test loss 0.952 | test acc: 0.811\n",
      "Model 1 for Group Clients 0 and Communication round 3\n",
      "Model 2 for Group Clients 1 and Communication round 3\n",
      "Updating model in the server...\n",
      "Updating model in the server...\n",
      "Testing in the server all the models...\n"
     ]
    },
    {
     "name": "stderr",
     "output_type": "stream",
     "text": [
      " 80%|████████  | 4/5 [05:59<01:30, 90.11s/it]"
     ]
    },
    {
     "name": "stdout",
     "output_type": "stream",
     "text": [
      "3-th round, in age 78-th\n",
      "average train loss 0.00216 | test loss 0.907 | test acc: 0.821\n",
      "Model 4 for Group Clients 0 and Communication round 4\n",
      "Model 3 for Group Clients 1 and Communication round 4\n",
      "Updating model in the server...\n",
      "Updating model in the server...\n",
      "Testing in the server all the models...\n"
     ]
    },
    {
     "name": "stderr",
     "output_type": "stream",
     "text": [
      "100%|██████████| 5/5 [07:28<00:00, 89.68s/it]\n",
      "  0%|          | 0/5 [00:00<?, ?it/s]"
     ]
    },
    {
     "name": "stdout",
     "output_type": "stream",
     "text": [
      "4-th round, in age 78-th\n",
      "average train loss 0.00162 | test loss 0.876 | test acc: 0.832\n",
      "Confusion Matrix:  tensor([[50.,  2.,  3.],\n",
      "        [ 6., 19.,  2.],\n",
      "        [ 3.,  0., 10.]])\n",
      "Ages:  79\n",
      "Model 0 for Group Clients 0 and Communication round 0\n",
      "Model 3 for Group Clients 1 and Communication round 0\n",
      "Updating model in the server...\n",
      "Updating model in the server...\n",
      "Testing in the server all the models...\n"
     ]
    },
    {
     "name": "stderr",
     "output_type": "stream",
     "text": [
      " 20%|██        | 1/5 [01:30<06:00, 90.05s/it]"
     ]
    },
    {
     "name": "stdout",
     "output_type": "stream",
     "text": [
      "0-th round, in age 79-th\n",
      "average train loss 0.00282 | test loss 0.744 | test acc: 0.853\n",
      "Model 4 for Group Clients 0 and Communication round 1\n",
      "Model 0 for Group Clients 1 and Communication round 1\n",
      "Updating model in the server...\n",
      "Updating model in the server...\n",
      "Testing in the server all the models...\n"
     ]
    },
    {
     "name": "stderr",
     "output_type": "stream",
     "text": [
      " 40%|████      | 2/5 [03:00<04:30, 90.07s/it]"
     ]
    },
    {
     "name": "stdout",
     "output_type": "stream",
     "text": [
      "1-th round, in age 79-th\n",
      "average train loss 0.00278 | test loss 0.856 | test acc: 0.842\n",
      "Model 2 for Group Clients 0 and Communication round 2\n",
      "Model 4 for Group Clients 1 and Communication round 2\n",
      "Updating model in the server...\n",
      "Updating model in the server...\n",
      "Testing in the server all the models...\n"
     ]
    },
    {
     "name": "stderr",
     "output_type": "stream",
     "text": [
      " 60%|██████    | 3/5 [04:30<03:00, 90.11s/it]"
     ]
    },
    {
     "name": "stdout",
     "output_type": "stream",
     "text": [
      "2-th round, in age 79-th\n",
      "average train loss 0.00168 | test loss 0.895 | test acc: 0.842\n",
      "Model 3 for Group Clients 0 and Communication round 3\n",
      "Model 2 for Group Clients 1 and Communication round 3\n",
      "Updating model in the server...\n",
      "Updating model in the server...\n",
      "Testing in the server all the models...\n"
     ]
    },
    {
     "name": "stderr",
     "output_type": "stream",
     "text": [
      " 80%|████████  | 4/5 [05:59<01:29, 89.73s/it]"
     ]
    },
    {
     "name": "stdout",
     "output_type": "stream",
     "text": [
      "3-th round, in age 79-th\n",
      "average train loss 0.0027 | test loss 0.826 | test acc: 0.832\n",
      "Model 1 for Group Clients 0 and Communication round 4\n",
      "Model 1 for Group Clients 1 and Communication round 4\n",
      "Updating model in the server...\n",
      "Updating model in the server...\n",
      "Testing in the server all the models...\n"
     ]
    },
    {
     "name": "stderr",
     "output_type": "stream",
     "text": [
      "100%|██████████| 5/5 [07:29<00:00, 89.93s/it]\n",
      "  0%|          | 0/5 [00:00<?, ?it/s]"
     ]
    },
    {
     "name": "stdout",
     "output_type": "stream",
     "text": [
      "4-th round, in age 79-th\n",
      "average train loss 0.00278 | test loss 0.891 | test acc: 0.821\n",
      "Confusion Matrix:  tensor([[51.,  2.,  2.],\n",
      "        [ 8., 17.,  2.],\n",
      "        [ 3.,  0., 10.]])\n",
      "Ages:  80\n",
      "Model 0 for Group Clients 0 and Communication round 0\n",
      "Model 1 for Group Clients 1 and Communication round 0\n",
      "Updating model in the server...\n",
      "Updating model in the server...\n",
      "Testing in the server all the models...\n"
     ]
    },
    {
     "name": "stderr",
     "output_type": "stream",
     "text": [
      " 20%|██        | 1/5 [01:29<05:56, 89.15s/it]"
     ]
    },
    {
     "name": "stdout",
     "output_type": "stream",
     "text": [
      "0-th round, in age 80-th\n",
      "average train loss 0.00177 | test loss 0.845 | test acc: 0.811\n",
      "Model 2 for Group Clients 0 and Communication round 1\n",
      "Model 3 for Group Clients 1 and Communication round 1\n",
      "Updating model in the server...\n",
      "Updating model in the server...\n",
      "Testing in the server all the models...\n"
     ]
    },
    {
     "name": "stderr",
     "output_type": "stream",
     "text": [
      " 40%|████      | 2/5 [02:57<04:26, 88.78s/it]"
     ]
    },
    {
     "name": "stdout",
     "output_type": "stream",
     "text": [
      "1-th round, in age 80-th\n",
      "average train loss 0.0011 | test loss 0.879 | test acc: 0.832\n",
      "Model 4 for Group Clients 0 and Communication round 2\n",
      "Model 2 for Group Clients 1 and Communication round 2\n",
      "Updating model in the server...\n",
      "Updating model in the server...\n",
      "Testing in the server all the models...\n"
     ]
    },
    {
     "name": "stderr",
     "output_type": "stream",
     "text": [
      " 60%|██████    | 3/5 [04:28<02:59, 89.56s/it]"
     ]
    },
    {
     "name": "stdout",
     "output_type": "stream",
     "text": [
      "2-th round, in age 80-th\n",
      "average train loss 0.00503 | test loss 0.9 | test acc: 0.821\n",
      "Model 1 for Group Clients 0 and Communication round 3\n",
      "Model 4 for Group Clients 1 and Communication round 3\n",
      "Updating model in the server...\n",
      "Updating model in the server...\n",
      "Testing in the server all the models...\n"
     ]
    },
    {
     "name": "stderr",
     "output_type": "stream",
     "text": [
      " 80%|████████  | 4/5 [05:59<01:30, 90.24s/it]"
     ]
    },
    {
     "name": "stdout",
     "output_type": "stream",
     "text": [
      "3-th round, in age 80-th\n",
      "average train loss 0.00446 | test loss 0.81 | test acc: 0.853\n",
      "Model 3 for Group Clients 0 and Communication round 4\n",
      "Model 0 for Group Clients 1 and Communication round 4\n",
      "Updating model in the server...\n",
      "Updating model in the server...\n",
      "Testing in the server all the models...\n"
     ]
    },
    {
     "name": "stderr",
     "output_type": "stream",
     "text": [
      "100%|██████████| 5/5 [07:30<00:00, 90.06s/it]\n",
      "  0%|          | 0/5 [00:00<?, ?it/s]"
     ]
    },
    {
     "name": "stdout",
     "output_type": "stream",
     "text": [
      "4-th round, in age 80-th\n",
      "average train loss 0.00494 | test loss 0.807 | test acc: 0.842\n",
      "Confusion Matrix:  tensor([[51.,  2.,  2.],\n",
      "        [ 7., 19.,  1.],\n",
      "        [ 3.,  0., 10.]])\n",
      "Ages:  81\n",
      "Model 1 for Group Clients 0 and Communication round 0\n",
      "Model 2 for Group Clients 1 and Communication round 0\n",
      "Updating model in the server...\n",
      "Updating model in the server...\n",
      "Testing in the server all the models...\n"
     ]
    },
    {
     "name": "stderr",
     "output_type": "stream",
     "text": [
      " 20%|██        | 1/5 [01:30<06:00, 90.20s/it]"
     ]
    },
    {
     "name": "stdout",
     "output_type": "stream",
     "text": [
      "0-th round, in age 81-th\n",
      "average train loss 0.00159 | test loss 0.845 | test acc: 0.853\n",
      "Model 0 for Group Clients 0 and Communication round 1\n",
      "Model 1 for Group Clients 1 and Communication round 1\n",
      "Updating model in the server...\n",
      "Updating model in the server...\n",
      "Testing in the server all the models...\n"
     ]
    },
    {
     "name": "stderr",
     "output_type": "stream",
     "text": [
      " 40%|████      | 2/5 [03:00<04:30, 90.10s/it]"
     ]
    },
    {
     "name": "stdout",
     "output_type": "stream",
     "text": [
      "1-th round, in age 81-th\n",
      "average train loss 0.00232 | test loss 0.825 | test acc: 0.853\n",
      "Model 4 for Group Clients 0 and Communication round 2\n",
      "Model 4 for Group Clients 1 and Communication round 2\n",
      "Updating model in the server...\n",
      "Updating model in the server...\n",
      "Testing in the server all the models...\n"
     ]
    },
    {
     "name": "stderr",
     "output_type": "stream",
     "text": [
      " 60%|██████    | 3/5 [04:30<03:00, 90.17s/it]"
     ]
    },
    {
     "name": "stdout",
     "output_type": "stream",
     "text": [
      "2-th round, in age 81-th\n",
      "average train loss 0.0014 | test loss 0.871 | test acc: 0.832\n",
      "Model 3 for Group Clients 0 and Communication round 3\n",
      "Model 0 for Group Clients 1 and Communication round 3\n",
      "Updating model in the server...\n",
      "Updating model in the server...\n",
      "Testing in the server all the models...\n"
     ]
    },
    {
     "name": "stderr",
     "output_type": "stream",
     "text": [
      " 80%|████████  | 4/5 [05:59<01:29, 89.72s/it]"
     ]
    },
    {
     "name": "stdout",
     "output_type": "stream",
     "text": [
      "3-th round, in age 81-th\n",
      "average train loss 0.00199 | test loss 0.989 | test acc: 0.821\n",
      "Model 2 for Group Clients 0 and Communication round 4\n",
      "Model 3 for Group Clients 1 and Communication round 4\n",
      "Updating model in the server...\n",
      "Updating model in the server...\n",
      "Testing in the server all the models...\n"
     ]
    },
    {
     "name": "stderr",
     "output_type": "stream",
     "text": [
      "100%|██████████| 5/5 [07:30<00:00, 90.01s/it]\n",
      "  0%|          | 0/5 [00:00<?, ?it/s]"
     ]
    },
    {
     "name": "stdout",
     "output_type": "stream",
     "text": [
      "4-th round, in age 81-th\n",
      "average train loss 0.00138 | test loss 0.931 | test acc: 0.789\n",
      "Confusion Matrix:  tensor([[48.,  3.,  4.],\n",
      "        [ 8., 17.,  2.],\n",
      "        [ 3.,  0., 10.]])\n",
      "Ages:  82\n",
      "Model 0 for Group Clients 0 and Communication round 0\n",
      "Model 4 for Group Clients 1 and Communication round 0\n",
      "Updating model in the server...\n",
      "Updating model in the server...\n",
      "Testing in the server all the models...\n"
     ]
    },
    {
     "name": "stderr",
     "output_type": "stream",
     "text": [
      " 20%|██        | 1/5 [01:29<05:59, 89.88s/it]"
     ]
    },
    {
     "name": "stdout",
     "output_type": "stream",
     "text": [
      "0-th round, in age 82-th\n",
      "average train loss 0.00207 | test loss 0.831 | test acc: 0.842\n",
      "Model 1 for Group Clients 0 and Communication round 1\n",
      "Model 2 for Group Clients 1 and Communication round 1\n",
      "Updating model in the server...\n",
      "Updating model in the server...\n",
      "Testing in the server all the models...\n"
     ]
    },
    {
     "name": "stderr",
     "output_type": "stream",
     "text": [
      " 40%|████      | 2/5 [02:59<04:29, 89.78s/it]"
     ]
    },
    {
     "name": "stdout",
     "output_type": "stream",
     "text": [
      "1-th round, in age 82-th\n",
      "average train loss 0.00318 | test loss 0.799 | test acc: 0.853\n",
      "Model 4 for Group Clients 0 and Communication round 2\n",
      "Model 3 for Group Clients 1 and Communication round 2\n",
      "Updating model in the server...\n",
      "Updating model in the server...\n",
      "Testing in the server all the models...\n"
     ]
    },
    {
     "name": "stderr",
     "output_type": "stream",
     "text": [
      " 60%|██████    | 3/5 [04:29<03:00, 90.01s/it]"
     ]
    },
    {
     "name": "stdout",
     "output_type": "stream",
     "text": [
      "2-th round, in age 82-th\n",
      "average train loss 0.00256 | test loss 0.734 | test acc: 0.863\n",
      "Model 2 for Group Clients 0 and Communication round 3\n",
      "Model 1 for Group Clients 1 and Communication round 3\n",
      "Updating model in the server...\n",
      "Updating model in the server...\n",
      "Testing in the server all the models...\n"
     ]
    },
    {
     "name": "stderr",
     "output_type": "stream",
     "text": [
      " 80%|████████  | 4/5 [05:58<01:29, 89.60s/it]"
     ]
    },
    {
     "name": "stdout",
     "output_type": "stream",
     "text": [
      "3-th round, in age 82-th\n",
      "average train loss 0.00177 | test loss 0.767 | test acc: 0.874\n",
      "Model 3 for Group Clients 0 and Communication round 4\n",
      "Model 0 for Group Clients 1 and Communication round 4\n",
      "Updating model in the server...\n",
      "Updating model in the server...\n",
      "Testing in the server all the models...\n"
     ]
    },
    {
     "name": "stderr",
     "output_type": "stream",
     "text": [
      "100%|██████████| 5/5 [07:29<00:00, 89.88s/it]\n",
      "  0%|          | 0/5 [00:00<?, ?it/s]"
     ]
    },
    {
     "name": "stdout",
     "output_type": "stream",
     "text": [
      "4-th round, in age 82-th\n",
      "average train loss 0.00261 | test loss 0.766 | test acc: 0.874\n",
      "Confusion Matrix:  tensor([[51.,  1.,  3.],\n",
      "        [ 4., 21.,  2.],\n",
      "        [ 2.,  0., 11.]])\n",
      "Ages:  83\n",
      "Model 1 for Group Clients 0 and Communication round 0\n",
      "Model 2 for Group Clients 1 and Communication round 0\n",
      "Updating model in the server...\n",
      "Updating model in the server...\n",
      "Testing in the server all the models...\n"
     ]
    },
    {
     "name": "stderr",
     "output_type": "stream",
     "text": [
      " 20%|██        | 1/5 [01:30<06:02, 90.62s/it]"
     ]
    },
    {
     "name": "stdout",
     "output_type": "stream",
     "text": [
      "0-th round, in age 83-th\n",
      "average train loss 0.00134 | test loss 0.727 | test acc: 0.853\n",
      "Model 0 for Group Clients 0 and Communication round 1\n",
      "Model 0 for Group Clients 1 and Communication round 1\n",
      "Updating model in the server...\n",
      "Updating model in the server...\n",
      "Testing in the server all the models...\n"
     ]
    },
    {
     "name": "stderr",
     "output_type": "stream",
     "text": [
      " 40%|████      | 2/5 [03:00<04:31, 90.41s/it]"
     ]
    },
    {
     "name": "stdout",
     "output_type": "stream",
     "text": [
      "1-th round, in age 83-th\n",
      "average train loss 0.000767 | test loss 0.782 | test acc: 0.842\n",
      "Model 4 for Group Clients 0 and Communication round 2\n",
      "Model 3 for Group Clients 1 and Communication round 2\n",
      "Updating model in the server...\n",
      "Updating model in the server...\n",
      "Testing in the server all the models...\n"
     ]
    },
    {
     "name": "stderr",
     "output_type": "stream",
     "text": [
      " 60%|██████    | 3/5 [04:29<02:59, 89.61s/it]"
     ]
    },
    {
     "name": "stdout",
     "output_type": "stream",
     "text": [
      "2-th round, in age 83-th\n",
      "average train loss 0.00178 | test loss 0.863 | test acc: 0.842\n",
      "Model 3 for Group Clients 0 and Communication round 3\n",
      "Model 4 for Group Clients 1 and Communication round 3\n",
      "Updating model in the server...\n",
      "Updating model in the server...\n",
      "Testing in the server all the models...\n"
     ]
    },
    {
     "name": "stderr",
     "output_type": "stream",
     "text": [
      " 80%|████████  | 4/5 [05:59<01:29, 89.64s/it]"
     ]
    },
    {
     "name": "stdout",
     "output_type": "stream",
     "text": [
      "3-th round, in age 83-th\n",
      "average train loss 0.00255 | test loss 0.828 | test acc: 0.832\n",
      "Model 2 for Group Clients 0 and Communication round 4\n",
      "Model 1 for Group Clients 1 and Communication round 4\n",
      "Updating model in the server...\n",
      "Updating model in the server...\n",
      "Testing in the server all the models...\n"
     ]
    },
    {
     "name": "stderr",
     "output_type": "stream",
     "text": [
      "100%|██████████| 5/5 [07:29<00:00, 89.88s/it]\n",
      "  0%|          | 0/5 [00:00<?, ?it/s]"
     ]
    },
    {
     "name": "stdout",
     "output_type": "stream",
     "text": [
      "4-th round, in age 83-th\n",
      "average train loss 0.00153 | test loss 0.895 | test acc: 0.821\n",
      "Confusion Matrix:  tensor([[50.,  3.,  2.],\n",
      "        [ 8., 17.,  2.],\n",
      "        [ 2.,  0., 11.]])\n",
      "Ages:  84\n",
      "Model 4 for Group Clients 0 and Communication round 0\n",
      "Model 3 for Group Clients 1 and Communication round 0\n",
      "Updating model in the server...\n",
      "Updating model in the server...\n",
      "Testing in the server all the models...\n"
     ]
    },
    {
     "name": "stderr",
     "output_type": "stream",
     "text": [
      " 20%|██        | 1/5 [01:30<06:01, 90.26s/it]"
     ]
    },
    {
     "name": "stdout",
     "output_type": "stream",
     "text": [
      "0-th round, in age 84-th\n",
      "average train loss 0.00112 | test loss 0.899 | test acc: 0.832\n",
      "Model 1 for Group Clients 0 and Communication round 1\n",
      "Model 4 for Group Clients 1 and Communication round 1\n",
      "Updating model in the server...\n",
      "Updating model in the server...\n",
      "Testing in the server all the models...\n"
     ]
    },
    {
     "name": "stderr",
     "output_type": "stream",
     "text": [
      " 40%|████      | 2/5 [03:02<04:34, 91.34s/it]"
     ]
    },
    {
     "name": "stdout",
     "output_type": "stream",
     "text": [
      "1-th round, in age 84-th\n",
      "average train loss 0.00174 | test loss 0.858 | test acc: 0.832\n",
      "Model 3 for Group Clients 0 and Communication round 2\n",
      "Model 0 for Group Clients 1 and Communication round 2\n",
      "Updating model in the server...\n",
      "Updating model in the server...\n",
      "Testing in the server all the models...\n"
     ]
    },
    {
     "name": "stderr",
     "output_type": "stream",
     "text": [
      " 60%|██████    | 3/5 [04:33<03:02, 91.28s/it]"
     ]
    },
    {
     "name": "stdout",
     "output_type": "stream",
     "text": [
      "2-th round, in age 84-th\n",
      "average train loss 0.000719 | test loss 0.786 | test acc: 0.842\n",
      "Model 0 for Group Clients 0 and Communication round 3\n",
      "Model 1 for Group Clients 1 and Communication round 3\n",
      "Updating model in the server...\n",
      "Updating model in the server...\n",
      "Testing in the server all the models...\n"
     ]
    },
    {
     "name": "stderr",
     "output_type": "stream",
     "text": [
      " 80%|████████  | 4/5 [06:04<01:31, 91.05s/it]"
     ]
    },
    {
     "name": "stdout",
     "output_type": "stream",
     "text": [
      "3-th round, in age 84-th\n",
      "average train loss 0.0016 | test loss 0.761 | test acc: 0.832\n",
      "Model 2 for Group Clients 0 and Communication round 4\n",
      "Model 2 for Group Clients 1 and Communication round 4\n",
      "Updating model in the server...\n",
      "Updating model in the server...\n",
      "Testing in the server all the models...\n"
     ]
    },
    {
     "name": "stderr",
     "output_type": "stream",
     "text": [
      "100%|██████████| 5/5 [07:33<00:00, 90.74s/it]\n",
      "  0%|          | 0/5 [00:00<?, ?it/s]"
     ]
    },
    {
     "name": "stdout",
     "output_type": "stream",
     "text": [
      "4-th round, in age 84-th\n",
      "average train loss 0.00124 | test loss 0.797 | test acc: 0.832\n",
      "Confusion Matrix:  tensor([[50.,  2.,  3.],\n",
      "        [ 7., 18.,  2.],\n",
      "        [ 2.,  0., 11.]])\n",
      "Ages:  85\n",
      "Model 3 for Group Clients 0 and Communication round 0\n",
      "Model 4 for Group Clients 1 and Communication round 0\n",
      "Updating model in the server...\n",
      "Updating model in the server...\n",
      "Testing in the server all the models...\n"
     ]
    },
    {
     "name": "stderr",
     "output_type": "stream",
     "text": [
      " 20%|██        | 1/5 [01:30<06:02, 90.52s/it]"
     ]
    },
    {
     "name": "stdout",
     "output_type": "stream",
     "text": [
      "0-th round, in age 85-th\n",
      "average train loss 0.00174 | test loss 0.853 | test acc: 0.832\n",
      "Model 2 for Group Clients 0 and Communication round 1\n",
      "Model 3 for Group Clients 1 and Communication round 1\n",
      "Updating model in the server...\n",
      "Updating model in the server...\n",
      "Testing in the server all the models...\n"
     ]
    },
    {
     "name": "stderr",
     "output_type": "stream",
     "text": [
      " 40%|████      | 2/5 [03:00<04:29, 89.91s/it]"
     ]
    },
    {
     "name": "stdout",
     "output_type": "stream",
     "text": [
      "1-th round, in age 85-th\n",
      "average train loss 0.00266 | test loss 0.894 | test acc: 0.832\n",
      "Model 1 for Group Clients 0 and Communication round 2\n",
      "Model 1 for Group Clients 1 and Communication round 2\n",
      "Updating model in the server...\n",
      "Updating model in the server...\n",
      "Testing in the server all the models...\n"
     ]
    },
    {
     "name": "stderr",
     "output_type": "stream",
     "text": [
      " 60%|██████    | 3/5 [04:30<03:00, 90.30s/it]"
     ]
    },
    {
     "name": "stdout",
     "output_type": "stream",
     "text": [
      "2-th round, in age 85-th\n",
      "average train loss 0.00118 | test loss 0.922 | test acc: 0.811\n",
      "Model 4 for Group Clients 0 and Communication round 3\n",
      "Model 2 for Group Clients 1 and Communication round 3\n",
      "Updating model in the server...\n",
      "Updating model in the server...\n",
      "Testing in the server all the models...\n"
     ]
    },
    {
     "name": "stderr",
     "output_type": "stream",
     "text": [
      " 80%|████████  | 4/5 [06:00<01:30, 90.26s/it]"
     ]
    },
    {
     "name": "stdout",
     "output_type": "stream",
     "text": [
      "3-th round, in age 85-th\n",
      "average train loss 0.00148 | test loss 0.896 | test acc: 0.811\n",
      "Model 0 for Group Clients 0 and Communication round 4\n",
      "Model 0 for Group Clients 1 and Communication round 4\n",
      "Updating model in the server...\n",
      "Updating model in the server...\n",
      "Testing in the server all the models...\n"
     ]
    },
    {
     "name": "stderr",
     "output_type": "stream",
     "text": [
      "100%|██████████| 5/5 [07:30<00:00, 90.08s/it]\n",
      "  0%|          | 0/5 [00:00<?, ?it/s]"
     ]
    },
    {
     "name": "stdout",
     "output_type": "stream",
     "text": [
      "4-th round, in age 85-th\n",
      "average train loss 0.00164 | test loss 0.985 | test acc: 0.789\n",
      "Confusion Matrix:  tensor([[49.,  3.,  3.],\n",
      "        [ 9., 16.,  2.],\n",
      "        [ 3.,  0., 10.]])\n",
      "Ages:  86\n",
      "Model 1 for Group Clients 0 and Communication round 0\n",
      "Model 2 for Group Clients 1 and Communication round 0\n",
      "Updating model in the server...\n",
      "Updating model in the server...\n",
      "Testing in the server all the models...\n"
     ]
    },
    {
     "name": "stderr",
     "output_type": "stream",
     "text": [
      " 20%|██        | 1/5 [01:31<06:06, 91.55s/it]"
     ]
    },
    {
     "name": "stdout",
     "output_type": "stream",
     "text": [
      "0-th round, in age 86-th\n",
      "average train loss 0.00196 | test loss 0.919 | test acc: 0.842\n",
      "Model 0 for Group Clients 0 and Communication round 1\n",
      "Model 0 for Group Clients 1 and Communication round 1\n",
      "Updating model in the server...\n",
      "Updating model in the server...\n",
      "Testing in the server all the models...\n"
     ]
    },
    {
     "name": "stderr",
     "output_type": "stream",
     "text": [
      " 40%|████      | 2/5 [03:00<04:30, 90.16s/it]"
     ]
    },
    {
     "name": "stdout",
     "output_type": "stream",
     "text": [
      "1-th round, in age 86-th\n",
      "average train loss 0.00173 | test loss 0.974 | test acc: 0.842\n",
      "Model 3 for Group Clients 0 and Communication round 2\n",
      "Model 3 for Group Clients 1 and Communication round 2\n",
      "Updating model in the server...\n",
      "Updating model in the server...\n",
      "Testing in the server all the models...\n"
     ]
    },
    {
     "name": "stderr",
     "output_type": "stream",
     "text": [
      " 60%|██████    | 3/5 [04:32<03:01, 90.87s/it]"
     ]
    },
    {
     "name": "stdout",
     "output_type": "stream",
     "text": [
      "2-th round, in age 86-th\n",
      "average train loss 0.00154 | test loss 1 | test acc: 0.821\n",
      "Model 4 for Group Clients 0 and Communication round 3\n",
      "Model 4 for Group Clients 1 and Communication round 3\n",
      "Updating model in the server...\n",
      "Updating model in the server...\n",
      "Testing in the server all the models...\n"
     ]
    },
    {
     "name": "stderr",
     "output_type": "stream",
     "text": [
      " 80%|████████  | 4/5 [06:04<01:31, 91.34s/it]"
     ]
    },
    {
     "name": "stdout",
     "output_type": "stream",
     "text": [
      "3-th round, in age 86-th\n",
      "average train loss 0.00105 | test loss 1.03 | test acc: 0.811\n",
      "Model 2 for Group Clients 0 and Communication round 4\n",
      "Model 1 for Group Clients 1 and Communication round 4\n",
      "Updating model in the server...\n",
      "Updating model in the server...\n",
      "Testing in the server all the models...\n"
     ]
    },
    {
     "name": "stderr",
     "output_type": "stream",
     "text": [
      "100%|██████████| 5/5 [07:34<00:00, 90.97s/it]\n",
      "  0%|          | 0/5 [00:00<?, ?it/s]"
     ]
    },
    {
     "name": "stdout",
     "output_type": "stream",
     "text": [
      "4-th round, in age 86-th\n",
      "average train loss 0.00408 | test loss 1.01 | test acc: 0.779\n",
      "Confusion Matrix:  tensor([[48.,  3.,  4.],\n",
      "        [ 9., 16.,  2.],\n",
      "        [ 2.,  1., 10.]])\n",
      "Ages:  87\n",
      "Model 0 for Group Clients 0 and Communication round 0\n",
      "Model 0 for Group Clients 1 and Communication round 0\n",
      "Updating model in the server...\n",
      "Updating model in the server...\n",
      "Testing in the server all the models...\n"
     ]
    },
    {
     "name": "stderr",
     "output_type": "stream",
     "text": [
      " 20%|██        | 1/5 [01:31<06:05, 91.38s/it]"
     ]
    },
    {
     "name": "stdout",
     "output_type": "stream",
     "text": [
      "0-th round, in age 87-th\n",
      "average train loss 0.000828 | test loss 1.01 | test acc: 0.789\n",
      "Model 1 for Group Clients 0 and Communication round 1\n",
      "Model 1 for Group Clients 1 and Communication round 1\n",
      "Updating model in the server...\n",
      "Updating model in the server...\n",
      "Testing in the server all the models...\n"
     ]
    },
    {
     "name": "stderr",
     "output_type": "stream",
     "text": [
      " 40%|████      | 2/5 [03:00<04:30, 90.14s/it]"
     ]
    },
    {
     "name": "stdout",
     "output_type": "stream",
     "text": [
      "1-th round, in age 87-th\n",
      "average train loss 0.0013 | test loss 1.05 | test acc: 0.758\n",
      "Model 3 for Group Clients 0 and Communication round 2\n",
      "Model 4 for Group Clients 1 and Communication round 2\n",
      "Updating model in the server...\n",
      "Updating model in the server...\n",
      "Testing in the server all the models...\n"
     ]
    },
    {
     "name": "stderr",
     "output_type": "stream",
     "text": [
      " 60%|██████    | 3/5 [04:30<02:59, 89.80s/it]"
     ]
    },
    {
     "name": "stdout",
     "output_type": "stream",
     "text": [
      "2-th round, in age 87-th\n",
      "average train loss 0.00103 | test loss 1.04 | test acc: 0.811\n",
      "Model 2 for Group Clients 0 and Communication round 3\n",
      "Model 3 for Group Clients 1 and Communication round 3\n",
      "Updating model in the server...\n",
      "Updating model in the server...\n",
      "Testing in the server all the models...\n"
     ]
    },
    {
     "name": "stderr",
     "output_type": "stream",
     "text": [
      " 80%|████████  | 4/5 [06:01<01:30, 90.30s/it]"
     ]
    },
    {
     "name": "stdout",
     "output_type": "stream",
     "text": [
      "3-th round, in age 87-th\n",
      "average train loss 0.00374 | test loss 1.04 | test acc: 0.779\n",
      "Model 4 for Group Clients 0 and Communication round 4\n",
      "Model 2 for Group Clients 1 and Communication round 4\n",
      "Updating model in the server...\n",
      "Updating model in the server...\n",
      "Testing in the server all the models...\n"
     ]
    },
    {
     "name": "stderr",
     "output_type": "stream",
     "text": [
      "100%|██████████| 5/5 [07:29<00:00, 89.97s/it]\n",
      "  0%|          | 0/5 [00:00<?, ?it/s]"
     ]
    },
    {
     "name": "stdout",
     "output_type": "stream",
     "text": [
      "4-th round, in age 87-th\n",
      "average train loss 0.00105 | test loss 0.993 | test acc: 0.811\n",
      "Confusion Matrix:  tensor([[51.,  2.,  2.],\n",
      "        [ 8., 17.,  2.],\n",
      "        [ 3.,  1.,  9.]])\n",
      "Ages:  88\n",
      "Model 1 for Group Clients 0 and Communication round 0\n",
      "Model 3 for Group Clients 1 and Communication round 0\n",
      "Updating model in the server...\n",
      "Updating model in the server...\n",
      "Testing in the server all the models...\n"
     ]
    },
    {
     "name": "stderr",
     "output_type": "stream",
     "text": [
      " 20%|██        | 1/5 [01:27<05:51, 87.90s/it]"
     ]
    },
    {
     "name": "stdout",
     "output_type": "stream",
     "text": [
      "0-th round, in age 88-th\n",
      "average train loss 0.00171 | test loss 0.891 | test acc: 0.832\n",
      "Model 2 for Group Clients 0 and Communication round 1\n",
      "Model 1 for Group Clients 1 and Communication round 1\n",
      "Updating model in the server...\n",
      "Updating model in the server...\n",
      "Testing in the server all the models...\n"
     ]
    },
    {
     "name": "stderr",
     "output_type": "stream",
     "text": [
      " 40%|████      | 2/5 [02:56<04:24, 88.18s/it]"
     ]
    },
    {
     "name": "stdout",
     "output_type": "stream",
     "text": [
      "1-th round, in age 88-th\n",
      "average train loss 0.00197 | test loss 0.961 | test acc: 0.832\n",
      "Model 0 for Group Clients 0 and Communication round 2\n",
      "Model 2 for Group Clients 1 and Communication round 2\n",
      "Updating model in the server...\n",
      "Updating model in the server...\n",
      "Testing in the server all the models...\n"
     ]
    },
    {
     "name": "stderr",
     "output_type": "stream",
     "text": [
      " 60%|██████    | 3/5 [04:24<02:56, 88.12s/it]"
     ]
    },
    {
     "name": "stdout",
     "output_type": "stream",
     "text": [
      "2-th round, in age 88-th\n",
      "average train loss 0.00108 | test loss 0.837 | test acc: 0.853\n",
      "Model 4 for Group Clients 0 and Communication round 3\n",
      "Model 0 for Group Clients 1 and Communication round 3\n",
      "Updating model in the server...\n",
      "Updating model in the server...\n",
      "Testing in the server all the models...\n"
     ]
    },
    {
     "name": "stderr",
     "output_type": "stream",
     "text": [
      " 80%|████████  | 4/5 [05:52<01:28, 88.05s/it]"
     ]
    },
    {
     "name": "stdout",
     "output_type": "stream",
     "text": [
      "3-th round, in age 88-th\n",
      "average train loss 0.0012 | test loss 0.938 | test acc: 0.800\n",
      "Model 3 for Group Clients 0 and Communication round 4\n",
      "Model 4 for Group Clients 1 and Communication round 4\n",
      "Updating model in the server...\n",
      "Updating model in the server...\n",
      "Testing in the server all the models...\n"
     ]
    },
    {
     "name": "stderr",
     "output_type": "stream",
     "text": [
      "100%|██████████| 5/5 [07:20<00:00, 88.15s/it]\n",
      "  0%|          | 0/5 [00:00<?, ?it/s]"
     ]
    },
    {
     "name": "stdout",
     "output_type": "stream",
     "text": [
      "4-th round, in age 88-th\n",
      "average train loss 0.00135 | test loss 0.932 | test acc: 0.811\n",
      "Confusion Matrix:  tensor([[50.,  3.,  2.],\n",
      "        [ 8., 17.,  2.],\n",
      "        [ 3.,  0., 10.]])\n",
      "Ages:  89\n",
      "Model 3 for Group Clients 0 and Communication round 0\n",
      "Model 1 for Group Clients 1 and Communication round 0\n",
      "Updating model in the server...\n",
      "Updating model in the server...\n",
      "Testing in the server all the models...\n"
     ]
    },
    {
     "name": "stderr",
     "output_type": "stream",
     "text": [
      " 20%|██        | 1/5 [01:30<06:03, 90.94s/it]"
     ]
    },
    {
     "name": "stdout",
     "output_type": "stream",
     "text": [
      "0-th round, in age 89-th\n",
      "average train loss 0.00172 | test loss 0.965 | test acc: 0.811\n",
      "Model 4 for Group Clients 0 and Communication round 1\n",
      "Model 4 for Group Clients 1 and Communication round 1\n",
      "Updating model in the server...\n",
      "Updating model in the server...\n",
      "Testing in the server all the models...\n"
     ]
    },
    {
     "name": "stderr",
     "output_type": "stream",
     "text": [
      " 40%|████      | 2/5 [03:01<04:31, 90.61s/it]"
     ]
    },
    {
     "name": "stdout",
     "output_type": "stream",
     "text": [
      "1-th round, in age 89-th\n",
      "average train loss 0.00162 | test loss 1 | test acc: 0.800\n",
      "Model 2 for Group Clients 0 and Communication round 2\n",
      "Model 2 for Group Clients 1 and Communication round 2\n",
      "Updating model in the server...\n",
      "Updating model in the server...\n",
      "Testing in the server all the models...\n"
     ]
    },
    {
     "name": "stderr",
     "output_type": "stream",
     "text": [
      " 60%|██████    | 3/5 [04:31<03:00, 90.27s/it]"
     ]
    },
    {
     "name": "stdout",
     "output_type": "stream",
     "text": [
      "2-th round, in age 89-th\n",
      "average train loss 0.000665 | test loss 1.06 | test acc: 0.789\n",
      "Model 1 for Group Clients 0 and Communication round 3\n",
      "Model 0 for Group Clients 1 and Communication round 3\n",
      "Updating model in the server...\n",
      "Updating model in the server...\n",
      "Testing in the server all the models...\n"
     ]
    },
    {
     "name": "stderr",
     "output_type": "stream",
     "text": [
      " 80%|████████  | 4/5 [06:01<01:30, 90.37s/it]"
     ]
    },
    {
     "name": "stdout",
     "output_type": "stream",
     "text": [
      "3-th round, in age 89-th\n",
      "average train loss 0.00153 | test loss 0.963 | test acc: 0.811\n",
      "Model 0 for Group Clients 0 and Communication round 4\n",
      "Model 3 for Group Clients 1 and Communication round 4\n",
      "Updating model in the server...\n",
      "Updating model in the server...\n",
      "Testing in the server all the models...\n"
     ]
    },
    {
     "name": "stderr",
     "output_type": "stream",
     "text": [
      "100%|██████████| 5/5 [07:32<00:00, 90.45s/it]\n",
      "  0%|          | 0/5 [00:00<?, ?it/s]"
     ]
    },
    {
     "name": "stdout",
     "output_type": "stream",
     "text": [
      "4-th round, in age 89-th\n",
      "average train loss 0.00226 | test loss 0.909 | test acc: 0.821\n",
      "Confusion Matrix:  tensor([[50.,  3.,  2.],\n",
      "        [ 8., 17.,  2.],\n",
      "        [ 2.,  0., 11.]])\n",
      "Ages:  90\n",
      "Model 4 for Group Clients 0 and Communication round 0\n",
      "Model 4 for Group Clients 1 and Communication round 0\n",
      "Updating model in the server...\n",
      "Updating model in the server...\n",
      "Testing in the server all the models...\n"
     ]
    },
    {
     "name": "stderr",
     "output_type": "stream",
     "text": [
      " 20%|██        | 1/5 [01:29<05:59, 89.84s/it]"
     ]
    },
    {
     "name": "stdout",
     "output_type": "stream",
     "text": [
      "0-th round, in age 90-th\n",
      "average train loss 0.0013 | test loss 0.904 | test acc: 0.832\n",
      "Model 2 for Group Clients 0 and Communication round 1\n",
      "Model 0 for Group Clients 1 and Communication round 1\n",
      "Updating model in the server...\n",
      "Updating model in the server...\n",
      "Testing in the server all the models...\n"
     ]
    },
    {
     "name": "stderr",
     "output_type": "stream",
     "text": [
      " 40%|████      | 2/5 [03:00<04:30, 90.27s/it]"
     ]
    },
    {
     "name": "stdout",
     "output_type": "stream",
     "text": [
      "1-th round, in age 90-th\n",
      "average train loss 0.00123 | test loss 0.904 | test acc: 0.842\n",
      "Model 1 for Group Clients 0 and Communication round 2\n",
      "Model 1 for Group Clients 1 and Communication round 2\n",
      "Updating model in the server...\n",
      "Updating model in the server...\n",
      "Testing in the server all the models...\n"
     ]
    },
    {
     "name": "stderr",
     "output_type": "stream",
     "text": [
      " 60%|██████    | 3/5 [04:31<03:01, 90.55s/it]"
     ]
    },
    {
     "name": "stdout",
     "output_type": "stream",
     "text": [
      "2-th round, in age 90-th\n",
      "average train loss 0.00107 | test loss 1.02 | test acc: 0.789\n",
      "Model 0 for Group Clients 0 and Communication round 3\n",
      "Model 2 for Group Clients 1 and Communication round 3\n",
      "Updating model in the server...\n",
      "Updating model in the server...\n",
      "Testing in the server all the models...\n"
     ]
    },
    {
     "name": "stderr",
     "output_type": "stream",
     "text": [
      " 80%|████████  | 4/5 [06:01<01:30, 90.33s/it]"
     ]
    },
    {
     "name": "stdout",
     "output_type": "stream",
     "text": [
      "3-th round, in age 90-th\n",
      "average train loss 0.00223 | test loss 0.944 | test acc: 0.811\n",
      "Model 3 for Group Clients 0 and Communication round 4\n",
      "Model 3 for Group Clients 1 and Communication round 4\n",
      "Updating model in the server...\n",
      "Updating model in the server...\n",
      "Testing in the server all the models...\n"
     ]
    },
    {
     "name": "stderr",
     "output_type": "stream",
     "text": [
      "100%|██████████| 5/5 [07:32<00:00, 90.46s/it]\n",
      "  0%|          | 0/5 [00:00<?, ?it/s]"
     ]
    },
    {
     "name": "stdout",
     "output_type": "stream",
     "text": [
      "4-th round, in age 90-th\n",
      "average train loss 0.00122 | test loss 0.964 | test acc: 0.800\n",
      "Confusion Matrix:  tensor([[48.,  3.,  4.],\n",
      "        [ 8., 17.,  2.],\n",
      "        [ 2.,  0., 11.]])\n",
      "Ages:  91\n",
      "Model 0 for Group Clients 0 and Communication round 0\n",
      "Model 2 for Group Clients 1 and Communication round 0\n",
      "Updating model in the server...\n",
      "Updating model in the server...\n",
      "Testing in the server all the models...\n"
     ]
    },
    {
     "name": "stderr",
     "output_type": "stream",
     "text": [
      " 20%|██        | 1/5 [01:31<06:05, 91.38s/it]"
     ]
    },
    {
     "name": "stdout",
     "output_type": "stream",
     "text": [
      "0-th round, in age 91-th\n",
      "average train loss 0.0013 | test loss 1.02 | test acc: 0.800\n",
      "Model 4 for Group Clients 0 and Communication round 1\n",
      "Model 0 for Group Clients 1 and Communication round 1\n",
      "Updating model in the server...\n",
      "Updating model in the server...\n",
      "Testing in the server all the models...\n"
     ]
    },
    {
     "name": "stderr",
     "output_type": "stream",
     "text": [
      " 40%|████      | 2/5 [03:00<04:30, 90.32s/it]"
     ]
    },
    {
     "name": "stdout",
     "output_type": "stream",
     "text": [
      "1-th round, in age 91-th\n",
      "average train loss 0.00141 | test loss 0.976 | test acc: 0.779\n",
      "Model 3 for Group Clients 0 and Communication round 2\n",
      "Model 4 for Group Clients 1 and Communication round 2\n",
      "Updating model in the server...\n",
      "Updating model in the server...\n",
      "Testing in the server all the models...\n"
     ]
    },
    {
     "name": "stderr",
     "output_type": "stream",
     "text": [
      " 60%|██████    | 3/5 [04:30<03:00, 90.15s/it]"
     ]
    },
    {
     "name": "stdout",
     "output_type": "stream",
     "text": [
      "2-th round, in age 91-th\n",
      "average train loss 0.000726 | test loss 0.997 | test acc: 0.811\n",
      "Model 2 for Group Clients 0 and Communication round 3\n",
      "Model 3 for Group Clients 1 and Communication round 3\n",
      "Updating model in the server...\n",
      "Updating model in the server...\n",
      "Testing in the server all the models...\n"
     ]
    },
    {
     "name": "stderr",
     "output_type": "stream",
     "text": [
      " 80%|████████  | 4/5 [06:00<01:29, 89.90s/it]"
     ]
    },
    {
     "name": "stdout",
     "output_type": "stream",
     "text": [
      "3-th round, in age 91-th\n",
      "average train loss 0.00147 | test loss 0.968 | test acc: 0.789\n",
      "Model 1 for Group Clients 0 and Communication round 4\n",
      "Model 1 for Group Clients 1 and Communication round 4\n",
      "Updating model in the server...\n",
      "Updating model in the server...\n",
      "Testing in the server all the models...\n"
     ]
    },
    {
     "name": "stderr",
     "output_type": "stream",
     "text": [
      "100%|██████████| 5/5 [07:30<00:00, 90.12s/it]\n",
      "  0%|          | 0/5 [00:00<?, ?it/s]"
     ]
    },
    {
     "name": "stdout",
     "output_type": "stream",
     "text": [
      "4-th round, in age 91-th\n",
      "average train loss 0.00223 | test loss 1 | test acc: 0.779\n",
      "Confusion Matrix:  tensor([[48.,  3.,  4.],\n",
      "        [ 9., 16.,  2.],\n",
      "        [ 3.,  0., 10.]])\n",
      "Ages:  92\n",
      "Model 1 for Group Clients 0 and Communication round 0\n",
      "Model 0 for Group Clients 1 and Communication round 0\n",
      "Updating model in the server...\n",
      "Updating model in the server...\n",
      "Testing in the server all the models...\n"
     ]
    },
    {
     "name": "stderr",
     "output_type": "stream",
     "text": [
      " 20%|██        | 1/5 [01:31<06:06, 91.62s/it]"
     ]
    },
    {
     "name": "stdout",
     "output_type": "stream",
     "text": [
      "0-th round, in age 92-th\n",
      "average train loss 0.000922 | test loss 0.943 | test acc: 0.821\n",
      "Model 3 for Group Clients 0 and Communication round 1\n",
      "Model 4 for Group Clients 1 and Communication round 1\n",
      "Updating model in the server...\n",
      "Updating model in the server...\n",
      "Testing in the server all the models...\n"
     ]
    },
    {
     "name": "stderr",
     "output_type": "stream",
     "text": [
      " 40%|████      | 2/5 [03:02<04:33, 91.30s/it]"
     ]
    },
    {
     "name": "stdout",
     "output_type": "stream",
     "text": [
      "1-th round, in age 92-th\n",
      "average train loss 0.00155 | test loss 0.901 | test acc: 0.821\n",
      "Model 2 for Group Clients 0 and Communication round 2\n",
      "Model 2 for Group Clients 1 and Communication round 2\n",
      "Updating model in the server...\n",
      "Updating model in the server...\n",
      "Testing in the server all the models...\n"
     ]
    },
    {
     "name": "stderr",
     "output_type": "stream",
     "text": [
      " 60%|██████    | 3/5 [04:32<03:01, 90.75s/it]"
     ]
    },
    {
     "name": "stdout",
     "output_type": "stream",
     "text": [
      "2-th round, in age 92-th\n",
      "average train loss 0.00199 | test loss 0.957 | test acc: 0.821\n",
      "Model 0 for Group Clients 0 and Communication round 3\n",
      "Model 1 for Group Clients 1 and Communication round 3\n",
      "Updating model in the server...\n",
      "Updating model in the server...\n",
      "Testing in the server all the models...\n"
     ]
    },
    {
     "name": "stderr",
     "output_type": "stream",
     "text": [
      " 80%|████████  | 4/5 [06:03<01:30, 90.60s/it]"
     ]
    },
    {
     "name": "stdout",
     "output_type": "stream",
     "text": [
      "3-th round, in age 92-th\n",
      "average train loss 0.00229 | test loss 0.909 | test acc: 0.821\n",
      "Model 4 for Group Clients 0 and Communication round 4\n",
      "Model 3 for Group Clients 1 and Communication round 4\n",
      "Updating model in the server...\n",
      "Updating model in the server...\n",
      "Testing in the server all the models...\n"
     ]
    },
    {
     "name": "stderr",
     "output_type": "stream",
     "text": [
      "100%|██████████| 5/5 [07:33<00:00, 90.70s/it]\n",
      "  0%|          | 0/5 [00:00<?, ?it/s]"
     ]
    },
    {
     "name": "stdout",
     "output_type": "stream",
     "text": [
      "4-th round, in age 92-th\n",
      "average train loss 0.00129 | test loss 0.818 | test acc: 0.821\n",
      "Confusion Matrix:  tensor([[49.,  2.,  4.],\n",
      "        [ 6., 19.,  2.],\n",
      "        [ 3.,  0., 10.]])\n",
      "Ages:  93\n",
      "Model 1 for Group Clients 0 and Communication round 0\n",
      "Model 2 for Group Clients 1 and Communication round 0\n",
      "Updating model in the server...\n",
      "Updating model in the server...\n",
      "Testing in the server all the models...\n"
     ]
    },
    {
     "name": "stderr",
     "output_type": "stream",
     "text": [
      " 20%|██        | 1/5 [01:30<06:00, 90.15s/it]"
     ]
    },
    {
     "name": "stdout",
     "output_type": "stream",
     "text": [
      "0-th round, in age 93-th\n",
      "average train loss 0.00355 | test loss 0.756 | test acc: 0.863\n",
      "Model 2 for Group Clients 0 and Communication round 1\n",
      "Model 0 for Group Clients 1 and Communication round 1\n",
      "Updating model in the server...\n",
      "Updating model in the server...\n",
      "Testing in the server all the models...\n"
     ]
    },
    {
     "name": "stderr",
     "output_type": "stream",
     "text": [
      " 40%|████      | 2/5 [02:58<04:27, 89.16s/it]"
     ]
    },
    {
     "name": "stdout",
     "output_type": "stream",
     "text": [
      "1-th round, in age 93-th\n",
      "average train loss 0.00176 | test loss 0.753 | test acc: 0.884\n",
      "Model 0 for Group Clients 0 and Communication round 2\n",
      "Model 3 for Group Clients 1 and Communication round 2\n",
      "Updating model in the server...\n",
      "Updating model in the server...\n",
      "Testing in the server all the models...\n"
     ]
    },
    {
     "name": "stderr",
     "output_type": "stream",
     "text": [
      " 60%|██████    | 3/5 [06:34<04:53, 146.86s/it]"
     ]
    },
    {
     "name": "stdout",
     "output_type": "stream",
     "text": [
      "2-th round, in age 93-th\n",
      "average train loss 0.00078 | test loss 0.664 | test acc: 0.863\n",
      "Model 3 for Group Clients 0 and Communication round 3\n",
      "Model 4 for Group Clients 1 and Communication round 3\n",
      "Updating model in the server...\n",
      "Updating model in the server...\n",
      "Testing in the server all the models...\n"
     ]
    },
    {
     "name": "stderr",
     "output_type": "stream",
     "text": [
      " 80%|████████  | 4/5 [09:57<02:48, 168.97s/it]"
     ]
    },
    {
     "name": "stdout",
     "output_type": "stream",
     "text": [
      "3-th round, in age 93-th\n",
      "average train loss 0.00105 | test loss 0.643 | test acc: 0.863\n",
      "Model 4 for Group Clients 0 and Communication round 4\n",
      "Model 1 for Group Clients 1 and Communication round 4\n",
      "Updating model in the server...\n",
      "Updating model in the server...\n",
      "Testing in the server all the models...\n"
     ]
    },
    {
     "name": "stderr",
     "output_type": "stream",
     "text": [
      "100%|██████████| 5/5 [13:23<00:00, 160.61s/it]\n",
      "  0%|          | 0/5 [00:00<?, ?it/s]"
     ]
    },
    {
     "name": "stdout",
     "output_type": "stream",
     "text": [
      "4-th round, in age 93-th\n",
      "average train loss 0.000815 | test loss 0.69 | test acc: 0.853\n",
      "Confusion Matrix:  tensor([[50.,  2.,  3.],\n",
      "        [ 5., 20.,  2.],\n",
      "        [ 2.,  0., 11.]])\n",
      "Ages:  94\n",
      "Model 2 for Group Clients 0 and Communication round 0\n",
      "Model 2 for Group Clients 1 and Communication round 0\n",
      "Updating model in the server...\n",
      "Updating model in the server...\n",
      "Testing in the server all the models...\n"
     ]
    },
    {
     "name": "stderr",
     "output_type": "stream",
     "text": [
      " 20%|██        | 1/5 [03:18<13:12, 198.10s/it]"
     ]
    },
    {
     "name": "stdout",
     "output_type": "stream",
     "text": [
      "0-th round, in age 94-th\n",
      "average train loss 0.00379 | test loss 0.749 | test acc: 0.842\n",
      "Model 4 for Group Clients 0 and Communication round 1\n",
      "Model 4 for Group Clients 1 and Communication round 1\n",
      "Updating model in the server...\n",
      "Updating model in the server...\n",
      "Testing in the server all the models...\n"
     ]
    },
    {
     "name": "stderr",
     "output_type": "stream",
     "text": [
      " 40%|████      | 2/5 [04:46<06:40, 133.61s/it]"
     ]
    },
    {
     "name": "stdout",
     "output_type": "stream",
     "text": [
      "1-th round, in age 94-th\n",
      "average train loss 0.000976 | test loss 0.801 | test acc: 0.832\n",
      "Model 3 for Group Clients 0 and Communication round 2\n",
      "Model 1 for Group Clients 1 and Communication round 2\n",
      "Updating model in the server...\n",
      "Updating model in the server...\n",
      "Testing in the server all the models...\n"
     ]
    },
    {
     "name": "stderr",
     "output_type": "stream",
     "text": [
      " 60%|██████    | 3/5 [06:15<03:46, 113.35s/it]"
     ]
    },
    {
     "name": "stdout",
     "output_type": "stream",
     "text": [
      "2-th round, in age 94-th\n",
      "average train loss 0.00185 | test loss 0.845 | test acc: 0.821\n",
      "Model 1 for Group Clients 0 and Communication round 3\n",
      "Model 0 for Group Clients 1 and Communication round 3\n",
      "Updating model in the server...\n",
      "Updating model in the server...\n",
      "Testing in the server all the models...\n"
     ]
    },
    {
     "name": "stderr",
     "output_type": "stream",
     "text": [
      " 80%|████████  | 4/5 [07:45<01:44, 104.10s/it]"
     ]
    },
    {
     "name": "stdout",
     "output_type": "stream",
     "text": [
      "3-th round, in age 94-th\n",
      "average train loss 0.00116 | test loss 0.824 | test acc: 0.853\n",
      "Model 0 for Group Clients 0 and Communication round 4\n",
      "Model 3 for Group Clients 1 and Communication round 4\n",
      "Updating model in the server...\n",
      "Updating model in the server...\n",
      "Testing in the server all the models...\n"
     ]
    },
    {
     "name": "stderr",
     "output_type": "stream",
     "text": [
      "100%|██████████| 5/5 [09:16<00:00, 111.20s/it]\n",
      "  0%|          | 0/5 [00:00<?, ?it/s]"
     ]
    },
    {
     "name": "stdout",
     "output_type": "stream",
     "text": [
      "4-th round, in age 94-th\n",
      "average train loss 0.00362 | test loss 0.786 | test acc: 0.842\n",
      "Confusion Matrix:  tensor([[48.,  4.,  3.],\n",
      "        [ 4., 21.,  2.],\n",
      "        [ 2.,  0., 11.]])\n",
      "Ages:  95\n",
      "Model 1 for Group Clients 0 and Communication round 0\n",
      "Model 0 for Group Clients 1 and Communication round 0\n",
      "Updating model in the server...\n",
      "Updating model in the server...\n",
      "Testing in the server all the models...\n"
     ]
    },
    {
     "name": "stderr",
     "output_type": "stream",
     "text": [
      " 20%|██        | 1/5 [01:31<06:06, 91.63s/it]"
     ]
    },
    {
     "name": "stdout",
     "output_type": "stream",
     "text": [
      "0-th round, in age 95-th\n",
      "average train loss 0.00196 | test loss 0.9 | test acc: 0.832\n",
      "Model 3 for Group Clients 0 and Communication round 1\n",
      "Model 1 for Group Clients 1 and Communication round 1\n",
      "Updating model in the server...\n",
      "Updating model in the server...\n",
      "Testing in the server all the models...\n"
     ]
    },
    {
     "name": "stderr",
     "output_type": "stream",
     "text": [
      " 40%|████      | 2/5 [03:03<04:35, 91.98s/it]"
     ]
    },
    {
     "name": "stdout",
     "output_type": "stream",
     "text": [
      "1-th round, in age 95-th\n",
      "average train loss 0.00109 | test loss 0.906 | test acc: 0.811\n",
      "Model 2 for Group Clients 0 and Communication round 2\n",
      "Model 3 for Group Clients 1 and Communication round 2\n",
      "Updating model in the server...\n",
      "Updating model in the server...\n",
      "Testing in the server all the models...\n"
     ]
    },
    {
     "name": "stderr",
     "output_type": "stream",
     "text": [
      " 60%|██████    | 3/5 [04:34<03:02, 91.21s/it]"
     ]
    },
    {
     "name": "stdout",
     "output_type": "stream",
     "text": [
      "2-th round, in age 95-th\n",
      "average train loss 0.000894 | test loss 0.889 | test acc: 0.811\n",
      "Model 4 for Group Clients 0 and Communication round 3\n",
      "Model 4 for Group Clients 1 and Communication round 3\n",
      "Updating model in the server...\n",
      "Updating model in the server...\n",
      "Testing in the server all the models...\n"
     ]
    },
    {
     "name": "stderr",
     "output_type": "stream",
     "text": [
      " 80%|████████  | 4/5 [06:04<01:30, 90.98s/it]"
     ]
    },
    {
     "name": "stdout",
     "output_type": "stream",
     "text": [
      "3-th round, in age 95-th\n",
      "average train loss 0.00115 | test loss 0.928 | test acc: 0.800\n",
      "Model 0 for Group Clients 0 and Communication round 4\n",
      "Model 2 for Group Clients 1 and Communication round 4\n",
      "Updating model in the server...\n",
      "Updating model in the server...\n",
      "Testing in the server all the models...\n"
     ]
    },
    {
     "name": "stderr",
     "output_type": "stream",
     "text": [
      "100%|██████████| 5/5 [07:35<00:00, 91.18s/it]\n",
      "  0%|          | 0/5 [00:00<?, ?it/s]"
     ]
    },
    {
     "name": "stdout",
     "output_type": "stream",
     "text": [
      "4-th round, in age 95-th\n",
      "average train loss 0.000934 | test loss 0.9 | test acc: 0.821\n",
      "Confusion Matrix:  tensor([[50.,  3.,  2.],\n",
      "        [ 7., 18.,  2.],\n",
      "        [ 3.,  0., 10.]])\n",
      "Ages:  96\n",
      "Model 3 for Group Clients 0 and Communication round 0\n",
      "Model 3 for Group Clients 1 and Communication round 0\n",
      "Updating model in the server...\n",
      "Updating model in the server...\n",
      "Testing in the server all the models...\n"
     ]
    },
    {
     "name": "stderr",
     "output_type": "stream",
     "text": [
      " 20%|██        | 1/5 [01:30<06:00, 90.08s/it]"
     ]
    },
    {
     "name": "stdout",
     "output_type": "stream",
     "text": [
      "0-th round, in age 96-th\n",
      "average train loss 0.000938 | test loss 0.93 | test acc: 0.811\n",
      "Model 1 for Group Clients 0 and Communication round 1\n",
      "Model 1 for Group Clients 1 and Communication round 1\n",
      "Updating model in the server...\n",
      "Updating model in the server...\n",
      "Testing in the server all the models...\n"
     ]
    },
    {
     "name": "stderr",
     "output_type": "stream",
     "text": [
      " 40%|████      | 2/5 [02:59<04:28, 89.60s/it]"
     ]
    },
    {
     "name": "stdout",
     "output_type": "stream",
     "text": [
      "1-th round, in age 96-th\n",
      "average train loss 0.000701 | test loss 0.961 | test acc: 0.800\n",
      "Model 0 for Group Clients 0 and Communication round 2\n",
      "Model 0 for Group Clients 1 and Communication round 2\n",
      "Updating model in the server...\n",
      "Updating model in the server...\n",
      "Testing in the server all the models...\n"
     ]
    },
    {
     "name": "stderr",
     "output_type": "stream",
     "text": [
      " 60%|██████    | 3/5 [04:29<02:59, 89.71s/it]"
     ]
    },
    {
     "name": "stdout",
     "output_type": "stream",
     "text": [
      "2-th round, in age 96-th\n",
      "average train loss 0.00188 | test loss 1.06 | test acc: 0.789\n",
      "Model 2 for Group Clients 0 and Communication round 3\n",
      "Model 4 for Group Clients 1 and Communication round 3\n",
      "Updating model in the server...\n",
      "Updating model in the server...\n",
      "Testing in the server all the models...\n"
     ]
    },
    {
     "name": "stderr",
     "output_type": "stream",
     "text": [
      " 80%|████████  | 4/5 [05:58<01:29, 89.64s/it]"
     ]
    },
    {
     "name": "stdout",
     "output_type": "stream",
     "text": [
      "3-th round, in age 96-th\n",
      "average train loss 0.00114 | test loss 1 | test acc: 0.779\n",
      "Model 4 for Group Clients 0 and Communication round 4\n",
      "Model 2 for Group Clients 1 and Communication round 4\n",
      "Updating model in the server...\n",
      "Updating model in the server...\n",
      "Testing in the server all the models...\n"
     ]
    },
    {
     "name": "stderr",
     "output_type": "stream",
     "text": [
      "100%|██████████| 5/5 [07:28<00:00, 89.67s/it]\n",
      "  0%|          | 0/5 [00:00<?, ?it/s]"
     ]
    },
    {
     "name": "stdout",
     "output_type": "stream",
     "text": [
      "4-th round, in age 96-th\n",
      "average train loss 0.000911 | test loss 1 | test acc: 0.779\n",
      "Confusion Matrix:  tensor([[48.,  3.,  4.],\n",
      "        [ 9., 16.,  2.],\n",
      "        [ 3.,  0., 10.]])\n",
      "Ages:  97\n",
      "Model 2 for Group Clients 0 and Communication round 0\n",
      "Model 2 for Group Clients 1 and Communication round 0\n",
      "Updating model in the server...\n",
      "Updating model in the server...\n",
      "Testing in the server all the models...\n"
     ]
    },
    {
     "name": "stderr",
     "output_type": "stream",
     "text": [
      " 20%|██        | 1/5 [01:30<06:02, 90.68s/it]"
     ]
    },
    {
     "name": "stdout",
     "output_type": "stream",
     "text": [
      "0-th round, in age 97-th\n",
      "average train loss 0.00123 | test loss 1.05 | test acc: 0.779\n",
      "Model 0 for Group Clients 0 and Communication round 1\n",
      "Model 3 for Group Clients 1 and Communication round 1\n",
      "Updating model in the server...\n",
      "Updating model in the server...\n",
      "Testing in the server all the models...\n"
     ]
    },
    {
     "name": "stderr",
     "output_type": "stream",
     "text": [
      " 40%|████      | 2/5 [03:00<04:30, 90.13s/it]"
     ]
    },
    {
     "name": "stdout",
     "output_type": "stream",
     "text": [
      "1-th round, in age 97-th\n",
      "average train loss 0.000923 | test loss 0.949 | test acc: 0.821\n",
      "Model 4 for Group Clients 0 and Communication round 2\n",
      "Model 0 for Group Clients 1 and Communication round 2\n",
      "Updating model in the server...\n",
      "Updating model in the server...\n",
      "Testing in the server all the models...\n"
     ]
    },
    {
     "name": "stderr",
     "output_type": "stream",
     "text": [
      " 60%|██████    | 3/5 [04:30<03:00, 90.31s/it]"
     ]
    },
    {
     "name": "stdout",
     "output_type": "stream",
     "text": [
      "2-th round, in age 97-th\n",
      "average train loss 0.00123 | test loss 1.01 | test acc: 0.811\n",
      "Model 3 for Group Clients 0 and Communication round 3\n",
      "Model 4 for Group Clients 1 and Communication round 3\n",
      "Updating model in the server...\n",
      "Updating model in the server...\n",
      "Testing in the server all the models...\n"
     ]
    },
    {
     "name": "stderr",
     "output_type": "stream",
     "text": [
      " 80%|████████  | 4/5 [06:00<01:29, 89.98s/it]"
     ]
    },
    {
     "name": "stdout",
     "output_type": "stream",
     "text": [
      "3-th round, in age 97-th\n",
      "average train loss 0.00112 | test loss 1.02 | test acc: 0.800\n",
      "Model 1 for Group Clients 0 and Communication round 4\n",
      "Model 1 for Group Clients 1 and Communication round 4\n",
      "Updating model in the server...\n",
      "Updating model in the server...\n",
      "Testing in the server all the models...\n"
     ]
    },
    {
     "name": "stderr",
     "output_type": "stream",
     "text": [
      "100%|██████████| 5/5 [07:30<00:00, 90.03s/it]\n",
      "  0%|          | 0/5 [00:00<?, ?it/s]"
     ]
    },
    {
     "name": "stdout",
     "output_type": "stream",
     "text": [
      "4-th round, in age 97-th\n",
      "average train loss 0.0013 | test loss 1.03 | test acc: 0.800\n",
      "Confusion Matrix:  tensor([[51.,  2.,  2.],\n",
      "        [ 9., 16.,  2.],\n",
      "        [ 3.,  1.,  9.]])\n",
      "Ages:  98\n",
      "Model 2 for Group Clients 0 and Communication round 0\n",
      "Model 0 for Group Clients 1 and Communication round 0\n",
      "Updating model in the server...\n",
      "Updating model in the server...\n",
      "Testing in the server all the models...\n"
     ]
    },
    {
     "name": "stderr",
     "output_type": "stream",
     "text": [
      " 20%|██        | 1/5 [01:29<05:56, 89.25s/it]"
     ]
    },
    {
     "name": "stdout",
     "output_type": "stream",
     "text": [
      "0-th round, in age 98-th\n",
      "average train loss 0.000967 | test loss 0.936 | test acc: 0.811\n",
      "Model 1 for Group Clients 0 and Communication round 1\n",
      "Model 2 for Group Clients 1 and Communication round 1\n",
      "Updating model in the server...\n",
      "Updating model in the server...\n",
      "Testing in the server all the models...\n"
     ]
    },
    {
     "name": "stderr",
     "output_type": "stream",
     "text": [
      " 40%|████      | 2/5 [02:59<04:28, 89.56s/it]"
     ]
    },
    {
     "name": "stdout",
     "output_type": "stream",
     "text": [
      "1-th round, in age 98-th\n",
      "average train loss 0.000553 | test loss 0.881 | test acc: 0.832\n",
      "Model 0 for Group Clients 0 and Communication round 2\n",
      "Model 3 for Group Clients 1 and Communication round 2\n",
      "Updating model in the server...\n",
      "Updating model in the server...\n",
      "Testing in the server all the models...\n"
     ]
    },
    {
     "name": "stderr",
     "output_type": "stream",
     "text": [
      " 60%|██████    | 3/5 [04:30<03:00, 90.44s/it]"
     ]
    },
    {
     "name": "stdout",
     "output_type": "stream",
     "text": [
      "2-th round, in age 98-th\n",
      "average train loss 0.000972 | test loss 0.772 | test acc: 0.853\n",
      "Model 4 for Group Clients 0 and Communication round 3\n",
      "Model 4 for Group Clients 1 and Communication round 3\n",
      "Updating model in the server...\n",
      "Updating model in the server...\n",
      "Testing in the server all the models...\n"
     ]
    },
    {
     "name": "stderr",
     "output_type": "stream",
     "text": [
      " 80%|████████  | 4/5 [06:03<01:31, 91.41s/it]"
     ]
    },
    {
     "name": "stdout",
     "output_type": "stream",
     "text": [
      "3-th round, in age 98-th\n",
      "average train loss 0.000667 | test loss 0.815 | test acc: 0.853\n",
      "Model 3 for Group Clients 0 and Communication round 4\n",
      "Model 1 for Group Clients 1 and Communication round 4\n",
      "Updating model in the server...\n",
      "Updating model in the server...\n",
      "Testing in the server all the models...\n"
     ]
    },
    {
     "name": "stderr",
     "output_type": "stream",
     "text": [
      "100%|██████████| 5/5 [07:39<00:00, 91.81s/it]\n",
      "  0%|          | 0/5 [00:00<?, ?it/s]"
     ]
    },
    {
     "name": "stdout",
     "output_type": "stream",
     "text": [
      "4-th round, in age 98-th\n",
      "average train loss 0.00426 | test loss 0.839 | test acc: 0.832\n",
      "Confusion Matrix:  tensor([[51.,  1.,  3.],\n",
      "        [ 7., 18.,  2.],\n",
      "        [ 3.,  0., 10.]])\n",
      "Ages:  99\n",
      "Model 0 for Group Clients 0 and Communication round 0\n",
      "Model 2 for Group Clients 1 and Communication round 0\n",
      "Updating model in the server...\n",
      "Updating model in the server...\n",
      "Testing in the server all the models...\n"
     ]
    },
    {
     "name": "stderr",
     "output_type": "stream",
     "text": [
      " 20%|██        | 1/5 [01:29<05:58, 89.67s/it]"
     ]
    },
    {
     "name": "stdout",
     "output_type": "stream",
     "text": [
      "0-th round, in age 99-th\n",
      "average train loss 0.000792 | test loss 0.9 | test acc: 0.811\n",
      "Model 1 for Group Clients 0 and Communication round 1\n",
      "Model 0 for Group Clients 1 and Communication round 1\n",
      "Updating model in the server...\n",
      "Updating model in the server...\n",
      "Testing in the server all the models...\n"
     ]
    },
    {
     "name": "stderr",
     "output_type": "stream",
     "text": [
      " 40%|████      | 2/5 [04:02<06:20, 126.99s/it]"
     ]
    },
    {
     "name": "stdout",
     "output_type": "stream",
     "text": [
      "1-th round, in age 99-th\n",
      "average train loss 0.000699 | test loss 0.899 | test acc: 0.821\n",
      "Model 4 for Group Clients 0 and Communication round 2\n",
      "Model 3 for Group Clients 1 and Communication round 2\n",
      "Updating model in the server...\n",
      "Updating model in the server...\n",
      "Testing in the server all the models...\n"
     ]
    },
    {
     "name": "stderr",
     "output_type": "stream",
     "text": [
      " 60%|██████    | 3/5 [07:22<05:20, 160.30s/it]"
     ]
    },
    {
     "name": "stdout",
     "output_type": "stream",
     "text": [
      "2-th round, in age 99-th\n",
      "average train loss 0.000472 | test loss 0.867 | test acc: 0.821\n",
      "Model 3 for Group Clients 0 and Communication round 3\n",
      "Model 4 for Group Clients 1 and Communication round 3\n",
      "Updating model in the server...\n",
      "Updating model in the server...\n",
      "Testing in the server all the models...\n"
     ]
    },
    {
     "name": "stderr",
     "output_type": "stream",
     "text": [
      " 80%|████████  | 4/5 [10:55<03:01, 181.11s/it]"
     ]
    },
    {
     "name": "stdout",
     "output_type": "stream",
     "text": [
      "3-th round, in age 99-th\n",
      "average train loss 0.00126 | test loss 0.868 | test acc: 0.832\n",
      "Model 2 for Group Clients 0 and Communication round 4\n",
      "Model 1 for Group Clients 1 and Communication round 4\n",
      "Updating model in the server...\n",
      "Updating model in the server...\n",
      "Testing in the server all the models...\n"
     ]
    },
    {
     "name": "stderr",
     "output_type": "stream",
     "text": [
      "100%|██████████| 5/5 [14:33<00:00, 174.67s/it]"
     ]
    },
    {
     "name": "stdout",
     "output_type": "stream",
     "text": [
      "4-th round, in age 99-th\n",
      "average train loss 0.000966 | test loss 0.86 | test acc: 0.853\n",
      "Confusion Matrix:  tensor([[52.,  2.,  1.],\n",
      "        [ 7., 18.,  2.],\n",
      "        [ 2.,  0., 11.]])\n"
     ]
    },
    {
     "name": "stderr",
     "output_type": "stream",
     "text": [
      "\n"
     ]
    }
   ],
   "source": [
    "###### List containing info about learning #########\n",
    "losses_train = []\n",
    "losses_test = []\n",
    "acc_train = []\n",
    "acc_test = []\n",
    "# Runnining FL\n",
    "comunication_round=0\n",
    "if selected_method == \"AVG\":\n",
    "    for r in range(num_rounds):\n",
    "        # client update\n",
    "        loss = 0\n",
    "        for i in tqdm(range(num_clients)):\n",
    "            loss += client_update(client_models[i], opt[i], train_loader[i], epoch=epochs)\n",
    "            \n",
    "        \n",
    "        losses_train.append(loss)\n",
    "        # server aggregate\n",
    "        server_aggregate(global_model, client_models , method=selected_method)\n",
    "        \n",
    "        test_loss, acc, confusion_matrix_torch = test(global_model, test_loader, method=selected_method)\n",
    "\n",
    "\n",
    "        losses_test.append(test_loss)\n",
    "        acc_test.append(acc)\n",
    "        print('%d-th round' % r)\n",
    "        print('average train loss %0.3g | test loss %0.3g | test acc: %0.3f' % (loss / num_clients, test_loss, acc))\n",
    "        if r%10 == 0:\n",
    "            print(\"Confusion Matrix: \", confusion_matrix_torch)\n",
    "        H[\"train_loss\"].append(loss / num_clients)\n",
    "        H[\"test_loss\"].append(test_loss)\n",
    "        H[\"test_acc\"].append(acc)\n",
    "        save_best_model(test_loss, acc,comunication_round, global_model)\n",
    "        comunication_round+=1\n",
    "        \n",
    "if selected_method == \"ENSEMBLE\":\n",
    "  # Runnining FL algorithm for Ensemble Method\n",
    "    for t in range(ages):\n",
    "        print(\"Ages: \",t)\n",
    "  #Create Permutation Matrix for this Age Iteration\n",
    "        P_matrix=[]\n",
    "        for q in range(Q_client_groups):\n",
    "            model_permu = list(range(K_models))\n",
    "            random.shuffle(model_permu)\n",
    "            P_matrix.append(model_permu)\n",
    "\n",
    "        for r in tqdm(range(K_models)):\n",
    "            #print(\"Communication round: \",r)\n",
    "            for q in range(Q_client_groups):\n",
    "            #Train the model for the specific K-communication step and for the specific Stratum\n",
    "                #print(\"Group Clients: \",q)\n",
    "                #print(\"Model for this Group Clients and Communication round: \",P_matrix[q][r])\n",
    "                print(\"Model {} for Group Clients {} and Communication round {}\".format(P_matrix[q][r], q, r))\n",
    "                #global_model=global_models_ensemble[P_matrix[q][r]]\n",
    "                #For every client in the startus, update the weights to the specific model according to the permutation matrix\n",
    "                loss = 0\n",
    "                for i in Client_groups[q]:\n",
    "                  #print(\"Train Client: \", i)\n",
    "                  client_models[i].load_state_dict(global_models_ensemble[P_matrix[q][r]].state_dict())\n",
    "                  # client update\n",
    "                  loss += client_update(client_models[i], opt[i], train_loader[i], epoch=epochs)\n",
    "            #Server update for the model that has been localy trained \n",
    "            for q in range(Q_client_groups):\n",
    "                print(\"Updating model in the server...\")\n",
    "                server_aggregate(global_models_ensemble[P_matrix[q][r]], client_models,method=selected_method,client_group=Client_groups[q])\n",
    "\n",
    "            losses_train.append(loss)\n",
    "            # server aggregate\n",
    "\n",
    "            print(\"Testing in the server all the models...\")\n",
    "            test_loss, acc, confusion_matrix_torch = test(global_models_ensemble, test_loader,method=selected_method)\n",
    "\n",
    "\n",
    "            losses_test.append(test_loss)\n",
    "            acc_test.append(acc)\n",
    "            print('%d-th round, in age %d-th' % (r,t))\n",
    "            print('average train loss %0.3g | test loss %0.3g | test acc: %0.3f' % (loss / num_clients, test_loss, acc))\n",
    "            if r == K_models-1:\n",
    "                print(\"Confusion Matrix: \", confusion_matrix_torch)\n",
    "            H[\"train_loss\"].append(loss / num_clients)\n",
    "            H[\"test_loss\"].append(test_loss)\n",
    "            H[\"test_acc\"].append(acc) \n",
    "            save_best_model(test_loss, acc,comunication_round, global_models_ensemble)\n",
    "            comunication_round+=1\n",
    "            \n",
    "#Save Best Model Round and Loss\n",
    "Best[\"Best Communication round\"].append(save_best_model.best_comunication_round)\n",
    "Best[\"Best Valid Loss\"].append(save_best_model.best_valid_loss) \n",
    "Best[\"Best Valid Acc\"].append(save_best_model.best_valid_acc) "
   ]
  },
  {
   "cell_type": "markdown",
   "id": "considered-boston",
   "metadata": {},
   "source": [
    "### **Plot and Save Train Results**"
   ]
  },
  {
   "cell_type": "markdown",
   "id": "fifteen-bahamas",
   "metadata": {},
   "source": [
    "**Loss**"
   ]
  },
  {
   "cell_type": "code",
   "execution_count": 39,
   "id": "basic-colon",
   "metadata": {},
   "outputs": [
    {
     "data": {
      "image/png": "[encoded data removed]",
      "text/plain": [
       "<Figure size 432x288 with 1 Axes>"
      ]
     },
     "metadata": {},
     "output_type": "display_data"
    }
   ],
   "source": [
    "import matplotlib.pyplot as plt\n",
    "# plot the training loss\n",
    "plt.style.use(\"ggplot\")\n",
    "plt.figure()\n",
    "plt.plot(H[\"train_loss\"], label=\"train_loss\")\n",
    "plt.plot(H[\"test_loss\"], label=\"test_loss\")\n",
    "plt.title(\"Training Loss on Dataset\")\n",
    "plt.xlabel(\"Communication Round #\")\n",
    "plt.ylabel(\"Loss\")\n",
    "plt.legend(loc=\"lower left\")\n",
    "plt.savefig(PLOT_PATH_LOSS)\n",
    "# serialize the model to disk"
   ]
  },
  {
   "cell_type": "markdown",
   "id": "sexual-regular",
   "metadata": {},
   "source": [
    "**Accuracy**"
   ]
  },
  {
   "cell_type": "code",
   "execution_count": 40,
   "id": "flexible-helping",
   "metadata": {},
   "outputs": [
    {
     "data": {
      "image/png": "[encoded data removed]",
      "text/plain": [
       "<Figure size 432x288 with 1 Axes>"
      ]
     },
     "metadata": {},
     "output_type": "display_data"
    }
   ],
   "source": [
    "plt.style.use(\"ggplot\")\n",
    "plt.figure()\n",
    "plt.plot(H[\"test_acc\"], label=\"test_acc\")\n",
    "plt.title(\"Test ACC on Dataset\")\n",
    "plt.xlabel(\"Communication Round #\")\n",
    "plt.ylabel(\"Acc\")\n",
    "plt.legend(loc=\"lower left\")\n",
    "plt.savefig(PLOT_PATH_ACC)"
   ]
  },
  {
   "cell_type": "markdown",
   "id": "inner-turning",
   "metadata": {},
   "source": [
    "**Save historical in a JSON file**"
   ]
  },
  {
   "cell_type": "code",
   "execution_count": 41,
   "id": "auburn-sampling",
   "metadata": {},
   "outputs": [],
   "source": [
    "# load json module\n",
    "import json\n",
    "\n",
    "\n",
    "\n",
    "# create json object from dictionary\n",
    "json = json.dumps(H)\n",
    "\n",
    "# open file for writing, \"w\" \n",
    "f = open(PLOT_PATH_HIS,\"w\")\n",
    "\n",
    "# write json object to file\n",
    "f.write(json)\n",
    "\n",
    "# close file\n",
    "f.close()"
   ]
  },
  {
   "cell_type": "markdown",
   "id": "descending-flight",
   "metadata": {},
   "source": [
    "### **Save Final Model**"
   ]
  },
  {
   "cell_type": "code",
   "execution_count": 42,
   "id": "liable-garlic",
   "metadata": {},
   "outputs": [],
   "source": [
    "if selected_method == \"AVG\":\n",
    "  #Save general model\n",
    "  H_avg=H\n",
    "  torch.save(global_model, MODEL_PATH_glob)\n",
    "\n",
    "if selected_method == \"ENSEMBLE\":\n",
    "  H_ensemble=H\n",
    "  #Save Ensemble Model Global\n",
    "  torch.save(global_models_ensemble, MODEL_PATH_glob)\n",
    "  #Save Model by Model\n",
    "  model_number=0\n",
    "  for model in global_models_ensemble:\n",
    "    model_name=\"vgg16_\"+str(model_number)+\".pth\"\n",
    "    #print(model_name)\n",
    "    MODEL_PATH_new = os.path.join(MODEL_PATH, model_name)\n",
    "    torch.save(model, MODEL_PATH_new)\n",
    "    model_number+=1"
   ]
  },
  {
   "cell_type": "markdown",
   "id": "vietnamese-college",
   "metadata": {},
   "source": [
    "### **Save Global Parameters**"
   ]
  },
  {
   "cell_type": "code",
   "execution_count": 43,
   "id": "disabled-pharmacology",
   "metadata": {},
   "outputs": [
    {
     "name": "stdout",
     "output_type": "stream",
     "text": [
      "[INFO] saving Model Parameters...\n"
     ]
    }
   ],
   "source": [
    "print(\"[INFO] saving Model Parameters...\")\n",
    "f = open(MODEL_PATH_param, \"w\")\n",
    "f.write(str(Glob_Param))\n",
    "f.close()"
   ]
  },
  {
   "cell_type": "markdown",
   "id": "complex-airplane",
   "metadata": {},
   "source": [
    "### **Save Transformation**"
   ]
  },
  {
   "cell_type": "code",
   "execution_count": 44,
   "id": "exceptional-atlantic",
   "metadata": {
    "tags": []
   },
   "outputs": [
    {
     "name": "stdout",
     "output_type": "stream",
     "text": [
      "[INFO] saving Model Transformation...\n"
     ]
    }
   ],
   "source": [
    "print(\"[INFO] saving Model Transformation...\")\n",
    "f = open(MODEL_PATH_trans, \"w\")\n",
    "f.write(str(train_transforms))\n",
    "f.close()"
   ]
  },
  {
   "cell_type": "markdown",
   "id": "compound-chester",
   "metadata": {},
   "source": [
    "### **Save Best Model Round**"
   ]
  },
  {
   "cell_type": "code",
   "execution_count": 45,
   "id": "forbidden-formula",
   "metadata": {},
   "outputs": [
    {
     "name": "stdout",
     "output_type": "stream",
     "text": [
      "[INFO] saving Best Model Round...\n"
     ]
    }
   ],
   "source": [
    "print(\"[INFO] saving Best Model Round...\")\n",
    "MODEL_PATH_best_round = os.path.join(MODEL_PATH, \"best_model_round.txt\")\n",
    "f = open(MODEL_PATH_best_round, \"w\")\n",
    "f.write(str(Best))\n",
    "f.close()"
   ]
  },
  {
   "cell_type": "markdown",
   "id": "virgin-chaos",
   "metadata": {
    "tags": []
   },
   "source": [
    "# 8. Predict Test Dataset to check Generalization Accuracy"
   ]
  },
  {
   "cell_type": "markdown",
   "id": "burning-brazilian",
   "metadata": {},
   "source": [
    "### Load Model"
   ]
  },
  {
   "cell_type": "code",
   "execution_count": 46,
   "id": "curious-attachment",
   "metadata": {},
   "outputs": [],
   "source": [
    "loaded_model = torch.load(MODEL_PATH_glob, map_location=DEVICE)"
   ]
  },
  {
   "cell_type": "markdown",
   "id": "canadian-closer",
   "metadata": {},
   "source": [
    "### Functions to Predict"
   ]
  },
  {
   "cell_type": "markdown",
   "id": "current-netherlands",
   "metadata": {},
   "source": [
    "**Predict a Dataset**"
   ]
  },
  {
   "cell_type": "code",
   "execution_count": 47,
   "id": "returning-kitty",
   "metadata": {},
   "outputs": [],
   "source": [
    "def prediction_dataset(global_model, test_loader, method):\n",
    "  if method == \"ENSEMBLE\":\n",
    "    for model in global_model:\n",
    "        model.eval()\n",
    "  else:\n",
    "    global_model.eval()\n",
    "\n",
    "  pred_final=[]\n",
    "  target_final=[]\n",
    "  correct = 0\n",
    "  confusion_matrix_torch = torch.zeros(num_classes, num_classes)\n",
    "  with torch.no_grad():\n",
    "    for batch_idx, (data, target) in enumerate(test_loader):\n",
    "                data, target = data.to(DEVICE), target.to(DEVICE)\n",
    "                data = data.float()\n",
    "                if method == \"ENSEMBLE\": \n",
    "                  global_output=[]\n",
    "                  for model in global_model:\n",
    "                    output_model = model(data)\n",
    "                    global_output.append(output_model)\n",
    "                  final_output=torch.mean(torch.stack([output.float() for output in global_output], 0),dim=0, keepdim=True)\n",
    "                  pred = final_output[0].argmax(dim=1, keepdim=True)  # get the index of the max log-probability\n",
    "                  correct += pred.eq(target.view_as(pred)).sum().item()\n",
    "                if method == \"AVG\":\n",
    "                  output = global_model(data)\n",
    "                  pred = output.argmax(dim=1, keepdim=True)  # get the index of the max log-probability\n",
    "                  correct += pred.eq(target.view_as(pred)).sum().item()\n",
    "\n",
    "                for t, p in zip(target.view(-1), pred.view(-1)):\n",
    "                  confusion_matrix_torch[t.long(), p.long()] += 1\n",
    "                pred_final.extend(pred.to('cpu').numpy().tolist())\n",
    "                target_final.extend(target.to('cpu').numpy().tolist())\n",
    "\n",
    "  acc = correct/len(test_loader.dataset)\n",
    "\n",
    "  return target_final, pred_final, confusion_matrix_torch, acc"
   ]
  },
  {
   "cell_type": "markdown",
   "id": "nuclear-findings",
   "metadata": {},
   "source": [
    "**Predict a simple Image**"
   ]
  },
  {
   "cell_type": "code",
   "execution_count": 48,
   "id": "suited-sterling",
   "metadata": {
    "tags": []
   },
   "outputs": [],
   "source": [
    "def predict_image(global_model, image, method):\n",
    "    if method == \"ENSEMBLE\":\n",
    "      global_output=[]\n",
    "      for model in global_model:\n",
    "        model.eval()\n",
    "        output_model = model(image)\n",
    "        global_output.append(output_model)\n",
    "      final_output=torch.mean(torch.stack([output.float() for output in global_output], 0),dim=0, keepdim=True)\n",
    "      pred = final_output[0].argmax(dim=1, keepdim=True)\n",
    "    \n",
    "    if method == \"AVG\":\n",
    "      global_model.eval()\n",
    "      output_model = global_model(image)\n",
    "      pred = output_model.argmax(dim=1, keepdim=True)\n",
    "    \n",
    "    return pred"
   ]
  },
  {
   "cell_type": "markdown",
   "id": "voluntary-technology",
   "metadata": {},
   "source": [
    "### Precit Global Validation Dataset"
   ]
  },
  {
   "cell_type": "code",
   "execution_count": 49,
   "id": "legal-protest",
   "metadata": {},
   "outputs": [
    {
     "name": "stdout",
     "output_type": "stream",
     "text": [
      "Final Confusion Matrix: \n",
      "tensor([[53.,  1.,  2.],\n",
      "        [10., 17.,  0.],\n",
      "        [ 5.,  0.,  8.]])\n",
      "0.8125\n"
     ]
    }
   ],
   "source": [
    "target_final, pred_final, confusion_matrix_pred, acc = prediction_dataset(loaded_model, val_loader, selected_method)\n",
    "print(\"Final Confusion Matrix: \")\n",
    "print(confusion_matrix_pred)\n",
    "print(acc)"
   ]
  },
  {
   "cell_type": "markdown",
   "id": "threaded-sight",
   "metadata": {},
   "source": [
    "**Get different metrics**"
   ]
  },
  {
   "cell_type": "code",
   "execution_count": 50,
   "id": "induced-question",
   "metadata": {},
   "outputs": [
    {
     "name": "stdout",
     "output_type": "stream",
     "text": [
      "              precision    recall  f1-score   support\n",
      "\n",
      "      benign       0.78      0.95      0.85        56\n",
      "   malignant       0.94      0.63      0.76        27\n",
      "      normal       0.80      0.62      0.70        13\n",
      "\n",
      "    accuracy                           0.81        96\n",
      "   macro avg       0.84      0.73      0.77        96\n",
      "weighted avg       0.83      0.81      0.81        96\n",
      "\n"
     ]
    }
   ],
   "source": [
    "confusion_matrix_skl=confusion_matrix(target_final, pred_final)\n",
    "F1_skl=f1_score(target_final, pred_final, average='micro')\n",
    "recall_skl=recall_score(target_final, pred_final, average='micro')\n",
    "precision_skl=precision_score(target_final, pred_final, average='micro')\n",
    "precision_recall_fscore_skl=precision_recall_fscore_support(target_final, pred_final, average='micro')\n",
    "print(classification_report(target_final, pred_final, target_names=classes))"
   ]
  },
  {
   "cell_type": "markdown",
   "id": "derived-necklace",
   "metadata": {},
   "source": [
    "### Precit Each Client Validation Dataset"
   ]
  },
  {
   "cell_type": "code",
   "execution_count": 51,
   "id": "herbal-natural",
   "metadata": {},
   "outputs": [
    {
     "name": "stdout",
     "output_type": "stream",
     "text": [
      "Validation Accuracy Client:  A\n",
      "tensor([[42.,  0.,  2.],\n",
      "        [ 7., 14.,  0.],\n",
      "        [ 5.,  0.,  8.]])\n",
      "              precision    recall  f1-score   support\n",
      "\n",
      "      benign       0.78      0.95      0.86        44\n",
      "   malignant       1.00      0.67      0.80        21\n",
      "      normal       0.80      0.62      0.70        13\n",
      "\n",
      "    accuracy                           0.82        78\n",
      "   macro avg       0.86      0.75      0.78        78\n",
      "weighted avg       0.84      0.82      0.81        78\n",
      "\n",
      "Validation Accuracy Client:  B\n",
      "tensor([[11.,  1.,  0.],\n",
      "        [ 3.,  3.,  0.],\n",
      "        [ 0.,  0.,  0.]])\n"
     ]
    },
    {
     "ename": "ValueError",
     "evalue": "Number of classes, 2, does not match size of target_names, 3. Try specifying the labels parameter",
     "output_type": "error",
     "traceback": [
      "\u001b[0;31m---------------------------------------------------------------------------\u001b[0m",
      "\u001b[0;31mValueError\u001b[0m                                Traceback (most recent call last)",
      "\u001b[0;32m<ipython-input-51-e8b14110e09a>\u001b[0m in \u001b[0;36m<module>\u001b[0;34m\u001b[0m\n\u001b[1;32m      6\u001b[0m     \u001b[0mprint\u001b[0m\u001b[0;34m(\u001b[0m\u001b[0mconfusion_matrix_pred\u001b[0m\u001b[0;34m)\u001b[0m\u001b[0;34m\u001b[0m\u001b[0;34m\u001b[0m\u001b[0m\n\u001b[1;32m      7\u001b[0m     \u001b[0;32mif\u001b[0m \u001b[0mclient\u001b[0m\u001b[0;34m==\u001b[0m\u001b[0;34m\"B\"\u001b[0m\u001b[0;34m:\u001b[0m\u001b[0;34m\u001b[0m\u001b[0;34m\u001b[0m\u001b[0m\n\u001b[0;32m----> 8\u001b[0;31m       \u001b[0mprint\u001b[0m\u001b[0;34m(\u001b[0m\u001b[0mclassification_report\u001b[0m\u001b[0;34m(\u001b[0m\u001b[0mtarget_final\u001b[0m\u001b[0;34m,\u001b[0m \u001b[0mpred_final\u001b[0m\u001b[0;34m,\u001b[0m \u001b[0mtarget_names\u001b[0m\u001b[0;34m=\u001b[0m\u001b[0mclasses\u001b[0m\u001b[0;34m)\u001b[0m\u001b[0;34m)\u001b[0m\u001b[0;34m\u001b[0m\u001b[0;34m\u001b[0m\u001b[0m\n\u001b[0m\u001b[1;32m      9\u001b[0m     \u001b[0;32melse\u001b[0m\u001b[0;34m:\u001b[0m\u001b[0;34m\u001b[0m\u001b[0;34m\u001b[0m\u001b[0m\n\u001b[1;32m     10\u001b[0m       \u001b[0mprint\u001b[0m\u001b[0;34m(\u001b[0m\u001b[0mclassification_report\u001b[0m\u001b[0;34m(\u001b[0m\u001b[0mtarget_final\u001b[0m\u001b[0;34m,\u001b[0m \u001b[0mpred_final\u001b[0m\u001b[0;34m,\u001b[0m \u001b[0mtarget_names\u001b[0m\u001b[0;34m=\u001b[0m\u001b[0mclasses\u001b[0m\u001b[0;34m)\u001b[0m\u001b[0;34m)\u001b[0m\u001b[0;34m\u001b[0m\u001b[0;34m\u001b[0m\u001b[0m\n",
      "\u001b[0;32m/usr/lib/python3/dist-packages/sklearn/utils/validation.py\u001b[0m in \u001b[0;36minner_f\u001b[0;34m(*args, **kwargs)\u001b[0m\n\u001b[1;32m     70\u001b[0m                           FutureWarning)\n\u001b[1;32m     71\u001b[0m         \u001b[0mkwargs\u001b[0m\u001b[0;34m.\u001b[0m\u001b[0mupdate\u001b[0m\u001b[0;34m(\u001b[0m\u001b[0;34m{\u001b[0m\u001b[0mk\u001b[0m\u001b[0;34m:\u001b[0m \u001b[0marg\u001b[0m \u001b[0;32mfor\u001b[0m \u001b[0mk\u001b[0m\u001b[0;34m,\u001b[0m \u001b[0marg\u001b[0m \u001b[0;32min\u001b[0m \u001b[0mzip\u001b[0m\u001b[0;34m(\u001b[0m\u001b[0msig\u001b[0m\u001b[0;34m.\u001b[0m\u001b[0mparameters\u001b[0m\u001b[0;34m,\u001b[0m \u001b[0margs\u001b[0m\u001b[0;34m)\u001b[0m\u001b[0;34m}\u001b[0m\u001b[0;34m)\u001b[0m\u001b[0;34m\u001b[0m\u001b[0;34m\u001b[0m\u001b[0m\n\u001b[0;32m---> 72\u001b[0;31m         \u001b[0;32mreturn\u001b[0m \u001b[0mf\u001b[0m\u001b[0;34m(\u001b[0m\u001b[0;34m**\u001b[0m\u001b[0mkwargs\u001b[0m\u001b[0;34m)\u001b[0m\u001b[0;34m\u001b[0m\u001b[0;34m\u001b[0m\u001b[0m\n\u001b[0m\u001b[1;32m     73\u001b[0m     \u001b[0;32mreturn\u001b[0m \u001b[0minner_f\u001b[0m\u001b[0;34m\u001b[0m\u001b[0;34m\u001b[0m\u001b[0m\n\u001b[1;32m     74\u001b[0m \u001b[0;34m\u001b[0m\u001b[0m\n",
      "\u001b[0;32m/usr/lib/python3/dist-packages/sklearn/metrics/_classification.py\u001b[0m in \u001b[0;36mclassification_report\u001b[0;34m(y_true, y_pred, labels, target_names, sample_weight, digits, output_dict, zero_division)\u001b[0m\n\u001b[1;32m   1948\u001b[0m             )\n\u001b[1;32m   1949\u001b[0m         \u001b[0;32melse\u001b[0m\u001b[0;34m:\u001b[0m\u001b[0;34m\u001b[0m\u001b[0;34m\u001b[0m\u001b[0m\n\u001b[0;32m-> 1950\u001b[0;31m             raise ValueError(\n\u001b[0m\u001b[1;32m   1951\u001b[0m                 \u001b[0;34m\"Number of classes, {0}, does not match size of \"\u001b[0m\u001b[0;34m\u001b[0m\u001b[0;34m\u001b[0m\u001b[0m\n\u001b[1;32m   1952\u001b[0m                 \u001b[0;34m\"target_names, {1}. Try specifying the labels \"\u001b[0m\u001b[0;34m\u001b[0m\u001b[0;34m\u001b[0m\u001b[0m\n",
      "\u001b[0;31mValueError\u001b[0m: Number of classes, 2, does not match size of target_names, 3. Try specifying the labels parameter"
     ]
    }
   ],
   "source": [
    "if len(clients_list)>1:\n",
    "  i=0\n",
    "  for client in clients_list:\n",
    "    print(\"Validation Accuracy Client: \", client)\n",
    "    target_final, pred_final, confusion_matrix_pred, acc = prediction_dataset(loaded_model, val_loader_client[i], selected_method)\n",
    "    print(confusion_matrix_pred)\n",
    "    if client==\"B\":\n",
    "      print(classification_report(target_final, pred_final, target_names=classes))\n",
    "    else:\n",
    "      print(classification_report(target_final, pred_final, target_names=classes))\n",
    "    i+=1"
   ]
  },
  {
   "cell_type": "markdown",
   "id": "professional-effort",
   "metadata": {},
   "source": [
    "# 9. Plot Some Prediction Example"
   ]
  },
  {
   "cell_type": "code",
   "execution_count": null,
   "id": "insured-stress",
   "metadata": {},
   "outputs": [],
   "source": [
    "def prepare_plot(origImage, real_label, pred_label):\n",
    "    # initialize our figure\n",
    "    figure, ax = plt.subplots(nrows=1, ncols=1, figsize=(5, 5))\n",
    "    # plot the original image, its mask, and the predicted mask\n",
    "    ax.imshow(origImage, cmap=\"gray\")\n",
    "    # set the titles of the subplots\n",
    "    ax.set_title(\"Image Label: %s; Predicated Label: %s\" % (real_label,pred_label))\n",
    "    \n",
    "    # set the layout of the figure and display it\n",
    "    figure.tight_layout()\n",
    "    figure.show()"
   ]
  },
  {
   "cell_type": "code",
   "execution_count": null,
   "id": "significant-bulgarian",
   "metadata": {},
   "outputs": [],
   "source": [
    "def make_predictions(model, imagePath, method):\n",
    "    # set model to evaluation mode\n",
    "    #model.eval()\n",
    "    # turn off gradient tracking\n",
    "    with torch.no_grad():\n",
    "        # load the image from disk, swap its color channels, cast it\n",
    "        # to float data type, and scale its pixel values\n",
    "        image = cv2.imread(imagePath)\n",
    "        image = cv2.cvtColor(image, cv2.COLOR_BGR2GRAY)\n",
    "        image = image.astype(\"float32\") / 255.0\n",
    "        # resize the image and make a copy of it for visualization\n",
    "        image = cv2.resize(image, (image_size, image_size))\n",
    "        \n",
    "        orig = image.copy()\n",
    "        # find the filename and generate the path to ground truth\n",
    "        # mask\n",
    "        filename = imagePath.split(os.path.sep)[-1]\n",
    "        real_name = filename.split(\".\")[0]\n",
    "        type_file = filename.split(\".\")[1]\n",
    "        #real_label = filename.split(\" \")[0]\n",
    "        real_label = (imagePath.split('/')[-2]) \n",
    "    \n",
    "\n",
    "        ###########################################################\n",
    "        # make the channel axis to be the leading one, add a batch\n",
    "        # dimension, create a PyTorch tensor, and flash it to the\n",
    "        # current device\n",
    "        #image = np.transpose(image, (2, 1))\n",
    "        \n",
    "        image = np.expand_dims(image, 0)\n",
    "        image = np.expand_dims(image, 0)\n",
    "        image = torch.from_numpy(image).to(DEVICE)\n",
    "        # make the prediction, pass the results through the sigmoid\n",
    "        # function, and convert the result to a NumPy array\n",
    "        \n",
    "        pred_label = predict_image(model, image, method)\n",
    "\n",
    "        pred_label=idx_to_class[pred_label.to('cpu').tolist()[0][0]]\n",
    "        #print(orig.shape)\n",
    "        #print(gtMask.shape)\n",
    "        #print(predMask.shape)\n",
    "        # prepare a plot for visualization\n",
    "        prepare_plot(orig, real_label, pred_label)"
   ]
  },
  {
   "cell_type": "code",
   "execution_count": null,
   "id": "electrical-hurricane",
   "metadata": {},
   "outputs": [],
   "source": [
    "# load the image paths in our testing file and randomly select 10\n",
    "# image paths\n",
    "print(\"[INFO] loading up test image paths...\")\n",
    "imagePaths = open(TEST_PATHS).read().strip().split(\"\\n\")\n",
    "imagePaths = np.random.choice(imagePaths, size=10)\n",
    "print(imagePaths)\n",
    "# load our model from disk and flash it to the current device\n",
    "print(\"[INFO] load up model...\")\n",
    "# iterate over the randomly selected test image paths\n",
    "for path in imagePaths:\n",
    "    # make predictions and visualize the results\n",
    "    make_predictions(loaded_model, path, method=selected_method)"
   ]
  },
  {
   "cell_type": "code",
   "execution_count": null,
   "id": "racial-cursor",
   "metadata": {},
   "outputs": [],
   "source": [
    "torch.cuda.empty_cache()"
   ]
  },
  {
   "cell_type": "code",
   "execution_count": null,
   "id": "appropriate-siemens",
   "metadata": {},
   "outputs": [],
   "source": []
  }
 ],
 "metadata": {
  "kernelspec": {
   "display_name": "Python 3",
   "language": "python",
   "name": "python3"
  },
  "language_info": {
   "codemirror_mode": {
    "name": "ipython",
    "version": 3
   },
   "file_extension": ".py",
   "mimetype": "text/x-python",
   "name": "python",
   "nbconvert_exporter": "python",
   "pygments_lexer": "ipython3",
   "version": "3.9.2"
  }
 },
 "nbformat": 4,
 "nbformat_minor": 5
}
