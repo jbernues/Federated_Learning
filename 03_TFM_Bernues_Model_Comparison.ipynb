{
 "cells": [
  {
   "cell_type": "code",
   "execution_count": null,
   "id": "affecting-acquisition",
   "metadata": {},
   "outputs": [],
   "source": []
  },
  {
   "cell_type": "markdown",
   "id": "domestic-exclusion",
   "metadata": {},
   "source": [
    "<a name='select_gpu'></a>\n",
    "# 0. GPU management\n"
   ]
  },
  {
   "cell_type": "markdown",
   "id": "alike-slovenia",
   "metadata": {},
   "source": [
    "## Funciones"
   ]
  },
  {
   "cell_type": "code",
   "execution_count": null,
   "id": "overall-floating",
   "metadata": {
    "tags": []
   },
   "outputs": [],
   "source": []
  },
  {
   "cell_type": "code",
   "execution_count": 1,
   "id": "incorporated-level",
   "metadata": {
    "tags": []
   },
   "outputs": [],
   "source": [
    "# comprueba el GPU-id en uso actual\n",
    "def GPU_getAssignment():\n",
    "    try:\n",
    "        devices = cuda.gpus\n",
    "        dev=devices.current\n",
    "        return dev.id\n",
    "    except:\n",
    "        return -1"
   ]
  },
  {
   "cell_type": "code",
   "execution_count": 2,
   "id": "hungarian-bullet",
   "metadata": {
    "tags": []
   },
   "outputs": [],
   "source": [
    "# libera el GPU-id pasado por parámetro\n",
    "def GPU_release(gpu_device_id):\n",
    "    if gpu_device_id != -1:\n",
    "        cuda.select_device(gpu_device_id)\n",
    "        cuda.close()\n",
    "        print(\"GPU liberada id={}\".format(gpu_device_id))\n",
    "    else:\n",
    "        print(\"Sin GPU asignada. Nada que liberar.\")"
   ]
  },
  {
   "cell_type": "markdown",
   "id": "hawaiian-confusion",
   "metadata": {},
   "source": [
    "# 1. LIBRERÍAS"
   ]
  },
  {
   "cell_type": "markdown",
   "id": "attractive-reader",
   "metadata": {},
   "source": [
    "Librerías más destacadas y su función en este notebook:"
   ]
  },
  {
   "cell_type": "markdown",
   "id": "primary-tourism",
   "metadata": {},
   "source": [
    "* `glob`: para trabajar con ficheros\n",
    "\n",
    "* `os` y `os.path`: para operaciones con ficheros\n",
    "\n",
    "* `pytorch`: para trabajar con tensores, estructuras de ML...\n",
    "\n",
    "\n",
    "* `numpy`: para trabajar con estructuras matemáticas\n",
    "\n",
    "* `matplotlib`:\n",
    "> * `pyplot`: para mostrar gráficas e imágenes \n",
    "> * `image`: para mostrar imágenes\n",
    "> * `colors`: para mapear colores de segmentación\n",
    "\n",
    "* `sklearn`: para calcular medidas estadísticas\n",
    "\n",
    "* `time`: para medir los tiempos de training\n"
   ]
  },
  {
   "cell_type": "code",
   "execution_count": 3,
   "id": "existing-institute",
   "metadata": {
    "tags": []
   },
   "outputs": [],
   "source": [
    "###############################\n",
    "##### importing libraries #####\n",
    "###############################\n",
    "#Global Libraries\n",
    "import matplotlib.pyplot as plt\n",
    "from pandas.core.common import flatten\n",
    "import copy\n",
    "import numpy as np\n",
    "import random\n",
    "import os, shutil\n",
    "import glob\n",
    "from tqdm import tqdm\n",
    "\n",
    "\n",
    "#Torch \n",
    "import torch\n",
    "from torch import nn\n",
    "from torch import optim\n",
    "import torch.nn.functional as F\n",
    "from torchvision import datasets, transforms, models\n",
    "from torch.utils.data import Dataset, DataLoader\n",
    "\n",
    "#Open CV\n",
    "import cv2"
   ]
  },
  {
   "cell_type": "code",
   "execution_count": 4,
   "id": "permanent-andrews",
   "metadata": {},
   "outputs": [],
   "source": [
    "#sklearn\n",
    "from sklearn.model_selection import train_test_split\n",
    "from sklearn.preprocessing import LabelBinarizer\n",
    "from sklearn.model_selection import train_test_split\n",
    "from sklearn.utils import shuffle\n",
    "from sklearn.metrics import accuracy_score\n",
    "from sklearn.metrics import confusion_matrix\n",
    "from sklearn.metrics import classification_report\n",
    "from sklearn.metrics import precision_recall_fscore_support\n",
    "from sklearn.metrics import f1_score\n",
    "from sklearn.metrics import recall_score\n",
    "from sklearn.metrics import precision_score"
   ]
  },
  {
   "cell_type": "markdown",
   "id": "amino-relationship",
   "metadata": {},
   "source": [
    "## 1.2. Asignar GPU"
   ]
  },
  {
   "cell_type": "code",
   "execution_count": 5,
   "id": "arabic-cleveland",
   "metadata": {},
   "outputs": [
    {
     "name": "stdout",
     "output_type": "stream",
     "text": [
      "Sun Feb 26 12:31:09 2023       \n",
      "+-----------------------------------------------------------------------------+\n",
      "| NVIDIA-SMI 460.91.03    Driver Version: 460.91.03    CUDA Version: 11.2     |\n",
      "|-------------------------------+----------------------+----------------------+\n",
      "| GPU  Name        Persistence-M| Bus-Id        Disp.A | Volatile Uncorr. ECC |\n",
      "| Fan  Temp  Perf  Pwr:Usage/Cap|         Memory-Usage | GPU-Util  Compute M. |\n",
      "|                               |                      |               MIG M. |\n",
      "|===============================+======================+======================|\n",
      "|   0  Tesla V100-PCIE...  Off  | 00000000:3B:00.0 Off |                    0 |\n",
      "| N/A   41C    P0    38W / 250W |   8937MiB / 16160MiB |      0%      Default |\n",
      "|                               |                      |                  N/A |\n",
      "+-------------------------------+----------------------+----------------------+\n",
      "|   1  Tesla V100S-PCI...  Off  | 00000000:5E:00.0 Off |                    0 |\n",
      "| N/A   50C    P0    58W / 250W |      4MiB / 32510MiB |      0%      Default |\n",
      "|                               |                      |                  N/A |\n",
      "+-------------------------------+----------------------+----------------------+\n",
      "|   2  Tesla V100S-PCI...  Off  | 00000000:AF:00.0 Off |                    0 |\n",
      "| N/A   52C    P0    61W / 250W |  12167MiB / 32510MiB |      0%      Default |\n",
      "|                               |                      |                  N/A |\n",
      "+-------------------------------+----------------------+----------------------+\n",
      "|   3  Tesla V100-PCIE...  Off  | 00000000:D8:00.0 Off |                    0 |\n",
      "| N/A   45C    P0    45W / 250W |      4MiB / 16160MiB |      0%      Default |\n",
      "|                               |                      |                  N/A |\n",
      "+-------------------------------+----------------------+----------------------+\n",
      "                                                                               \n",
      "+-----------------------------------------------------------------------------+\n",
      "| Processes:                                                                  |\n",
      "|  GPU   GI   CI        PID   Type   Process name                  GPU Memory |\n",
      "|        ID   ID                                                   Usage      |\n",
      "|=============================================================================|\n",
      "|    0   N/A  N/A   1549821      C   /usr/bin/python3                  305MiB |\n",
      "|    0   N/A  N/A   1550332      C   /usr/bin/python3                  305MiB |\n",
      "|    0   N/A  N/A   1550342      C   /usr/bin/python3                  305MiB |\n",
      "|    0   N/A  N/A   1550486      C   /usr/bin/python3                 4237MiB |\n",
      "|    0   N/A  N/A   1550501      C   /usr/bin/python3                 3781MiB |\n",
      "|    2   N/A  N/A   1549821      C   /usr/bin/python3                 3881MiB |\n",
      "|    2   N/A  N/A   1550332      C   /usr/bin/python3                 3881MiB |\n",
      "|    2   N/A  N/A   1550342      C   /usr/bin/python3                 4401MiB |\n",
      "+-----------------------------------------------------------------------------+\n"
     ]
    }
   ],
   "source": [
    "!nvidia-smi"
   ]
  },
  {
   "cell_type": "code",
   "execution_count": null,
   "id": "continuing-anthony",
   "metadata": {},
   "outputs": [],
   "source": []
  },
  {
   "cell_type": "code",
   "execution_count": 6,
   "id": "latter-islam",
   "metadata": {},
   "outputs": [
    {
     "name": "stdout",
     "output_type": "stream",
     "text": [
      "cuda\n"
     ]
    }
   ],
   "source": [
    "# determine the device to be used for training and evaluation\n",
    "DEVICE = \"cuda\" if torch.cuda.is_available() else \"cpu\"\n",
    "print(DEVICE)\n",
    "# determine if we will be pinning memory during data loading\n",
    "PIN_MEMORY = True if DEVICE == \"cuda\" else False"
   ]
  },
  {
   "cell_type": "markdown",
   "id": "possible-trademark",
   "metadata": {},
   "source": [
    "# 2. Directories (COLAB vs. LOCAL) and Global Parameters\n"
   ]
  },
  {
   "cell_type": "code",
   "execution_count": 7,
   "id": "electric-nitrogen",
   "metadata": {},
   "outputs": [
    {
     "name": "stdout",
     "output_type": "stream",
     "text": [
      "Not running on CoLab\n"
     ]
    }
   ],
   "source": [
    "if 'google.colab' in str(get_ipython()):\n",
    "    # Load the Drive helper and mount\n",
    "    from google.colab import drive\n",
    "\n",
    "    # This will prompt for authorization.\n",
    "    drive.mount('/content/drive')\n",
    "    os.chdir('/content/personal_drive/My Drive/UNED/TFM')\n",
    "    base_dir = '/content/drive/MyDrive/Colab Notebooks/UNED-TFM'\n",
    "    DATASET_PATH = os.path.join(base_dir, \"Final Clinical Image\")\n",
    "    base_dir_clas = '/content/drive/MyDrive/Colab Notebooks/UNED-TFM/Federated Model'\n",
    "    print('Running on CoLab')\n",
    "else:\n",
    "    os.chdir('../')\n",
    "    base_dir = '.'\n",
    "    base_dir_clas = '.'\n",
    "    DATASET_PATH = os.path.join(base_dir, \"Final Clinical Image\")\n",
    "    print('Not running on CoLab')"
   ]
  },
  {
   "cell_type": "code",
   "execution_count": 8,
   "id": "supreme-carroll",
   "metadata": {},
   "outputs": [
    {
     "name": "stdout",
     "output_type": "stream",
     "text": [
      "'02. Base de Datos Organizado.zip'  'Output FedAVG'\t      Scripts_zip.zip\n",
      " create_folder.ipynb\t\t    'Output FedAVG_zip.zip'   test_zip.zip\n",
      " create_zip.ipynb\t\t    'Output FedEN'\t      TFM\n",
      " Delete_Folder.ipynb\t\t    'Output Global'\t      unzip.ipynb\n",
      "'Final Clinical Image'\t\t     Output.zip\n",
      "'Final Clinical Image_aug'\t     Scripts\n"
     ]
    }
   ],
   "source": [
    "!ls"
   ]
  },
  {
   "cell_type": "code",
   "execution_count": 9,
   "id": "discrete-companion",
   "metadata": {
    "jupyter": {
     "source_hidden": true
    },
    "tags": []
   },
   "outputs": [
    {
     "data": {
      "text/plain": [
       "'./Final Clinical Image'"
      ]
     },
     "execution_count": 9,
     "metadata": {},
     "output_type": "execute_result"
    }
   ],
   "source": [
    "DATASET_PATH"
   ]
  },
  {
   "cell_type": "markdown",
   "id": "mounted-monroe",
   "metadata": {},
   "source": [
    "### **Global Parameters**"
   ]
  },
  {
   "cell_type": "code",
   "execution_count": 147,
   "id": "charitable-conspiracy",
   "metadata": {
    "tags": []
   },
   "outputs": [],
   "source": [
    "#######################################################\n",
    "###### Hyperparameters for federated learning #########\n",
    "#######################################################\n",
    "#Model selection \"last\" or \"best\"\n",
    "model_selection=\"last\"\n",
    "run = 3\n",
    "\n",
    "\n",
    "#General Parameters\n",
    "num_rounds = 500\n",
    "epochs = 10\n",
    "batch_size = 64\n",
    "image_size = 128\n",
    "learning_rate=0.0005\n",
    "\n",
    "# Ensemble Method Parameters\n",
    "K_models=5\n",
    "Q_client_groups=2\n",
    "ages=num_rounds/K_models\n"
   ]
  },
  {
   "cell_type": "code",
   "execution_count": 148,
   "id": "brilliant-gnome",
   "metadata": {
    "tags": []
   },
   "outputs": [],
   "source": [
    "# In case of Run where random split select number clients and percentage split\n",
    "if run==2:\n",
    "    split_perc = [0.5, 0.5]\n",
    "elif run==3:\n",
    "    split_perc = [0.33, 0.33, 0.34]\n",
    "elif run==4:\n",
    "    split_perc = [0.7, 0.15, 0.15]\n",
    "elif run==5:\n",
    "    split_perc = [0.4, 0.4, 0.2]\n",
    "elif run==6:\n",
    "    split_perc = [0.25, 0.25, 0.25, 0.25]\n",
    "elif run==7:\n",
    "    split_perc = [0.55, 0.15, 0.15, 0.15]\n",
    "elif run==8:\n",
    "    split_perc = [0.35, 0.35, 0.15, 0.15]\n",
    "elif run==9:\n",
    "    split_perc = [0.2, 0.2, 0.2, 0.2,0.2]\n",
    "elif run==10:\n",
    "    split_perc = [0.4, 0.15, 0.15, 0.15, 0.15]\n",
    "\n",
    "#Number of clients\n",
    "split=\"manual\"\n",
    "if run == 1:\n",
    "    clients_list = [\"A\", \"B\"]\n",
    "    num_clients = len(clients_list)\n",
    "    split_perc = [0.87, 0.13]\n",
    "else:\n",
    "    clients_list = [\"all\"]\n",
    "    num_clients = len(split_perc)\n",
    "    split=\"random\""
   ]
  },
  {
   "cell_type": "code",
   "execution_count": 149,
   "id": "wicked-czech",
   "metadata": {
    "tags": []
   },
   "outputs": [],
   "source": [
    "#List of parameters\n",
    "Glob_Param = {\"run\": [run], \"num_clients\": [num_clients], \"split\": [split],\n",
    "              \"split_perc\": [split_perc], \"num_rounds\": [num_rounds], \"epochs\": [epochs], \n",
    "              \"batch_size\": [batch_size], \"image_size\": [image_size], \"learning_rate\": [learning_rate],\n",
    "              \"ages\": [ages], \"K_models\": [K_models], \"Q_client_groups\": [Q_client_groups]}"
   ]
  },
  {
   "cell_type": "markdown",
   "id": "positive-psychiatry",
   "metadata": {},
   "source": [
    "### **Get Image Directories**"
   ]
  },
  {
   "cell_type": "code",
   "execution_count": 150,
   "id": "incoming-eclipse",
   "metadata": {},
   "outputs": [],
   "source": [
    "def get_client_directories(list_clients, base_image_path):\n",
    "  # Create list of directories to fill afterwards\n",
    "  train_dir = {x: [] for x in list_clients} \n",
    "  validation_dir = {x: [] for x in list_clients} \n",
    "  test_dir = {x: [] for x in list_clients} \n",
    "\n",
    "  #Fill the list\n",
    "  for client in list_clients:\n",
    "    client_path = os.path.join(base_image_path, \"ds_\"+client)\n",
    "    client_path_image = os.path.join(client_path, \"images\")\n",
    "    train_dir[client].append(os.path.join(client_path_image, \"train\"))\n",
    "    validation_dir[client].append(os.path.join(client_path_image, \"valid\"))\n",
    "    test_dir[client].append(os.path.join(client_path_image, \"test\"))\n",
    "  return train_dir, validation_dir, test_dir"
   ]
  },
  {
   "cell_type": "code",
   "execution_count": 151,
   "id": "spectacular-trinidad",
   "metadata": {},
   "outputs": [],
   "source": [
    "train_dir, validation_dir, test_dir = get_client_directories(clients_list, DATASET_PATH)"
   ]
  },
  {
   "cell_type": "markdown",
   "id": "injured-relevance",
   "metadata": {},
   "source": [
    "Totals from ALL folder to get total figures"
   ]
  },
  {
   "cell_type": "code",
   "execution_count": 152,
   "id": "lesbian-testing",
   "metadata": {},
   "outputs": [],
   "source": [
    "# In order to check total numbers we define ALL directories \n",
    "###############\n",
    "# Dataset All #\n",
    "###############\n",
    "DATASET_PATH_ALL = os.path.join(DATASET_PATH, \"ds_all\")\n",
    "DATASET_PATH_ALL_IMAGE = os.path.join(DATASET_PATH_ALL, \"images\")\n",
    "# Directories for our training,\n",
    "# validation and test splits\n",
    "ALL_train_dir = os.path.join(DATASET_PATH_ALL_IMAGE, 'train')\n",
    "ALL_validation_dir = os.path.join(DATASET_PATH_ALL_IMAGE, 'valid')\n",
    "ALL_test_dir = os.path.join(DATASET_PATH_ALL_IMAGE, 'test')\n",
    "\n",
    "#Check total numbers#\n",
    "# Directory with our training benign pictures\n",
    "ALL_train_ben_dir = os.path.join(ALL_train_dir, 'benign')\n",
    "#print(train_ben_dir)\n",
    "# Directory with our training malignant pictures\n",
    "ALL_train_mal_dir = os.path.join(ALL_train_dir, 'malignant')\n",
    "#print(train_mal_dir)\n",
    "# Directory with our training normal pictures\n",
    "ALL_train_nor_dir = os.path.join(ALL_train_dir, 'normal')\n",
    "#print(train_nor_dir)\n",
    "\n",
    "# Directory with our validation benign pictures\n",
    "ALL_val_ben_dir = os.path.join(ALL_validation_dir, 'benign')\n",
    "# Directory with our validation malignant pictures\n",
    "ALL_val_mal_dir = os.path.join(ALL_validation_dir, 'malignant')\n",
    "# Directory with our validation normal pictures\n",
    "ALL_val_nor_dir = os.path.join(ALL_validation_dir, 'normal')\n",
    "\n",
    "# Directory with our test benign pictures\n",
    "ALL_test_ben_dir = os.path.join(ALL_test_dir, 'benign')\n",
    "# Directory with our test malignant pictures\n",
    "ALL_test_mal_dir = os.path.join(ALL_test_dir, 'malignant')\n",
    "# Directory with our test normal pictures\n",
    "ALL_test_nor_dir = os.path.join(ALL_test_dir, 'normal')"
   ]
  },
  {
   "cell_type": "markdown",
   "id": "trying-above",
   "metadata": {},
   "source": [
    "# 3. Get number of classes and Total Figures"
   ]
  },
  {
   "cell_type": "code",
   "execution_count": 153,
   "id": "balanced-phrase",
   "metadata": {},
   "outputs": [
    {
     "name": "stdout",
     "output_type": "stream",
     "text": [
      "train_image_path example:  ./Final Clinical Image/ds_all/images/train/benign/benign (123).png\n",
      "class example:  malignant\n",
      "Train size: 755\n",
      "Valid size: 93\n",
      "Test size: 95\n"
     ]
    }
   ],
   "source": [
    "\n",
    "train_image_paths = [] #to store image paths in list\n",
    "classes = [] #to store class values\n",
    "\n",
    "#1.\n",
    "# get all the paths from train_data_path and append image paths and class to to respective lists\n",
    "# eg. train path-> 'images/train/26.Pont_du_Gard/4321ee6695c23c7b.jpg'\n",
    "# eg. class -> 26.Pont_du_Gard\n",
    "for data_path in glob.glob(ALL_train_dir + '/*'):\n",
    "    classes.append(data_path.split('/')[-1]) \n",
    "    train_image_paths.append(glob.glob(data_path + '/*'))\n",
    "    \n",
    "train_image_paths = list(flatten(train_image_paths))\n",
    "random.shuffle(train_image_paths)\n",
    "\n",
    "print('train_image_path example: ', train_image_paths[0])\n",
    "print('class example: ', classes[0])\n",
    "\n",
    "#2.\n",
    "# split train valid from train paths (80,20)\n",
    "#train_image_paths, valid_image_paths = train_image_paths[:int(0.8*len(train_image_paths))], train_image_paths[int(0.8*len(train_image_paths)):] \n",
    "valid_image_paths = []\n",
    "for data_path in glob.glob(ALL_validation_dir + '/*'):\n",
    "    valid_image_paths.append(glob.glob(data_path + '/*'))\n",
    "\n",
    "valid_image_paths = list(flatten(valid_image_paths))\n",
    "\n",
    "\n",
    "#3.\n",
    "# create the test_image_paths\n",
    "test_image_paths = []\n",
    "for data_path in glob.glob(ALL_test_dir + '/*'):\n",
    "    test_image_paths.append(glob.glob(data_path + '/*'))\n",
    "\n",
    "test_image_paths = list(flatten(test_image_paths))\n",
    "\n",
    "print(\"Train size: {}\\nValid size: {}\\nTest size: {}\".format(len(train_image_paths), len(valid_image_paths), len(test_image_paths)))"
   ]
  },
  {
   "cell_type": "code",
   "execution_count": 154,
   "id": "surgical-judges",
   "metadata": {},
   "outputs": [
    {
     "name": "stdout",
     "output_type": "stream",
     "text": [
      "total training benign images: 437\n",
      "total training malignant images: 211\n",
      "total training normal images: 107\n",
      "-----------------------------\n",
      "total validation benign images: 54\n",
      "total validation malignant images: 26\n",
      "total validation normal images: 13\n",
      "-----------------------------\n",
      "total test benign images: 55\n",
      "total test malignant images: 27\n",
      "total test normal images: 13\n"
     ]
    }
   ],
   "source": [
    "print('total training benign images:', len(os.listdir(ALL_train_ben_dir)))\n",
    "print('total training malignant images:', len(os.listdir(ALL_train_mal_dir)))\n",
    "print('total training normal images:', len(os.listdir(ALL_train_nor_dir)))\n",
    "print(\"-----------------------------\")\n",
    "print('total validation benign images:', len(os.listdir(ALL_val_ben_dir)))\n",
    "print('total validation malignant images:', len(os.listdir(ALL_val_mal_dir)))\n",
    "print('total validation normal images:', len(os.listdir(ALL_val_nor_dir)))\n",
    "print(\"-----------------------------\")\n",
    "print('total test benign images:', len(os.listdir(ALL_test_ben_dir)))\n",
    "print('total test malignant images:', len(os.listdir(ALL_test_mal_dir)))\n",
    "print('total test normal images:', len(os.listdir(ALL_test_nor_dir)))"
   ]
  },
  {
   "cell_type": "markdown",
   "id": "noted-joyce",
   "metadata": {},
   "source": [
    "#######\n",
    "       **Create dictionary for class indexes**\n",
    "#######"
   ]
  },
  {
   "cell_type": "code",
   "execution_count": 155,
   "id": "mounted-livestock",
   "metadata": {},
   "outputs": [
    {
     "name": "stdout",
     "output_type": "stream",
     "text": [
      "{0: 'benign', 1: 'malignant', 2: 'normal'}\n"
     ]
    }
   ],
   "source": [
    "num_classes=len(classes)\n",
    "classes.sort()\n",
    "idx_to_class = {i:j for i, j in enumerate(classes)}\n",
    "class_to_idx = {value:key for key,value in idx_to_class.items()}\n",
    "print(idx_to_class )"
   ]
  },
  {
   "cell_type": "markdown",
   "id": "contemporary-stock",
   "metadata": {},
   "source": [
    "**B has one class less, so specific variable class if split is manual to get classes of B**"
   ]
  },
  {
   "cell_type": "code",
   "execution_count": 156,
   "id": "vocal-officer",
   "metadata": {},
   "outputs": [],
   "source": [
    "if split==\"manual\":\n",
    "  classes_B = [] #to store class values\n",
    "\n",
    "  #1.\n",
    "  # get all the paths from train_data_path and append image paths and class to to respective lists\n",
    "  # eg. train path-> 'images/train/26.Pont_du_Gard/4321ee6695c23c7b.jpg'\n",
    "  # eg. class -> 26.Pont_du_Gard\n",
    "  for data_path in glob.glob(train_dir[\"B\"][0] + '/*'):\n",
    "      classes_B.append(data_path.split('/')[-1]) \n",
    "      train_image_paths.append(glob.glob(data_path + '/*'))"
   ]
  },
  {
   "cell_type": "markdown",
   "id": "alike-shift",
   "metadata": {},
   "source": [
    "# 4. Create Dataset Pytorch"
   ]
  },
  {
   "cell_type": "markdown",
   "id": "copyrighted-rebound",
   "metadata": {},
   "source": [
    "### **Transfomrs**"
   ]
  },
  {
   "cell_type": "code",
   "execution_count": 157,
   "id": "declared-union",
   "metadata": {},
   "outputs": [],
   "source": [
    "#######################################################\n",
    "#               Define Transforms\n",
    "#######################################################\n",
    "\n",
    "#To define an augmentation pipeline, you need to create an instance of the Compose class.\n",
    "#As an argument to the Compose class, you need to pass a list of augmentations you want to apply. \n",
    "#A call to Compose will return a transform function that will perform image augmentation.\n",
    "#(https://albumentations.ai/docs/getting_started/image_augmentation/)\n",
    "\n",
    "train_transforms = transforms.Compose([\n",
    "        transforms.Grayscale(num_output_channels=1),\n",
    "        #transforms.RandomRotation(20),\n",
    "        transforms.RandomResizedCrop(image_size),\n",
    "        #transforms.RandomHorizontalFlip(),\n",
    "        transforms.ToTensor()])\n",
    "\n",
    "test_transforms = transforms.Compose([\n",
    "        transforms.Grayscale(num_output_channels=1),\n",
    "        #transforms.RandomRotation(20),\n",
    "        transforms.Resize((image_size,image_size)),\n",
    "        #transforms.RandomHorizontalFlip(),\n",
    "        transforms.ToTensor()])"
   ]
  },
  {
   "cell_type": "markdown",
   "id": "later-database",
   "metadata": {},
   "source": [
    "### **Create Dataset from Folders**"
   ]
  },
  {
   "cell_type": "markdown",
   "id": "boxed-discipline",
   "metadata": {},
   "source": [
    "Function to merge datasets from different clients into one dataset"
   ]
  },
  {
   "cell_type": "code",
   "execution_count": 158,
   "id": "oriental-kuwait",
   "metadata": {},
   "outputs": [],
   "source": [
    "def merge_dataset(client_datasets):\n",
    "    i=0\n",
    "    for ds in client_datasets:\n",
    "        if i==0:\n",
    "            merge_ds=ds\n",
    "        else:\n",
    "            merge_ds+=ds\n",
    "        i+=1\n",
    "    return merge_ds"
   ]
  },
  {
   "cell_type": "code",
   "execution_count": 159,
   "id": "athletic-arbor",
   "metadata": {},
   "outputs": [],
   "source": [
    "if split==\"manual\":\n",
    "    train_dataset_client=[]\n",
    "    test_dataset_client=[]\n",
    "    val_dataset_client=[]\n",
    "    i=0\n",
    "    for client in clients_list:\n",
    "        print(train_dir[client])\n",
    "        train_dataset_client.append(datasets.ImageFolder(train_dir[client][0], transform=train_transforms))\n",
    "        test_dataset_client.append(datasets.ImageFolder(test_dir[client][0], transform=test_transforms))\n",
    "        val_dataset_client.append(datasets.ImageFolder(validation_dir[client][0], transform=test_transforms))\n",
    "        #validation_dataset+=datasets.ImageFolder(validation_dir[client][0], transform=test_transforms)\n",
    "        #test_dataset+=datasets.ImageFolder(test_dir[client][0], transform=test_transforms)\n",
    "    test_dataset=merge_dataset(test_dataset_client)\n",
    "    validation_dataset=merge_dataset(val_dataset_client)\n",
    "#We take the entire dataset \"ALL\", so we only have one client in the list and we need to apply .random_split\n",
    "else:\n",
    "    for client in clients_list:\n",
    "        train_dataset_glob = datasets.ImageFolder(train_dir[client][0], transform=train_transforms)\n",
    "        train_dataset_client = torch.utils.data.random_split(train_dataset_glob, split_perc, generator=torch.Generator().manual_seed(42))\n",
    "        test_dataset_glob = datasets.ImageFolder(test_dir[client][0], transform=test_transforms)\n",
    "        test_dataset_client = torch.utils.data.random_split(test_dataset_glob, split_perc, generator=torch.Generator().manual_seed(42))\n",
    "        validation_dataset_glob = datasets.ImageFolder(validation_dir[client][0], transform=test_transforms)\n",
    "        val_dataset_client = torch.utils.data.random_split(validation_dataset_glob, split_perc, generator=torch.Generator().manual_seed(42))\n",
    "        #If random split then the glob dataset contains the full population\n",
    "        validation_dataset=validation_dataset_glob\n",
    "        test_dataset=test_dataset_glob\n"
   ]
  },
  {
   "cell_type": "markdown",
   "id": "given-technician",
   "metadata": {},
   "source": [
    "### **Load Dataset Pytorch**"
   ]
  },
  {
   "cell_type": "code",
   "execution_count": 160,
   "id": "foreign-shower",
   "metadata": {},
   "outputs": [],
   "source": [
    "# Creating a pytorch loader for a Deep Learning model\n",
    "train_loader = [torch.utils.data.DataLoader(x, batch_size=batch_size, shuffle=True) for x in train_dataset_client]\n",
    "\n",
    "test_loader = torch.utils.data.DataLoader(test_dataset, batch_size=batch_size, shuffle=False)\n",
    "\n",
    "val_loader = torch.utils.data.DataLoader(validation_dataset, batch_size=batch_size, shuffle=False)\n",
    "val_loader_client = [torch.utils.data.DataLoader(x, batch_size=batch_size, shuffle=True) for x in val_dataset_client]\n"
   ]
  },
  {
   "cell_type": "markdown",
   "id": "sunrise-oxford",
   "metadata": {},
   "source": [
    "# 5. Define Neural Network"
   ]
  },
  {
   "cell_type": "code",
   "execution_count": 161,
   "id": "dedicated-external",
   "metadata": {},
   "outputs": [],
   "source": [
    "################################\n",
    "##### Neural Network model #####\n",
    "################################\n",
    "\n",
    "cfg = {\n",
    "    'VGG16': [64, 64, 'M', 128, 128, 'M', 256, 256, 256, 'M', 512, 512, 512, 'M', 512, 512, 512, 'M']\n",
    "}\n",
    "\n",
    "class VGG(nn.Module):\n",
    "    def __init__(self, vgg_name):\n",
    "        super(VGG, self).__init__()\n",
    "        self.features = self._make_layers(cfg[vgg_name])\n",
    "        self.classifier = nn.Sequential(\n",
    "            nn.Flatten(),\n",
    "            #nn.Linear(8192, 512),\n",
    "            nn.Linear(int(512*image_size/32*image_size/32), 512),\n",
    "            nn.ReLU(True),\n",
    "            nn.Linear(512, 512),\n",
    "            nn.ReLU(True),\n",
    "            nn.Linear(512, 512),\n",
    "            nn.ReLU(True),\n",
    "            nn.Linear(512, 3)\n",
    "        )\n",
    "\n",
    "    def forward(self, x):\n",
    "        out = self.features(x)\n",
    "        out = out.view(out.size(0), -1)\n",
    "        out = self.classifier(out)\n",
    "        output = F.log_softmax(out, dim=1)\n",
    "        return output\n",
    "\n",
    "    def _make_layers(self, cfg):\n",
    "        layers = []\n",
    "        in_channels = 1\n",
    "        for x in cfg:\n",
    "            if x == 'M':\n",
    "                layers += [nn.MaxPool2d(kernel_size=2, stride=2)]\n",
    "            else:\n",
    "                layers += [nn.Conv2d(in_channels, x, kernel_size=3, padding=1),\n",
    "                           nn.BatchNorm2d(x),\n",
    "                           nn.ReLU(inplace=True)]\n",
    "                in_channels = x\n",
    "        layers += [nn.AvgPool2d(kernel_size=1, stride=1)]\n",
    "        return nn.Sequential(*layers)"
   ]
  },
  {
   "cell_type": "markdown",
   "id": "nutritional-indianapolis",
   "metadata": {
    "tags": []
   },
   "source": [
    "# 6. Predict Test Dataset to check Generalization Accuracy"
   ]
  },
  {
   "cell_type": "markdown",
   "id": "italic-sullivan",
   "metadata": {},
   "source": [
    "### Functions to Predict"
   ]
  },
  {
   "cell_type": "markdown",
   "id": "occasional-realtor",
   "metadata": {},
   "source": [
    "**Predict a Dataset**"
   ]
  },
  {
   "cell_type": "code",
   "execution_count": 162,
   "id": "occupied-summit",
   "metadata": {},
   "outputs": [],
   "source": [
    "def prediction_dataset(global_model, test_loader, method):\n",
    "  if method == \"ENSEMBLE\":\n",
    "    for model in global_model:\n",
    "        model.eval()\n",
    "  else:\n",
    "    global_model.eval()\n",
    "\n",
    "  pred_final=[]\n",
    "  target_final=[]\n",
    "  correct = 0\n",
    "  confusion_matrix_torch = torch.zeros(num_classes, num_classes)\n",
    "  with torch.no_grad():\n",
    "    for batch_idx, (data, target) in enumerate(test_loader):\n",
    "                data, target = data.to(DEVICE), target.to(DEVICE)\n",
    "                data = data.float()\n",
    "                if method == \"ENSEMBLE\": \n",
    "                  global_output=[]\n",
    "                  for model in global_model:\n",
    "                    output_model = model(data)\n",
    "                    global_output.append(output_model)\n",
    "                  final_output=torch.mean(torch.stack([output.float() for output in global_output], 0),dim=0, keepdim=True)\n",
    "                  pred = final_output[0].argmax(dim=1, keepdim=True)  # get the index of the max log-probability\n",
    "                  correct += pred.eq(target.view_as(pred)).sum().item()\n",
    "                if method == \"AVG\":\n",
    "                  output = global_model(data)\n",
    "                  pred = output.argmax(dim=1, keepdim=True)  # get the index of the max log-probability\n",
    "                  correct += pred.eq(target.view_as(pred)).sum().item()\n",
    "\n",
    "                for t, p in zip(target.view(-1), pred.view(-1)):\n",
    "                  confusion_matrix_torch[t.long(), p.long()] += 1\n",
    "                pred_final.extend(pred.to('cpu').numpy().tolist())\n",
    "                target_final.extend(target.to('cpu').numpy().tolist())\n",
    "\n",
    "  acc = correct/len(test_loader.dataset)\n",
    "\n",
    "  return target_final, pred_final, confusion_matrix_torch, acc"
   ]
  },
  {
   "cell_type": "markdown",
   "id": "residential-newton",
   "metadata": {},
   "source": [
    "**Predict a simple Image**"
   ]
  },
  {
   "cell_type": "code",
   "execution_count": 163,
   "id": "planned-tuesday",
   "metadata": {
    "tags": []
   },
   "outputs": [],
   "source": [
    "def predict_image(global_model, image, method):\n",
    "    if method == \"ENSEMBLE\":\n",
    "      global_output=[]\n",
    "      for model in global_model:\n",
    "        model.eval()\n",
    "        output_model = model(image)\n",
    "        global_output.append(output_model)\n",
    "      final_output=torch.mean(torch.stack([output.float() for output in global_output], 0),dim=0, keepdim=True)\n",
    "      pred = final_output[0].argmax(dim=1, keepdim=True)\n",
    "    \n",
    "    if method == \"AVG\":\n",
    "      global_model.eval()\n",
    "      output_model = global_model(image)\n",
    "      pred = output_model.argmax(dim=1, keepdim=True)\n",
    "    \n",
    "    return pred"
   ]
  },
  {
   "cell_type": "markdown",
   "id": "modified-colorado",
   "metadata": {},
   "source": [
    "# 7. Compare methods(AVG-Ensemble) in the Validation Data"
   ]
  },
  {
   "cell_type": "markdown",
   "id": "obvious-baltimore",
   "metadata": {},
   "source": [
    "### Read JSON file"
   ]
  },
  {
   "cell_type": "code",
   "execution_count": 164,
   "id": "secondary-mentor",
   "metadata": {},
   "outputs": [],
   "source": [
    "# Opening JSON file\n",
    "import json\n",
    "BASE_OUTPUT_AVG = os.path.join(base_dir_clas, \"Output FedAVG\")\n",
    "BASE_OUTPUT_ENS = os.path.join(base_dir_clas, \"Output FedEN\")\n",
    "BASE_OUTPUT_GLOB = os.path.join(base_dir_clas, \"Output Global\")\n",
    "#Specific Run\n",
    "BASE_OUTPUT_AVG_RUN=os.path.join(BASE_OUTPUT_AVG, \"Run \"+str(run))\n",
    "BASE_OUTPUT_ENS_RUN=os.path.join(BASE_OUTPUT_ENS, \"Run \"+str(run))\n",
    "BASE_OUTPUT_GLOB_RUN=os.path.join(BASE_OUTPUT_GLOB, \"Run \"+str(run))\n",
    "#Get Models\n",
    "MODEL_PATH_AVG = os.path.join(BASE_OUTPUT_AVG_RUN, \"Models\")\n",
    "MODEL_PATH_ENS = os.path.join(BASE_OUTPUT_ENS_RUN, \"Models\")\n",
    "if model_selection==\"last\":\n",
    "    MODEL_PATH_final_AVG = os.path.join(MODEL_PATH_AVG, \"vgg16_global.pth\")\n",
    "    MODEL_PATH_final_ENS = os.path.join(MODEL_PATH_ENS, \"vgg16_global.pth\")\n",
    "if model_selection==\"best\":\n",
    "    MODEL_PATH_final_AVG = os.path.join(MODEL_PATH_AVG, \"vgg16_best.pth\")\n",
    "    MODEL_PATH_final_ENS = os.path.join(MODEL_PATH_ENS, \"vgg16_best.pth\")\n",
    "#General Plot \n",
    "PLOT_PATHT_GLOB = os.path.join(BASE_OUTPUT_GLOB_RUN, \"Plots\")\n",
    "PLOT_PATHT_GLOB_ACC = os.path.join(PLOT_PATHT_GLOB, \"plot_acc.png\")\n",
    "PLOT_PATHT_GLOB_LOSS = os.path.join(PLOT_PATHT_GLOB, \"plot_loss.png\")\n",
    "PLOT_PATHT_GLOB_CLI = os.path.join(PLOT_PATHT_GLOB, \"plot_clients.png\")\n",
    "\n",
    "#Get Historical \n",
    "PLOT_PATH_AVG = os.path.join(BASE_OUTPUT_AVG_RUN, \"Plots\")\n",
    "PLOT_PATH_ENS = os.path.join(BASE_OUTPUT_ENS_RUN, \"Plots\")\n",
    "\n",
    "PLOT_PATH_HIS_AVG = os.path.sep.join([PLOT_PATH_AVG, \"plot_hist.json\"])\n",
    "PLOT_PATH_HIS_ENS = os.path.sep.join([PLOT_PATH_ENS, \"plot_hist.json\"])\n",
    "with open(PLOT_PATH_HIS_ENS) as json_file:\n",
    "    H_ENS = json.load(json_file)\n",
    "with open(PLOT_PATH_HIS_AVG) as json_file:\n",
    "    H_AVG = json.load(json_file)"
   ]
  },
  {
   "cell_type": "markdown",
   "id": "suspended-crash",
   "metadata": {},
   "source": [
    "### Compare Accuracy"
   ]
  },
  {
   "cell_type": "code",
   "execution_count": 165,
   "id": "prescribed-acceptance",
   "metadata": {},
   "outputs": [
    {
     "data": {
      "image/png": "[encoded data removed]",
      "text/plain": [
       "<Figure size 432x288 with 1 Axes>"
      ]
     },
     "metadata": {},
     "output_type": "display_data"
    }
   ],
   "source": [
    "plt.style.use(\"ggplot\")\n",
    "plt.figure()\n",
    "plt.plot(H_AVG[\"test_acc\"], label=\"test_acc_avg\")\n",
    "plt.plot(H_ENS[\"test_acc\"], label=\"test_acc_ens\")\n",
    "plt.title(\"Test ACC on Dataset\")\n",
    "plt.xlabel(\"Communication Round #\")\n",
    "plt.ylabel(\"Acc\")\n",
    "plt.legend(loc=\"lower left\")\n",
    "plt.savefig(PLOT_PATHT_GLOB_ACC)"
   ]
  },
  {
   "cell_type": "markdown",
   "id": "round-decade",
   "metadata": {},
   "source": [
    "### Compare Loss"
   ]
  },
  {
   "cell_type": "code",
   "execution_count": 166,
   "id": "undefined-agriculture",
   "metadata": {},
   "outputs": [
    {
     "data": {
      "image/png": "[encoded data removed]",
      "text/plain": [
       "<Figure size 432x288 with 1 Axes>"
      ]
     },
     "metadata": {},
     "output_type": "display_data"
    }
   ],
   "source": [
    "plt.style.use(\"ggplot\")\n",
    "plt.figure()\n",
    "plt.plot(H_AVG[\"test_loss\"], label=\"test_loss_avg\")\n",
    "plt.plot(H_ENS[\"test_loss\"], label=\"test_loss_ens\")\n",
    "plt.title(\"Training Loss on Dataset\")\n",
    "plt.xlabel(\"Communication Round #\")\n",
    "plt.ylabel(\"Loss\")\n",
    "plt.legend(loc=\"lower left\")\n",
    "plt.savefig(PLOT_PATHT_GLOB_LOSS)"
   ]
  },
  {
   "cell_type": "markdown",
   "id": "knowing-orbit",
   "metadata": {},
   "source": [
    "### Load both Models"
   ]
  },
  {
   "cell_type": "code",
   "execution_count": 167,
   "id": "annoying-fiber",
   "metadata": {},
   "outputs": [
    {
     "name": "stdout",
     "output_type": "stream",
     "text": [
      "cuda:1\n"
     ]
    }
   ],
   "source": [
    "# determine the device to be used for training and evaluation\n",
    "DEVICE = \"cuda:1\" if torch.cuda.is_available() else \"cpu\"\n",
    "print(DEVICE)\n",
    "# determine if we will be pinning memory during data loading\n",
    "PIN_MEMORY = True if DEVICE == \"cuda:1\" else False"
   ]
  },
  {
   "cell_type": "code",
   "execution_count": 168,
   "id": "oriented-multiple",
   "metadata": {},
   "outputs": [],
   "source": [
    "loaded_model_ens = torch.load(MODEL_PATH_final_ENS, map_location=DEVICE)\n",
    "loaded_model_avg = torch.load(MODEL_PATH_final_AVG, map_location=DEVICE)"
   ]
  },
  {
   "cell_type": "markdown",
   "id": "comic-wales",
   "metadata": {},
   "source": [
    "**Function to get metrics**"
   ]
  },
  {
   "cell_type": "code",
   "execution_count": 169,
   "id": "medium-senior",
   "metadata": {},
   "outputs": [],
   "source": [
    "def get_metric_val_clients(load_model,method):\n",
    "    Val_Metric = {\"Confusion_matrix\": [], \"Val_ACC\": []}\n",
    "    if split==\"random\":\n",
    "      for i in range(num_clients):\n",
    "        print(\"Validation Accuracy Client: \", i)\n",
    "        target_final, pred_final, confusion_matrix_pred, acc = prediction_dataset(load_model, val_loader_client[i], method)\n",
    "        Val_Metric[\"Confusion_matrix\"].append(confusion_matrix_pred)\n",
    "        Val_Metric[\"Val_ACC\"].append(acc)\n",
    "        print(confusion_matrix_pred)\n",
    "        pred_final_arr=np.array(pred_final)\n",
    "        unique_pred=np.unique(pred_final_arr)\n",
    "        pred_labels=[]\n",
    "        for label in list(unique_pred):\n",
    "          pred_labels.append(idx_to_class[label])\n",
    "        print(pred_labels)\n",
    "        print(classification_report(target_final, pred_final, target_names=pred_labels))\n",
    "        print(acc)\n",
    "    else: \n",
    "      i=0\n",
    "      for client in clients_list:\n",
    "        print(\"Validation Accuracy Client: \", client)\n",
    "        target_final, pred_final, confusion_matrix_pred, acc = prediction_dataset(load_model, val_loader_client[i], method)\n",
    "        Val_Metric[\"Confusion_matrix\"].append(confusion_matrix_pred)\n",
    "        Val_Metric[\"Val_ACC\"].append(acc)\n",
    "        print(confusion_matrix_pred)\n",
    "        pred_final_arr=np.array(pred_final)\n",
    "        unique_pred=np.unique(pred_final_arr)\n",
    "        pred_labels=[]\n",
    "        for label in list(unique_pred):\n",
    "          pred_labels.append(idx_to_class[label])\n",
    "        print(pred_labels)\n",
    "        if client == \"B\" and len(pred_labels)==2 and \"normal\" in pred_labels:\n",
    "            print(classification_report(target_final, pred_final, target_names=classes))\n",
    "        else:\n",
    "            print(classification_report(target_final, pred_final, target_names=pred_labels))\n",
    "        print(acc)\n",
    "        i+=1\n",
    "    return Val_Metric"
   ]
  },
  {
   "cell_type": "markdown",
   "id": "blocked-pakistan",
   "metadata": {},
   "source": [
    "#### Get Metrics AVG"
   ]
  },
  {
   "cell_type": "markdown",
   "id": "scientific-clerk",
   "metadata": {},
   "source": [
    "**Global**"
   ]
  },
  {
   "cell_type": "code",
   "execution_count": 170,
   "id": "sonic-singapore",
   "metadata": {},
   "outputs": [
    {
     "name": "stdout",
     "output_type": "stream",
     "text": [
      "tensor([[46.,  5.,  3.],\n",
      "        [ 4., 19.,  3.],\n",
      "        [ 2.,  0., 11.]])\n",
      "0.8172043010752689\n",
      "              precision    recall  f1-score   support\n",
      "\n",
      "      benign       0.88      0.85      0.87        54\n",
      "   malignant       0.79      0.73      0.76        26\n",
      "      normal       0.65      0.85      0.73        13\n",
      "\n",
      "    accuracy                           0.82        93\n",
      "   macro avg       0.77      0.81      0.79        93\n",
      "weighted avg       0.83      0.82      0.82        93\n",
      "\n"
     ]
    }
   ],
   "source": [
    "target_final_avg_glob, pred_final_avg_glob, confusion_matrix_torch_avg_glob, acc_avg_glob = prediction_dataset(loaded_model_avg, val_loader, \"AVG\")\n",
    "print(confusion_matrix_torch_avg_glob)\n",
    "print(acc_avg_glob)\n",
    "pred_final_arr=np.array(pred_final_avg_glob)\n",
    "unique_pred=np.unique(pred_final_arr)\n",
    "pred_labels=[]\n",
    "for label in list(unique_pred):\n",
    "    pred_labels.append(idx_to_class[label])\n",
    "print(classification_report(target_final_avg_glob, pred_final_avg_glob, target_names=pred_labels))"
   ]
  },
  {
   "cell_type": "markdown",
   "id": "hundred-essay",
   "metadata": {},
   "source": [
    "**Clients**"
   ]
  },
  {
   "cell_type": "code",
   "execution_count": 171,
   "id": "martial-sixth",
   "metadata": {},
   "outputs": [
    {
     "name": "stdout",
     "output_type": "stream",
     "text": [
      "Validation Accuracy Client:  0\n",
      "tensor([[16.,  1.,  1.],\n",
      "        [ 1.,  5.,  0.],\n",
      "        [ 1.,  0.,  6.]])\n",
      "['benign', 'malignant', 'normal']\n",
      "              precision    recall  f1-score   support\n",
      "\n",
      "      benign       0.89      0.89      0.89        18\n",
      "   malignant       0.83      0.83      0.83         6\n",
      "      normal       0.86      0.86      0.86         7\n",
      "\n",
      "    accuracy                           0.87        31\n",
      "   macro avg       0.86      0.86      0.86        31\n",
      "weighted avg       0.87      0.87      0.87        31\n",
      "\n",
      "0.8709677419354839\n",
      "Validation Accuracy Client:  1\n",
      "tensor([[13.,  2.,  2.],\n",
      "        [ 1.,  8.,  2.],\n",
      "        [ 0.,  0.,  3.]])\n",
      "['benign', 'malignant', 'normal']\n",
      "              precision    recall  f1-score   support\n",
      "\n",
      "      benign       0.93      0.76      0.84        17\n",
      "   malignant       0.80      0.73      0.76        11\n",
      "      normal       0.43      1.00      0.60         3\n",
      "\n",
      "    accuracy                           0.77        31\n",
      "   macro avg       0.72      0.83      0.73        31\n",
      "weighted avg       0.83      0.77      0.79        31\n",
      "\n",
      "0.7741935483870968\n",
      "Validation Accuracy Client:  2\n",
      "tensor([[17.,  2.,  0.],\n",
      "        [ 2.,  6.,  1.],\n",
      "        [ 1.,  0.,  2.]])\n",
      "['benign', 'malignant', 'normal']\n",
      "              precision    recall  f1-score   support\n",
      "\n",
      "      benign       0.85      0.89      0.87        19\n",
      "   malignant       0.75      0.67      0.71         9\n",
      "      normal       0.67      0.67      0.67         3\n",
      "\n",
      "    accuracy                           0.81        31\n",
      "   macro avg       0.76      0.74      0.75        31\n",
      "weighted avg       0.80      0.81      0.80        31\n",
      "\n",
      "0.8064516129032258\n"
     ]
    }
   ],
   "source": [
    "Val_AVG = get_metric_val_clients(loaded_model_avg, \"AVG\")"
   ]
  },
  {
   "cell_type": "markdown",
   "id": "eastern-melissa",
   "metadata": {},
   "source": [
    "#### Get Metrics ENS"
   ]
  },
  {
   "cell_type": "markdown",
   "id": "unable-thompson",
   "metadata": {},
   "source": [
    "**Global**"
   ]
  },
  {
   "cell_type": "code",
   "execution_count": 172,
   "id": "resistant-scratch",
   "metadata": {},
   "outputs": [
    {
     "name": "stdout",
     "output_type": "stream",
     "text": [
      "tensor([[47.,  4.,  3.],\n",
      "        [ 5., 19.,  2.],\n",
      "        [ 2.,  0., 11.]])\n",
      "0.8279569892473119\n",
      "              precision    recall  f1-score   support\n",
      "\n",
      "      benign       0.87      0.87      0.87        54\n",
      "   malignant       0.83      0.73      0.78        26\n",
      "      normal       0.69      0.85      0.76        13\n",
      "\n",
      "    accuracy                           0.83        93\n",
      "   macro avg       0.79      0.82      0.80        93\n",
      "weighted avg       0.83      0.83      0.83        93\n",
      "\n"
     ]
    }
   ],
   "source": [
    "target_final_ens_glob, pred_final_ens_glob, confusion_matrix_torch_ens_glob, acc_ens_glob = prediction_dataset(loaded_model_ens, val_loader, \"ENSEMBLE\")\n",
    "print(confusion_matrix_torch_ens_glob)\n",
    "print(acc_ens_glob)\n",
    "pred_final_arr=np.array(pred_final_ens_glob)\n",
    "unique_pred=np.unique(pred_final_arr)\n",
    "pred_labels=[]\n",
    "for label in list(unique_pred):\n",
    "    pred_labels.append(idx_to_class[label])\n",
    "print(classification_report(target_final_ens_glob, pred_final_ens_glob, target_names=pred_labels))"
   ]
  },
  {
   "cell_type": "markdown",
   "id": "attractive-paraguay",
   "metadata": {},
   "source": [
    "**Clients**"
   ]
  },
  {
   "cell_type": "code",
   "execution_count": 173,
   "id": "forbidden-grant",
   "metadata": {},
   "outputs": [
    {
     "name": "stdout",
     "output_type": "stream",
     "text": [
      "Validation Accuracy Client:  0\n",
      "tensor([[16.,  1.,  1.],\n",
      "        [ 1.,  5.,  0.],\n",
      "        [ 1.,  0.,  6.]])\n",
      "['benign', 'malignant', 'normal']\n",
      "              precision    recall  f1-score   support\n",
      "\n",
      "      benign       0.89      0.89      0.89        18\n",
      "   malignant       0.83      0.83      0.83         6\n",
      "      normal       0.86      0.86      0.86         7\n",
      "\n",
      "    accuracy                           0.87        31\n",
      "   macro avg       0.86      0.86      0.86        31\n",
      "weighted avg       0.87      0.87      0.87        31\n",
      "\n",
      "0.8709677419354839\n",
      "Validation Accuracy Client:  1\n",
      "tensor([[13.,  2.,  2.],\n",
      "        [ 2.,  8.,  1.],\n",
      "        [ 0.,  0.,  3.]])\n",
      "['benign', 'malignant', 'normal']\n",
      "              precision    recall  f1-score   support\n",
      "\n",
      "      benign       0.87      0.76      0.81        17\n",
      "   malignant       0.80      0.73      0.76        11\n",
      "      normal       0.50      1.00      0.67         3\n",
      "\n",
      "    accuracy                           0.77        31\n",
      "   macro avg       0.72      0.83      0.75        31\n",
      "weighted avg       0.81      0.77      0.78        31\n",
      "\n",
      "0.7741935483870968\n",
      "Validation Accuracy Client:  2\n",
      "tensor([[18.,  1.,  0.],\n",
      "        [ 2.,  6.,  1.],\n",
      "        [ 1.,  0.,  2.]])\n",
      "['benign', 'malignant', 'normal']\n",
      "              precision    recall  f1-score   support\n",
      "\n",
      "      benign       0.86      0.95      0.90        19\n",
      "   malignant       0.86      0.67      0.75         9\n",
      "      normal       0.67      0.67      0.67         3\n",
      "\n",
      "    accuracy                           0.84        31\n",
      "   macro avg       0.79      0.76      0.77        31\n",
      "weighted avg       0.84      0.84      0.83        31\n",
      "\n",
      "0.8387096774193549\n"
     ]
    }
   ],
   "source": [
    "Val_ENS = get_metric_val_clients(loaded_model_ens, \"ENSEMBLE\")"
   ]
  },
  {
   "cell_type": "markdown",
   "id": "capable-vertical",
   "metadata": {},
   "source": [
    "### Compare Clients"
   ]
  },
  {
   "cell_type": "code",
   "execution_count": 174,
   "id": "vanilla-management",
   "metadata": {
    "tags": []
   },
   "outputs": [
    {
     "data": {
      "image/png": "[encoded data removed]",
      "text/plain": [
       "<Figure size 432x288 with 1 Axes>"
      ]
     },
     "metadata": {},
     "output_type": "display_data"
    }
   ],
   "source": [
    "plt.style.use(\"ggplot\")\n",
    "plt.figure()\n",
    "plt.plot(Val_AVG[\"Val_ACC\"], label=\"val_acc_avg\")\n",
    "plt.plot(Val_ENS[\"Val_ACC\"], label=\"val_acc_ens\")\n",
    "plt.title(\"Accuracy on Validation Dataset Clients\")\n",
    "plt.xlabel(\"Clients\")\n",
    "plt.ylabel(\"Acc\")\n",
    "plt.legend(loc=\"lower left\")\n",
    "plt.savefig(PLOT_PATHT_GLOB_CLI)"
   ]
  },
  {
   "cell_type": "code",
   "execution_count": null,
   "id": "expressed-greek",
   "metadata": {},
   "outputs": [],
   "source": []
  },
  {
   "cell_type": "code",
   "execution_count": null,
   "id": "radical-wheat",
   "metadata": {},
   "outputs": [],
   "source": []
  },
  {
   "cell_type": "code",
   "execution_count": null,
   "id": "described-complexity",
   "metadata": {},
   "outputs": [],
   "source": []
  }
 ],
 "metadata": {
  "kernelspec": {
   "display_name": "Python 3",
   "language": "python",
   "name": "python3"
  },
  "language_info": {
   "codemirror_mode": {
    "name": "ipython",
    "version": 3
   },
   "file_extension": ".py",
   "mimetype": "text/x-python",
   "name": "python",
   "nbconvert_exporter": "python",
   "pygments_lexer": "ipython3",
   "version": "3.9.2"
  }
 },
 "nbformat": 4,
 "nbformat_minor": 5
}
